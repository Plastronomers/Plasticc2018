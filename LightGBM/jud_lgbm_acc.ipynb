{
  "nbformat": 4,
  "nbformat_minor": 0,
  "metadata": {
    "colab": {
      "name": "jud_lgbm_acc",
      "version": "0.3.2",
      "provenance": [],
      "collapsed_sections": []
    },
    "kernelspec": {
      "name": "python3",
      "display_name": "Python 3"
    }
  },
  "cells": [
    {
      "cell_type": "code",
      "metadata": {
        "id": "LoJcX2bK4rGw",
        "colab_type": "code",
        "outputId": "1251af23-6304-4c06-c973-be2c42899300",
        "colab": {
          "base_uri": "https://localhost:8080/",
          "height": 35
        }
      },
      "source": [
        "from google.colab import drive\n",
        "drive.mount('/content/drive')"
      ],
      "execution_count": 0,
      "outputs": [
        {
          "output_type": "stream",
          "text": [
            "Drive already mounted at /content/drive; to attempt to forcibly remount, call drive.mount(\"/content/drive\", force_remount=True).\n"
          ],
          "name": "stdout"
        }
      ]
    },
    {
      "cell_type": "code",
      "metadata": {
        "id": "kp7ZJpTY4-uU",
        "colab_type": "code",
        "outputId": "a126ce19-08d5-4d09-a57c-28b1e64ae1d0",
        "colab": {
          "base_uri": "https://localhost:8080/",
          "height": 106
        }
      },
      "source": [
        "pip install scikit-optimize"
      ],
      "execution_count": 0,
      "outputs": [
        {
          "output_type": "stream",
          "text": [
            "Requirement already satisfied: scikit-optimize in /usr/local/lib/python3.6/dist-packages (0.5.2)\n",
            "Requirement already satisfied: scikit-learn>=0.19.1 in /usr/local/lib/python3.6/dist-packages (from scikit-optimize) (0.21.3)\n",
            "Requirement already satisfied: numpy in /usr/local/lib/python3.6/dist-packages (from scikit-optimize) (1.16.4)\n",
            "Requirement already satisfied: scipy>=0.14.0 in /usr/local/lib/python3.6/dist-packages (from scikit-optimize) (1.3.1)\n",
            "Requirement already satisfied: joblib>=0.11 in /usr/local/lib/python3.6/dist-packages (from scikit-learn>=0.19.1->scikit-optimize) (0.13.2)\n"
          ],
          "name": "stdout"
        }
      ]
    },
    {
      "cell_type": "code",
      "metadata": {
        "id": "8V56ju9J5CIg",
        "colab_type": "code",
        "colab": {}
      },
      "source": [
        "%matplotlib inline \n",
        "\n",
        "import pylab as plt\n",
        "\n",
        "import pickle\n",
        "\n",
        "import pandas as pd\n",
        "import numpy as np\n",
        "\n",
        "import collections\n",
        "\n",
        "from sklearn.ensemble import ExtraTreesClassifier\n",
        "from sklearn.metrics import log_loss\n",
        "from sklearn.model_selection import StratifiedKFold\n",
        "import gc\n",
        "import os\n",
        "import itertools\n",
        " \n",
        "import lightgbm as lgb\n",
        "\n",
        "from sklearn.preprocessing import MinMaxScaler, StandardScaler\n",
        "from skopt.space import Real, Categorical, Integer\n",
        "from skopt import gp_minimize, forest_minimize\n",
        "from skopt.utils import use_named_args\n",
        "from skopt.plots import plot_convergence\n",
        "\n",
        "from sklearn.model_selection import train_test_split\n",
        "\n",
        "from sklearn.externals import joblib\n",
        "\n",
        "from sklearn.metrics import confusion_matrix,accuracy_score"
      ],
      "execution_count": 0,
      "outputs": []
    },
    {
      "cell_type": "code",
      "metadata": {
        "id": "nco5mtUY5R-k",
        "colab_type": "code",
        "colab": {}
      },
      "source": [
        "def multi_weighted_logloss(y_true, y_preds):\n",
        "    \"\"\"\n",
        "    @author olivier https://www.kaggle.com/ogrellier\n",
        "    multi logloss for PLAsTiCC challenge\n",
        "    \"\"\"\n",
        "    classes = [6, 15, 16, 42, 52, 53, 62, 64, 65, 67, 88, 90, 92, 95]\n",
        "    class_weight = {6: 1, 15: 2, 16: 1, 42: 1, 52: 1, 53: 1, 62: 1, 64: 2, 65: 1, 67: 1, 88: 1, 90: 1, 92: 1, 95: 1}\n",
        "    if len(np.unique(y_true)) > 14:\n",
        "        classes.append(99)\n",
        "        class_weight[99] = 2\n",
        "    y_p = y_preds\n",
        "    \n",
        "    y_ohe = pd.get_dummies(y_true)\n",
        "    \n",
        "    y_p = np.clip(a=y_p, a_min=1e-15, a_max=1-1e-15)\n",
        "    \n",
        "    y_p_log = np.log(y_p)\n",
        "\n",
        "    y_log_ones = np.sum(y_ohe.values * y_p_log, axis=0)\n",
        "\n",
        "    nb_pos = y_ohe.sum(axis=0).values.astype(float)\n",
        "    \n",
        "    class_arr = np.array([class_weight[k] for k in sorted(class_weight.keys())])\n",
        "    y_w = y_log_ones * class_arr / nb_pos\n",
        "    \n",
        "    loss = - np.sum(y_w) / np.sum(class_arr)\n",
        "    return loss\n"
      ],
      "execution_count": 0,
      "outputs": []
    },
    {
      "cell_type": "code",
      "metadata": {
        "id": "ISV2n-Gx5Uqx",
        "colab_type": "code",
        "colab": {}
      },
      "source": [
        "def lgb_multi_weighted_logloss(y_true, y_preds):\n",
        "    \"\"\"\n",
        "    @author olivier https://www.kaggle.com/ogrellier\n",
        "    multi logloss for PLAsTiCC challenge\n",
        "    \"\"\"\n",
        "    classes = [6, 15, 16, 42, 52, 53, 62, 64, 65, 67, 88, 90, 92, 95]\n",
        "    class_weight = {6: 1, 15: 2, 16: 1, 42: 1, 52: 1, 53: 1, 62: 1, 64: 2, 65: 1, 67: 1, 88: 1, 90: 1, 92: 1, 95: 1}\n",
        "    if len(np.unique(y_true)) > 14:\n",
        "        classes.append(99)\n",
        "        class_weight[99] = 2\n",
        "    y_p = y_preds.reshape(y_true.shape[0], len(classes), order='F')\n",
        "    \n",
        "    # Trasform y_true in dummies\n",
        "    y_ohe = pd.get_dummies(y_true)\n",
        "    # Normalize rows and limit y_preds to 1e-15, 1-1e-15\n",
        "    y_p = np.clip(a=y_p, a_min=1e-15, a_max=1-1e-15)\n",
        "    # Transform to log\n",
        "    y_p_log = np.log(y_p)\n",
        "    # Get the log for ones, .values is used to drop the index of DataFrames\n",
        "    # Exclude class 99 for now, since there is no class99 in the training set \n",
        "    # we gave a special process for that class\n",
        "    y_log_ones = np.sum(y_ohe.values * y_p_log, axis=0)\n",
        "    # Get the number of positives for each class\n",
        "    nb_pos = y_ohe.sum(axis=0).values.astype(float)\n",
        "    # Weight average and divide by the number of positives\n",
        "    class_arr = np.array([class_weight[k] for k in sorted(class_weight.keys())])\n",
        "    y_w = y_log_ones * class_arr / nb_pos\n",
        "    \n",
        "    loss = - np.sum(y_w) / np.sum(class_arr)\n",
        "    return 'wloss', loss, False\n"
      ],
      "execution_count": 0,
      "outputs": []
    },
    {
      "cell_type": "code",
      "metadata": {
        "id": "fQa6jiCjEnnl",
        "colab_type": "code",
        "colab": {}
      },
      "source": [
        "x_train = pd.read_csv('/data/X_train.csv')"
      ],
      "execution_count": 0,
      "outputs": []
    },
    {
      "cell_type": "code",
      "metadata": {
        "id": "jBxQcXd6En70",
        "colab_type": "code",
        "colab": {}
      },
      "source": [
        "x_test = pd.read_csv('/data/X_test.csv')"
      ],
      "execution_count": 0,
      "outputs": []
    },
    {
      "cell_type": "code",
      "metadata": {
        "id": "dQI3BaSLEod8",
        "colab_type": "code",
        "colab": {}
      },
      "source": [
        "y_train = pd.read_csv('/data/y_train.csv')"
      ],
      "execution_count": 0,
      "outputs": []
    },
    {
      "cell_type": "code",
      "metadata": {
        "id": "FJ4UUhadGoJp",
        "colab_type": "code",
        "colab": {}
      },
      "source": [
        "y_test = pd.read_csv('/data/y_test.csv')"
      ],
      "execution_count": 0,
      "outputs": []
    },
    {
      "cell_type": "code",
      "metadata": {
        "id": "o6JqjEut5f5V",
        "colab_type": "code",
        "outputId": "f347386f-298a-4209-de55-a2bc75988e60",
        "colab": {
          "base_uri": "https://localhost:8080/",
          "height": 206
        }
      },
      "source": [
        "del y_train['Unnamed: 0']\n",
        "y_train.head()"
      ],
      "execution_count": 0,
      "outputs": [
        {
          "output_type": "execute_result",
          "data": {
            "text/html": [
              "<div>\n",
              "<style scoped>\n",
              "    .dataframe tbody tr th:only-of-type {\n",
              "        vertical-align: middle;\n",
              "    }\n",
              "\n",
              "    .dataframe tbody tr th {\n",
              "        vertical-align: top;\n",
              "    }\n",
              "\n",
              "    .dataframe thead th {\n",
              "        text-align: right;\n",
              "    }\n",
              "</style>\n",
              "<table border=\"1\" class=\"dataframe\">\n",
              "  <thead>\n",
              "    <tr style=\"text-align: right;\">\n",
              "      <th></th>\n",
              "      <th>target</th>\n",
              "    </tr>\n",
              "  </thead>\n",
              "  <tbody>\n",
              "    <tr>\n",
              "      <th>0</th>\n",
              "      <td>95</td>\n",
              "    </tr>\n",
              "    <tr>\n",
              "      <th>1</th>\n",
              "      <td>15</td>\n",
              "    </tr>\n",
              "    <tr>\n",
              "      <th>2</th>\n",
              "      <td>42</td>\n",
              "    </tr>\n",
              "    <tr>\n",
              "      <th>3</th>\n",
              "      <td>65</td>\n",
              "    </tr>\n",
              "    <tr>\n",
              "      <th>4</th>\n",
              "      <td>90</td>\n",
              "    </tr>\n",
              "  </tbody>\n",
              "</table>\n",
              "</div>"
            ],
            "text/plain": [
              "   target\n",
              "0      95\n",
              "1      15\n",
              "2      42\n",
              "3      65\n",
              "4      90"
            ]
          },
          "metadata": {
            "tags": []
          },
          "execution_count": 11
        }
      ]
    },
    {
      "cell_type": "code",
      "metadata": {
        "id": "ipjerscyHBpU",
        "colab_type": "code",
        "outputId": "5bf538da-aa60-4f6e-b190-a9f444cafde1",
        "colab": {
          "base_uri": "https://localhost:8080/",
          "height": 206
        }
      },
      "source": [
        "del y_test['Unnamed: 0']\n",
        "y_test.head()"
      ],
      "execution_count": 0,
      "outputs": [
        {
          "output_type": "execute_result",
          "data": {
            "text/html": [
              "<div>\n",
              "<style scoped>\n",
              "    .dataframe tbody tr th:only-of-type {\n",
              "        vertical-align: middle;\n",
              "    }\n",
              "\n",
              "    .dataframe tbody tr th {\n",
              "        vertical-align: top;\n",
              "    }\n",
              "\n",
              "    .dataframe thead th {\n",
              "        text-align: right;\n",
              "    }\n",
              "</style>\n",
              "<table border=\"1\" class=\"dataframe\">\n",
              "  <thead>\n",
              "    <tr style=\"text-align: right;\">\n",
              "      <th></th>\n",
              "      <th>target</th>\n",
              "    </tr>\n",
              "  </thead>\n",
              "  <tbody>\n",
              "    <tr>\n",
              "      <th>0</th>\n",
              "      <td>90</td>\n",
              "    </tr>\n",
              "    <tr>\n",
              "      <th>1</th>\n",
              "      <td>16</td>\n",
              "    </tr>\n",
              "    <tr>\n",
              "      <th>2</th>\n",
              "      <td>90</td>\n",
              "    </tr>\n",
              "    <tr>\n",
              "      <th>3</th>\n",
              "      <td>90</td>\n",
              "    </tr>\n",
              "    <tr>\n",
              "      <th>4</th>\n",
              "      <td>52</td>\n",
              "    </tr>\n",
              "  </tbody>\n",
              "</table>\n",
              "</div>"
            ],
            "text/plain": [
              "   target\n",
              "0      90\n",
              "1      16\n",
              "2      90\n",
              "3      90\n",
              "4      52"
            ]
          },
          "metadata": {
            "tags": []
          },
          "execution_count": 12
        }
      ]
    },
    {
      "cell_type": "code",
      "metadata": {
        "id": "50_9x3RiHB-p",
        "colab_type": "code",
        "outputId": "c615f075-c8be-4154-d1a5-2f477d24ecfb",
        "colab": {
          "base_uri": "https://localhost:8080/",
          "height": 256
        }
      },
      "source": [
        "del x_train['Unnamed: 0']\n",
        "x_train.head()"
      ],
      "execution_count": 0,
      "outputs": [
        {
          "output_type": "execute_result",
          "data": {
            "text/html": [
              "<div>\n",
              "<style scoped>\n",
              "    .dataframe tbody tr th:only-of-type {\n",
              "        vertical-align: middle;\n",
              "    }\n",
              "\n",
              "    .dataframe tbody tr th {\n",
              "        vertical-align: top;\n",
              "    }\n",
              "\n",
              "    .dataframe thead th {\n",
              "        text-align: right;\n",
              "    }\n",
              "</style>\n",
              "<table border=\"1\" class=\"dataframe\">\n",
              "  <thead>\n",
              "    <tr style=\"text-align: right;\">\n",
              "      <th></th>\n",
              "      <th>flux_min</th>\n",
              "      <th>flux_max</th>\n",
              "      <th>flux_mean</th>\n",
              "      <th>flux_median</th>\n",
              "      <th>flux_std</th>\n",
              "      <th>flux_skew</th>\n",
              "      <th>flux_err_min</th>\n",
              "      <th>flux_err_max</th>\n",
              "      <th>flux_err_mean</th>\n",
              "      <th>flux_err_median</th>\n",
              "      <th>flux_err_std</th>\n",
              "      <th>flux_err_skew</th>\n",
              "      <th>detected_mean</th>\n",
              "      <th>flux_ratio_sq_sum</th>\n",
              "      <th>flux_ratio_sq_skew</th>\n",
              "      <th>flux_by_flux_ratio_sq_sum</th>\n",
              "      <th>flux_by_flux_ratio_sq_skew</th>\n",
              "      <th>flux_w_mean</th>\n",
              "      <th>flux_diff1</th>\n",
              "      <th>flux_diff2</th>\n",
              "      <th>flux_diff3</th>\n",
              "      <th>0__fft_coefficient__coeff_0__attr_\"abs\"</th>\n",
              "      <th>0__fft_coefficient__coeff_1__attr_\"abs\"</th>\n",
              "      <th>0__kurtosis</th>\n",
              "      <th>0__skewness</th>\n",
              "      <th>1__fft_coefficient__coeff_0__attr_\"abs\"</th>\n",
              "      <th>1__fft_coefficient__coeff_1__attr_\"abs\"</th>\n",
              "      <th>1__kurtosis</th>\n",
              "      <th>1__skewness</th>\n",
              "      <th>2__fft_coefficient__coeff_0__attr_\"abs\"</th>\n",
              "      <th>2__fft_coefficient__coeff_1__attr_\"abs\"</th>\n",
              "      <th>2__kurtosis</th>\n",
              "      <th>2__skewness</th>\n",
              "      <th>3__fft_coefficient__coeff_0__attr_\"abs\"</th>\n",
              "      <th>3__fft_coefficient__coeff_1__attr_\"abs\"</th>\n",
              "      <th>3__kurtosis</th>\n",
              "      <th>3__skewness</th>\n",
              "      <th>4__fft_coefficient__coeff_0__attr_\"abs\"</th>\n",
              "      <th>4__fft_coefficient__coeff_1__attr_\"abs\"</th>\n",
              "      <th>4__kurtosis</th>\n",
              "      <th>...</th>\n",
              "      <th>__freq_signif_ratio_21___2_</th>\n",
              "      <th>__freq_signif_ratio_21___3_</th>\n",
              "      <th>__freq_signif_ratio_21___4_</th>\n",
              "      <th>__freq_signif_ratio_21___5_</th>\n",
              "      <th>__freq_signif_ratio_31___0_</th>\n",
              "      <th>__freq_signif_ratio_31___1_</th>\n",
              "      <th>__freq_signif_ratio_31___2_</th>\n",
              "      <th>__freq_signif_ratio_31___3_</th>\n",
              "      <th>__freq_signif_ratio_31___4_</th>\n",
              "      <th>__freq_signif_ratio_31___5_</th>\n",
              "      <th>__freq_varrat___0_</th>\n",
              "      <th>__freq_varrat___1_</th>\n",
              "      <th>__freq_varrat___2_</th>\n",
              "      <th>__freq_varrat___3_</th>\n",
              "      <th>__freq_varrat___4_</th>\n",
              "      <th>__freq_varrat___5_</th>\n",
              "      <th>__freq_y_offset___0_</th>\n",
              "      <th>__freq_y_offset___1_</th>\n",
              "      <th>__freq_y_offset___2_</th>\n",
              "      <th>__freq_y_offset___3_</th>\n",
              "      <th>__freq_y_offset___4_</th>\n",
              "      <th>__freq_y_offset___5_</th>\n",
              "      <th>time_score</th>\n",
              "      <th>phase_score</th>\n",
              "      <th>ddf_bool</th>\n",
              "      <th>true_submodel</th>\n",
              "      <th>true_z</th>\n",
              "      <th>true_distmod</th>\n",
              "      <th>true_lensdmu</th>\n",
              "      <th>true_vpec</th>\n",
              "      <th>true_rv</th>\n",
              "      <th>true_av</th>\n",
              "      <th>true_peakmjd</th>\n",
              "      <th>libid_cadence</th>\n",
              "      <th>tflux_u</th>\n",
              "      <th>tflux_g</th>\n",
              "      <th>tflux_r</th>\n",
              "      <th>tflux_i</th>\n",
              "      <th>tflux_z</th>\n",
              "      <th>tflux_y</th>\n",
              "    </tr>\n",
              "  </thead>\n",
              "  <tbody>\n",
              "    <tr>\n",
              "      <th>0</th>\n",
              "      <td>0.999518</td>\n",
              "      <td>0.000513</td>\n",
              "      <td>0.254382</td>\n",
              "      <td>0.584163</td>\n",
              "      <td>0.000348</td>\n",
              "      <td>0.500566</td>\n",
              "      <td>0.002111</td>\n",
              "      <td>1.953305e-05</td>\n",
              "      <td>0.000094</td>\n",
              "      <td>0.001765</td>\n",
              "      <td>0.000028</td>\n",
              "      <td>0.219335</td>\n",
              "      <td>0.230000</td>\n",
              "      <td>0.002637</td>\n",
              "      <td>0.607150</td>\n",
              "      <td>0.423427</td>\n",
              "      <td>0.794889</td>\n",
              "      <td>0.281841</td>\n",
              "      <td>0.000145</td>\n",
              "      <td>0.522498</td>\n",
              "      <td>0.540702</td>\n",
              "      <td>0.000010</td>\n",
              "      <td>0.000000</td>\n",
              "      <td>0.072829</td>\n",
              "      <td>0.544026</td>\n",
              "      <td>0.000067</td>\n",
              "      <td>0.000102</td>\n",
              "      <td>0.238292</td>\n",
              "      <td>0.705124</td>\n",
              "      <td>0.000225</td>\n",
              "      <td>0.000281</td>\n",
              "      <td>0.353401</td>\n",
              "      <td>0.777249</td>\n",
              "      <td>0.000159</td>\n",
              "      <td>0.000191</td>\n",
              "      <td>0.069519</td>\n",
              "      <td>0.604292</td>\n",
              "      <td>0.000614</td>\n",
              "      <td>0.000637</td>\n",
              "      <td>0.095569</td>\n",
              "      <td>...</td>\n",
              "      <td>0.423011</td>\n",
              "      <td>0.713125</td>\n",
              "      <td>0.671420</td>\n",
              "      <td>0.659257</td>\n",
              "      <td>0.526549</td>\n",
              "      <td>0.446278</td>\n",
              "      <td>0.539195</td>\n",
              "      <td>0.687463</td>\n",
              "      <td>0.709204</td>\n",
              "      <td>0.664974</td>\n",
              "      <td>0.876364</td>\n",
              "      <td>0.599403</td>\n",
              "      <td>0.449503</td>\n",
              "      <td>0.081471</td>\n",
              "      <td>0.248672</td>\n",
              "      <td>0.243160</td>\n",
              "      <td>0.224296</td>\n",
              "      <td>0.485048</td>\n",
              "      <td>0.999926</td>\n",
              "      <td>0.466091</td>\n",
              "      <td>0.564670</td>\n",
              "      <td>0.438104</td>\n",
              "      <td>0.803850</td>\n",
              "      <td>0.300852</td>\n",
              "      <td>0.0</td>\n",
              "      <td>0.0</td>\n",
              "      <td>0.341272</td>\n",
              "      <td>0.939813</td>\n",
              "      <td>0.832041</td>\n",
              "      <td>0.496225</td>\n",
              "      <td>1.0</td>\n",
              "      <td>0.064807</td>\n",
              "      <td>0.475067</td>\n",
              "      <td>0.267735</td>\n",
              "      <td>0.000000</td>\n",
              "      <td>0.000000</td>\n",
              "      <td>0.000000</td>\n",
              "      <td>0.000000</td>\n",
              "      <td>0.000000</td>\n",
              "      <td>0.000000</td>\n",
              "    </tr>\n",
              "    <tr>\n",
              "      <th>1</th>\n",
              "      <td>0.999522</td>\n",
              "      <td>0.000401</td>\n",
              "      <td>0.254260</td>\n",
              "      <td>0.584133</td>\n",
              "      <td>0.000182</td>\n",
              "      <td>0.474777</td>\n",
              "      <td>0.002766</td>\n",
              "      <td>1.708378e-05</td>\n",
              "      <td>0.000100</td>\n",
              "      <td>0.002183</td>\n",
              "      <td>0.000024</td>\n",
              "      <td>0.208700</td>\n",
              "      <td>0.125802</td>\n",
              "      <td>0.001244</td>\n",
              "      <td>0.340620</td>\n",
              "      <td>0.423396</td>\n",
              "      <td>0.655382</td>\n",
              "      <td>0.281020</td>\n",
              "      <td>0.000068</td>\n",
              "      <td>0.522494</td>\n",
              "      <td>0.540735</td>\n",
              "      <td>0.000390</td>\n",
              "      <td>0.000163</td>\n",
              "      <td>0.040904</td>\n",
              "      <td>0.552777</td>\n",
              "      <td>0.000298</td>\n",
              "      <td>0.000396</td>\n",
              "      <td>0.197187</td>\n",
              "      <td>0.681010</td>\n",
              "      <td>0.000162</td>\n",
              "      <td>0.000233</td>\n",
              "      <td>0.067372</td>\n",
              "      <td>0.619056</td>\n",
              "      <td>0.000124</td>\n",
              "      <td>0.000170</td>\n",
              "      <td>0.105535</td>\n",
              "      <td>0.650877</td>\n",
              "      <td>0.000128</td>\n",
              "      <td>0.000231</td>\n",
              "      <td>0.073348</td>\n",
              "      <td>...</td>\n",
              "      <td>0.482407</td>\n",
              "      <td>0.720479</td>\n",
              "      <td>0.694003</td>\n",
              "      <td>0.651872</td>\n",
              "      <td>0.560532</td>\n",
              "      <td>0.541420</td>\n",
              "      <td>0.646418</td>\n",
              "      <td>0.722628</td>\n",
              "      <td>0.737486</td>\n",
              "      <td>0.660249</td>\n",
              "      <td>0.697940</td>\n",
              "      <td>0.523714</td>\n",
              "      <td>0.444721</td>\n",
              "      <td>0.454799</td>\n",
              "      <td>0.812657</td>\n",
              "      <td>0.700912</td>\n",
              "      <td>0.261547</td>\n",
              "      <td>0.526316</td>\n",
              "      <td>0.999926</td>\n",
              "      <td>0.472914</td>\n",
              "      <td>0.557677</td>\n",
              "      <td>0.438204</td>\n",
              "      <td>0.700257</td>\n",
              "      <td>0.339619</td>\n",
              "      <td>0.0</td>\n",
              "      <td>0.0</td>\n",
              "      <td>0.118792</td>\n",
              "      <td>0.880956</td>\n",
              "      <td>0.731266</td>\n",
              "      <td>0.364159</td>\n",
              "      <td>1.0</td>\n",
              "      <td>0.175966</td>\n",
              "      <td>0.665921</td>\n",
              "      <td>0.851698</td>\n",
              "      <td>0.000000</td>\n",
              "      <td>0.000000</td>\n",
              "      <td>0.000000</td>\n",
              "      <td>0.000000</td>\n",
              "      <td>0.000000</td>\n",
              "      <td>0.000000</td>\n",
              "    </tr>\n",
              "    <tr>\n",
              "      <th>2</th>\n",
              "      <td>0.999540</td>\n",
              "      <td>0.000321</td>\n",
              "      <td>0.254140</td>\n",
              "      <td>0.584093</td>\n",
              "      <td>0.000011</td>\n",
              "      <td>0.471625</td>\n",
              "      <td>0.000631</td>\n",
              "      <td>1.004257e-06</td>\n",
              "      <td>0.000005</td>\n",
              "      <td>0.000114</td>\n",
              "      <td>0.000003</td>\n",
              "      <td>0.242679</td>\n",
              "      <td>0.017143</td>\n",
              "      <td>0.000086</td>\n",
              "      <td>0.286056</td>\n",
              "      <td>0.423389</td>\n",
              "      <td>0.632546</td>\n",
              "      <td>0.280440</td>\n",
              "      <td>0.000007</td>\n",
              "      <td>0.522619</td>\n",
              "      <td>0.541205</td>\n",
              "      <td>0.000002</td>\n",
              "      <td>0.000002</td>\n",
              "      <td>0.062065</td>\n",
              "      <td>0.492872</td>\n",
              "      <td>0.000024</td>\n",
              "      <td>0.000011</td>\n",
              "      <td>0.106828</td>\n",
              "      <td>0.538449</td>\n",
              "      <td>0.000004</td>\n",
              "      <td>0.000006</td>\n",
              "      <td>0.041643</td>\n",
              "      <td>0.466159</td>\n",
              "      <td>0.000019</td>\n",
              "      <td>0.000023</td>\n",
              "      <td>0.033918</td>\n",
              "      <td>0.520340</td>\n",
              "      <td>0.000072</td>\n",
              "      <td>0.000083</td>\n",
              "      <td>0.026261</td>\n",
              "      <td>...</td>\n",
              "      <td>0.464337</td>\n",
              "      <td>0.701253</td>\n",
              "      <td>0.443112</td>\n",
              "      <td>0.607159</td>\n",
              "      <td>0.484540</td>\n",
              "      <td>0.448724</td>\n",
              "      <td>0.438772</td>\n",
              "      <td>0.567787</td>\n",
              "      <td>0.473089</td>\n",
              "      <td>0.630286</td>\n",
              "      <td>0.662972</td>\n",
              "      <td>0.678980</td>\n",
              "      <td>0.572090</td>\n",
              "      <td>0.454655</td>\n",
              "      <td>0.144208</td>\n",
              "      <td>0.377865</td>\n",
              "      <td>0.224303</td>\n",
              "      <td>0.476947</td>\n",
              "      <td>0.999922</td>\n",
              "      <td>0.462460</td>\n",
              "      <td>0.550681</td>\n",
              "      <td>0.437032</td>\n",
              "      <td>0.455794</td>\n",
              "      <td>0.261640</td>\n",
              "      <td>1.0</td>\n",
              "      <td>0.0</td>\n",
              "      <td>0.126343</td>\n",
              "      <td>0.884270</td>\n",
              "      <td>0.811370</td>\n",
              "      <td>0.411034</td>\n",
              "      <td>0.0</td>\n",
              "      <td>0.000000</td>\n",
              "      <td>0.699887</td>\n",
              "      <td>0.000800</td>\n",
              "      <td>0.000000</td>\n",
              "      <td>0.000000</td>\n",
              "      <td>0.000000</td>\n",
              "      <td>0.000000</td>\n",
              "      <td>0.000000</td>\n",
              "      <td>0.000000</td>\n",
              "    </tr>\n",
              "    <tr>\n",
              "      <th>3</th>\n",
              "      <td>0.999516</td>\n",
              "      <td>0.000364</td>\n",
              "      <td>0.254150</td>\n",
              "      <td>0.584095</td>\n",
              "      <td>0.000063</td>\n",
              "      <td>0.484985</td>\n",
              "      <td>0.003920</td>\n",
              "      <td>1.760178e-05</td>\n",
              "      <td>0.000130</td>\n",
              "      <td>0.002780</td>\n",
              "      <td>0.000032</td>\n",
              "      <td>0.182780</td>\n",
              "      <td>0.009185</td>\n",
              "      <td>0.000019</td>\n",
              "      <td>0.544657</td>\n",
              "      <td>0.423389</td>\n",
              "      <td>0.806399</td>\n",
              "      <td>0.280657</td>\n",
              "      <td>0.000045</td>\n",
              "      <td>0.522796</td>\n",
              "      <td>0.540914</td>\n",
              "      <td>0.000007</td>\n",
              "      <td>0.000004</td>\n",
              "      <td>0.048249</td>\n",
              "      <td>0.453378</td>\n",
              "      <td>0.000021</td>\n",
              "      <td>0.000022</td>\n",
              "      <td>0.074412</td>\n",
              "      <td>0.482592</td>\n",
              "      <td>0.000003</td>\n",
              "      <td>0.000023</td>\n",
              "      <td>0.061257</td>\n",
              "      <td>0.563261</td>\n",
              "      <td>0.000009</td>\n",
              "      <td>0.000026</td>\n",
              "      <td>0.018081</td>\n",
              "      <td>0.507944</td>\n",
              "      <td>0.000056</td>\n",
              "      <td>0.000082</td>\n",
              "      <td>0.305252</td>\n",
              "      <td>...</td>\n",
              "      <td>0.519952</td>\n",
              "      <td>0.725559</td>\n",
              "      <td>0.621668</td>\n",
              "      <td>0.657569</td>\n",
              "      <td>0.592650</td>\n",
              "      <td>0.445010</td>\n",
              "      <td>0.668307</td>\n",
              "      <td>0.721880</td>\n",
              "      <td>0.646322</td>\n",
              "      <td>0.663628</td>\n",
              "      <td>0.837491</td>\n",
              "      <td>0.325858</td>\n",
              "      <td>0.195972</td>\n",
              "      <td>0.682186</td>\n",
              "      <td>0.860254</td>\n",
              "      <td>0.807625</td>\n",
              "      <td>0.219890</td>\n",
              "      <td>0.477281</td>\n",
              "      <td>0.999922</td>\n",
              "      <td>0.461495</td>\n",
              "      <td>0.554596</td>\n",
              "      <td>0.437203</td>\n",
              "      <td>0.292762</td>\n",
              "      <td>0.266709</td>\n",
              "      <td>0.0</td>\n",
              "      <td>0.0</td>\n",
              "      <td>0.000000</td>\n",
              "      <td>0.000000</td>\n",
              "      <td>0.793282</td>\n",
              "      <td>0.481390</td>\n",
              "      <td>0.0</td>\n",
              "      <td>0.000000</td>\n",
              "      <td>0.453353</td>\n",
              "      <td>0.654703</td>\n",
              "      <td>0.000351</td>\n",
              "      <td>0.000627</td>\n",
              "      <td>0.001603</td>\n",
              "      <td>0.007041</td>\n",
              "      <td>0.011018</td>\n",
              "      <td>0.012651</td>\n",
              "    </tr>\n",
              "    <tr>\n",
              "      <th>4</th>\n",
              "      <td>0.999544</td>\n",
              "      <td>0.000322</td>\n",
              "      <td>0.254137</td>\n",
              "      <td>0.584093</td>\n",
              "      <td>0.000006</td>\n",
              "      <td>0.477098</td>\n",
              "      <td>0.000683</td>\n",
              "      <td>9.646799e-07</td>\n",
              "      <td>0.000002</td>\n",
              "      <td>0.000051</td>\n",
              "      <td>0.000002</td>\n",
              "      <td>0.244594</td>\n",
              "      <td>0.003429</td>\n",
              "      <td>0.000051</td>\n",
              "      <td>0.324852</td>\n",
              "      <td>0.423389</td>\n",
              "      <td>0.741880</td>\n",
              "      <td>0.280426</td>\n",
              "      <td>0.000006</td>\n",
              "      <td>0.522702</td>\n",
              "      <td>0.541496</td>\n",
              "      <td>0.000013</td>\n",
              "      <td>0.000005</td>\n",
              "      <td>0.048111</td>\n",
              "      <td>0.514181</td>\n",
              "      <td>0.000001</td>\n",
              "      <td>0.000016</td>\n",
              "      <td>0.081140</td>\n",
              "      <td>0.506750</td>\n",
              "      <td>0.000011</td>\n",
              "      <td>0.000008</td>\n",
              "      <td>0.050086</td>\n",
              "      <td>0.542176</td>\n",
              "      <td>0.000016</td>\n",
              "      <td>0.000026</td>\n",
              "      <td>0.111138</td>\n",
              "      <td>0.569721</td>\n",
              "      <td>0.000017</td>\n",
              "      <td>0.000027</td>\n",
              "      <td>0.083792</td>\n",
              "      <td>...</td>\n",
              "      <td>0.522701</td>\n",
              "      <td>0.656962</td>\n",
              "      <td>0.757961</td>\n",
              "      <td>0.697686</td>\n",
              "      <td>0.488083</td>\n",
              "      <td>0.412280</td>\n",
              "      <td>0.562490</td>\n",
              "      <td>0.707553</td>\n",
              "      <td>0.640107</td>\n",
              "      <td>0.691658</td>\n",
              "      <td>0.702864</td>\n",
              "      <td>0.581293</td>\n",
              "      <td>0.422081</td>\n",
              "      <td>0.383480</td>\n",
              "      <td>0.459741</td>\n",
              "      <td>0.556834</td>\n",
              "      <td>0.222931</td>\n",
              "      <td>0.476836</td>\n",
              "      <td>0.999922</td>\n",
              "      <td>0.462562</td>\n",
              "      <td>0.552520</td>\n",
              "      <td>0.438996</td>\n",
              "      <td>0.515543</td>\n",
              "      <td>0.369605</td>\n",
              "      <td>1.0</td>\n",
              "      <td>0.0</td>\n",
              "      <td>0.210863</td>\n",
              "      <td>0.912675</td>\n",
              "      <td>0.850129</td>\n",
              "      <td>0.632725</td>\n",
              "      <td>0.0</td>\n",
              "      <td>0.000000</td>\n",
              "      <td>0.517319</td>\n",
              "      <td>0.001340</td>\n",
              "      <td>0.000000</td>\n",
              "      <td>0.000000</td>\n",
              "      <td>0.000000</td>\n",
              "      <td>0.000000</td>\n",
              "      <td>0.000000</td>\n",
              "      <td>0.000000</td>\n",
              "    </tr>\n",
              "  </tbody>\n",
              "</table>\n",
              "<p>5 rows × 368 columns</p>\n",
              "</div>"
            ],
            "text/plain": [
              "   flux_min  flux_max  flux_mean  ...   tflux_i   tflux_z   tflux_y\n",
              "0  0.999518  0.000513   0.254382  ...  0.000000  0.000000  0.000000\n",
              "1  0.999522  0.000401   0.254260  ...  0.000000  0.000000  0.000000\n",
              "2  0.999540  0.000321   0.254140  ...  0.000000  0.000000  0.000000\n",
              "3  0.999516  0.000364   0.254150  ...  0.007041  0.011018  0.012651\n",
              "4  0.999544  0.000322   0.254137  ...  0.000000  0.000000  0.000000\n",
              "\n",
              "[5 rows x 368 columns]"
            ]
          },
          "metadata": {
            "tags": []
          },
          "execution_count": 13
        }
      ]
    },
    {
      "cell_type": "code",
      "metadata": {
        "id": "ioOo5DBgHCVT",
        "colab_type": "code",
        "outputId": "5ebcc00a-23f0-448e-8bdd-070327ea7e18",
        "colab": {
          "base_uri": "https://localhost:8080/",
          "height": 256
        }
      },
      "source": [
        "del x_test['Unnamed: 0']\n",
        "x_test.head()"
      ],
      "execution_count": 0,
      "outputs": [
        {
          "output_type": "execute_result",
          "data": {
            "text/html": [
              "<div>\n",
              "<style scoped>\n",
              "    .dataframe tbody tr th:only-of-type {\n",
              "        vertical-align: middle;\n",
              "    }\n",
              "\n",
              "    .dataframe tbody tr th {\n",
              "        vertical-align: top;\n",
              "    }\n",
              "\n",
              "    .dataframe thead th {\n",
              "        text-align: right;\n",
              "    }\n",
              "</style>\n",
              "<table border=\"1\" class=\"dataframe\">\n",
              "  <thead>\n",
              "    <tr style=\"text-align: right;\">\n",
              "      <th></th>\n",
              "      <th>flux_min</th>\n",
              "      <th>flux_max</th>\n",
              "      <th>flux_mean</th>\n",
              "      <th>flux_median</th>\n",
              "      <th>flux_std</th>\n",
              "      <th>flux_skew</th>\n",
              "      <th>flux_err_min</th>\n",
              "      <th>flux_err_max</th>\n",
              "      <th>flux_err_mean</th>\n",
              "      <th>flux_err_median</th>\n",
              "      <th>flux_err_std</th>\n",
              "      <th>flux_err_skew</th>\n",
              "      <th>detected_mean</th>\n",
              "      <th>flux_ratio_sq_sum</th>\n",
              "      <th>flux_ratio_sq_skew</th>\n",
              "      <th>flux_by_flux_ratio_sq_sum</th>\n",
              "      <th>flux_by_flux_ratio_sq_skew</th>\n",
              "      <th>flux_w_mean</th>\n",
              "      <th>flux_diff1</th>\n",
              "      <th>flux_diff2</th>\n",
              "      <th>flux_diff3</th>\n",
              "      <th>0__fft_coefficient__coeff_0__attr_\"abs\"</th>\n",
              "      <th>0__fft_coefficient__coeff_1__attr_\"abs\"</th>\n",
              "      <th>0__kurtosis</th>\n",
              "      <th>0__skewness</th>\n",
              "      <th>1__fft_coefficient__coeff_0__attr_\"abs\"</th>\n",
              "      <th>1__fft_coefficient__coeff_1__attr_\"abs\"</th>\n",
              "      <th>1__kurtosis</th>\n",
              "      <th>1__skewness</th>\n",
              "      <th>2__fft_coefficient__coeff_0__attr_\"abs\"</th>\n",
              "      <th>2__fft_coefficient__coeff_1__attr_\"abs\"</th>\n",
              "      <th>2__kurtosis</th>\n",
              "      <th>2__skewness</th>\n",
              "      <th>3__fft_coefficient__coeff_0__attr_\"abs\"</th>\n",
              "      <th>3__fft_coefficient__coeff_1__attr_\"abs\"</th>\n",
              "      <th>3__kurtosis</th>\n",
              "      <th>3__skewness</th>\n",
              "      <th>4__fft_coefficient__coeff_0__attr_\"abs\"</th>\n",
              "      <th>4__fft_coefficient__coeff_1__attr_\"abs\"</th>\n",
              "      <th>4__kurtosis</th>\n",
              "      <th>...</th>\n",
              "      <th>__freq_signif_ratio_21___2_</th>\n",
              "      <th>__freq_signif_ratio_21___3_</th>\n",
              "      <th>__freq_signif_ratio_21___4_</th>\n",
              "      <th>__freq_signif_ratio_21___5_</th>\n",
              "      <th>__freq_signif_ratio_31___0_</th>\n",
              "      <th>__freq_signif_ratio_31___1_</th>\n",
              "      <th>__freq_signif_ratio_31___2_</th>\n",
              "      <th>__freq_signif_ratio_31___3_</th>\n",
              "      <th>__freq_signif_ratio_31___4_</th>\n",
              "      <th>__freq_signif_ratio_31___5_</th>\n",
              "      <th>__freq_varrat___0_</th>\n",
              "      <th>__freq_varrat___1_</th>\n",
              "      <th>__freq_varrat___2_</th>\n",
              "      <th>__freq_varrat___3_</th>\n",
              "      <th>__freq_varrat___4_</th>\n",
              "      <th>__freq_varrat___5_</th>\n",
              "      <th>__freq_y_offset___0_</th>\n",
              "      <th>__freq_y_offset___1_</th>\n",
              "      <th>__freq_y_offset___2_</th>\n",
              "      <th>__freq_y_offset___3_</th>\n",
              "      <th>__freq_y_offset___4_</th>\n",
              "      <th>__freq_y_offset___5_</th>\n",
              "      <th>time_score</th>\n",
              "      <th>phase_score</th>\n",
              "      <th>ddf_bool</th>\n",
              "      <th>true_submodel</th>\n",
              "      <th>true_z</th>\n",
              "      <th>true_distmod</th>\n",
              "      <th>true_lensdmu</th>\n",
              "      <th>true_vpec</th>\n",
              "      <th>true_rv</th>\n",
              "      <th>true_av</th>\n",
              "      <th>true_peakmjd</th>\n",
              "      <th>libid_cadence</th>\n",
              "      <th>tflux_u</th>\n",
              "      <th>tflux_g</th>\n",
              "      <th>tflux_r</th>\n",
              "      <th>tflux_i</th>\n",
              "      <th>tflux_z</th>\n",
              "      <th>tflux_y</th>\n",
              "    </tr>\n",
              "  </thead>\n",
              "  <tbody>\n",
              "    <tr>\n",
              "      <th>0</th>\n",
              "      <td>0.999515</td>\n",
              "      <td>0.000342</td>\n",
              "      <td>0.254149</td>\n",
              "      <td>0.584127</td>\n",
              "      <td>0.000055</td>\n",
              "      <td>0.435582</td>\n",
              "      <td>0.005721</td>\n",
              "      <td>1.742738e-05</td>\n",
              "      <td>0.000087</td>\n",
              "      <td>0.001725</td>\n",
              "      <td>0.000023</td>\n",
              "      <td>0.239027</td>\n",
              "      <td>0.012571</td>\n",
              "      <td>0.000019</td>\n",
              "      <td>0.506183</td>\n",
              "      <td>0.423389</td>\n",
              "      <td>0.758133</td>\n",
              "      <td>0.280534</td>\n",
              "      <td>0.000029</td>\n",
              "      <td>0.522696</td>\n",
              "      <td>0.541066</td>\n",
              "      <td>9.558874e-06</td>\n",
              "      <td>0.000006</td>\n",
              "      <td>0.048412</td>\n",
              "      <td>0.429062</td>\n",
              "      <td>0.000017</td>\n",
              "      <td>0.000038</td>\n",
              "      <td>0.083525</td>\n",
              "      <td>0.479756</td>\n",
              "      <td>0.000013</td>\n",
              "      <td>0.000013</td>\n",
              "      <td>0.039061</td>\n",
              "      <td>0.442239</td>\n",
              "      <td>0.000007</td>\n",
              "      <td>0.000016</td>\n",
              "      <td>0.032180</td>\n",
              "      <td>0.492836</td>\n",
              "      <td>0.000066</td>\n",
              "      <td>0.000025</td>\n",
              "      <td>0.079768</td>\n",
              "      <td>...</td>\n",
              "      <td>0.502601</td>\n",
              "      <td>0.717468</td>\n",
              "      <td>0.674961</td>\n",
              "      <td>0.684765</td>\n",
              "      <td>0.566793</td>\n",
              "      <td>0.468399</td>\n",
              "      <td>0.618046</td>\n",
              "      <td>0.722902</td>\n",
              "      <td>0.715721</td>\n",
              "      <td>0.690469</td>\n",
              "      <td>0.828365</td>\n",
              "      <td>0.778785</td>\n",
              "      <td>0.387286</td>\n",
              "      <td>0.547306</td>\n",
              "      <td>0.379549</td>\n",
              "      <td>0.894386</td>\n",
              "      <td>0.222339</td>\n",
              "      <td>0.477114</td>\n",
              "      <td>0.999922</td>\n",
              "      <td>0.461782</td>\n",
              "      <td>0.554292</td>\n",
              "      <td>0.437821</td>\n",
              "      <td>0.365501</td>\n",
              "      <td>0.231063</td>\n",
              "      <td>0.0</td>\n",
              "      <td>0.0</td>\n",
              "      <td>0.126053</td>\n",
              "      <td>0.884016</td>\n",
              "      <td>0.793282</td>\n",
              "      <td>0.132417</td>\n",
              "      <td>0.0</td>\n",
              "      <td>0.0</td>\n",
              "      <td>0.508101</td>\n",
              "      <td>0.452567</td>\n",
              "      <td>0.000000</td>\n",
              "      <td>0.000000</td>\n",
              "      <td>0.00000</td>\n",
              "      <td>0.000000</td>\n",
              "      <td>0.000000</td>\n",
              "      <td>0.000000</td>\n",
              "    </tr>\n",
              "    <tr>\n",
              "      <th>1</th>\n",
              "      <td>0.994485</td>\n",
              "      <td>0.000334</td>\n",
              "      <td>0.253550</td>\n",
              "      <td>0.584075</td>\n",
              "      <td>0.002307</td>\n",
              "      <td>0.183037</td>\n",
              "      <td>0.021144</td>\n",
              "      <td>2.205954e-05</td>\n",
              "      <td>0.000192</td>\n",
              "      <td>0.004627</td>\n",
              "      <td>0.000026</td>\n",
              "      <td>0.216118</td>\n",
              "      <td>0.035504</td>\n",
              "      <td>0.003606</td>\n",
              "      <td>0.359390</td>\n",
              "      <td>0.422889</td>\n",
              "      <td>0.293875</td>\n",
              "      <td>0.266502</td>\n",
              "      <td>0.001639</td>\n",
              "      <td>0.521985</td>\n",
              "      <td>0.540183</td>\n",
              "      <td>3.117481e-05</td>\n",
              "      <td>0.000006</td>\n",
              "      <td>0.028351</td>\n",
              "      <td>0.494800</td>\n",
              "      <td>0.000052</td>\n",
              "      <td>0.000077</td>\n",
              "      <td>0.075344</td>\n",
              "      <td>0.437439</td>\n",
              "      <td>0.001655</td>\n",
              "      <td>0.002444</td>\n",
              "      <td>0.468398</td>\n",
              "      <td>0.166394</td>\n",
              "      <td>0.001685</td>\n",
              "      <td>0.000412</td>\n",
              "      <td>0.192322</td>\n",
              "      <td>0.282811</td>\n",
              "      <td>0.000462</td>\n",
              "      <td>0.000695</td>\n",
              "      <td>0.497944</td>\n",
              "      <td>...</td>\n",
              "      <td>0.535448</td>\n",
              "      <td>0.695403</td>\n",
              "      <td>0.667335</td>\n",
              "      <td>0.654560</td>\n",
              "      <td>0.576056</td>\n",
              "      <td>0.516025</td>\n",
              "      <td>0.689422</td>\n",
              "      <td>0.697256</td>\n",
              "      <td>0.697105</td>\n",
              "      <td>0.658709</td>\n",
              "      <td>0.671461</td>\n",
              "      <td>0.891587</td>\n",
              "      <td>0.976274</td>\n",
              "      <td>0.960832</td>\n",
              "      <td>0.975856</td>\n",
              "      <td>0.954428</td>\n",
              "      <td>0.221715</td>\n",
              "      <td>0.477126</td>\n",
              "      <td>0.999922</td>\n",
              "      <td>0.449158</td>\n",
              "      <td>0.548034</td>\n",
              "      <td>0.437850</td>\n",
              "      <td>0.143027</td>\n",
              "      <td>0.319818</td>\n",
              "      <td>0.0</td>\n",
              "      <td>0.0</td>\n",
              "      <td>0.000000</td>\n",
              "      <td>0.000000</td>\n",
              "      <td>0.793282</td>\n",
              "      <td>0.481390</td>\n",
              "      <td>0.0</td>\n",
              "      <td>0.0</td>\n",
              "      <td>0.453353</td>\n",
              "      <td>0.727304</td>\n",
              "      <td>0.155725</td>\n",
              "      <td>0.163516</td>\n",
              "      <td>0.10651</td>\n",
              "      <td>0.074024</td>\n",
              "      <td>0.037671</td>\n",
              "      <td>0.012951</td>\n",
              "    </tr>\n",
              "    <tr>\n",
              "      <th>2</th>\n",
              "      <td>0.999500</td>\n",
              "      <td>0.000466</td>\n",
              "      <td>0.254256</td>\n",
              "      <td>0.584127</td>\n",
              "      <td>0.000238</td>\n",
              "      <td>0.521517</td>\n",
              "      <td>0.003136</td>\n",
              "      <td>1.733092e-05</td>\n",
              "      <td>0.000107</td>\n",
              "      <td>0.002001</td>\n",
              "      <td>0.000027</td>\n",
              "      <td>0.199666</td>\n",
              "      <td>0.083025</td>\n",
              "      <td>0.002260</td>\n",
              "      <td>0.556050</td>\n",
              "      <td>0.423416</td>\n",
              "      <td>0.768509</td>\n",
              "      <td>0.281619</td>\n",
              "      <td>0.000119</td>\n",
              "      <td>0.522557</td>\n",
              "      <td>0.540696</td>\n",
              "      <td>2.612877e-05</td>\n",
              "      <td>0.000019</td>\n",
              "      <td>0.151372</td>\n",
              "      <td>0.639791</td>\n",
              "      <td>0.000591</td>\n",
              "      <td>0.000786</td>\n",
              "      <td>0.115297</td>\n",
              "      <td>0.625850</td>\n",
              "      <td>0.000115</td>\n",
              "      <td>0.000163</td>\n",
              "      <td>0.362497</td>\n",
              "      <td>0.786755</td>\n",
              "      <td>0.000330</td>\n",
              "      <td>0.000481</td>\n",
              "      <td>0.107714</td>\n",
              "      <td>0.656519</td>\n",
              "      <td>0.000168</td>\n",
              "      <td>0.000205</td>\n",
              "      <td>0.082125</td>\n",
              "      <td>...</td>\n",
              "      <td>0.406011</td>\n",
              "      <td>0.719721</td>\n",
              "      <td>0.676839</td>\n",
              "      <td>0.658282</td>\n",
              "      <td>0.570998</td>\n",
              "      <td>0.504494</td>\n",
              "      <td>0.469920</td>\n",
              "      <td>0.722186</td>\n",
              "      <td>0.718519</td>\n",
              "      <td>0.661594</td>\n",
              "      <td>0.765062</td>\n",
              "      <td>0.724534</td>\n",
              "      <td>0.743533</td>\n",
              "      <td>0.521495</td>\n",
              "      <td>0.796331</td>\n",
              "      <td>0.830962</td>\n",
              "      <td>0.226037</td>\n",
              "      <td>0.500712</td>\n",
              "      <td>0.999925</td>\n",
              "      <td>0.494814</td>\n",
              "      <td>0.557812</td>\n",
              "      <td>0.438766</td>\n",
              "      <td>0.532593</td>\n",
              "      <td>0.351027</td>\n",
              "      <td>0.0</td>\n",
              "      <td>0.0</td>\n",
              "      <td>0.073192</td>\n",
              "      <td>0.855168</td>\n",
              "      <td>0.782946</td>\n",
              "      <td>0.322375</td>\n",
              "      <td>0.0</td>\n",
              "      <td>0.0</td>\n",
              "      <td>0.689239</td>\n",
              "      <td>0.144160</td>\n",
              "      <td>0.000000</td>\n",
              "      <td>0.000000</td>\n",
              "      <td>0.00000</td>\n",
              "      <td>0.000000</td>\n",
              "      <td>0.000000</td>\n",
              "      <td>0.000000</td>\n",
              "    </tr>\n",
              "    <tr>\n",
              "      <th>3</th>\n",
              "      <td>0.999549</td>\n",
              "      <td>0.000319</td>\n",
              "      <td>0.254136</td>\n",
              "      <td>0.584092</td>\n",
              "      <td>0.000002</td>\n",
              "      <td>0.478925</td>\n",
              "      <td>0.000714</td>\n",
              "      <td>9.995044e-07</td>\n",
              "      <td>0.000003</td>\n",
              "      <td>0.000064</td>\n",
              "      <td>0.000002</td>\n",
              "      <td>0.244112</td>\n",
              "      <td>0.000381</td>\n",
              "      <td>0.000044</td>\n",
              "      <td>0.400148</td>\n",
              "      <td>0.423389</td>\n",
              "      <td>0.778023</td>\n",
              "      <td>0.280424</td>\n",
              "      <td>0.000003</td>\n",
              "      <td>0.522652</td>\n",
              "      <td>0.541244</td>\n",
              "      <td>5.856015e-07</td>\n",
              "      <td>0.000002</td>\n",
              "      <td>0.041995</td>\n",
              "      <td>0.507850</td>\n",
              "      <td>0.000002</td>\n",
              "      <td>0.000028</td>\n",
              "      <td>0.091036</td>\n",
              "      <td>0.415336</td>\n",
              "      <td>0.000007</td>\n",
              "      <td>0.000013</td>\n",
              "      <td>0.052037</td>\n",
              "      <td>0.550535</td>\n",
              "      <td>0.000023</td>\n",
              "      <td>0.000017</td>\n",
              "      <td>0.037165</td>\n",
              "      <td>0.518947</td>\n",
              "      <td>0.000032</td>\n",
              "      <td>0.000026</td>\n",
              "      <td>0.130274</td>\n",
              "      <td>...</td>\n",
              "      <td>0.403543</td>\n",
              "      <td>0.749732</td>\n",
              "      <td>0.538677</td>\n",
              "      <td>0.517561</td>\n",
              "      <td>0.550497</td>\n",
              "      <td>0.404066</td>\n",
              "      <td>0.455401</td>\n",
              "      <td>0.745436</td>\n",
              "      <td>0.696357</td>\n",
              "      <td>0.495412</td>\n",
              "      <td>0.721633</td>\n",
              "      <td>0.618480</td>\n",
              "      <td>0.402165</td>\n",
              "      <td>0.322985</td>\n",
              "      <td>0.299568</td>\n",
              "      <td>0.534706</td>\n",
              "      <td>0.221800</td>\n",
              "      <td>0.477307</td>\n",
              "      <td>0.999922</td>\n",
              "      <td>0.462956</td>\n",
              "      <td>0.553703</td>\n",
              "      <td>0.438418</td>\n",
              "      <td>0.469489</td>\n",
              "      <td>0.380676</td>\n",
              "      <td>1.0</td>\n",
              "      <td>0.0</td>\n",
              "      <td>0.175719</td>\n",
              "      <td>0.902397</td>\n",
              "      <td>0.772610</td>\n",
              "      <td>0.289545</td>\n",
              "      <td>0.0</td>\n",
              "      <td>0.0</td>\n",
              "      <td>0.508576</td>\n",
              "      <td>0.001981</td>\n",
              "      <td>0.000000</td>\n",
              "      <td>0.000000</td>\n",
              "      <td>0.00000</td>\n",
              "      <td>0.000000</td>\n",
              "      <td>0.000000</td>\n",
              "      <td>0.000000</td>\n",
              "    </tr>\n",
              "    <tr>\n",
              "      <th>4</th>\n",
              "      <td>0.999544</td>\n",
              "      <td>0.000379</td>\n",
              "      <td>0.254202</td>\n",
              "      <td>0.584096</td>\n",
              "      <td>0.000114</td>\n",
              "      <td>0.496427</td>\n",
              "      <td>0.000767</td>\n",
              "      <td>1.006876e-06</td>\n",
              "      <td>0.000005</td>\n",
              "      <td>0.000114</td>\n",
              "      <td>0.000003</td>\n",
              "      <td>0.242935</td>\n",
              "      <td>0.165714</td>\n",
              "      <td>0.011115</td>\n",
              "      <td>0.370652</td>\n",
              "      <td>0.423439</td>\n",
              "      <td>0.710404</td>\n",
              "      <td>0.280857</td>\n",
              "      <td>0.000045</td>\n",
              "      <td>0.522517</td>\n",
              "      <td>0.540718</td>\n",
              "      <td>6.123004e-05</td>\n",
              "      <td>0.000027</td>\n",
              "      <td>0.087986</td>\n",
              "      <td>0.605132</td>\n",
              "      <td>0.000872</td>\n",
              "      <td>0.001245</td>\n",
              "      <td>0.214793</td>\n",
              "      <td>0.698926</td>\n",
              "      <td>0.000261</td>\n",
              "      <td>0.000394</td>\n",
              "      <td>0.122998</td>\n",
              "      <td>0.662052</td>\n",
              "      <td>0.000319</td>\n",
              "      <td>0.000465</td>\n",
              "      <td>0.113478</td>\n",
              "      <td>0.651057</td>\n",
              "      <td>0.000254</td>\n",
              "      <td>0.000330</td>\n",
              "      <td>0.110393</td>\n",
              "      <td>...</td>\n",
              "      <td>0.319761</td>\n",
              "      <td>0.405917</td>\n",
              "      <td>0.350358</td>\n",
              "      <td>0.360242</td>\n",
              "      <td>0.414859</td>\n",
              "      <td>0.252983</td>\n",
              "      <td>0.359081</td>\n",
              "      <td>0.470678</td>\n",
              "      <td>0.337911</td>\n",
              "      <td>0.379686</td>\n",
              "      <td>0.309799</td>\n",
              "      <td>0.456261</td>\n",
              "      <td>0.298250</td>\n",
              "      <td>0.246869</td>\n",
              "      <td>0.262793</td>\n",
              "      <td>0.332396</td>\n",
              "      <td>0.240564</td>\n",
              "      <td>0.490861</td>\n",
              "      <td>0.999923</td>\n",
              "      <td>0.465660</td>\n",
              "      <td>0.551967</td>\n",
              "      <td>0.433714</td>\n",
              "      <td>0.937287</td>\n",
              "      <td>0.596220</td>\n",
              "      <td>1.0</td>\n",
              "      <td>0.0</td>\n",
              "      <td>0.072902</td>\n",
              "      <td>0.854978</td>\n",
              "      <td>0.772610</td>\n",
              "      <td>0.471515</td>\n",
              "      <td>0.0</td>\n",
              "      <td>0.0</td>\n",
              "      <td>0.794392</td>\n",
              "      <td>0.001901</td>\n",
              "      <td>0.000000</td>\n",
              "      <td>0.000000</td>\n",
              "      <td>0.00000</td>\n",
              "      <td>0.000000</td>\n",
              "      <td>0.000000</td>\n",
              "      <td>0.000000</td>\n",
              "    </tr>\n",
              "  </tbody>\n",
              "</table>\n",
              "<p>5 rows × 368 columns</p>\n",
              "</div>"
            ],
            "text/plain": [
              "   flux_min  flux_max  flux_mean  ...   tflux_i   tflux_z   tflux_y\n",
              "0  0.999515  0.000342   0.254149  ...  0.000000  0.000000  0.000000\n",
              "1  0.994485  0.000334   0.253550  ...  0.074024  0.037671  0.012951\n",
              "2  0.999500  0.000466   0.254256  ...  0.000000  0.000000  0.000000\n",
              "3  0.999549  0.000319   0.254136  ...  0.000000  0.000000  0.000000\n",
              "4  0.999544  0.000379   0.254202  ...  0.000000  0.000000  0.000000\n",
              "\n",
              "[5 rows x 368 columns]"
            ]
          },
          "metadata": {
            "tags": []
          },
          "execution_count": 14
        }
      ]
    },
    {
      "cell_type": "code",
      "metadata": {
        "id": "x8RiVsAV5ib5",
        "colab_type": "code",
        "colab": {}
      },
      "source": [
        "folds = StratifiedKFold(n_splits=5, shuffle=True, random_state=1)   #33-67\n",
        "clfs = []\n",
        "importances = pd.DataFrame()"
      ],
      "execution_count": 0,
      "outputs": []
    },
    {
      "cell_type": "code",
      "metadata": {
        "id": "2RVNRsdW5m6n",
        "colab_type": "code",
        "outputId": "0db83ed5-a223-4bed-f636-fd1aae3b7894",
        "colab": {
          "base_uri": "https://localhost:8080/",
          "height": 53
        }
      },
      "source": [
        "classes = np.unique(y_train)\n",
        "print(classes.shape)\n",
        "classes"
      ],
      "execution_count": 0,
      "outputs": [
        {
          "output_type": "stream",
          "text": [
            "(14,)\n"
          ],
          "name": "stdout"
        },
        {
          "output_type": "execute_result",
          "data": {
            "text/plain": [
              "array([ 6, 15, 16, 42, 52, 53, 62, 64, 65, 67, 88, 90, 92, 95])"
            ]
          },
          "metadata": {
            "tags": []
          },
          "execution_count": 16
        }
      ]
    },
    {
      "cell_type": "code",
      "metadata": {
        "id": "cktxr6565p6c",
        "colab_type": "code",
        "colab": {}
      },
      "source": [
        "dim_learning_rate = Real(low=1e-10, high=1e-1, prior='log-uniform',name='learning_rate')\n",
        "dim_estimators = Integer(low=50, high=3000,name='n_estimators')\n",
        "dim_max_depth = Integer(low=1, high=5,name='max_depth')\n",
        "\n",
        "dimensions = [dim_learning_rate,\n",
        "              dim_estimators,\n",
        "              dim_max_depth]\n",
        "\n",
        "default_parameters = [0.003,1000,2]"
      ],
      "execution_count": 0,
      "outputs": []
    },
    {
      "cell_type": "code",
      "metadata": {
        "id": "WvFMLqKN529s",
        "colab_type": "code",
        "colab": {}
      },
      "source": [
        "\n",
        "\n",
        "def createModel(learning_rate,n_estimators,max_depth):       \n",
        "\n",
        "    oof_preds = np.zeros((len(x_train), len(classes)))\n",
        "    for fold_, (trn_, val_) in enumerate(folds.split(y_train, y_train)):\n",
        "        trn_x, trn_y = x_train.iloc[trn_], y_train.iloc[trn_]\n",
        "        val_x, val_y = x_train.iloc[val_], y_train.iloc[val_]\n",
        "\n",
        "        clf = lgb.LGBMClassifier(**lgb_params,learning_rate=learning_rate,\n",
        "                                n_estimators=n_estimators,max_depth=max_depth)\n",
        "        \n",
        "        \n",
        "        clf.fit(\n",
        "            trn_x, trn_y,\n",
        "            eval_set=[(trn_x, trn_y), (val_x, val_y)],\n",
        "            eval_metric=lgb_multi_weighted_logloss,\n",
        "            verbose=False,\n",
        "            early_stopping_rounds=50\n",
        "        )\n",
        "        oof_preds[val_, :] = clf.predict_proba(val_x, num_iteration=clf.best_iteration_)\n",
        "        print('fold',fold_+1,multi_weighted_logloss(val_y, clf.predict_proba(val_x, num_iteration=clf.best_iteration_)))\n",
        "\n",
        "        clfs.append(clf)\n",
        "        \n",
        "    \n",
        "    \n",
        "    loss = multi_weighted_logloss(y_true=y_train, y_preds=oof_preds)\n",
        "    print('MULTI WEIGHTED LOG LOSS : %.5f ' % loss)\n",
        "    \n",
        "    return loss\n",
        "\n"
      ],
      "execution_count": 0,
      "outputs": []
    },
    {
      "cell_type": "code",
      "metadata": {
        "id": "PlrxS4rM56UB",
        "colab_type": "code",
        "colab": {}
      },
      "source": [
        "@use_named_args(dimensions=dimensions)\n",
        "def fitness(learning_rate,n_estimators,max_depth):\n",
        "    \"\"\"\n",
        "    Hyper-parameters:\n",
        "    learning_rate:     Learning-rate for the optimizer.\n",
        "    n_estimators:      Number of estimators.\n",
        "    max_depth:         Maximum Depth of tree.\n",
        "    \"\"\"\n",
        "\n",
        "    # Print the hyper-parameters.\n",
        "    print('learning rate: {0:.2e}'.format(learning_rate))\n",
        "    print('estimators:', n_estimators)\n",
        "    print('max depth:', max_depth)\n",
        "    \n",
        "    lv= createModel(learning_rate=learning_rate,\n",
        "                    n_estimators=n_estimators,\n",
        "                    max_depth = max_depth)\n",
        "    return lv\n"
      ],
      "execution_count": 0,
      "outputs": []
    },
    {
      "cell_type": "code",
      "metadata": {
        "id": "zmxJXGwh59TP",
        "colab_type": "code",
        "colab": {}
      },
      "source": [
        "lgb_params = {\n",
        "    'boosting_type': 'gbdt',\n",
        "    'objective': 'multiclass',\n",
        "    'num_class': 14,\n",
        "    'metric': 'multi_logloss',\n",
        "    'subsample': .9,\n",
        "    'colsample_bytree': .7,\n",
        "    'reg_alpha': .01,\n",
        "    'reg_lambda': .01,\n",
        "    'min_split_gain': 0.01,\n",
        "    'min_child_weight': 10,\n",
        "    'silent':True,\n",
        "    'verbosity':-1,\n",
        "    'nthread':-1\n",
        "}"
      ],
      "execution_count": 0,
      "outputs": []
    },
    {
      "cell_type": "code",
      "metadata": {
        "id": "WrPHn6gt6BPf",
        "colab_type": "code",
        "outputId": "d761929c-8b90-426f-a608-571bd0669d58",
        "colab": {
          "base_uri": "https://localhost:8080/",
          "height": 305
        }
      },
      "source": [
        "%%time\n",
        "\n",
        "error = fitness(default_parameters)"
      ],
      "execution_count": 0,
      "outputs": [
        {
          "output_type": "stream",
          "text": [
            "learning rate: 3.00e-03\n",
            "estimators: 1000\n",
            "max depth: 2\n"
          ],
          "name": "stdout"
        },
        {
          "output_type": "stream",
          "text": [
            "/usr/local/lib/python3.6/dist-packages/sklearn/preprocessing/label.py:219: DataConversionWarning: A column-vector y was passed when a 1d array was expected. Please change the shape of y to (n_samples, ), for example using ravel().\n",
            "  y = column_or_1d(y, warn=True)\n",
            "/usr/local/lib/python3.6/dist-packages/sklearn/preprocessing/label.py:252: DataConversionWarning: A column-vector y was passed when a 1d array was expected. Please change the shape of y to (n_samples, ), for example using ravel().\n",
            "  y = column_or_1d(y, warn=True)\n"
          ],
          "name": "stderr"
        },
        {
          "output_type": "stream",
          "text": [
            "fold 1 4.346528828067377\n",
            "fold 2 4.335120682484117\n",
            "fold 3 4.354652776352549\n",
            "fold 4 4.350541849146568\n",
            "fold 5 4.3280583928953344\n",
            "MULTI WEIGHTED LOG LOSS : 4.34298 \n",
            "CPU times: user 15min 45s, sys: 3.93 s, total: 15min 49s\n",
            "Wall time: 8min 3s\n"
          ],
          "name": "stdout"
        }
      ]
    },
    {
      "cell_type": "code",
      "metadata": {
        "id": "u8KWhvlo6EjF",
        "colab_type": "code",
        "outputId": "9d71f5ad-698a-4614-a601-6e2fc6795c29",
        "colab": {
          "base_uri": "https://localhost:8080/",
          "height": 1000
        }
      },
      "source": [
        "%%time\n",
        "# use only if you haven't found out the optimal parameters for xgb. else comment this block.\n",
        "search_result = gp_minimize(func=fitness,\n",
        "                            dimensions=dimensions,\n",
        "                            acq_func='EI', # Expected Improvement.\n",
        "                            n_calls=11,\n",
        "                           x0=default_parameters)"
      ],
      "execution_count": 0,
      "outputs": [
        {
          "output_type": "stream",
          "text": [
            "learning rate: 3.00e-03\n",
            "estimators: 1000\n",
            "max depth: 2\n"
          ],
          "name": "stdout"
        },
        {
          "output_type": "stream",
          "text": [
            "/usr/local/lib/python3.6/dist-packages/sklearn/preprocessing/label.py:219: DataConversionWarning: A column-vector y was passed when a 1d array was expected. Please change the shape of y to (n_samples, ), for example using ravel().\n",
            "  y = column_or_1d(y, warn=True)\n",
            "/usr/local/lib/python3.6/dist-packages/sklearn/preprocessing/label.py:252: DataConversionWarning: A column-vector y was passed when a 1d array was expected. Please change the shape of y to (n_samples, ), for example using ravel().\n",
            "  y = column_or_1d(y, warn=True)\n"
          ],
          "name": "stderr"
        },
        {
          "output_type": "stream",
          "text": [
            "fold 1 4.346528828067377\n",
            "fold 2 4.335120682484117\n",
            "fold 3 4.354652776352549\n",
            "fold 4 4.350541849146568\n",
            "fold 5 4.3280583928953344\n",
            "MULTI WEIGHTED LOG LOSS : 4.34298 \n",
            "learning rate: 4.62e-09\n",
            "estimators: 1839\n",
            "max depth: 1\n"
          ],
          "name": "stdout"
        },
        {
          "output_type": "stream",
          "text": [
            "/usr/local/lib/python3.6/dist-packages/sklearn/preprocessing/label.py:219: DataConversionWarning: A column-vector y was passed when a 1d array was expected. Please change the shape of y to (n_samples, ), for example using ravel().\n",
            "  y = column_or_1d(y, warn=True)\n",
            "/usr/local/lib/python3.6/dist-packages/sklearn/preprocessing/label.py:252: DataConversionWarning: A column-vector y was passed when a 1d array was expected. Please change the shape of y to (n_samples, ), for example using ravel().\n",
            "  y = column_or_1d(y, warn=True)\n"
          ],
          "name": "stderr"
        },
        {
          "output_type": "stream",
          "text": [
            "fold 1 3.2338022740976946\n",
            "fold 2 3.232929953438124\n",
            "fold 3 3.2323816201602087\n",
            "fold 4 3.2284339749626523\n",
            "fold 5 3.2282286461343985\n",
            "MULTI WEIGHTED LOG LOSS : 3.23116 \n",
            "learning rate: 3.46e-07\n",
            "estimators: 2747\n",
            "max depth: 4\n"
          ],
          "name": "stdout"
        },
        {
          "output_type": "stream",
          "text": [
            "/usr/local/lib/python3.6/dist-packages/sklearn/preprocessing/label.py:219: DataConversionWarning: A column-vector y was passed when a 1d array was expected. Please change the shape of y to (n_samples, ), for example using ravel().\n",
            "  y = column_or_1d(y, warn=True)\n",
            "/usr/local/lib/python3.6/dist-packages/sklearn/preprocessing/label.py:252: DataConversionWarning: A column-vector y was passed when a 1d array was expected. Please change the shape of y to (n_samples, ), for example using ravel().\n",
            "  y = column_or_1d(y, warn=True)\n"
          ],
          "name": "stderr"
        },
        {
          "output_type": "stream",
          "text": [
            "fold 1 3.2338364564970146\n",
            "fold 2 3.2329712749837403\n",
            "fold 3 3.2324120200299697\n",
            "fold 4 3.2284718047045695\n",
            "fold 5 3.228251938508767\n",
            "MULTI WEIGHTED LOG LOSS : 3.23120 \n",
            "learning rate: 6.30e-05\n",
            "estimators: 2351\n",
            "max depth: 2\n"
          ],
          "name": "stdout"
        },
        {
          "output_type": "stream",
          "text": [
            "/usr/local/lib/python3.6/dist-packages/sklearn/preprocessing/label.py:219: DataConversionWarning: A column-vector y was passed when a 1d array was expected. Please change the shape of y to (n_samples, ), for example using ravel().\n",
            "  y = column_or_1d(y, warn=True)\n",
            "/usr/local/lib/python3.6/dist-packages/sklearn/preprocessing/label.py:252: DataConversionWarning: A column-vector y was passed when a 1d array was expected. Please change the shape of y to (n_samples, ), for example using ravel().\n",
            "  y = column_or_1d(y, warn=True)\n"
          ],
          "name": "stderr"
        },
        {
          "output_type": "stream",
          "text": [
            "fold 1 3.2477444915341525\n",
            "fold 2 3.2489404364028807\n",
            "fold 3 3.247824757129476\n",
            "fold 4 3.2446813204978713\n",
            "fold 5 3.2423532767130854\n",
            "MULTI WEIGHTED LOG LOSS : 3.24632 \n",
            "learning rate: 3.63e-05\n",
            "estimators: 1647\n",
            "max depth: 3\n"
          ],
          "name": "stdout"
        },
        {
          "output_type": "stream",
          "text": [
            "/usr/local/lib/python3.6/dist-packages/sklearn/preprocessing/label.py:219: DataConversionWarning: A column-vector y was passed when a 1d array was expected. Please change the shape of y to (n_samples, ), for example using ravel().\n",
            "  y = column_or_1d(y, warn=True)\n",
            "/usr/local/lib/python3.6/dist-packages/sklearn/preprocessing/label.py:252: DataConversionWarning: A column-vector y was passed when a 1d array was expected. Please change the shape of y to (n_samples, ), for example using ravel().\n",
            "  y = column_or_1d(y, warn=True)\n"
          ],
          "name": "stderr"
        },
        {
          "output_type": "stream",
          "text": [
            "fold 1 3.2379081114062047\n",
            "fold 2 3.2374170190608718\n",
            "fold 3 3.2365190049724726\n",
            "fold 4 3.2330391749241\n",
            "fold 5 3.2318135614954535\n",
            "MULTI WEIGHTED LOG LOSS : 3.23535 \n",
            "learning rate: 2.52e-02\n",
            "estimators: 2939\n",
            "max depth: 3\n"
          ],
          "name": "stdout"
        },
        {
          "output_type": "stream",
          "text": [
            "/usr/local/lib/python3.6/dist-packages/sklearn/preprocessing/label.py:219: DataConversionWarning: A column-vector y was passed when a 1d array was expected. Please change the shape of y to (n_samples, ), for example using ravel().\n",
            "  y = column_or_1d(y, warn=True)\n",
            "/usr/local/lib/python3.6/dist-packages/sklearn/preprocessing/label.py:252: DataConversionWarning: A column-vector y was passed when a 1d array was expected. Please change the shape of y to (n_samples, ), for example using ravel().\n",
            "  y = column_or_1d(y, warn=True)\n"
          ],
          "name": "stderr"
        },
        {
          "output_type": "stream",
          "text": [
            "fold 1 6.629091902378908\n",
            "fold 2 6.587043344271814\n",
            "fold 3 6.642121950035489\n",
            "fold 4 6.62066379698397\n",
            "fold 5 6.397836776353318\n",
            "MULTI WEIGHTED LOG LOSS : 6.57550 \n",
            "learning rate: 2.27e-06\n",
            "estimators: 281\n",
            "max depth: 4\n"
          ],
          "name": "stdout"
        },
        {
          "output_type": "stream",
          "text": [
            "/usr/local/lib/python3.6/dist-packages/sklearn/preprocessing/label.py:219: DataConversionWarning: A column-vector y was passed when a 1d array was expected. Please change the shape of y to (n_samples, ), for example using ravel().\n",
            "  y = column_or_1d(y, warn=True)\n",
            "/usr/local/lib/python3.6/dist-packages/sklearn/preprocessing/label.py:252: DataConversionWarning: A column-vector y was passed when a 1d array was expected. Please change the shape of y to (n_samples, ), for example using ravel().\n",
            "  y = column_or_1d(y, warn=True)\n"
          ],
          "name": "stderr"
        },
        {
          "output_type": "stream",
          "text": [
            "fold 1 3.2338252089431174\n",
            "fold 2 3.2329577446843927\n",
            "fold 3 3.2324023273452944\n",
            "fold 4 3.22845933769281\n",
            "fold 5 3.2282448456990367\n",
            "MULTI WEIGHTED LOG LOSS : 3.23119 \n",
            "learning rate: 1.28e-05\n",
            "estimators: 1161\n",
            "max depth: 3\n"
          ],
          "name": "stdout"
        },
        {
          "output_type": "stream",
          "text": [
            "/usr/local/lib/python3.6/dist-packages/sklearn/preprocessing/label.py:219: DataConversionWarning: A column-vector y was passed when a 1d array was expected. Please change the shape of y to (n_samples, ), for example using ravel().\n",
            "  y = column_or_1d(y, warn=True)\n",
            "/usr/local/lib/python3.6/dist-packages/sklearn/preprocessing/label.py:252: DataConversionWarning: A column-vector y was passed when a 1d array was expected. Please change the shape of y to (n_samples, ), for example using ravel().\n",
            "  y = column_or_1d(y, warn=True)\n"
          ],
          "name": "stderr"
        },
        {
          "output_type": "stream",
          "text": [
            "fold 1 3.2344051640454383\n",
            "fold 2 3.2336162281777057\n",
            "fold 3 3.232903503789838\n",
            "fold 4 3.229150722826456\n",
            "fold 5 3.228642645660314\n",
            "MULTI WEIGHTED LOG LOSS : 3.23175 \n",
            "learning rate: 7.48e-02\n",
            "estimators: 2664\n",
            "max depth: 3\n"
          ],
          "name": "stdout"
        },
        {
          "output_type": "stream",
          "text": [
            "/usr/local/lib/python3.6/dist-packages/sklearn/preprocessing/label.py:219: DataConversionWarning: A column-vector y was passed when a 1d array was expected. Please change the shape of y to (n_samples, ), for example using ravel().\n",
            "  y = column_or_1d(y, warn=True)\n",
            "/usr/local/lib/python3.6/dist-packages/sklearn/preprocessing/label.py:252: DataConversionWarning: A column-vector y was passed when a 1d array was expected. Please change the shape of y to (n_samples, ), for example using ravel().\n",
            "  y = column_or_1d(y, warn=True)\n"
          ],
          "name": "stderr"
        },
        {
          "output_type": "stream",
          "text": [
            "fold 1 6.581715561571828\n",
            "fold 2 6.650117052680621\n",
            "fold 3 6.680443920160496\n",
            "fold 4 6.691675784533611\n",
            "fold 5 6.53361758640572\n",
            "MULTI WEIGHTED LOG LOSS : 6.62751 \n",
            "learning rate: 1.89e-04\n",
            "estimators: 327\n",
            "max depth: 2\n"
          ],
          "name": "stdout"
        },
        {
          "output_type": "stream",
          "text": [
            "/usr/local/lib/python3.6/dist-packages/sklearn/preprocessing/label.py:219: DataConversionWarning: A column-vector y was passed when a 1d array was expected. Please change the shape of y to (n_samples, ), for example using ravel().\n",
            "  y = column_or_1d(y, warn=True)\n",
            "/usr/local/lib/python3.6/dist-packages/sklearn/preprocessing/label.py:252: DataConversionWarning: A column-vector y was passed when a 1d array was expected. Please change the shape of y to (n_samples, ), for example using ravel().\n",
            "  y = column_or_1d(y, warn=True)\n"
          ],
          "name": "stderr"
        },
        {
          "output_type": "stream",
          "text": [
            "fold 1 3.2372317611093324\n",
            "fold 2 3.237330906724452\n",
            "fold 3 3.2363332762519397\n",
            "fold 4 3.232838070410781\n",
            "fold 5 3.23162096803928\n",
            "MULTI WEIGHTED LOG LOSS : 3.23508 \n",
            "learning rate: 1.36e-04\n",
            "estimators: 1491\n",
            "max depth: 4\n"
          ],
          "name": "stdout"
        },
        {
          "output_type": "stream",
          "text": [
            "/usr/local/lib/python3.6/dist-packages/sklearn/preprocessing/label.py:219: DataConversionWarning: A column-vector y was passed when a 1d array was expected. Please change the shape of y to (n_samples, ), for example using ravel().\n",
            "  y = column_or_1d(y, warn=True)\n",
            "/usr/local/lib/python3.6/dist-packages/sklearn/preprocessing/label.py:252: DataConversionWarning: A column-vector y was passed when a 1d array was expected. Please change the shape of y to (n_samples, ), for example using ravel().\n",
            "  y = column_or_1d(y, warn=True)\n"
          ],
          "name": "stderr"
        },
        {
          "output_type": "stream",
          "text": [
            "fold 1 3.263297125126227\n",
            "fold 2 3.263794021758346\n",
            "fold 3 3.262136199282202\n",
            "fold 4 3.258947560559827\n",
            "fold 5 3.256125854038667\n",
            "MULTI WEIGHTED LOG LOSS : 3.26087 \n",
            "CPU times: user 4h 36min 47s, sys: 1min 11s, total: 4h 37min 59s\n",
            "Wall time: 2h 20min 15s\n"
          ],
          "name": "stdout"
        }
      ]
    },
    {
      "cell_type": "code",
      "metadata": {
        "id": "tiRL1TFTBMkI",
        "colab_type": "code",
        "outputId": "77f530a0-c971-48fb-96d0-12fd4a64ca65",
        "colab": {
          "base_uri": "https://localhost:8080/",
          "height": 297
        }
      },
      "source": [
        " plot_convergence(search_result)\n",
        "plt.show()"
      ],
      "execution_count": 0,
      "outputs": [
        {
          "output_type": "display_data",
          "data": {
            "image/png": "[encoded data removed]",
            "text/plain": [
              "<Figure size 432x288 with 1 Axes>"
            ]
          },
          "metadata": {
            "tags": []
          }
        }
      ]
    },
    {
      "cell_type": "code",
      "metadata": {
        "id": "EXpWqH81txK2",
        "colab_type": "code",
        "outputId": "a1fdcce9-900b-4d1f-b188-596e73d5a2ef",
        "colab": {
          "base_uri": "https://localhost:8080/",
          "height": 35
        }
      },
      "source": [
        "# optimal parameters found using scikit optimize. use these parameter to initialize the 2nd level model.\n",
        "print(search_result.x)\n",
        "learning_rate = search_result.x[0]\n",
        "n_estimators = search_result.x[1]\n",
        "max_depth = search_result.x[2]\n"
      ],
      "execution_count": 0,
      "outputs": [
        {
          "output_type": "stream",
          "text": [
            "[4.618820172959631e-09, 1839, 1]\n"
          ],
          "name": "stdout"
        }
      ]
    },
    {
      "cell_type": "code",
      "metadata": {
        "id": "AK2JQ1uDt2wq",
        "colab_type": "code",
        "colab": {}
      },
      "source": [
        "op_h_p = [1e-08,50,4]"
      ],
      "execution_count": 0,
      "outputs": []
    },
    {
      "cell_type": "code",
      "metadata": {
        "id": "uWfPjpdquEjX",
        "colab_type": "code",
        "outputId": "6215570e-3bfb-4366-c9ba-e008ede075a1",
        "colab": {
          "base_uri": "https://localhost:8080/",
          "height": 287
        }
      },
      "source": [
        "joblib.dump(fitness(op_h_p),'model3')"
      ],
      "execution_count": 0,
      "outputs": [
        {
          "output_type": "stream",
          "text": [
            "learning rate: 1.00e-08\n",
            "estimators: 50\n",
            "max depth: 4\n"
          ],
          "name": "stdout"
        },
        {
          "output_type": "stream",
          "text": [
            "/usr/local/lib/python3.6/dist-packages/sklearn/preprocessing/label.py:219: DataConversionWarning: A column-vector y was passed when a 1d array was expected. Please change the shape of y to (n_samples, ), for example using ravel().\n",
            "  y = column_or_1d(y, warn=True)\n",
            "/usr/local/lib/python3.6/dist-packages/sklearn/preprocessing/label.py:252: DataConversionWarning: A column-vector y was passed when a 1d array was expected. Please change the shape of y to (n_samples, ), for example using ravel().\n",
            "  y = column_or_1d(y, warn=True)\n"
          ],
          "name": "stderr"
        },
        {
          "output_type": "stream",
          "text": [
            "fold 1 3.233802198532993\n",
            "fold 2 3.2329297943089426\n",
            "fold 3 3.232381535598546\n",
            "fold 4 3.2284338693273344\n",
            "fold 5 3.228228656466425\n",
            "MULTI WEIGHTED LOG LOSS : 3.23116 \n"
          ],
          "name": "stdout"
        },
        {
          "output_type": "execute_result",
          "data": {
            "text/plain": [
              "['model3']"
            ]
          },
          "metadata": {
            "tags": []
          },
          "execution_count": 35
        }
      ]
    },
    {
      "cell_type": "code",
      "metadata": {
        "id": "M6nRoqOAuOLa",
        "colab_type": "code",
        "outputId": "7dccd7d5-2e98-41b5-d644-838e94aa5f4f",
        "colab": {
          "base_uri": "https://localhost:8080/",
          "height": 1000
        }
      },
      "source": [
        "oof_preds = np.zeros((len(x_train), len(classes)))\n",
        "for fold_, (trn_, val_) in enumerate(folds.split(y_train, y_train)):\n",
        "    trn_x, trn_y = x_train.iloc[trn_], y_train.iloc[trn_]\n",
        "    val_x, val_y = x_train.iloc[val_], y_train.iloc[val_]\n",
        "    \n",
        "    clf = lgb.LGBMClassifier(**lgb_params,learning_rate=learning_rate,\n",
        "                                n_estimators=n_estimators,max_depth=max_depth)\n",
        "    clf.fit(\n",
        "        trn_x, trn_y,\n",
        "        eval_set=[(trn_x, trn_y), (val_x, val_y)],\n",
        "        eval_metric=lgb_multi_weighted_logloss,\n",
        "        verbose=100,\n",
        "        early_stopping_rounds=50\n",
        "    )\n",
        "\n",
        "\n",
        "\n",
        "    \n",
        "    oof_preds[val_, :] = clf.predict_proba(val_x, num_iteration=clf.best_iteration_)\n",
        "    print(multi_weighted_logloss(val_y, clf.predict_proba(val_x, num_iteration=clf.best_iteration_)))\n",
        "\n",
        "    clfs.append(clf)\n",
        "\n",
        "print('MULTI WEIGHTED LOG LOSS : %.5f ' % multi_weighted_logloss(y_true=y_train, y_preds=oof_preds))\n"
      ],
      "execution_count": 0,
      "outputs": [
        {
          "output_type": "stream",
          "text": [
            "/usr/local/lib/python3.6/dist-packages/sklearn/preprocessing/label.py:219: DataConversionWarning: A column-vector y was passed when a 1d array was expected. Please change the shape of y to (n_samples, ), for example using ravel().\n",
            "  y = column_or_1d(y, warn=True)\n",
            "/usr/local/lib/python3.6/dist-packages/sklearn/preprocessing/label.py:252: DataConversionWarning: A column-vector y was passed when a 1d array was expected. Please change the shape of y to (n_samples, ), for example using ravel().\n",
            "  y = column_or_1d(y, warn=True)\n"
          ],
          "name": "stderr"
        },
        {
          "output_type": "stream",
          "text": [
            "Training until validation scores don't improve for 50 rounds.\n",
            "[100]\ttraining's multi_logloss: 2.1755\ttraining's wloss: 3.2338\tvalid_1's multi_logloss: 2.18257\tvalid_1's wloss: 3.2338\n",
            "[200]\ttraining's multi_logloss: 2.1755\ttraining's wloss: 3.2338\tvalid_1's multi_logloss: 2.18257\tvalid_1's wloss: 3.2338\n",
            "[300]\ttraining's multi_logloss: 2.1755\ttraining's wloss: 3.2338\tvalid_1's multi_logloss: 2.18257\tvalid_1's wloss: 3.2338\n",
            "[400]\ttraining's multi_logloss: 2.1755\ttraining's wloss: 3.2338\tvalid_1's multi_logloss: 2.18257\tvalid_1's wloss: 3.2338\n",
            "[500]\ttraining's multi_logloss: 2.1755\ttraining's wloss: 3.2338\tvalid_1's multi_logloss: 2.18257\tvalid_1's wloss: 3.2338\n",
            "[600]\ttraining's multi_logloss: 2.1755\ttraining's wloss: 3.23379\tvalid_1's multi_logloss: 2.18257\tvalid_1's wloss: 3.2338\n",
            "[700]\ttraining's multi_logloss: 2.1755\ttraining's wloss: 3.23379\tvalid_1's multi_logloss: 2.18256\tvalid_1's wloss: 3.23379\n",
            "[800]\ttraining's multi_logloss: 2.1755\ttraining's wloss: 3.23379\tvalid_1's multi_logloss: 2.18256\tvalid_1's wloss: 3.23379\n",
            "[900]\ttraining's multi_logloss: 2.1755\ttraining's wloss: 3.23379\tvalid_1's multi_logloss: 2.18256\tvalid_1's wloss: 3.23379\n",
            "[1000]\ttraining's multi_logloss: 2.17549\ttraining's wloss: 3.23379\tvalid_1's multi_logloss: 2.18256\tvalid_1's wloss: 3.23379\n",
            "[1100]\ttraining's multi_logloss: 2.17549\ttraining's wloss: 3.23379\tvalid_1's multi_logloss: 2.18256\tvalid_1's wloss: 3.23379\n",
            "[1200]\ttraining's multi_logloss: 2.17549\ttraining's wloss: 3.23379\tvalid_1's multi_logloss: 2.18256\tvalid_1's wloss: 3.23379\n",
            "[1300]\ttraining's multi_logloss: 2.17549\ttraining's wloss: 3.23379\tvalid_1's multi_logloss: 2.18256\tvalid_1's wloss: 3.23379\n",
            "[1400]\ttraining's multi_logloss: 2.17549\ttraining's wloss: 3.23379\tvalid_1's multi_logloss: 2.18256\tvalid_1's wloss: 3.23379\n",
            "[1500]\ttraining's multi_logloss: 2.17549\ttraining's wloss: 3.23378\tvalid_1's multi_logloss: 2.18256\tvalid_1's wloss: 3.23378\n",
            "[1600]\ttraining's multi_logloss: 2.17549\ttraining's wloss: 3.23378\tvalid_1's multi_logloss: 2.18256\tvalid_1's wloss: 3.23378\n",
            "[1700]\ttraining's multi_logloss: 2.17549\ttraining's wloss: 3.23378\tvalid_1's multi_logloss: 2.18256\tvalid_1's wloss: 3.23378\n",
            "[1800]\ttraining's multi_logloss: 2.17549\ttraining's wloss: 3.23378\tvalid_1's multi_logloss: 2.18256\tvalid_1's wloss: 3.23378\n",
            "Did not meet early stopping. Best iteration is:\n",
            "[1839]\ttraining's multi_logloss: 2.17549\ttraining's wloss: 3.23378\tvalid_1's multi_logloss: 2.18256\tvalid_1's wloss: 3.23378\n",
            "3.2338022740976946\n",
            "Training until validation scores don't improve for 50 rounds.\n",
            "[100]\ttraining's multi_logloss: 2.17623\ttraining's wloss: 3.23293\tvalid_1's multi_logloss: 2.17968\tvalid_1's wloss: 3.23293\n",
            "[200]\ttraining's multi_logloss: 2.17623\ttraining's wloss: 3.23293\tvalid_1's multi_logloss: 2.17968\tvalid_1's wloss: 3.23293\n",
            "[300]\ttraining's multi_logloss: 2.17623\ttraining's wloss: 3.23293\tvalid_1's multi_logloss: 2.17968\tvalid_1's wloss: 3.23293\n",
            "[400]\ttraining's multi_logloss: 2.17623\ttraining's wloss: 3.23292\tvalid_1's multi_logloss: 2.17968\tvalid_1's wloss: 3.23293\n",
            "[500]\ttraining's multi_logloss: 2.17623\ttraining's wloss: 3.23292\tvalid_1's multi_logloss: 2.17967\tvalid_1's wloss: 3.23292\n",
            "[600]\ttraining's multi_logloss: 2.17623\ttraining's wloss: 3.23292\tvalid_1's multi_logloss: 2.17967\tvalid_1's wloss: 3.23292\n",
            "[700]\ttraining's multi_logloss: 2.17622\ttraining's wloss: 3.23292\tvalid_1's multi_logloss: 2.17967\tvalid_1's wloss: 3.23292\n",
            "[800]\ttraining's multi_logloss: 2.17622\ttraining's wloss: 3.23292\tvalid_1's multi_logloss: 2.17967\tvalid_1's wloss: 3.23292\n",
            "[900]\ttraining's multi_logloss: 2.17622\ttraining's wloss: 3.23292\tvalid_1's multi_logloss: 2.17967\tvalid_1's wloss: 3.23292\n",
            "[1000]\ttraining's multi_logloss: 2.17622\ttraining's wloss: 3.23292\tvalid_1's multi_logloss: 2.17967\tvalid_1's wloss: 3.23292\n",
            "[1100]\ttraining's multi_logloss: 2.17622\ttraining's wloss: 3.23292\tvalid_1's multi_logloss: 2.17967\tvalid_1's wloss: 3.23292\n",
            "[1200]\ttraining's multi_logloss: 2.17622\ttraining's wloss: 3.23292\tvalid_1's multi_logloss: 2.17967\tvalid_1's wloss: 3.23292\n",
            "[1300]\ttraining's multi_logloss: 2.17622\ttraining's wloss: 3.23291\tvalid_1's multi_logloss: 2.17967\tvalid_1's wloss: 3.23291\n",
            "[1400]\ttraining's multi_logloss: 2.17622\ttraining's wloss: 3.23291\tvalid_1's multi_logloss: 2.17967\tvalid_1's wloss: 3.23291\n",
            "[1500]\ttraining's multi_logloss: 2.17622\ttraining's wloss: 3.23291\tvalid_1's multi_logloss: 2.17967\tvalid_1's wloss: 3.23291\n",
            "[1600]\ttraining's multi_logloss: 2.17622\ttraining's wloss: 3.23291\tvalid_1's multi_logloss: 2.17967\tvalid_1's wloss: 3.23291\n",
            "[1700]\ttraining's multi_logloss: 2.17622\ttraining's wloss: 3.23291\tvalid_1's multi_logloss: 2.17967\tvalid_1's wloss: 3.23291\n",
            "[1800]\ttraining's multi_logloss: 2.17622\ttraining's wloss: 3.23291\tvalid_1's multi_logloss: 2.17966\tvalid_1's wloss: 3.23291\n",
            "Did not meet early stopping. Best iteration is:\n",
            "[1839]\ttraining's multi_logloss: 2.17622\ttraining's wloss: 3.23291\tvalid_1's multi_logloss: 2.17966\tvalid_1's wloss: 3.23291\n",
            "3.232929953438124\n",
            "Training until validation scores don't improve for 50 rounds.\n",
            "[100]\ttraining's multi_logloss: 2.17699\ttraining's wloss: 3.23238\tvalid_1's multi_logloss: 2.17664\tvalid_1's wloss: 3.23238\n",
            "[200]\ttraining's multi_logloss: 2.17699\ttraining's wloss: 3.23238\tvalid_1's multi_logloss: 2.17664\tvalid_1's wloss: 3.23238\n",
            "[300]\ttraining's multi_logloss: 2.17699\ttraining's wloss: 3.23238\tvalid_1's multi_logloss: 2.17664\tvalid_1's wloss: 3.23238\n",
            "[400]\ttraining's multi_logloss: 2.17699\ttraining's wloss: 3.23238\tvalid_1's multi_logloss: 2.17664\tvalid_1's wloss: 3.23238\n",
            "[500]\ttraining's multi_logloss: 2.17699\ttraining's wloss: 3.23238\tvalid_1's multi_logloss: 2.17664\tvalid_1's wloss: 3.23238\n",
            "[600]\ttraining's multi_logloss: 2.17699\ttraining's wloss: 3.23237\tvalid_1's multi_logloss: 2.17664\tvalid_1's wloss: 3.23237\n",
            "[700]\ttraining's multi_logloss: 2.17699\ttraining's wloss: 3.23237\tvalid_1's multi_logloss: 2.17664\tvalid_1's wloss: 3.23237\n",
            "[800]\ttraining's multi_logloss: 2.17699\ttraining's wloss: 3.23237\tvalid_1's multi_logloss: 2.17663\tvalid_1's wloss: 3.23237\n",
            "[900]\ttraining's multi_logloss: 2.17698\ttraining's wloss: 3.23237\tvalid_1's multi_logloss: 2.17663\tvalid_1's wloss: 3.23237\n",
            "[1000]\ttraining's multi_logloss: 2.17698\ttraining's wloss: 3.23237\tvalid_1's multi_logloss: 2.17663\tvalid_1's wloss: 3.23237\n",
            "[1100]\ttraining's multi_logloss: 2.17698\ttraining's wloss: 3.23237\tvalid_1's multi_logloss: 2.17663\tvalid_1's wloss: 3.23237\n",
            "[1200]\ttraining's multi_logloss: 2.17698\ttraining's wloss: 3.23237\tvalid_1's multi_logloss: 2.17663\tvalid_1's wloss: 3.23237\n",
            "[1300]\ttraining's multi_logloss: 2.17698\ttraining's wloss: 3.23237\tvalid_1's multi_logloss: 2.17663\tvalid_1's wloss: 3.23237\n",
            "[1400]\ttraining's multi_logloss: 2.17698\ttraining's wloss: 3.23236\tvalid_1's multi_logloss: 2.17663\tvalid_1's wloss: 3.23237\n",
            "[1500]\ttraining's multi_logloss: 2.17698\ttraining's wloss: 3.23236\tvalid_1's multi_logloss: 2.17663\tvalid_1's wloss: 3.23236\n",
            "[1600]\ttraining's multi_logloss: 2.17698\ttraining's wloss: 3.23236\tvalid_1's multi_logloss: 2.17663\tvalid_1's wloss: 3.23236\n",
            "[1700]\ttraining's multi_logloss: 2.17698\ttraining's wloss: 3.23236\tvalid_1's multi_logloss: 2.17663\tvalid_1's wloss: 3.23236\n",
            "[1800]\ttraining's multi_logloss: 2.17698\ttraining's wloss: 3.23236\tvalid_1's multi_logloss: 2.17663\tvalid_1's wloss: 3.23236\n",
            "Did not meet early stopping. Best iteration is:\n",
            "[1839]\ttraining's multi_logloss: 2.17698\ttraining's wloss: 3.23236\tvalid_1's multi_logloss: 2.17663\tvalid_1's wloss: 3.23236\n",
            "3.2323816201602087\n",
            "Training until validation scores don't improve for 50 rounds.\n",
            "[100]\ttraining's multi_logloss: 2.17787\ttraining's wloss: 3.22843\tvalid_1's multi_logloss: 2.17313\tvalid_1's wloss: 3.22843\n",
            "[200]\ttraining's multi_logloss: 2.17787\ttraining's wloss: 3.22843\tvalid_1's multi_logloss: 2.17312\tvalid_1's wloss: 3.22843\n",
            "[300]\ttraining's multi_logloss: 2.17787\ttraining's wloss: 3.22843\tvalid_1's multi_logloss: 2.17312\tvalid_1's wloss: 3.22843\n",
            "[400]\ttraining's multi_logloss: 2.17786\ttraining's wloss: 3.22843\tvalid_1's multi_logloss: 2.17312\tvalid_1's wloss: 3.22843\n",
            "[500]\ttraining's multi_logloss: 2.17786\ttraining's wloss: 3.22843\tvalid_1's multi_logloss: 2.17312\tvalid_1's wloss: 3.22843\n",
            "[600]\ttraining's multi_logloss: 2.17786\ttraining's wloss: 3.22843\tvalid_1's multi_logloss: 2.17312\tvalid_1's wloss: 3.22843\n",
            "[700]\ttraining's multi_logloss: 2.17786\ttraining's wloss: 3.22843\tvalid_1's multi_logloss: 2.17312\tvalid_1's wloss: 3.22843\n",
            "[800]\ttraining's multi_logloss: 2.17786\ttraining's wloss: 3.22842\tvalid_1's multi_logloss: 2.17312\tvalid_1's wloss: 3.22842\n",
            "[900]\ttraining's multi_logloss: 2.17786\ttraining's wloss: 3.22842\tvalid_1's multi_logloss: 2.17312\tvalid_1's wloss: 3.22842\n",
            "[1000]\ttraining's multi_logloss: 2.17786\ttraining's wloss: 3.22842\tvalid_1's multi_logloss: 2.17312\tvalid_1's wloss: 3.22842\n",
            "[1100]\ttraining's multi_logloss: 2.17786\ttraining's wloss: 3.22842\tvalid_1's multi_logloss: 2.17312\tvalid_1's wloss: 3.22842\n",
            "[1200]\ttraining's multi_logloss: 2.17786\ttraining's wloss: 3.22842\tvalid_1's multi_logloss: 2.17312\tvalid_1's wloss: 3.22842\n",
            "[1300]\ttraining's multi_logloss: 2.17786\ttraining's wloss: 3.22842\tvalid_1's multi_logloss: 2.17312\tvalid_1's wloss: 3.22842\n",
            "[1400]\ttraining's multi_logloss: 2.17786\ttraining's wloss: 3.22842\tvalid_1's multi_logloss: 2.17312\tvalid_1's wloss: 3.22842\n",
            "[1500]\ttraining's multi_logloss: 2.17786\ttraining's wloss: 3.22842\tvalid_1's multi_logloss: 2.17311\tvalid_1's wloss: 3.22842\n",
            "[1600]\ttraining's multi_logloss: 2.17786\ttraining's wloss: 3.22841\tvalid_1's multi_logloss: 2.17311\tvalid_1's wloss: 3.22841\n",
            "[1700]\ttraining's multi_logloss: 2.17785\ttraining's wloss: 3.22841\tvalid_1's multi_logloss: 2.17311\tvalid_1's wloss: 3.22841\n",
            "[1800]\ttraining's multi_logloss: 2.17785\ttraining's wloss: 3.22841\tvalid_1's multi_logloss: 2.17311\tvalid_1's wloss: 3.22841\n",
            "Did not meet early stopping. Best iteration is:\n",
            "[1839]\ttraining's multi_logloss: 2.17785\ttraining's wloss: 3.22841\tvalid_1's multi_logloss: 2.17311\tvalid_1's wloss: 3.22841\n",
            "3.2284339749626523\n",
            "Training until validation scores don't improve for 50 rounds.\n",
            "[100]\ttraining's multi_logloss: 2.17799\ttraining's wloss: 3.22823\tvalid_1's multi_logloss: 2.17263\tvalid_1's wloss: 3.22823\n",
            "[200]\ttraining's multi_logloss: 2.17799\ttraining's wloss: 3.22823\tvalid_1's multi_logloss: 2.17263\tvalid_1's wloss: 3.22823\n",
            "[300]\ttraining's multi_logloss: 2.17799\ttraining's wloss: 3.22823\tvalid_1's multi_logloss: 2.17263\tvalid_1's wloss: 3.22823\n",
            "[400]\ttraining's multi_logloss: 2.17799\ttraining's wloss: 3.22822\tvalid_1's multi_logloss: 2.17263\tvalid_1's wloss: 3.22822\n",
            "[500]\ttraining's multi_logloss: 2.17799\ttraining's wloss: 3.22822\tvalid_1's multi_logloss: 2.17262\tvalid_1's wloss: 3.22822\n",
            "[600]\ttraining's multi_logloss: 2.17799\ttraining's wloss: 3.22822\tvalid_1's multi_logloss: 2.17262\tvalid_1's wloss: 3.22822\n",
            "[700]\ttraining's multi_logloss: 2.17798\ttraining's wloss: 3.22822\tvalid_1's multi_logloss: 2.17262\tvalid_1's wloss: 3.22822\n",
            "[800]\ttraining's multi_logloss: 2.17798\ttraining's wloss: 3.22822\tvalid_1's multi_logloss: 2.17262\tvalid_1's wloss: 3.22822\n",
            "[900]\ttraining's multi_logloss: 2.17798\ttraining's wloss: 3.22822\tvalid_1's multi_logloss: 2.17262\tvalid_1's wloss: 3.22822\n",
            "[1000]\ttraining's multi_logloss: 2.17798\ttraining's wloss: 3.22822\tvalid_1's multi_logloss: 2.17262\tvalid_1's wloss: 3.22822\n",
            "[1100]\ttraining's multi_logloss: 2.17798\ttraining's wloss: 3.22822\tvalid_1's multi_logloss: 2.17262\tvalid_1's wloss: 3.22822\n",
            "[1200]\ttraining's multi_logloss: 2.17798\ttraining's wloss: 3.22821\tvalid_1's multi_logloss: 2.17262\tvalid_1's wloss: 3.22821\n",
            "[1300]\ttraining's multi_logloss: 2.17798\ttraining's wloss: 3.22821\tvalid_1's multi_logloss: 2.17262\tvalid_1's wloss: 3.22821\n",
            "[1400]\ttraining's multi_logloss: 2.17798\ttraining's wloss: 3.22821\tvalid_1's multi_logloss: 2.17262\tvalid_1's wloss: 3.22821\n",
            "[1500]\ttraining's multi_logloss: 2.17798\ttraining's wloss: 3.22821\tvalid_1's multi_logloss: 2.17262\tvalid_1's wloss: 3.22821\n",
            "[1600]\ttraining's multi_logloss: 2.17798\ttraining's wloss: 3.22821\tvalid_1's multi_logloss: 2.17262\tvalid_1's wloss: 3.22821\n",
            "[1700]\ttraining's multi_logloss: 2.17798\ttraining's wloss: 3.22821\tvalid_1's multi_logloss: 2.17262\tvalid_1's wloss: 3.22821\n",
            "[1800]\ttraining's multi_logloss: 2.17798\ttraining's wloss: 3.22821\tvalid_1's multi_logloss: 2.17261\tvalid_1's wloss: 3.22821\n",
            "Did not meet early stopping. Best iteration is:\n",
            "[1839]\ttraining's multi_logloss: 2.17798\ttraining's wloss: 3.22821\tvalid_1's multi_logloss: 2.17261\tvalid_1's wloss: 3.22821\n",
            "3.2282286461343985\n",
            "MULTI WEIGHTED LOG LOSS : 3.23116 \n"
          ],
          "name": "stdout"
        }
      ]
    },
    {
      "cell_type": "code",
      "metadata": {
        "id": "NuARuuVluUfw",
        "colab_type": "code",
        "outputId": "e94045c5-05f5-49fd-a47c-4326a0c65c43",
        "colab": {
          "base_uri": "https://localhost:8080/",
          "height": 267
        }
      },
      "source": [
        "print(oof_preds.shape)\n",
        "oof_preds"
      ],
      "execution_count": 0,
      "outputs": [
        {
          "output_type": "stream",
          "text": [
            "(5886, 14)\n"
          ],
          "name": "stdout"
        },
        {
          "output_type": "execute_result",
          "data": {
            "text/plain": [
              "array([[0.01972832, 0.06364146, 0.11752143, ..., 0.29359385, 0.03139561,\n",
              "        0.02142669],\n",
              "       [0.01974932, 0.06349678, 0.11764639, ..., 0.29390619, 0.03142899,\n",
              "        0.02144818],\n",
              "       [0.01973261, 0.06344129, 0.11754683, ..., 0.29365732, 0.03140239,\n",
              "        0.02143002],\n",
              "       ...,\n",
              "       [0.01974942, 0.06349533, 0.11764694, ..., 0.29390484, 0.03142914,\n",
              "        0.02144828],\n",
              "       [0.01974938, 0.063497  , 0.11764671, ..., 0.29390435, 0.03142908,\n",
              "        0.02144824],\n",
              "       [0.01976615, 0.06354921, 0.11753422, ..., 0.29415669, 0.0314558 ,\n",
              "        0.02146647]])"
            ]
          },
          "metadata": {
            "tags": []
          },
          "execution_count": 39
        }
      ]
    },
    {
      "cell_type": "code",
      "metadata": {
        "id": "E0Tte7L2wdT0",
        "colab_type": "code",
        "colab": {}
      },
      "source": [
        "preds = None\n",
        "for clf in clfs:\n",
        "    if preds is None:\n",
        "        preds = clf.predict_proba(x_test[x_train.columns]) / folds.n_splits\n",
        "    else:\n",
        "        preds += clf.predict_proba(x_test[x_train.columns]) / folds.n_splits\n",
        "    \n",
        "\n",
        "    \n",
        "# Store predictions\n",
        "preds_df = pd.DataFrame(preds, columns=['class_' + str(s) for s in clfs[0].classes_])\n",
        "\n"
      ],
      "execution_count": 0,
      "outputs": []
    },
    {
      "cell_type": "code",
      "metadata": {
        "id": "w9S85GU1wgs1",
        "colab_type": "code",
        "outputId": "82914124-01c8-4992-c989-706c7dc79608",
        "colab": {
          "base_uri": "https://localhost:8080/",
          "height": 224
        }
      },
      "source": [
        "print(preds_df.shape)\n",
        "preds_df.head()"
      ],
      "execution_count": 0,
      "outputs": [
        {
          "output_type": "stream",
          "text": [
            "(1962, 14)\n"
          ],
          "name": "stdout"
        },
        {
          "output_type": "execute_result",
          "data": {
            "text/html": [
              "<div>\n",
              "<style scoped>\n",
              "    .dataframe tbody tr th:only-of-type {\n",
              "        vertical-align: middle;\n",
              "    }\n",
              "\n",
              "    .dataframe tbody tr th {\n",
              "        vertical-align: top;\n",
              "    }\n",
              "\n",
              "    .dataframe thead th {\n",
              "        text-align: right;\n",
              "    }\n",
              "</style>\n",
              "<table border=\"1\" class=\"dataframe\">\n",
              "  <thead>\n",
              "    <tr style=\"text-align: right;\">\n",
              "      <th></th>\n",
              "      <th>class_6</th>\n",
              "      <th>class_15</th>\n",
              "      <th>class_16</th>\n",
              "      <th>class_42</th>\n",
              "      <th>class_52</th>\n",
              "      <th>class_53</th>\n",
              "      <th>class_62</th>\n",
              "      <th>class_64</th>\n",
              "      <th>class_65</th>\n",
              "      <th>class_67</th>\n",
              "      <th>class_88</th>\n",
              "      <th>class_90</th>\n",
              "      <th>class_92</th>\n",
              "      <th>class_95</th>\n",
              "    </tr>\n",
              "  </thead>\n",
              "  <tbody>\n",
              "    <tr>\n",
              "      <th>0</th>\n",
              "      <td>0.201888</td>\n",
              "      <td>0.644103</td>\n",
              "      <td>1.191709</td>\n",
              "      <td>2.003967</td>\n",
              "      <td>0.312917</td>\n",
              "      <td>0.031867</td>\n",
              "      <td>0.686778</td>\n",
              "      <td>0.138443</td>\n",
              "      <td>1.276563</td>\n",
              "      <td>0.318006</td>\n",
              "      <td>0.464247</td>\n",
              "      <td>6.193396</td>\n",
              "      <td>0.318643</td>\n",
              "      <td>0.217474</td>\n",
              "    </tr>\n",
              "    <tr>\n",
              "      <th>1</th>\n",
              "      <td>0.217493</td>\n",
              "      <td>0.630749</td>\n",
              "      <td>5.187631</td>\n",
              "      <td>1.508563</td>\n",
              "      <td>0.225435</td>\n",
              "      <td>0.035766</td>\n",
              "      <td>0.635495</td>\n",
              "      <td>0.135556</td>\n",
              "      <td>1.269807</td>\n",
              "      <td>0.277201</td>\n",
              "      <td>0.455735</td>\n",
              "      <td>2.894137</td>\n",
              "      <td>0.313320</td>\n",
              "      <td>0.213112</td>\n",
              "    </tr>\n",
              "    <tr>\n",
              "      <th>2</th>\n",
              "      <td>0.202045</td>\n",
              "      <td>0.657334</td>\n",
              "      <td>1.193092</td>\n",
              "      <td>1.984523</td>\n",
              "      <td>0.321404</td>\n",
              "      <td>0.034092</td>\n",
              "      <td>0.761823</td>\n",
              "      <td>0.139235</td>\n",
              "      <td>1.273110</td>\n",
              "      <td>0.350457</td>\n",
              "      <td>0.466788</td>\n",
              "      <td>6.076173</td>\n",
              "      <td>0.320800</td>\n",
              "      <td>0.219126</td>\n",
              "    </tr>\n",
              "    <tr>\n",
              "      <th>3</th>\n",
              "      <td>0.200871</td>\n",
              "      <td>0.641028</td>\n",
              "      <td>1.179546</td>\n",
              "      <td>2.024472</td>\n",
              "      <td>0.296268</td>\n",
              "      <td>0.031570</td>\n",
              "      <td>0.702160</td>\n",
              "      <td>0.182754</td>\n",
              "      <td>1.258979</td>\n",
              "      <td>0.350065</td>\n",
              "      <td>0.477579</td>\n",
              "      <td>6.111820</td>\n",
              "      <td>0.316818</td>\n",
              "      <td>0.226072</td>\n",
              "    </tr>\n",
              "    <tr>\n",
              "      <th>4</th>\n",
              "      <td>0.204065</td>\n",
              "      <td>0.655085</td>\n",
              "      <td>1.198180</td>\n",
              "      <td>2.128161</td>\n",
              "      <td>0.527963</td>\n",
              "      <td>0.034523</td>\n",
              "      <td>0.880167</td>\n",
              "      <td>0.140375</td>\n",
              "      <td>1.278959</td>\n",
              "      <td>0.349319</td>\n",
              "      <td>0.471825</td>\n",
              "      <td>5.586423</td>\n",
              "      <td>0.323155</td>\n",
              "      <td>0.221800</td>\n",
              "    </tr>\n",
              "  </tbody>\n",
              "</table>\n",
              "</div>"
            ],
            "text/plain": [
              "    class_6  class_15  class_16  ...  class_90  class_92  class_95\n",
              "0  0.201888  0.644103  1.191709  ...  6.193396  0.318643  0.217474\n",
              "1  0.217493  0.630749  5.187631  ...  2.894137  0.313320  0.213112\n",
              "2  0.202045  0.657334  1.193092  ...  6.076173  0.320800  0.219126\n",
              "3  0.200871  0.641028  1.179546  ...  6.111820  0.316818  0.226072\n",
              "4  0.204065  0.655085  1.198180  ...  5.586423  0.323155  0.221800\n",
              "\n",
              "[5 rows x 14 columns]"
            ]
          },
          "metadata": {
            "tags": []
          },
          "execution_count": 44
        }
      ]
    },
    {
      "cell_type": "code",
      "metadata": {
        "id": "6R8Z2FNLJg1x",
        "colab_type": "code",
        "outputId": "ba598a7f-5230-494f-aa90-f717a65a415e",
        "colab": {
          "base_uri": "https://localhost:8080/",
          "height": 142
        }
      },
      "source": [
        "y_test.values"
      ],
      "execution_count": 0,
      "outputs": [
        {
          "output_type": "execute_result",
          "data": {
            "text/plain": [
              "array([[90],\n",
              "       [16],\n",
              "       [90],\n",
              "       ...,\n",
              "       [88],\n",
              "       [42],\n",
              "       [88]])"
            ]
          },
          "metadata": {
            "tags": []
          },
          "execution_count": 47
        }
      ]
    },
    {
      "cell_type": "code",
      "metadata": {
        "id": "6Hh3zECAxSAu",
        "colab_type": "code",
        "colab": {}
      },
      "source": [
        "\n",
        "def plot_confusion_matrix(cm, classes,\n",
        "                          normalize=False,\n",
        "                          title='Confusion matrix',\n",
        "                          cmap=plt.cm.Blues):\n",
        "    \"\"\"\n",
        "    This function prints and plots the confusion matrix.\n",
        "    Normalization can be applied by setting `normalize=True`.\n",
        "    \"\"\"\n",
        "    if normalize:\n",
        "        cm = cm.astype('float') / cm.sum(axis=1)[:, np.newaxis]\n",
        "        print(\"Normalized confusion matrix\")\n",
        "    else:\n",
        "        print('Confusion matrix, without normalization')\n",
        "\n",
        "    print(cm)\n",
        "    \n",
        "    plt.imshow(cm, interpolation='nearest', cmap=cmap)\n",
        "    plt.title(title)\n",
        "    plt.colorbar()\n",
        "    tick_marks = np.arange(len(classes))\n",
        "    plt.xticks(tick_marks, classes, rotation=45)\n",
        "    plt.yticks(tick_marks, classes)\n",
        "\n",
        "    fmt = '.2f' if normalize else 'd'\n",
        "    thresh = cm.max() / 2.\n",
        "    for i, j in itertools.product(range(cm.shape[0]), range(cm.shape[1])):\n",
        "        plt.text(j, i, format(cm[i, j], fmt),\n",
        "                 horizontalalignment=\"center\",\n",
        "                 color=\"white\" if cm[i, j] > thresh else \"black\")\n",
        "\n",
        "    plt.ylabel('True label')\n",
        "    plt.xlabel('Predicted label')\n",
        "    plt.tight_layout()"
      ],
      "execution_count": 0,
      "outputs": []
    },
    {
      "cell_type": "code",
      "metadata": {
        "id": "edI8osgZxWXf",
        "colab_type": "code",
        "outputId": "55761804-8952-43a1-cc36-b04d1593b6b9",
        "colab": {
          "base_uri": "https://localhost:8080/",
          "height": 206
        }
      },
      "source": [
        "y_test.head()"
      ],
      "execution_count": 0,
      "outputs": [
        {
          "output_type": "execute_result",
          "data": {
            "text/html": [
              "<div>\n",
              "<style scoped>\n",
              "    .dataframe tbody tr th:only-of-type {\n",
              "        vertical-align: middle;\n",
              "    }\n",
              "\n",
              "    .dataframe tbody tr th {\n",
              "        vertical-align: top;\n",
              "    }\n",
              "\n",
              "    .dataframe thead th {\n",
              "        text-align: right;\n",
              "    }\n",
              "</style>\n",
              "<table border=\"1\" class=\"dataframe\">\n",
              "  <thead>\n",
              "    <tr style=\"text-align: right;\">\n",
              "      <th></th>\n",
              "      <th>target</th>\n",
              "    </tr>\n",
              "  </thead>\n",
              "  <tbody>\n",
              "    <tr>\n",
              "      <th>0</th>\n",
              "      <td>90</td>\n",
              "    </tr>\n",
              "    <tr>\n",
              "      <th>1</th>\n",
              "      <td>16</td>\n",
              "    </tr>\n",
              "    <tr>\n",
              "      <th>2</th>\n",
              "      <td>90</td>\n",
              "    </tr>\n",
              "    <tr>\n",
              "      <th>3</th>\n",
              "      <td>90</td>\n",
              "    </tr>\n",
              "    <tr>\n",
              "      <th>4</th>\n",
              "      <td>52</td>\n",
              "    </tr>\n",
              "  </tbody>\n",
              "</table>\n",
              "</div>"
            ],
            "text/plain": [
              "   target\n",
              "0      90\n",
              "1      16\n",
              "2      90\n",
              "3      90\n",
              "4      52"
            ]
          },
          "metadata": {
            "tags": []
          },
          "execution_count": 49
        }
      ]
    },
    {
      "cell_type": "code",
      "metadata": {
        "id": "4gy91HKY0Wt9",
        "colab_type": "code",
        "outputId": "d6abc929-3318-4342-bf0d-f819016988d4",
        "colab": {
          "base_uri": "https://localhost:8080/",
          "height": 124
        }
      },
      "source": [
        "y_test = y_test['target']\n",
        "y_test.head()"
      ],
      "execution_count": 0,
      "outputs": [
        {
          "output_type": "execute_result",
          "data": {
            "text/plain": [
              "0    90\n",
              "1    16\n",
              "2    90\n",
              "3    90\n",
              "4    52\n",
              "Name: target, dtype: int64"
            ]
          },
          "metadata": {
            "tags": []
          },
          "execution_count": 50
        }
      ]
    },
    {
      "cell_type": "code",
      "metadata": {
        "id": "I50UyIcJxaJg",
        "colab_type": "code",
        "outputId": "88fba034-8bad-4d9a-f74b-5db4cc42d40b",
        "colab": {
          "base_uri": "https://localhost:8080/",
          "height": 35
        }
      },
      "source": [
        "preds.shape"
      ],
      "execution_count": 0,
      "outputs": [
        {
          "output_type": "execute_result",
          "data": {
            "text/plain": [
              "(1962, 14)"
            ]
          },
          "metadata": {
            "tags": []
          },
          "execution_count": 51
        }
      ]
    },
    {
      "cell_type": "code",
      "metadata": {
        "id": "rASRv8mvJ1Zj",
        "colab_type": "code",
        "outputId": "e73246e0-53fc-4124-e26c-36f609a37232",
        "colab": {
          "base_uri": "https://localhost:8080/",
          "height": 249
        }
      },
      "source": [
        "preds"
      ],
      "execution_count": 0,
      "outputs": [
        {
          "output_type": "execute_result",
          "data": {
            "text/plain": [
              "array([[0.20188771, 0.64410277, 1.19170865, ..., 6.19339555, 0.31864268,\n",
              "        0.21747427],\n",
              "       [0.21749252, 0.63074896, 5.1876311 , ..., 2.89413731, 0.31332006,\n",
              "        0.21311247],\n",
              "       [0.20204464, 0.65733375, 1.19309206, ..., 6.07617251, 0.32079983,\n",
              "        0.21912621],\n",
              "       ...,\n",
              "       [0.19525271, 0.62549175, 1.16202204, ..., 3.00211964, 0.30972456,\n",
              "        0.22010762],\n",
              "       [0.19642636, 0.63981716, 1.16465754, ..., 3.63151344, 0.31260864,\n",
              "        0.21317771],\n",
              "       [0.24728645, 0.61483154, 1.25450376, ..., 2.95124886, 0.3324049 ,\n",
              "        0.3035069 ]])"
            ]
          },
          "metadata": {
            "tags": []
          },
          "execution_count": 53
        }
      ]
    },
    {
      "cell_type": "code",
      "metadata": {
        "id": "HWdK3QewxdVO",
        "colab_type": "code",
        "outputId": "0719499a-4e42-4186-ddee-aaa71506d5e8",
        "colab": {
          "base_uri": "https://localhost:8080/",
          "height": 160
        }
      },
      "source": [
        "y_d = pd.get_dummies(y_test)\n",
        "print(y_d.shape)\n",
        "y_d.values"
      ],
      "execution_count": 0,
      "outputs": [
        {
          "output_type": "stream",
          "text": [
            "(1962, 14)\n"
          ],
          "name": "stdout"
        },
        {
          "output_type": "execute_result",
          "data": {
            "text/plain": [
              "array([[0, 0, 0, ..., 1, 0, 0],\n",
              "       [0, 0, 1, ..., 0, 0, 0],\n",
              "       [0, 0, 0, ..., 1, 0, 0],\n",
              "       ...,\n",
              "       [0, 0, 0, ..., 0, 0, 0],\n",
              "       [0, 0, 0, ..., 0, 0, 0],\n",
              "       [0, 0, 0, ..., 0, 0, 0]], dtype=uint8)"
            ]
          },
          "metadata": {
            "tags": []
          },
          "execution_count": 52
        }
      ]
    },
    {
      "cell_type": "code",
      "metadata": {
        "id": "hIPwYfDFxf5y",
        "colab_type": "code",
        "colab": {}
      },
      "source": [
        "# Compute confusion matrix\n",
        "cnf_matrix = confusion_matrix(np.argmax(y_d.values,axis=-1), np.argmax(preds,axis=-1))\n",
        "np.set_printoptions(precision=2)\n"
      ],
      "execution_count": 0,
      "outputs": []
    },
    {
      "cell_type": "code",
      "metadata": {
        "id": "nfH3CPtqxmki",
        "colab_type": "code",
        "outputId": "93903982-fa61-4e0e-c3f7-d18a5833b200",
        "colab": {
          "base_uri": "https://localhost:8080/",
          "height": 1000
        }
      },
      "source": [
        "# Plot non-normalized confusion matrix\n",
        "plt.figure(figsize=(12,12))\n",
        "foo = plot_confusion_matrix(cnf_matrix, classes,normalize=True,\n",
        "                      title='Confusion matrix')\n"
      ],
      "execution_count": 0,
      "outputs": [
        {
          "output_type": "stream",
          "text": [
            "Normalized confusion matrix\n",
            "[[0.89 0.   0.   0.   0.   0.   0.   0.   0.   0.   0.   0.11 0.   0.  ]\n",
            " [0.   0.93 0.   0.   0.   0.   0.   0.   0.   0.   0.   0.07 0.   0.  ]\n",
            " [0.   0.   1.   0.   0.   0.   0.   0.   0.   0.   0.   0.   0.   0.  ]\n",
            " [0.   0.   0.   0.47 0.   0.   0.   0.   0.   0.   0.   0.53 0.   0.  ]\n",
            " [0.   0.   0.   0.   0.   0.   0.   0.   0.   0.   0.   1.   0.   0.  ]\n",
            " [0.   0.   0.   0.   0.   0.   0.   0.   0.   0.   0.   1.   0.   0.  ]\n",
            " [0.   0.   0.   0.01 0.   0.   0.62 0.   0.   0.   0.   0.38 0.   0.  ]\n",
            " [0.   0.   0.   0.   0.   0.   0.   0.64 0.   0.   0.   0.36 0.   0.  ]\n",
            " [0.   0.   0.   0.   0.   0.   0.   0.   1.   0.   0.   0.   0.   0.  ]\n",
            " [0.   0.   0.   0.   0.   0.   0.   0.   0.   0.   0.   1.   0.   0.  ]\n",
            " [0.   0.   0.   0.   0.   0.   0.   0.   0.   0.   0.88 0.12 0.   0.  ]\n",
            " [0.   0.   0.   0.   0.   0.   0.   0.   0.   0.   0.   1.   0.   0.  ]\n",
            " [0.   0.   0.02 0.   0.   0.   0.   0.   0.   0.   0.   0.02 0.96 0.  ]\n",
            " [0.   0.   0.   0.   0.   0.   0.   0.   0.   0.   0.   0.18 0.   0.82]]\n"
          ],
          "name": "stdout"
        },
        {
          "output_type": "display_data",
          "data": {
            "image/png": "[encoded data removed]",
            "text/plain": [
              "<Figure size 864x864 with 2 Axes>"
            ]
          },
          "metadata": {
            "tags": []
          }
        }
      ]
    },
    {
      "cell_type": "code",
      "metadata": {
        "id": "7gsuxDgKxvcL",
        "colab_type": "code",
        "colab": {}
      },
      "source": [
        "def accuracy(confusion_matrix):\n",
        "    diagonal_sum = np.trace(cnf_matrix)\n",
        "    sum_of_all_elements = np.sum(cnf_matrix)\n",
        "    return diagonal_sum / sum_of_all_elements \n"
      ],
      "execution_count": 0,
      "outputs": []
    },
    {
      "cell_type": "code",
      "metadata": {
        "id": "m4cnK8ODKOB4",
        "colab_type": "code",
        "outputId": "4151d269-26d5-4e0d-f402-a1bc4ca74265",
        "colab": {
          "base_uri": "https://localhost:8080/",
          "height": 35
        }
      },
      "source": [
        "accuracy(confusion_matrix)"
      ],
      "execution_count": 0,
      "outputs": [
        {
          "output_type": "execute_result",
          "data": {
            "text/plain": [
              "0.8190621814475025"
            ]
          },
          "metadata": {
            "tags": []
          },
          "execution_count": 63
        }
      ]
    },
    {
      "cell_type": "code",
      "metadata": {
        "id": "FkZZF0IqKRY-",
        "colab_type": "code",
        "colab": {}
      },
      "source": [
        ""
      ],
      "execution_count": 0,
      "outputs": []
    }
  ]
}