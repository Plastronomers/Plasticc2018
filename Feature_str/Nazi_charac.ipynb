{
  "nbformat": 4,
  "nbformat_minor": 0,
  "metadata": {
    "colab": {
      "name": "Nazi_charac.ipynb",
      "version": "0.3.2",
      "provenance": [],
      "collapsed_sections": []
    },
    "kernelspec": {
      "name": "python3",
      "display_name": "Python 3"
    }
  },
  "cells": [
    {
      "cell_type": "code",
      "metadata": {
        "id": "qRdGZSzIkWBV",
        "colab_type": "code",
        "outputId": "41511404-8496-428e-da34-5429d72bad32",
        "colab": {
          "base_uri": "https://localhost:8080/",
          "height": 34
        }
      },
      "source": [
        "import pandas as pd\n",
        "import numpy as np\n",
        "from matplotlib import pyplot as plt\n",
        "\n",
        "from sklearn.svm import SVC\n",
        "\n",
        "\n",
        "from google.colab import drive\n",
        "drive.mount('/gdrive')"
      ],
      "execution_count": 0,
      "outputs": [
        {
          "output_type": "stream",
          "text": [
            "Drive already mounted at /gdrive; to attempt to forcibly remount, call drive.mount(\"/gdrive\", force_remount=True).\n"
          ],
          "name": "stdout"
        }
      ]
    },
    {
      "cell_type": "code",
      "metadata": {
        "id": "eogowdTjlBTv",
        "colab_type": "code",
        "outputId": "db4f968d-713d-4fba-f8fb-4bf27069c905",
        "colab": {
          "base_uri": "https://localhost:8080/",
          "height": 34
        }
      },
      "source": [
        "cd /gdrive/My\\ Drive"
      ],
      "execution_count": 0,
      "outputs": [
        {
          "output_type": "stream",
          "text": [
            "/gdrive/My Drive\n"
          ],
          "name": "stdout"
        }
      ]
    },
    {
      "cell_type": "code",
      "metadata": {
        "id": "bkHcm1xqoOSX",
        "colab_type": "code",
        "outputId": "3f789392-3745-49a6-9e16-83040fa80f84",
        "colab": {
          "base_uri": "https://localhost:8080/",
          "height": 34
        }
      },
      "source": [
        "cd data"
      ],
      "execution_count": 0,
      "outputs": [
        {
          "output_type": "stream",
          "text": [
            "/gdrive/My Drive/data\n"
          ],
          "name": "stdout"
        }
      ]
    },
    {
      "cell_type": "code",
      "metadata": {
        "id": "B3OJtspEmOk4",
        "colab_type": "code",
        "colab": {}
      },
      "source": [
        "df_test = pd.read_csv('plasticc_train_lightcurves.csv')\n",
        "# df_train_2 = pd.read_csv('plasticc_test_lightcurves_02.csv')\n",
        "# df_train_3 = pd.read_csv('plasticc_test_lightcurves_03.csv')\n",
        "# df_train_4 = pd.read_csv('plasticc_test_lightcurves_04.csv')"
      ],
      "execution_count": 0,
      "outputs": []
    },
    {
      "cell_type": "code",
      "metadata": {
        "id": "Ovtc_4xK068j",
        "colab_type": "code",
        "colab": {}
      },
      "source": [
        "df_train_f = pd.read_csv('plasticc_train_metadata.csv')\n",
        "df_test_f = pd.read_csv('plasticc_test_metadata.csv')"
      ],
      "execution_count": 0,
      "outputs": []
    },
    {
      "cell_type": "code",
      "metadata": {
        "id": "a2AjqefCpHgW",
        "colab_type": "code",
        "colab": {}
      },
      "source": [
        "passband_ind = np.arange(6)\n",
        "passnand = ['u','g','r','i', 'z', 'y']"
      ],
      "execution_count": 0,
      "outputs": []
    },
    {
      "cell_type": "code",
      "metadata": {
        "id": "UbrPB8QJp6RW",
        "colab_type": "code",
        "outputId": "a7257b8a-18a8-4ba4-cfc7-c601114f1dc8",
        "colab": {
          "base_uri": "https://localhost:8080/",
          "height": 34
        }
      },
      "source": [
        "df = df_test\n",
        "print('minimun time is:',np.min(df['mjd']),'maximum time is:',np.max(df['mjd']),'Difference:',np.max(df['mjd'])-np.min(df['mjd']))"
      ],
      "execution_count": 0,
      "outputs": [
        {
          "output_type": "stream",
          "text": [
            "minimun time is: 59580.0343 maximum time is: 60674.363 Difference: 1094.3286999999982\n"
          ],
          "name": "stdout"
        }
      ]
    },
    {
      "cell_type": "code",
      "metadata": {
        "id": "vH-V9p3dp7ob",
        "colab_type": "code",
        "colab": {}
      },
      "source": [
        "L = []\n",
        "for i in passband_ind:\n",
        "    a = len(df[df['passband']==i])\n",
        "    L.append(a)"
      ],
      "execution_count": 0,
      "outputs": []
    },
    {
      "cell_type": "code",
      "metadata": {
        "id": "bQwwbIpwtmcj",
        "colab_type": "code",
        "outputId": "cbc7fe6a-9e27-4ddc-d359-9c82fda58d5a",
        "colab": {
          "base_uri": "https://localhost:8080/",
          "height": 300
        }
      },
      "source": [
        "plt.bar(passnand,L)\n",
        "plt.xlabel('Passbands')\n",
        "plt.ylabel('Abundance')"
      ],
      "execution_count": 0,
      "outputs": [
        {
          "output_type": "execute_result",
          "data": {
            "text/plain": [
              "Text(0, 0.5, 'Abundance')"
            ]
          },
          "metadata": {
            "tags": []
          },
          "execution_count": 11
        },
        {
          "output_type": "display_data",
          "data": {
            "image/png": "[encoded data removed]",
            "text/plain": [
              "<Figure size 432x288 with 1 Axes>"
            ]
          },
          "metadata": {
            "tags": []
          }
        }
      ]
    },
    {
      "cell_type": "code",
      "metadata": {
        "id": "hU5iZ0rJ0H3w",
        "colab_type": "code",
        "outputId": "3fecbdf4-6b29-4bc5-bead-5ad9e855052b",
        "colab": {
          "base_uri": "https://localhost:8080/",
          "height": 136
        }
      },
      "source": [
        "mdf = df_test_f\n",
        "df_train_f.columns"
      ],
      "execution_count": 0,
      "outputs": [
        {
          "output_type": "execute_result",
          "data": {
            "text/plain": [
              "Index(['object_id', 'ra', 'decl', 'ddf_bool', 'hostgal_specz',\n",
              "       'hostgal_photoz', 'hostgal_photoz_err', 'distmod', 'mwebv', 'target',\n",
              "       'true_target', 'true_submodel', 'true_z', 'true_distmod',\n",
              "       'true_lensdmu', 'true_vpec', 'true_rv', 'true_av', 'true_peakmjd',\n",
              "       'libid_cadence', 'tflux_u', 'tflux_g', 'tflux_r', 'tflux_i', 'tflux_z',\n",
              "       'tflux_y'],\n",
              "      dtype='object')"
            ]
          },
          "metadata": {
            "tags": []
          },
          "execution_count": 17
        }
      ]
    },
    {
      "cell_type": "code",
      "metadata": {
        "id": "Ok9lmN8NwGys",
        "colab_type": "code",
        "outputId": "461914c3-b61c-420f-88fc-e7a2e40f27b9",
        "colab": {
          "base_uri": "https://localhost:8080/",
          "height": 34
        }
      },
      "source": [
        "print('The fraction of data belongs to DDF component is:',len(mdf[mdf['ddf_bool']==1])/len(mdf)*100)"
      ],
      "execution_count": 0,
      "outputs": [
        {
          "output_type": "stream",
          "text": [
            "The fraction of data belongs to DDF component is: 26.962283384301735\n"
          ],
          "name": "stdout"
        }
      ]
    },
    {
      "cell_type": "code",
      "metadata": {
        "id": "61O78Iwp0Neg",
        "colab_type": "code",
        "colab": {}
      },
      "source": [
        "target = np.unique(df_['target'])\n",
        "target_m = np.arange(14)"
      ],
      "execution_count": 0,
      "outputs": []
    },
    {
      "cell_type": "code",
      "metadata": {
        "id": "74pnhC8VDyab",
        "colab_type": "code",
        "outputId": "0c4c6e1b-c3fc-4b7c-df16-3a78bc658a84",
        "colab": {
          "base_uri": "https://localhost:8080/",
          "height": 34
        }
      },
      "source": [
        "T = []\n",
        "for i in target:\n",
        "    a = len(mdf[mdf['target']==i])\n",
        "    T.append(a)\n",
        "T"
      ],
      "execution_count": 0,
      "outputs": [
        {
          "output_type": "execute_result",
          "data": {
            "text/plain": [
              "[151, 495, 924, 1193, 183, 30, 484, 102, 981, 208, 370, 2313, 239, 175]"
            ]
          },
          "metadata": {
            "tags": []
          },
          "execution_count": 21
        }
      ]
    },
    {
      "cell_type": "code",
      "metadata": {
        "id": "yixrl5aVEbrx",
        "colab_type": "code",
        "outputId": "c28c39b8-e094-40bf-93e0-32345285473a",
        "colab": {
          "base_uri": "https://localhost:8080/",
          "height": 300
        }
      },
      "source": [
        "plt.bar(target_m,T)\n",
        "plt.xlabel('target')\n",
        "plt.ylabel('Abundance')\n"
      ],
      "execution_count": 0,
      "outputs": [
        {
          "output_type": "execute_result",
          "data": {
            "text/plain": [
              "Text(0, 0.5, 'Abundance')"
            ]
          },
          "metadata": {
            "tags": []
          },
          "execution_count": 22
        },
        {
          "output_type": "display_data",
          "data": {
            "image/png": "[encoded data removed]",
            "text/plain": [
              "<Figure size 432x288 with 1 Axes>"
            ]
          },
          "metadata": {
            "tags": []
          }
        }
      ]
    },
    {
      "cell_type": "code",
      "metadata": {
        "id": "ZwFt_5UzElJL",
        "colab_type": "code",
        "outputId": "c02fbfe9-20d0-494f-cfa0-fa9e565f850f",
        "colab": {
          "base_uri": "https://localhost:8080/",
          "height": 297
        }
      },
      "source": [
        "df_test.describe()"
      ],
      "execution_count": 0,
      "outputs": [
        {
          "output_type": "execute_result",
          "data": {
            "text/html": [
              "<div>\n",
              "<style scoped>\n",
              "    .dataframe tbody tr th:only-of-type {\n",
              "        vertical-align: middle;\n",
              "    }\n",
              "\n",
              "    .dataframe tbody tr th {\n",
              "        vertical-align: top;\n",
              "    }\n",
              "\n",
              "    .dataframe thead th {\n",
              "        text-align: right;\n",
              "    }\n",
              "</style>\n",
              "<table border=\"1\" class=\"dataframe\">\n",
              "  <thead>\n",
              "    <tr style=\"text-align: right;\">\n",
              "      <th></th>\n",
              "      <th>object_id</th>\n",
              "      <th>mjd</th>\n",
              "      <th>passband</th>\n",
              "      <th>flux</th>\n",
              "      <th>flux_err</th>\n",
              "      <th>detected_bool</th>\n",
              "    </tr>\n",
              "  </thead>\n",
              "  <tbody>\n",
              "    <tr>\n",
              "      <th>count</th>\n",
              "      <td>1.421705e+06</td>\n",
              "      <td>1.421705e+06</td>\n",
              "      <td>1.421705e+06</td>\n",
              "      <td>1.421705e+06</td>\n",
              "      <td>1.421705e+06</td>\n",
              "      <td>1.421705e+06</td>\n",
              "    </tr>\n",
              "    <tr>\n",
              "      <th>mean</th>\n",
              "      <td>3.392608e+07</td>\n",
              "      <td>6.017921e+04</td>\n",
              "      <td>2.783108e+00</td>\n",
              "      <td>2.468855e+01</td>\n",
              "      <td>2.548932e+01</td>\n",
              "      <td>1.666168e-01</td>\n",
              "    </tr>\n",
              "    <tr>\n",
              "      <th>std</th>\n",
              "      <td>4.258439e+07</td>\n",
              "      <td>3.092379e+02</td>\n",
              "      <td>1.703946e+00</td>\n",
              "      <td>3.684506e+03</td>\n",
              "      <td>3.814492e+03</td>\n",
              "      <td>3.726336e-01</td>\n",
              "    </tr>\n",
              "    <tr>\n",
              "      <th>min</th>\n",
              "      <td>6.150000e+02</td>\n",
              "      <td>5.958003e+04</td>\n",
              "      <td>0.000000e+00</td>\n",
              "      <td>-1.149388e+06</td>\n",
              "      <td>4.637530e-01</td>\n",
              "      <td>0.000000e+00</td>\n",
              "    </tr>\n",
              "    <tr>\n",
              "      <th>25%</th>\n",
              "      <td>1.843400e+05</td>\n",
              "      <td>5.989905e+04</td>\n",
              "      <td>1.000000e+00</td>\n",
              "      <td>-2.789418e+00</td>\n",
              "      <td>2.118670e+00</td>\n",
              "      <td>0.000000e+00</td>\n",
              "    </tr>\n",
              "    <tr>\n",
              "      <th>50%</th>\n",
              "      <td>4.548783e+06</td>\n",
              "      <td>6.019331e+04</td>\n",
              "      <td>3.000000e+00</td>\n",
              "      <td>7.331990e-01</td>\n",
              "      <td>4.708105e+00</td>\n",
              "      <td>0.000000e+00</td>\n",
              "    </tr>\n",
              "    <tr>\n",
              "      <th>75%</th>\n",
              "      <td>6.796280e+07</td>\n",
              "      <td>6.048722e+04</td>\n",
              "      <td>4.000000e+00</td>\n",
              "      <td>8.830932e+00</td>\n",
              "      <td>1.297371e+01</td>\n",
              "      <td>0.000000e+00</td>\n",
              "    </tr>\n",
              "    <tr>\n",
              "      <th>max</th>\n",
              "      <td>1.307798e+08</td>\n",
              "      <td>6.067436e+04</td>\n",
              "      <td>5.000000e+00</td>\n",
              "      <td>2.432809e+06</td>\n",
              "      <td>2.234069e+06</td>\n",
              "      <td>1.000000e+00</td>\n",
              "    </tr>\n",
              "  </tbody>\n",
              "</table>\n",
              "</div>"
            ],
            "text/plain": [
              "          object_id           mjd  ...      flux_err  detected_bool\n",
              "count  1.421705e+06  1.421705e+06  ...  1.421705e+06   1.421705e+06\n",
              "mean   3.392608e+07  6.017921e+04  ...  2.548932e+01   1.666168e-01\n",
              "std    4.258439e+07  3.092379e+02  ...  3.814492e+03   3.726336e-01\n",
              "min    6.150000e+02  5.958003e+04  ...  4.637530e-01   0.000000e+00\n",
              "25%    1.843400e+05  5.989905e+04  ...  2.118670e+00   0.000000e+00\n",
              "50%    4.548783e+06  6.019331e+04  ...  4.708105e+00   0.000000e+00\n",
              "75%    6.796280e+07  6.048722e+04  ...  1.297371e+01   0.000000e+00\n",
              "max    1.307798e+08  6.067436e+04  ...  2.234069e+06   1.000000e+00\n",
              "\n",
              "[8 rows x 6 columns]"
            ]
          },
          "metadata": {
            "tags": []
          },
          "execution_count": 23
        }
      ]
    },
    {
      "cell_type": "code",
      "metadata": {
        "id": "HMrl--4dIKMT",
        "colab_type": "code",
        "outputId": "a43672ca-2e8c-4d60-8776-b7f616b6ef9a",
        "colab": {
          "base_uri": "https://localhost:8080/",
          "height": 297
        }
      },
      "source": [
        "df_train_2.describe()"
      ],
      "execution_count": 0,
      "outputs": [
        {
          "output_type": "execute_result",
          "data": {
            "text/html": [
              "<div>\n",
              "<style scoped>\n",
              "    .dataframe tbody tr th:only-of-type {\n",
              "        vertical-align: middle;\n",
              "    }\n",
              "\n",
              "    .dataframe tbody tr th {\n",
              "        vertical-align: top;\n",
              "    }\n",
              "\n",
              "    .dataframe thead th {\n",
              "        text-align: right;\n",
              "    }\n",
              "</style>\n",
              "<table border=\"1\" class=\"dataframe\">\n",
              "  <thead>\n",
              "    <tr style=\"text-align: right;\">\n",
              "      <th></th>\n",
              "      <th>object_id</th>\n",
              "      <th>mjd</th>\n",
              "      <th>passband</th>\n",
              "      <th>flux</th>\n",
              "      <th>flux_err</th>\n",
              "      <th>detected_bool</th>\n",
              "    </tr>\n",
              "  </thead>\n",
              "  <tbody>\n",
              "    <tr>\n",
              "      <th>count</th>\n",
              "      <td>4.428170e+07</td>\n",
              "      <td>4.428170e+07</td>\n",
              "      <td>4.428170e+07</td>\n",
              "      <td>4.428170e+07</td>\n",
              "      <td>4.428170e+07</td>\n",
              "      <td>4.428170e+07</td>\n",
              "    </tr>\n",
              "    <tr>\n",
              "      <th>mean</th>\n",
              "      <td>7.479532e+06</td>\n",
              "      <td>6.017872e+04</td>\n",
              "      <td>3.091652e+00</td>\n",
              "      <td>5.398831e+00</td>\n",
              "      <td>4.908339e+01</td>\n",
              "      <td>9.868579e-02</td>\n",
              "    </tr>\n",
              "    <tr>\n",
              "      <th>std</th>\n",
              "      <td>3.743296e+06</td>\n",
              "      <td>3.016194e+02</td>\n",
              "      <td>1.622233e+00</td>\n",
              "      <td>5.327350e+03</td>\n",
              "      <td>7.416885e+03</td>\n",
              "      <td>2.982397e-01</td>\n",
              "    </tr>\n",
              "    <tr>\n",
              "      <th>min</th>\n",
              "      <td>1.000183e+06</td>\n",
              "      <td>5.958003e+04</td>\n",
              "      <td>0.000000e+00</td>\n",
              "      <td>-6.868854e+06</td>\n",
              "      <td>7.330290e-01</td>\n",
              "      <td>0.000000e+00</td>\n",
              "    </tr>\n",
              "    <tr>\n",
              "      <th>25%</th>\n",
              "      <td>4.233340e+06</td>\n",
              "      <td>5.992322e+04</td>\n",
              "      <td>2.000000e+00</td>\n",
              "      <td>-5.538018e+00</td>\n",
              "      <td>4.889009e+00</td>\n",
              "      <td>0.000000e+00</td>\n",
              "    </tr>\n",
              "    <tr>\n",
              "      <th>50%</th>\n",
              "      <td>7.488128e+06</td>\n",
              "      <td>6.016918e+04</td>\n",
              "      <td>3.000000e+00</td>\n",
              "      <td>1.250389e+00</td>\n",
              "      <td>1.084365e+01</td>\n",
              "      <td>0.000000e+00</td>\n",
              "    </tr>\n",
              "    <tr>\n",
              "      <th>75%</th>\n",
              "      <td>1.072364e+07</td>\n",
              "      <td>6.046009e+04</td>\n",
              "      <td>5.000000e+00</td>\n",
              "      <td>1.182523e+01</td>\n",
              "      <td>2.229544e+01</td>\n",
              "      <td>0.000000e+00</td>\n",
              "    </tr>\n",
              "    <tr>\n",
              "      <th>max</th>\n",
              "      <td>1.395242e+07</td>\n",
              "      <td>6.067436e+04</td>\n",
              "      <td>5.000000e+00</td>\n",
              "      <td>6.431427e+06</td>\n",
              "      <td>7.313836e+06</td>\n",
              "      <td>1.000000e+00</td>\n",
              "    </tr>\n",
              "  </tbody>\n",
              "</table>\n",
              "</div>"
            ],
            "text/plain": [
              "          object_id           mjd  ...      flux_err  detected_bool\n",
              "count  4.428170e+07  4.428170e+07  ...  4.428170e+07   4.428170e+07\n",
              "mean   7.479532e+06  6.017872e+04  ...  4.908339e+01   9.868579e-02\n",
              "std    3.743296e+06  3.016194e+02  ...  7.416885e+03   2.982397e-01\n",
              "min    1.000183e+06  5.958003e+04  ...  7.330290e-01   0.000000e+00\n",
              "25%    4.233340e+06  5.992322e+04  ...  4.889009e+00   0.000000e+00\n",
              "50%    7.488128e+06  6.016918e+04  ...  1.084365e+01   0.000000e+00\n",
              "75%    1.072364e+07  6.046009e+04  ...  2.229544e+01   0.000000e+00\n",
              "max    1.395242e+07  6.067436e+04  ...  7.313836e+06   1.000000e+00\n",
              "\n",
              "[8 rows x 6 columns]"
            ]
          },
          "metadata": {
            "tags": []
          },
          "execution_count": 24
        }
      ]
    },
    {
      "cell_type": "code",
      "metadata": {
        "id": "034-xHm5Iy_e",
        "colab_type": "code",
        "outputId": "90d332c4-3adf-4f0b-efbf-8bce952fcd07",
        "colab": {
          "base_uri": "https://localhost:8080/",
          "height": 297
        }
      },
      "source": [
        "df_train_3.describe()"
      ],
      "execution_count": 0,
      "outputs": [
        {
          "output_type": "execute_result",
          "data": {
            "text/html": [
              "<div>\n",
              "<style scoped>\n",
              "    .dataframe tbody tr th:only-of-type {\n",
              "        vertical-align: middle;\n",
              "    }\n",
              "\n",
              "    .dataframe tbody tr th {\n",
              "        vertical-align: top;\n",
              "    }\n",
              "\n",
              "    .dataframe thead th {\n",
              "        text-align: right;\n",
              "    }\n",
              "</style>\n",
              "<table border=\"1\" class=\"dataframe\">\n",
              "  <thead>\n",
              "    <tr style=\"text-align: right;\">\n",
              "      <th></th>\n",
              "      <th>object_id</th>\n",
              "      <th>mjd</th>\n",
              "      <th>passband</th>\n",
              "      <th>flux</th>\n",
              "      <th>flux_err</th>\n",
              "      <th>detected_bool</th>\n",
              "    </tr>\n",
              "  </thead>\n",
              "  <tbody>\n",
              "    <tr>\n",
              "      <th>count</th>\n",
              "      <td>4.427131e+07</td>\n",
              "      <td>4.427131e+07</td>\n",
              "      <td>4.427131e+07</td>\n",
              "      <td>4.427131e+07</td>\n",
              "      <td>4.427131e+07</td>\n",
              "      <td>4.427131e+07</td>\n",
              "    </tr>\n",
              "    <tr>\n",
              "      <th>mean</th>\n",
              "      <td>2.046240e+07</td>\n",
              "      <td>6.017865e+04</td>\n",
              "      <td>3.091470e+00</td>\n",
              "      <td>6.361866e+00</td>\n",
              "      <td>4.419619e+01</td>\n",
              "      <td>9.721008e-02</td>\n",
              "    </tr>\n",
              "    <tr>\n",
              "      <th>std</th>\n",
              "      <td>3.757505e+06</td>\n",
              "      <td>3.015522e+02</td>\n",
              "      <td>1.622148e+00</td>\n",
              "      <td>4.746228e+03</td>\n",
              "      <td>6.467377e+03</td>\n",
              "      <td>2.962436e-01</td>\n",
              "    </tr>\n",
              "    <tr>\n",
              "      <th>min</th>\n",
              "      <td>1.395243e+07</td>\n",
              "      <td>5.958003e+04</td>\n",
              "      <td>0.000000e+00</td>\n",
              "      <td>-8.935484e+06</td>\n",
              "      <td>7.330290e-01</td>\n",
              "      <td>0.000000e+00</td>\n",
              "    </tr>\n",
              "    <tr>\n",
              "      <th>25%</th>\n",
              "      <td>1.720620e+07</td>\n",
              "      <td>5.992332e+04</td>\n",
              "      <td>2.000000e+00</td>\n",
              "      <td>-5.515295e+00</td>\n",
              "      <td>4.882795e+00</td>\n",
              "      <td>0.000000e+00</td>\n",
              "    </tr>\n",
              "    <tr>\n",
              "      <th>50%</th>\n",
              "      <td>2.046596e+07</td>\n",
              "      <td>6.016912e+04</td>\n",
              "      <td>3.000000e+00</td>\n",
              "      <td>1.247302e+00</td>\n",
              "      <td>1.082615e+01</td>\n",
              "      <td>0.000000e+00</td>\n",
              "    </tr>\n",
              "    <tr>\n",
              "      <th>75%</th>\n",
              "      <td>2.372070e+07</td>\n",
              "      <td>6.046004e+04</td>\n",
              "      <td>5.000000e+00</td>\n",
              "      <td>1.177534e+01</td>\n",
              "      <td>2.224974e+01</td>\n",
              "      <td>0.000000e+00</td>\n",
              "    </tr>\n",
              "    <tr>\n",
              "      <th>max</th>\n",
              "      <td>2.695680e+07</td>\n",
              "      <td>6.067436e+04</td>\n",
              "      <td>5.000000e+00</td>\n",
              "      <td>5.060856e+06</td>\n",
              "      <td>1.000572e+07</td>\n",
              "      <td>1.000000e+00</td>\n",
              "    </tr>\n",
              "  </tbody>\n",
              "</table>\n",
              "</div>"
            ],
            "text/plain": [
              "          object_id           mjd  ...      flux_err  detected_bool\n",
              "count  4.427131e+07  4.427131e+07  ...  4.427131e+07   4.427131e+07\n",
              "mean   2.046240e+07  6.017865e+04  ...  4.419619e+01   9.721008e-02\n",
              "std    3.757505e+06  3.015522e+02  ...  6.467377e+03   2.962436e-01\n",
              "min    1.395243e+07  5.958003e+04  ...  7.330290e-01   0.000000e+00\n",
              "25%    1.720620e+07  5.992332e+04  ...  4.882795e+00   0.000000e+00\n",
              "50%    2.046596e+07  6.016912e+04  ...  1.082615e+01   0.000000e+00\n",
              "75%    2.372070e+07  6.046004e+04  ...  2.224974e+01   0.000000e+00\n",
              "max    2.695680e+07  6.067436e+04  ...  1.000572e+07   1.000000e+00\n",
              "\n",
              "[8 rows x 6 columns]"
            ]
          },
          "metadata": {
            "tags": []
          },
          "execution_count": 25
        }
      ]
    },
    {
      "cell_type": "code",
      "metadata": {
        "id": "XCxP8WHWI3sh",
        "colab_type": "code",
        "outputId": "b5c50ad6-cffb-4004-b572-8a576f36ce61",
        "colab": {
          "base_uri": "https://localhost:8080/",
          "height": 297
        }
      },
      "source": [
        "df_train_4.describe()"
      ],
      "execution_count": 0,
      "outputs": [
        {
          "output_type": "execute_result",
          "data": {
            "text/html": [
              "<div>\n",
              "<style scoped>\n",
              "    .dataframe tbody tr th:only-of-type {\n",
              "        vertical-align: middle;\n",
              "    }\n",
              "\n",
              "    .dataframe tbody tr th {\n",
              "        vertical-align: top;\n",
              "    }\n",
              "\n",
              "    .dataframe thead th {\n",
              "        text-align: right;\n",
              "    }\n",
              "</style>\n",
              "<table border=\"1\" class=\"dataframe\">\n",
              "  <thead>\n",
              "    <tr style=\"text-align: right;\">\n",
              "      <th></th>\n",
              "      <th>object_id</th>\n",
              "      <th>mjd</th>\n",
              "      <th>passband</th>\n",
              "      <th>flux</th>\n",
              "      <th>flux_err</th>\n",
              "      <th>detected_bool</th>\n",
              "    </tr>\n",
              "  </thead>\n",
              "  <tbody>\n",
              "    <tr>\n",
              "      <th>count</th>\n",
              "      <td>4.430497e+07</td>\n",
              "      <td>4.430497e+07</td>\n",
              "      <td>4.430497e+07</td>\n",
              "      <td>4.430497e+07</td>\n",
              "      <td>4.430497e+07</td>\n",
              "      <td>4.430497e+07</td>\n",
              "    </tr>\n",
              "    <tr>\n",
              "      <th>mean</th>\n",
              "      <td>3.345174e+07</td>\n",
              "      <td>6.017881e+04</td>\n",
              "      <td>3.092051e+00</td>\n",
              "      <td>3.977530e+00</td>\n",
              "      <td>4.645122e+01</td>\n",
              "      <td>9.792549e-02</td>\n",
              "    </tr>\n",
              "    <tr>\n",
              "      <th>std</th>\n",
              "      <td>3.749995e+06</td>\n",
              "      <td>3.016708e+02</td>\n",
              "      <td>1.622282e+00</td>\n",
              "      <td>5.238709e+03</td>\n",
              "      <td>6.744822e+03</td>\n",
              "      <td>2.972139e-01</td>\n",
              "    </tr>\n",
              "    <tr>\n",
              "      <th>min</th>\n",
              "      <td>2.695681e+07</td>\n",
              "      <td>5.958003e+04</td>\n",
              "      <td>0.000000e+00</td>\n",
              "      <td>-7.356760e+06</td>\n",
              "      <td>7.330290e-01</td>\n",
              "      <td>0.000000e+00</td>\n",
              "    </tr>\n",
              "    <tr>\n",
              "      <th>25%</th>\n",
              "      <td>3.020078e+07</td>\n",
              "      <td>5.992323e+04</td>\n",
              "      <td>2.000000e+00</td>\n",
              "      <td>-5.526724e+00</td>\n",
              "      <td>4.884298e+00</td>\n",
              "      <td>0.000000e+00</td>\n",
              "    </tr>\n",
              "    <tr>\n",
              "      <th>50%</th>\n",
              "      <td>3.345614e+07</td>\n",
              "      <td>6.017513e+04</td>\n",
              "      <td>3.000000e+00</td>\n",
              "      <td>1.246972e+00</td>\n",
              "      <td>1.083418e+01</td>\n",
              "      <td>0.000000e+00</td>\n",
              "    </tr>\n",
              "    <tr>\n",
              "      <th>75%</th>\n",
              "      <td>3.670321e+07</td>\n",
              "      <td>6.046014e+04</td>\n",
              "      <td>5.000000e+00</td>\n",
              "      <td>1.179324e+01</td>\n",
              "      <td>2.227697e+01</td>\n",
              "      <td>0.000000e+00</td>\n",
              "    </tr>\n",
              "    <tr>\n",
              "      <th>max</th>\n",
              "      <td>3.993383e+07</td>\n",
              "      <td>6.067436e+04</td>\n",
              "      <td>5.000000e+00</td>\n",
              "      <td>9.585644e+06</td>\n",
              "      <td>8.885888e+06</td>\n",
              "      <td>1.000000e+00</td>\n",
              "    </tr>\n",
              "  </tbody>\n",
              "</table>\n",
              "</div>"
            ],
            "text/plain": [
              "          object_id           mjd  ...      flux_err  detected_bool\n",
              "count  4.430497e+07  4.430497e+07  ...  4.430497e+07   4.430497e+07\n",
              "mean   3.345174e+07  6.017881e+04  ...  4.645122e+01   9.792549e-02\n",
              "std    3.749995e+06  3.016708e+02  ...  6.744822e+03   2.972139e-01\n",
              "min    2.695681e+07  5.958003e+04  ...  7.330290e-01   0.000000e+00\n",
              "25%    3.020078e+07  5.992323e+04  ...  4.884298e+00   0.000000e+00\n",
              "50%    3.345614e+07  6.017513e+04  ...  1.083418e+01   0.000000e+00\n",
              "75%    3.670321e+07  6.046014e+04  ...  2.227697e+01   0.000000e+00\n",
              "max    3.993383e+07  6.067436e+04  ...  8.885888e+06   1.000000e+00\n",
              "\n",
              "[8 rows x 6 columns]"
            ]
          },
          "metadata": {
            "tags": []
          },
          "execution_count": 26
        }
      ]
    },
    {
      "cell_type": "code",
      "metadata": {
        "id": "KaCnmX5UI5SX",
        "colab_type": "code",
        "colab": {}
      },
      "source": [
        "df_test_f.describe;"
      ],
      "execution_count": 0,
      "outputs": []
    },
    {
      "cell_type": "code",
      "metadata": {
        "id": "A1Ob0ouNJCs8",
        "colab_type": "code",
        "outputId": "444d2a56-7f22-4505-8467-d4959576fd43",
        "colab": {
          "base_uri": "https://localhost:8080/",
          "height": 558
        }
      },
      "source": [
        "b = df_train_f['hostgal_specz']\n",
        "plt.hist(b,50)"
      ],
      "execution_count": 0,
      "outputs": [
        {
          "output_type": "execute_result",
          "data": {
            "text/plain": [
              "(array([2.543e+03, 7.770e+02, 9.100e+02, 8.480e+02, 7.610e+02, 5.480e+02,\n",
              "        3.890e+02, 2.680e+02, 1.790e+02, 1.210e+02, 8.800e+01, 6.800e+01,\n",
              "        4.600e+01, 3.200e+01, 3.500e+01, 1.300e+01, 2.100e+01, 2.000e+01,\n",
              "        1.300e+01, 1.100e+01, 1.100e+01, 1.600e+01, 1.600e+01, 1.500e+01,\n",
              "        1.400e+01, 1.200e+01, 1.400e+01, 5.000e+00, 6.000e+00, 8.000e+00,\n",
              "        1.100e+01, 8.000e+00, 3.000e+00, 1.000e+00, 2.000e+00, 2.000e+00,\n",
              "        3.000e+00, 2.000e+00, 2.000e+00, 1.000e+00, 0.000e+00, 1.000e+00,\n",
              "        1.000e+00, 0.000e+00, 0.000e+00, 0.000e+00, 0.000e+00, 1.000e+00,\n",
              "        0.000e+00, 2.000e+00]),\n",
              " array([0.    , 0.0689, 0.1378, 0.2067, 0.2756, 0.3445, 0.4134, 0.4823,\n",
              "        0.5512, 0.6201, 0.689 , 0.7579, 0.8268, 0.8957, 0.9646, 1.0335,\n",
              "        1.1024, 1.1713, 1.2402, 1.3091, 1.378 , 1.4469, 1.5158, 1.5847,\n",
              "        1.6536, 1.7225, 1.7914, 1.8603, 1.9292, 1.9981, 2.067 , 2.1359,\n",
              "        2.2048, 2.2737, 2.3426, 2.4115, 2.4804, 2.5493, 2.6182, 2.6871,\n",
              "        2.756 , 2.8249, 2.8938, 2.9627, 3.0316, 3.1005, 3.1694, 3.2383,\n",
              "        3.3072, 3.3761, 3.445 ]),\n",
              " <a list of 50 Patch objects>)"
            ]
          },
          "metadata": {
            "tags": []
          },
          "execution_count": 38
        },
        {
          "output_type": "display_data",
          "data": {
            "image/png": "[encoded data removed]",
            "text/plain": [
              "<Figure size 432x288 with 1 Axes>"
            ]
          },
          "metadata": {
            "tags": []
          }
        }
      ]
    },
    {
      "cell_type": "code",
      "metadata": {
        "id": "e_FAfjX3AU9U",
        "colab_type": "code",
        "outputId": "7cde2d38-dc56-4081-e355-62839133832d",
        "colab": {
          "base_uri": "https://localhost:8080/",
          "height": 507
        }
      },
      "source": [
        "a = df_test_f['hostgal_photoz']\n",
        "plt.hist(a,50)"
      ],
      "execution_count": 0,
      "outputs": [
        {
          "output_type": "execute_result",
          "data": {
            "text/plain": [
              "(array([398254.,  58951., 103672., 197831., 250220., 253920., 275744.,\n",
              "        296680., 279240., 278888., 240200., 194616., 162925., 124572.,\n",
              "         90552.,  60136.,  31595.,  16144.,  10383.,   8552.,   7840.,\n",
              "          6773.,   6936.,   6566.,   6907.,   6318.,   5179.,   4785.,\n",
              "          3679.,   2803.,   2266.,   2138.,   2223.,   2239.,   3320.,\n",
              "          4305.,   3800.,   4092.,   6343.,   6464.,   7338.,   8360.,\n",
              "          8215.,   7570.,   7030.,   6166.,   6059.,   4740.,   4597.,\n",
              "          4764.]),\n",
              " array([0.  , 0.06, 0.12, 0.18, 0.24, 0.3 , 0.36, 0.42, 0.48, 0.54, 0.6 ,\n",
              "        0.66, 0.72, 0.78, 0.84, 0.9 , 0.96, 1.02, 1.08, 1.14, 1.2 , 1.26,\n",
              "        1.32, 1.38, 1.44, 1.5 , 1.56, 1.62, 1.68, 1.74, 1.8 , 1.86, 1.92,\n",
              "        1.98, 2.04, 2.1 , 2.16, 2.22, 2.28, 2.34, 2.4 , 2.46, 2.52, 2.58,\n",
              "        2.64, 2.7 , 2.76, 2.82, 2.88, 2.94, 3.  ]),\n",
              " <a list of 50 Patch objects>)"
            ]
          },
          "metadata": {
            "tags": []
          },
          "execution_count": 39
        },
        {
          "output_type": "display_data",
          "data": {
            "image/png": "[encoded data removed]",
            "text/plain": [
              "<Figure size 432x288 with 1 Axes>"
            ]
          },
          "metadata": {
            "tags": []
          }
        }
      ]
    },
    {
      "cell_type": "code",
      "metadata": {
        "id": "YkWxuJEagPY8",
        "colab_type": "code",
        "colab": {}
      },
      "source": [
        ""
      ],
      "execution_count": 0,
      "outputs": []
    }
  ]
}