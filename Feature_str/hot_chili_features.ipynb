{
  "nbformat": 4,
  "nbformat_minor": 0,
  "metadata": {
    "colab": {
      "name": "hot_chili_features.ipynb",
      "version": "0.3.2",
      "provenance": [],
      "collapsed_sections": []
    },
    "kernelspec": {
      "name": "python3",
      "display_name": "Python 3"
    }
  },
  "cells": [
    {
      "cell_type": "code",
      "metadata": {
        "id": "xKYENTYsYNS_",
        "colab_type": "code",
        "outputId": "3652b002-d0cd-4c6f-d531-50c4704cdad2",
        "colab": {
          "base_uri": "https://localhost:8080/",
          "height": 34
        }
      },
      "source": [
        "from google.colab import drive\n",
        "drive.mount('/gdrive')"
      ],
      "execution_count": 0,
      "outputs": [
        {
          "output_type": "stream",
          "text": [
            "Mounted at /gdrive\n"
          ],
          "name": "stdout"
        }
      ]
    },
    {
      "cell_type": "code",
      "metadata": {
        "id": "ezFx7MX94YyI",
        "colab_type": "code",
        "outputId": "7dff8f0f-0ffd-4f5e-c338-4140ca0feadf",
        "colab": {
          "base_uri": "https://localhost:8080/",
          "height": 34
        }
      },
      "source": [
        "cd /gdrive/My\\ Drive/data"
      ],
      "execution_count": 0,
      "outputs": [
        {
          "output_type": "stream",
          "text": [
            "/gdrive/My Drive/data\n"
          ],
          "name": "stdout"
        }
      ]
    },
    {
      "cell_type": "code",
      "metadata": {
        "id": "S_MnjoW-YGEs",
        "colab_type": "code",
        "colab": {}
      },
      "source": [
        "import numpy as np\n",
        "import pandas as pd\n",
        "from scipy.stats import kurtosis\n",
        "\n",
        "# def none_or_one(pd_series):\n",
        "#     return pd_series/pd_series\n",
        "\n",
        "def extract_features_v1(df):\n",
        "    df[\"std_flux\"] = df[\"flux\"].values\n",
        "    df[\"min_flux\"] = df[\"flux\"].values\n",
        "    df[\"max_flux\"] = df[\"flux\"].values\n",
        "    df[\"detected_flux\"] = df[\"flux\"] * df[\"detected_bool\"]\n",
        "    df[\"flux_sign\"] = np.sign(df[\"flux\"])\n",
        "    df[\"observation_count\"] = 1\n",
        "    \n",
        "    \n",
        "\n",
        "    df[\"detected_mjd_max\"] = df[\"mjd\"] * none_or_one(df[\"detected_bool\"])\n",
        "    df[\"detected_mjd_min\"] = df[\"mjd\"] * none_or_one(df[\"detected_bool\"])\n",
        "    df[\"fake_flux\"] = df[\"flux\"] - np.sign(df[\"flux\"]) * df[\"flux_err\"]\n",
        "\n",
        "    df[\"diff\"] = df[\"flux\"] - df.groupby([\"object_id\", \"passband\"])[\"flux\"].shift(1)\n",
        "    df[\"time_diff\"] = df.groupby([\"object_id\", \"detected_bool\", \"flux_sign\"])[\"mjd\"].shift(-1) - df[\"mjd\"]\n",
        "    df[\"time_diff_pos\"] = df[\"time_diff\"] * none_or_one(df[\"detected_bool\"]) * (df[\"flux_sign\"] == 1)\n",
        "    df[\"time_diff_neg\"] = df[\"time_diff\"] * none_or_one(df[\"detected_bool\"]) * (df[\"flux_sign\"] == -1)\n",
        "    \n",
        "    \n",
        "    \n",
        "    aggs = {\"detected_mjd_max\": \"max\", \"detected_mjd_min\": \"min\", \"observation_count\": \"count\",\n",
        "            \"flux\": \"median\", \"flux_err\": \"mean\",\n",
        "            \"std_flux\": \"std\", \"min_flux\": \"min\", \"max_flux\": \"max\",\n",
        "            \"detected_flux\": \"max\", \"time_diff_pos\": \"max\", \"time_diff_neg\": \"max\", \"time_diff\": \"max\",\n",
        "            \"fake_flux\": kurtosis}\n",
        "\n",
        "    for i in range(6):\n",
        "        df[\"raw_flux\" + str(i)] = (df[\"fake_flux\"]) * (df[\"passband\"] == i)\n",
        "        aggs[\"raw_flux\" + str(i)] = \"max\"\n",
        "\n",
        "        df[\"sn\" + str(i)] = np.power(df[\"flux\"] / df[\"flux_err\"], 2) * (df[\"passband\"] == i)\n",
        "        aggs[\"sn\" + str(i)] = \"max\"\n",
        "\n",
        "        df[\"flux_sn\" + str(i)] = df[\"flux\"] * df[\"sn\" + str(i)]\n",
        "        aggs[\"flux_sn\" + str(i)] = \"max\"\n",
        "\n",
        "        df[\"skew\" + str(i)] = (df[\"fake_flux\"]) * ((df[\"passband\"] == i) / (df[\"passband\"] == i).astype(int))\n",
        "        aggs[\"skew\" + str(i)] = \"skew\"\n",
        "\n",
        "        df[\"f\" + str(i)] = (df[\"flux\"]) * (df[\"passband\"] == i)\n",
        "        aggs[\"f\" + str(i)] = \"mean\"\n",
        "\n",
        "        df[\"d\" + str(i)] = (df[\"detected_bool\"]) * (df[\"passband\"] == i)\n",
        "        aggs[\"d\" + str(i)] = \"sum\"\n",
        "\n",
        "        df[\"dd\" + str(i)] = (df[\"diff\"]) * (df[\"passband\"] == i)\n",
        "        aggs[\"dd\" + str(i)] = \"max\"\n",
        "        \n",
        "    \n",
        "    df[\"time_diff_full\"] = df[\"detected_mjd_max\"] - df[\"detected_mjd_min\"]\n",
        "    df[\"detected_period\"] = df[\"time_diff_full\"] / df[\"detected_bool\"]\n",
        "    df[\"ratio_detected\"] = df[\"detected_bool\"] / df[\"observation_count\"]\n",
        "    df[\"delta_flux\"] = df[\"max_flux\"] - df[\"min_flux\"]\n",
        "    \n",
        "\n",
        "    df = df.groupby('object_id').agg(aggs).reset_index()\n",
        "    \n",
        "    \n",
        "    \n",
        "\n",
        "    for col in [\"sn\", \"flux_sn\", \"f\", \"dd\"]:\n",
        "        total_sum = df[[col + str(i) for i in range(6)]].sum(axis=1)\n",
        "        for i in range(6):\n",
        "            df[col + str(i)] /= total_sum\n",
        "\n",
        "    return df\n",
        "\n",
        "\n",
        "# if __name__ == \"__main__\":\n",
        "#     df = pd.read_csv('/content/drive/My Drive/data/plasticc_train_lightcurves.csv')\n",
        "\n",
        "#     extract_features_v1(df).to_csv('/content/drive/My Drive/data/hot_chili_features.csv', index=False)"
      ],
      "execution_count": 0,
      "outputs": []
    },
    {
      "cell_type": "code",
      "metadata": {
        "id": "7tS8X_Y43MTS",
        "colab_type": "code",
        "colab": {}
      },
      "source": [
        "df = pd.read_csv('plasticc_train_lightcurves.csv')"
      ],
      "execution_count": 0,
      "outputs": []
    },
    {
      "cell_type": "code",
      "metadata": {
        "id": "Xa1Zkkq4YKXb",
        "colab_type": "code",
        "colab": {}
      },
      "source": [
        "feat = extract_features_v1(df)"
      ],
      "execution_count": 0,
      "outputs": []
    },
    {
      "cell_type": "code",
      "metadata": {
        "id": "ES5yI0wuzndq",
        "colab_type": "code",
        "colab": {}
      },
      "source": [
        "# a = np.sum(df==np.NaN)\n",
        "b = feat.columns\n",
        "for i in range(len(feat.columns)):\n",
        "    \n",
        "    g = sum(feat[b[i]]==np.inf)\n",
        "    if g!=0:\n",
        "        print(b[i])"
      ],
      "execution_count": 0,
      "outputs": []
    },
    {
      "cell_type": "code",
      "metadata": {
        "id": "iDAZevEw84wV",
        "colab_type": "code",
        "colab": {}
      },
      "source": [
        "df = pd.read_csv('Nazi.csv')"
      ],
      "execution_count": 0,
      "outputs": []
    },
    {
      "cell_type": "code",
      "metadata": {
        "id": "WQ9phDz69pWb",
        "colab_type": "code",
        "colab": {}
      },
      "source": [
        "full = df.reset_index().merge(\n",
        "        right=feat,\n",
        "        how='outer',\n",
        "        on='object_id')"
      ],
      "execution_count": 0,
      "outputs": []
    },
    {
      "cell_type": "code",
      "metadata": {
        "id": "vUxVAbqMxa-L",
        "colab_type": "code",
        "colab": {}
      },
      "source": [
        "full.to_csv('Hot.csv')"
      ],
      "execution_count": 0,
      "outputs": []
    },
    {
      "cell_type": "code",
      "metadata": {
        "id": "0NZ8rc2hy3fX",
        "colab_type": "code",
        "colab": {}
      },
      "source": [
        "feat.to_csv('Hot_1.csv')"
      ],
      "execution_count": 0,
      "outputs": []
    },
    {
      "cell_type": "code",
      "metadata": {
        "id": "16BL6HEnCEQg",
        "colab_type": "code",
        "colab": {}
      },
      "source": [
        ""
      ],
      "execution_count": 0,
      "outputs": []
    }
  ]
}