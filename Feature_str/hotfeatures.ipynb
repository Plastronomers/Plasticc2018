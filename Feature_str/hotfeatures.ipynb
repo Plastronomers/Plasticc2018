{
  "nbformat": 4,
  "nbformat_minor": 0,
  "metadata": {
    "colab": {
      "name": "hotfeatures.ipynb",
      "version": "0.3.2",
      "provenance": [],
      "collapsed_sections": []
    },
    "kernelspec": {
      "name": "python3",
      "display_name": "Python 3"
    }
  },
  "cells": [
    {
      "cell_type": "code",
      "metadata": {
        "id": "0l0Izca0n4nr",
        "colab_type": "code",
        "outputId": "282afbdb-afbb-4c5c-b4fc-c4415f702f14",
        "colab": {
          "base_uri": "https://localhost:8080/",
          "height": 35
        }
      },
      "source": [
        "from google.colab import drive\n",
        "drive.mount('/content/drive')"
      ],
      "execution_count": 0,
      "outputs": [
        {
          "output_type": "stream",
          "text": [
            "Drive already mounted at /content/drive; to attempt to forcibly remount, call drive.mount(\"/content/drive\", force_remount=True).\n"
          ],
          "name": "stdout"
        }
      ]
    },
    {
      "cell_type": "code",
      "metadata": {
        "id": "Mml3FsyEoFg-",
        "colab_type": "code",
        "outputId": "137fd3c0-6e0c-4e46-9af8-7153c4b4d968",
        "colab": {
          "base_uri": "https://localhost:8080/",
          "height": 1000
        }
      },
      "source": [
        "import numpy as np\n",
        "import pandas as pd\n",
        "\n",
        "\n",
        "\n",
        "def none_or_one(pd_series):\n",
        "    return pd_series/pd_series\n",
        "\n",
        "\n",
        "\n",
        "def extract_features_v2(df):\n",
        "    df[\"mjd_int\"] = df[\"mjd\"].astype(int)\n",
        "\n",
        "    df = df[df[\"detected_bool\"] == 1].groupby([\"object_id\", \"mjd_int\"])[\"flux\"].max().reset_index()\n",
        "    df[\"abs_flux\"] = np.abs(df[\"flux\"])\n",
        "    for col in [\"first\", \"last\", \"deep\", \"peak\"]:\n",
        "        df[col] = df[\"flux\"].values\n",
        "\n",
        "    \n",
        "    df[\"mjd_min\"] = df[\"mjd_int\"].values\n",
        "    df[\"mjd_max\"] = df[\"mjd_int\"].values\n",
        "    max_flux = df.groupby(\"object_id\")[\"flux\"].transform(\"max\")\n",
        "    df[\"mjd_peak\"] = df[\"mjd_int\"] * (max_flux == df[\"flux\"])\n",
        "    df[\"mjd_deep\"] = df[\"mjd_int\"] * (df.groupby(\"object_id\")[\"flux\"].transform(\"min\") == df[\"flux\"])\n",
        "\n",
        "    peak_time = df.groupby(\"object_id\")[\"mjd_peak\"].transform(\"max\")\n",
        "    period = ((df[\"mjd_int\"] > peak_time) & (df[\"mjd_int\"] < peak_time + 32)).astype(int)\n",
        "    df[\"peak_32\"] = (none_or_one(period) * df[\"flux\"]) / max_flux\n",
        "\n",
        "    df = df.groupby(\"object_id\").agg({\"abs_flux\": \"max\", \"first\": \"first\", \"last\": \"last\", \"mjd_int\": \"count\",\n",
        "                                      \"peak\": lambda ll: np.array(ll).argmax(),\n",
        "                                      \"deep\": lambda ll: np.array(ll).argmin(),\n",
        "                                      \"mjd_min\": \"min\", \"mjd_max\": \"max\", \"mjd_peak\": \"max\", \"mjd_deep\": \"max\",\n",
        "                                      \"peak_32\": \"min\"}).reset_index()\n",
        "    df[\"first\"] /= df[\"abs_flux\"]\n",
        "    df[\"last\"] /= df[\"abs_flux\"]\n",
        "    df[\"peak\"] /= df[\"mjd_int\"] - 1\n",
        "    df[\"deep\"] /= df[\"mjd_int\"] - 1\n",
        "    df[\"till_peak\"] = df[\"mjd_peak\"] - df[\"mjd_min\"]\n",
        "    df[\"after_peak\"] = df[\"mjd_max\"] - df[\"mjd_peak\"]\n",
        "    df[\"deep_peak\"] = df[\"mjd_peak\"] - df[\"mjd_deep\"]\n",
        "\n",
        "    extracted_features = [\"first\", \"last\", \"peak\", \"deep\", \"till_peak\", \"after_peak\", \"deep_peak\", \"peak_32\"]\n",
        "\n",
        "    \n",
        "    return df[[\"object_id\"] + extracted_features]\n",
        "\n",
        "\n",
        "if __name__ == \"__main__\":\n",
        "    df = pd.read_csv('/data/plasticc_train_lightcurves.csv')\n",
        "    extract_features_v2(df).to_csv('/data/features1.csv', index=False)"
      ],
      "execution_count": 0,
      "outputs": [
        {
          "output_type": "stream",
          "text": [
            "      object_id      abs_flux     first  ...  till_peak  after_peak  deep_peak\n",
            "0           615    660.626343 -0.588812  ...        499         375        470\n",
            "1           713     12.353376  0.616434  ...         77         770       -714\n",
            "2           730     47.310059  0.989131  ...          3          76        -76\n",
            "3           745    220.795212  1.000000  ...          0         124       -124\n",
            "4          1124    143.600189  1.000000  ...          0         134       -134\n",
            "5          1227     71.678154  0.112898  ...        692           0        692\n",
            "6          1598   1448.715698  0.038177  ...         15           0         15\n",
            "7          1632     16.413616  1.000000  ...          0           3         -3\n",
            "8          1920    231.828339  0.088231  ...         15          86         -7\n",
            "9          1926     30.658575  0.887638  ...        355          80        -80\n",
            "10         2072     19.925980  1.000000  ...          0          99        -96\n",
            "11         2103    214.805969  0.867524  ...          3          37        -37\n",
            "12         2300     20.846098  0.907246  ...         12         102        -87\n",
            "13         2330     12.662434  1.000000  ...          0          41        -41\n",
            "14         2624   1897.066772  1.000000  ...          0         491        -19\n",
            "15         2677     70.879387 -0.103010  ...         29         772         23\n",
            "16         2922    491.293518  0.034210  ...          6         125       -125\n",
            "17         3041     43.106094  1.000000  ...          0          42        -42\n",
            "18         3285    154.806046  0.370165  ...          3          33        -33\n",
            "19         3423     39.706257  1.000000  ...          0          44        -44\n",
            "20         3489     10.045166  0.957538  ...         30         815       -727\n",
            "21         3910    144.096008  1.000000  ...          0           3         -3\n",
            "22         4088     97.975563 -0.608494  ...        490         364        385\n",
            "23         4132    111.286880  1.000000  ...          0          72        -72\n",
            "24         4171     40.608871  0.298969  ...        470         384        386\n",
            "25         4173    244.895813  1.000000  ...          0         132       -132\n",
            "26         4220    775.901978  0.093294  ...          5          43          5\n",
            "27         4389    112.362953  1.000000  ...          0         107       -107\n",
            "28         4595    121.370186  0.070306  ...         17          53         17\n",
            "29         4819    307.736389  0.019810  ...         32          85         32\n",
            "...         ...           ...       ...  ...        ...         ...        ...\n",
            "7818  130219752    699.260620  1.000000  ...          0          38        -38\n",
            "7819  130231675     60.904552  0.793580  ...          5          20        -20\n",
            "7820  130263372    308.602722  0.618436  ...         15          12         -6\n",
            "7821  130312781   4100.565430 -0.170401  ...        336         729        -97\n",
            "7822  130319749    179.314468  1.000000  ...          0         154       -107\n",
            "7823  130330088    205.359573  0.091930  ...        357           0         91\n",
            "7824  130359176     46.602055  1.000000  ...          0          25        -25\n",
            "7825  130375489     66.434090  1.000000  ...          0          49        -43\n",
            "7826  130386135    710.673035  1.000000  ...          0         814       -814\n",
            "7827  130402542    324.939941  1.000000  ...          0          60        -60\n",
            "7828  130408188    169.314957  0.554796  ...         67         729       -680\n",
            "7829  130414189   3404.353760  0.055684  ...         22          70         -8\n",
            "7830  130489916    755.781067 -0.177059  ...        783          66         47\n",
            "7831  130552230    207.254059  0.821979  ...         65           0         40\n",
            "7832  130595291    522.236511  0.359095  ...          9          61        -54\n",
            "7833  130617044    402.425507  1.000000  ...          0         141        -70\n",
            "7834  130622528    676.839233  1.000000  ...          0         729       -729\n",
            "7835  130639669    186.117493  0.230133  ...         18          87        -65\n",
            "7836  130659834    103.019058  0.770019  ...          3          25        -25\n",
            "7837  130678775    406.103210  1.000000  ...          0           4         -4\n",
            "7838  130684460    324.051178 -0.226628  ...        509         285         69\n",
            "7839  130695262    322.911011  0.790558  ...         40          76        -74\n",
            "7840  130698059     85.927521  0.953899  ...          3          54        -51\n",
            "7841  130716752     26.407637 -0.629471  ...          0         613       -613\n",
            "7842  130727624     61.552704  0.910270  ...        469           0        469\n",
            "7843  130739978    517.602478  1.000000  ...          0         800       -360\n",
            "7844  130755807    363.402466  0.945893  ...          6          31        -31\n",
            "7845  130762946     80.965820 -1.000000  ...        491         354        491\n",
            "7846  130772921    322.255371  0.657840  ...        982           0        345\n",
            "7847  130779836  54982.875000  0.010386  ...        167         282       -282\n",
            "\n",
            "[7848 rows x 15 columns]\n"
          ],
          "name": "stdout"
        }
      ]
    },
    {
      "cell_type": "code",
      "metadata": {
        "id": "b8ck2-tgzIyo",
        "colab_type": "code",
        "colab": {}
      },
      "source": [
        ""
      ],
      "execution_count": 0,
      "outputs": []
    }
  ]
}