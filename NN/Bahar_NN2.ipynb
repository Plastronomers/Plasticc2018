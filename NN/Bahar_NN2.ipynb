{
  "nbformat": 4,
  "nbformat_minor": 0,
  "metadata": {
    "colab": {
      "name": "Bahar-NN2.ipynb",
      "version": "0.3.2",
      "provenance": [],
      "collapsed_sections": []
    },
    "kernelspec": {
      "name": "python3",
      "display_name": "Python 3"
    },
    "accelerator": "GPU"
  },
  "cells": [
    {
      "cell_type": "code",
      "metadata": {
        "id": "GnNvg83auDfe",
        "colab_type": "code",
        "outputId": "4ed48da7-f171-4a20-9b14-747ca180e5d7",
        "colab": {
          "base_uri": "https://localhost:8080/",
          "height": 34
        }
      },
      "source": [
        "from google.colab import drive\n",
        "drive.mount('/gdrive')"
      ],
      "execution_count": 0,
      "outputs": [
        {
          "output_type": "stream",
          "text": [
            "Drive already mounted at /gdrive; to attempt to forcibly remount, call drive.mount(\"/gdrive\", force_remount=True).\n"
          ],
          "name": "stdout"
        }
      ]
    },
    {
      "cell_type": "code",
      "metadata": {
        "id": "iFDOdJFQuRPM",
        "colab_type": "code",
        "outputId": "9c4096d3-f4ea-4717-b3b7-37c67c38ca60",
        "colab": {
          "base_uri": "https://localhost:8080/",
          "height": 34
        }
      },
      "source": [
        "cd /gdrive/My\\ Drive/"
      ],
      "execution_count": 0,
      "outputs": [
        {
          "output_type": "stream",
          "text": [
            "/gdrive/My Drive\n"
          ],
          "name": "stdout"
        }
      ]
    },
    {
      "cell_type": "code",
      "metadata": {
        "id": "vq-uUmu9umsm",
        "colab_type": "code",
        "outputId": "34d3e7b3-c151-43ad-b59d-c0fe83e5744f",
        "colab": {
          "base_uri": "https://localhost:8080/",
          "height": 34
        }
      },
      "source": [
        "import pandas as pd\n",
        "import numpy as np\n",
        "import pylab as plt\n",
        "import pandas as pd\n",
        "from glob import glob\n",
        "from astropy.io import fits\n",
        "from astropy.table import Table\n",
        "from keras.models import Sequential\n",
        "from keras.layers import Dense, Activation, Dropout, Conv1D, MaxPooling1D, Flatten , BatchNormalization , ReLU\n",
        "from sklearn.metrics import confusion_matrix\n",
        "from sklearn.utils.multiclass import unique_labels\n",
        "from sklearn.model_selection import train_test_split\n",
        "import tensorflow as tf\n",
        "import keras as K"
      ],
      "execution_count": 0,
      "outputs": [
        {
          "output_type": "stream",
          "text": [
            "Using TensorFlow backend.\n"
          ],
          "name": "stderr"
        }
      ]
    },
    {
      "cell_type": "code",
      "metadata": {
        "id": "Wjb5jr-fPWN-",
        "colab_type": "code",
        "colab": {}
      },
      "source": [
        "def conf_plotter(y_true, y_pred, classes,\n",
        "                      normalize=0,\n",
        "                      title=None,\n",
        "                      cmap=plt.cm.pink_r,\n",
        "                      mode = 'train',\n",
        "                      save = 0,\n",
        "                      name = 'conf.jpg'):\n",
        "\n",
        "    if not title:\n",
        "        if mode == 'train':\n",
        "            title = 'Normalized confusion matrix on train dataset'\n",
        "        else:\n",
        "            title = 'Normalized confusion matrix on test dataset'\n",
        "            \n",
        "\n",
        "    from sklearn.metrics import confusion_matrix\n",
        "    \n",
        "    cm = confusion_matrix(y_true, y_pred)\n",
        "\n",
        "    if normalize:\n",
        "        cm = cm.astype('float') / cm.sum(axis=1)[:, np.newaxis]\n",
        "\n",
        "\n",
        "    fig, ax = plt.subplots(figsize=(10,10))\n",
        "    im = ax.imshow(cm, interpolation='nearest', cmap=cmap)\n",
        "    ax.figure.colorbar(im, ax=ax ,fraction=0.046, pad=0.04)\n",
        "    ax.set(xticks=np.arange(cm.shape[1]),\n",
        "           yticks=np.arange(cm.shape[0]),\n",
        "           xticklabels=classes, yticklabels=classes,\n",
        "           title=title,\n",
        "           xlabel='Predicted label',\n",
        "           ylabel='True label')\n",
        "    \n",
        "    for item in ([ax.title, ax.xaxis.label, ax.yaxis.label] ):\n",
        "                    \n",
        "        item.set_fontsize(20)\n",
        "     \n",
        "    for item in (ax.get_xticklabels() + ax.get_yticklabels()):\n",
        "        \n",
        "        item.set_fontsize(12)\n",
        "\n",
        "        \n",
        "                \n",
        "    plt.gca().invert_yaxis()\n",
        "    plt.setp(ax.get_xticklabels(), rotation=45, ha=\"right\",\n",
        "             rotation_mode=\"anchor\")\n",
        "\n",
        "    fmt = '.2f' if normalize else 'd'\n",
        "    thresh = cm.max() / 2.\n",
        "    for i in range(cm.shape[0]):\n",
        "        for j in range(cm.shape[1]):\n",
        "            ax.text(j, i, format(cm[i, j], fmt),\n",
        "                    ha=\"center\", va=\"center\",\n",
        "                    color=\"white\" if cm[i, j] > thresh else \"black\")\n",
        "    fig.tight_layout()\n",
        "    if save == 1:\n",
        "        plt.savefig(name)\n",
        "    return ax"
      ],
      "execution_count": 0,
      "outputs": []
    },
    {
      "cell_type": "code",
      "metadata": {
        "id": "AGx8LNX2uh9R",
        "colab_type": "code",
        "colab": {}
      },
      "source": [
        "data = pd.read_csv('./data/Features_train4.csv')"
      ],
      "execution_count": 0,
      "outputs": []
    },
    {
      "cell_type": "code",
      "metadata": {
        "id": "6JnmSoMBuyKL",
        "colab_type": "code",
        "outputId": "3ae27263-4ca7-4670-d89c-9a593dce77ad",
        "colab": {
          "base_uri": "https://localhost:8080/",
          "height": 268
        }
      },
      "source": [
        "df = pd.DataFrame(data)\n",
        "df.head()"
      ],
      "execution_count": 0,
      "outputs": [
        {
          "output_type": "execute_result",
          "data": {
            "text/html": [
              "<div>\n",
              "<style scoped>\n",
              "    .dataframe tbody tr th:only-of-type {\n",
              "        vertical-align: middle;\n",
              "    }\n",
              "\n",
              "    .dataframe tbody tr th {\n",
              "        vertical-align: top;\n",
              "    }\n",
              "\n",
              "    .dataframe thead th {\n",
              "        text-align: right;\n",
              "    }\n",
              "</style>\n",
              "<table border=\"1\" class=\"dataframe\">\n",
              "  <thead>\n",
              "    <tr style=\"text-align: right;\">\n",
              "      <th></th>\n",
              "      <th>Unnamed: 0</th>\n",
              "      <th>target</th>\n",
              "      <th>flux_min</th>\n",
              "      <th>flux_max</th>\n",
              "      <th>flux_mean</th>\n",
              "      <th>flux_median</th>\n",
              "      <th>flux_std</th>\n",
              "      <th>flux_skew</th>\n",
              "      <th>flux_err_min</th>\n",
              "      <th>flux_err_max</th>\n",
              "      <th>flux_err_mean</th>\n",
              "      <th>flux_err_median</th>\n",
              "      <th>flux_err_std</th>\n",
              "      <th>flux_err_skew</th>\n",
              "      <th>detected_mean</th>\n",
              "      <th>flux_ratio_sq_sum</th>\n",
              "      <th>flux_ratio_sq_skew</th>\n",
              "      <th>flux_by_flux_ratio_sq_sum</th>\n",
              "      <th>flux_by_flux_ratio_sq_skew</th>\n",
              "      <th>flux_w_mean</th>\n",
              "      <th>flux_diff1</th>\n",
              "      <th>flux_diff2</th>\n",
              "      <th>flux_diff3</th>\n",
              "      <th>0__fft_coefficient__coeff_0__attr_\"abs\"</th>\n",
              "      <th>0__fft_coefficient__coeff_1__attr_\"abs\"</th>\n",
              "      <th>0__kurtosis</th>\n",
              "      <th>0__skewness</th>\n",
              "      <th>1__fft_coefficient__coeff_0__attr_\"abs\"</th>\n",
              "      <th>1__fft_coefficient__coeff_1__attr_\"abs\"</th>\n",
              "      <th>1__kurtosis</th>\n",
              "      <th>1__skewness</th>\n",
              "      <th>2__fft_coefficient__coeff_0__attr_\"abs\"</th>\n",
              "      <th>2__fft_coefficient__coeff_1__attr_\"abs\"</th>\n",
              "      <th>2__kurtosis</th>\n",
              "      <th>2__skewness</th>\n",
              "      <th>3__fft_coefficient__coeff_0__attr_\"abs\"</th>\n",
              "      <th>3__fft_coefficient__coeff_1__attr_\"abs\"</th>\n",
              "      <th>3__kurtosis</th>\n",
              "      <th>3__skewness</th>\n",
              "      <th>4__fft_coefficient__coeff_0__attr_\"abs\"</th>\n",
              "      <th>...</th>\n",
              "      <th>__freq_signif_ratio_21___2_</th>\n",
              "      <th>__freq_signif_ratio_21___3_</th>\n",
              "      <th>__freq_signif_ratio_21___4_</th>\n",
              "      <th>__freq_signif_ratio_21___5_</th>\n",
              "      <th>__freq_signif_ratio_31___0_</th>\n",
              "      <th>__freq_signif_ratio_31___1_</th>\n",
              "      <th>__freq_signif_ratio_31___2_</th>\n",
              "      <th>__freq_signif_ratio_31___3_</th>\n",
              "      <th>__freq_signif_ratio_31___4_</th>\n",
              "      <th>__freq_signif_ratio_31___5_</th>\n",
              "      <th>__freq_varrat___0_</th>\n",
              "      <th>__freq_varrat___1_</th>\n",
              "      <th>__freq_varrat___2_</th>\n",
              "      <th>__freq_varrat___3_</th>\n",
              "      <th>__freq_varrat___4_</th>\n",
              "      <th>__freq_varrat___5_</th>\n",
              "      <th>__freq_y_offset___0_</th>\n",
              "      <th>__freq_y_offset___1_</th>\n",
              "      <th>__freq_y_offset___2_</th>\n",
              "      <th>__freq_y_offset___3_</th>\n",
              "      <th>__freq_y_offset___4_</th>\n",
              "      <th>__freq_y_offset___5_</th>\n",
              "      <th>time_score</th>\n",
              "      <th>phase_score</th>\n",
              "      <th>ddf_bool</th>\n",
              "      <th>true_submodel</th>\n",
              "      <th>true_z</th>\n",
              "      <th>true_distmod</th>\n",
              "      <th>true_lensdmu</th>\n",
              "      <th>true_vpec</th>\n",
              "      <th>true_rv</th>\n",
              "      <th>true_av</th>\n",
              "      <th>true_peakmjd</th>\n",
              "      <th>libid_cadence</th>\n",
              "      <th>tflux_u</th>\n",
              "      <th>tflux_g</th>\n",
              "      <th>tflux_r</th>\n",
              "      <th>tflux_i</th>\n",
              "      <th>tflux_z</th>\n",
              "      <th>tflux_y</th>\n",
              "    </tr>\n",
              "  </thead>\n",
              "  <tbody>\n",
              "    <tr>\n",
              "      <th>0</th>\n",
              "      <td>0</td>\n",
              "      <td>92</td>\n",
              "      <td>0.998599</td>\n",
              "      <td>0.000580</td>\n",
              "      <td>0.253477</td>\n",
              "      <td>0.582881</td>\n",
              "      <td>0.001400</td>\n",
              "      <td>0.398073</td>\n",
              "      <td>0.005095</td>\n",
              "      <td>1.692928e-06</td>\n",
              "      <td>0.000022</td>\n",
              "      <td>0.000540</td>\n",
              "      <td>0.000002</td>\n",
              "      <td>0.231565</td>\n",
              "      <td>0.945714</td>\n",
              "      <td>0.269740</td>\n",
              "      <td>0.102732</td>\n",
              "      <td>0.419864</td>\n",
              "      <td>0.457157</td>\n",
              "      <td>0.279084</td>\n",
              "      <td>0.000486</td>\n",
              "      <td>0.522296</td>\n",
              "      <td>0.539588</td>\n",
              "      <td>0.000092</td>\n",
              "      <td>3.515728e-04</td>\n",
              "      <td>0.023115</td>\n",
              "      <td>0.486666</td>\n",
              "      <td>0.035217</td>\n",
              "      <td>0.006315</td>\n",
              "      <td>0.048923</td>\n",
              "      <td>0.520752</td>\n",
              "      <td>0.002080</td>\n",
              "      <td>0.001155</td>\n",
              "      <td>0.016812</td>\n",
              "      <td>0.522493</td>\n",
              "      <td>0.002151</td>\n",
              "      <td>0.001181</td>\n",
              "      <td>0.011624</td>\n",
              "      <td>0.514756</td>\n",
              "      <td>0.000885</td>\n",
              "      <td>...</td>\n",
              "      <td>0.450552</td>\n",
              "      <td>0.631785</td>\n",
              "      <td>0.597880</td>\n",
              "      <td>0.626320</td>\n",
              "      <td>0.418006</td>\n",
              "      <td>0.337524</td>\n",
              "      <td>0.424850</td>\n",
              "      <td>0.434345</td>\n",
              "      <td>0.278001</td>\n",
              "      <td>0.539139</td>\n",
              "      <td>0.127557</td>\n",
              "      <td>0.268992</td>\n",
              "      <td>0.139321</td>\n",
              "      <td>0.110750</td>\n",
              "      <td>0.129510</td>\n",
              "      <td>0.401857</td>\n",
              "      <td>0.273375</td>\n",
              "      <td>0.396428</td>\n",
              "      <td>0.999929</td>\n",
              "      <td>0.496892</td>\n",
              "      <td>0.609820</td>\n",
              "      <td>0.492746</td>\n",
              "      <td>0.437672</td>\n",
              "      <td>0.959545</td>\n",
              "      <td>1.0</td>\n",
              "      <td>0.0</td>\n",
              "      <td>0.000000</td>\n",
              "      <td>0.000000</td>\n",
              "      <td>0.793282</td>\n",
              "      <td>0.481390</td>\n",
              "      <td>0.0</td>\n",
              "      <td>0.0</td>\n",
              "      <td>0.453353</td>\n",
              "      <td>0.00138</td>\n",
              "      <td>0.016690</td>\n",
              "      <td>0.020350</td>\n",
              "      <td>0.017798</td>\n",
              "      <td>0.020112</td>\n",
              "      <td>0.017101</td>\n",
              "      <td>0.015200</td>\n",
              "    </tr>\n",
              "    <tr>\n",
              "      <th>1</th>\n",
              "      <td>1</td>\n",
              "      <td>88</td>\n",
              "      <td>0.999543</td>\n",
              "      <td>0.000315</td>\n",
              "      <td>0.254123</td>\n",
              "      <td>0.584075</td>\n",
              "      <td>0.000014</td>\n",
              "      <td>0.409715</td>\n",
              "      <td>0.000537</td>\n",
              "      <td>2.344565e-08</td>\n",
              "      <td>0.000002</td>\n",
              "      <td>0.000063</td>\n",
              "      <td>0.000001</td>\n",
              "      <td>0.232165</td>\n",
              "      <td>0.166694</td>\n",
              "      <td>0.000530</td>\n",
              "      <td>0.234246</td>\n",
              "      <td>0.423389</td>\n",
              "      <td>0.402260</td>\n",
              "      <td>0.280379</td>\n",
              "      <td>0.000002</td>\n",
              "      <td>0.522246</td>\n",
              "      <td>0.539480</td>\n",
              "      <td>0.000085</td>\n",
              "      <td>6.464922e-05</td>\n",
              "      <td>0.029284</td>\n",
              "      <td>0.494760</td>\n",
              "      <td>0.000090</td>\n",
              "      <td>0.000433</td>\n",
              "      <td>0.051468</td>\n",
              "      <td>0.487141</td>\n",
              "      <td>0.000012</td>\n",
              "      <td>0.000079</td>\n",
              "      <td>0.020477</td>\n",
              "      <td>0.498674</td>\n",
              "      <td>0.000017</td>\n",
              "      <td>0.000099</td>\n",
              "      <td>0.016752</td>\n",
              "      <td>0.484139</td>\n",
              "      <td>0.000014</td>\n",
              "      <td>...</td>\n",
              "      <td>0.439772</td>\n",
              "      <td>0.624041</td>\n",
              "      <td>0.604519</td>\n",
              "      <td>0.530395</td>\n",
              "      <td>0.464654</td>\n",
              "      <td>0.392311</td>\n",
              "      <td>0.484569</td>\n",
              "      <td>0.449170</td>\n",
              "      <td>0.554486</td>\n",
              "      <td>0.529920</td>\n",
              "      <td>0.113348</td>\n",
              "      <td>0.076164</td>\n",
              "      <td>0.086336</td>\n",
              "      <td>0.111848</td>\n",
              "      <td>0.166125</td>\n",
              "      <td>0.369672</td>\n",
              "      <td>0.228406</td>\n",
              "      <td>0.476676</td>\n",
              "      <td>0.999922</td>\n",
              "      <td>0.463559</td>\n",
              "      <td>0.552805</td>\n",
              "      <td>0.438561</td>\n",
              "      <td>0.851534</td>\n",
              "      <td>0.182289</td>\n",
              "      <td>1.0</td>\n",
              "      <td>0.0</td>\n",
              "      <td>0.527737</td>\n",
              "      <td>0.964483</td>\n",
              "      <td>0.793282</td>\n",
              "      <td>0.481390</td>\n",
              "      <td>0.0</td>\n",
              "      <td>0.0</td>\n",
              "      <td>0.453353</td>\n",
              "      <td>0.00068</td>\n",
              "      <td>0.003743</td>\n",
              "      <td>0.000729</td>\n",
              "      <td>0.000664</td>\n",
              "      <td>0.000990</td>\n",
              "      <td>0.000886</td>\n",
              "      <td>0.000806</td>\n",
              "    </tr>\n",
              "    <tr>\n",
              "      <th>2</th>\n",
              "      <td>2</td>\n",
              "      <td>42</td>\n",
              "      <td>0.999539</td>\n",
              "      <td>0.000328</td>\n",
              "      <td>0.254143</td>\n",
              "      <td>0.584092</td>\n",
              "      <td>0.000019</td>\n",
              "      <td>0.510730</td>\n",
              "      <td>0.000707</td>\n",
              "      <td>9.928179e-07</td>\n",
              "      <td>0.000003</td>\n",
              "      <td>0.000061</td>\n",
              "      <td>0.000002</td>\n",
              "      <td>0.244197</td>\n",
              "      <td>0.064381</td>\n",
              "      <td>0.000368</td>\n",
              "      <td>0.336435</td>\n",
              "      <td>0.423389</td>\n",
              "      <td>0.656362</td>\n",
              "      <td>0.280500</td>\n",
              "      <td>0.000013</td>\n",
              "      <td>0.522639</td>\n",
              "      <td>0.540883</td>\n",
              "      <td>0.000002</td>\n",
              "      <td>9.836503e-07</td>\n",
              "      <td>0.049192</td>\n",
              "      <td>0.500738</td>\n",
              "      <td>0.000012</td>\n",
              "      <td>0.000030</td>\n",
              "      <td>0.084877</td>\n",
              "      <td>0.524475</td>\n",
              "      <td>0.000033</td>\n",
              "      <td>0.000049</td>\n",
              "      <td>0.125095</td>\n",
              "      <td>0.656837</td>\n",
              "      <td>0.000052</td>\n",
              "      <td>0.000075</td>\n",
              "      <td>0.154875</td>\n",
              "      <td>0.672325</td>\n",
              "      <td>0.000060</td>\n",
              "      <td>...</td>\n",
              "      <td>0.528993</td>\n",
              "      <td>0.660896</td>\n",
              "      <td>0.700214</td>\n",
              "      <td>0.596515</td>\n",
              "      <td>0.539890</td>\n",
              "      <td>0.407594</td>\n",
              "      <td>0.501768</td>\n",
              "      <td>0.579188</td>\n",
              "      <td>0.617399</td>\n",
              "      <td>0.567847</td>\n",
              "      <td>0.758609</td>\n",
              "      <td>0.657327</td>\n",
              "      <td>0.204572</td>\n",
              "      <td>0.292940</td>\n",
              "      <td>0.318262</td>\n",
              "      <td>0.500862</td>\n",
              "      <td>0.221734</td>\n",
              "      <td>0.477941</td>\n",
              "      <td>0.999924</td>\n",
              "      <td>0.473776</td>\n",
              "      <td>0.567853</td>\n",
              "      <td>0.436264</td>\n",
              "      <td>0.639934</td>\n",
              "      <td>0.584175</td>\n",
              "      <td>1.0</td>\n",
              "      <td>0.5</td>\n",
              "      <td>0.067674</td>\n",
              "      <td>0.851053</td>\n",
              "      <td>0.803618</td>\n",
              "      <td>0.483366</td>\n",
              "      <td>0.0</td>\n",
              "      <td>0.0</td>\n",
              "      <td>0.747074</td>\n",
              "      <td>0.00018</td>\n",
              "      <td>0.000000</td>\n",
              "      <td>0.000000</td>\n",
              "      <td>0.000000</td>\n",
              "      <td>0.000000</td>\n",
              "      <td>0.000000</td>\n",
              "      <td>0.000000</td>\n",
              "    </tr>\n",
              "    <tr>\n",
              "      <th>3</th>\n",
              "      <td>3</td>\n",
              "      <td>90</td>\n",
              "      <td>0.999542</td>\n",
              "      <td>0.000400</td>\n",
              "      <td>0.254178</td>\n",
              "      <td>0.584101</td>\n",
              "      <td>0.000089</td>\n",
              "      <td>0.568282</td>\n",
              "      <td>0.000316</td>\n",
              "      <td>2.096156e-05</td>\n",
              "      <td>0.000003</td>\n",
              "      <td>0.000017</td>\n",
              "      <td>0.000007</td>\n",
              "      <td>0.807492</td>\n",
              "      <td>0.169068</td>\n",
              "      <td>0.008658</td>\n",
              "      <td>0.543261</td>\n",
              "      <td>0.423442</td>\n",
              "      <td>0.794985</td>\n",
              "      <td>0.281012</td>\n",
              "      <td>0.000060</td>\n",
              "      <td>0.522617</td>\n",
              "      <td>0.540709</td>\n",
              "      <td>0.000058</td>\n",
              "      <td>2.658504e-05</td>\n",
              "      <td>0.104780</td>\n",
              "      <td>0.603580</td>\n",
              "      <td>0.000504</td>\n",
              "      <td>0.000631</td>\n",
              "      <td>0.888741</td>\n",
              "      <td>0.960817</td>\n",
              "      <td>0.000145</td>\n",
              "      <td>0.000202</td>\n",
              "      <td>0.637555</td>\n",
              "      <td>0.873816</td>\n",
              "      <td>0.000247</td>\n",
              "      <td>0.000331</td>\n",
              "      <td>0.309674</td>\n",
              "      <td>0.744794</td>\n",
              "      <td>0.000201</td>\n",
              "      <td>...</td>\n",
              "      <td>0.195112</td>\n",
              "      <td>0.332318</td>\n",
              "      <td>0.429168</td>\n",
              "      <td>0.227978</td>\n",
              "      <td>0.335878</td>\n",
              "      <td>0.280169</td>\n",
              "      <td>0.165986</td>\n",
              "      <td>0.242775</td>\n",
              "      <td>0.393860</td>\n",
              "      <td>0.239087</td>\n",
              "      <td>0.432172</td>\n",
              "      <td>0.793641</td>\n",
              "      <td>0.472483</td>\n",
              "      <td>0.290638</td>\n",
              "      <td>0.360891</td>\n",
              "      <td>0.489889</td>\n",
              "      <td>0.210280</td>\n",
              "      <td>0.476894</td>\n",
              "      <td>0.999923</td>\n",
              "      <td>0.471281</td>\n",
              "      <td>0.575672</td>\n",
              "      <td>0.456745</td>\n",
              "      <td>0.645143</td>\n",
              "      <td>0.567762</td>\n",
              "      <td>1.0</td>\n",
              "      <td>0.0</td>\n",
              "      <td>0.087424</td>\n",
              "      <td>0.864580</td>\n",
              "      <td>0.782946</td>\n",
              "      <td>0.594496</td>\n",
              "      <td>0.0</td>\n",
              "      <td>0.0</td>\n",
              "      <td>0.641620</td>\n",
              "      <td>0.00076</td>\n",
              "      <td>0.000000</td>\n",
              "      <td>0.000000</td>\n",
              "      <td>0.000000</td>\n",
              "      <td>0.000000</td>\n",
              "      <td>0.000000</td>\n",
              "      <td>0.000000</td>\n",
              "    </tr>\n",
              "    <tr>\n",
              "      <th>4</th>\n",
              "      <td>4</td>\n",
              "      <td>90</td>\n",
              "      <td>0.999541</td>\n",
              "      <td>0.000368</td>\n",
              "      <td>0.254169</td>\n",
              "      <td>0.584102</td>\n",
              "      <td>0.000062</td>\n",
              "      <td>0.549964</td>\n",
              "      <td>0.000708</td>\n",
              "      <td>1.038612e-06</td>\n",
              "      <td>0.000005</td>\n",
              "      <td>0.000119</td>\n",
              "      <td>0.000003</td>\n",
              "      <td>0.242378</td>\n",
              "      <td>0.168571</td>\n",
              "      <td>0.003149</td>\n",
              "      <td>0.456001</td>\n",
              "      <td>0.423400</td>\n",
              "      <td>0.707997</td>\n",
              "      <td>0.280751</td>\n",
              "      <td>0.000039</td>\n",
              "      <td>0.522585</td>\n",
              "      <td>0.540754</td>\n",
              "      <td>0.000019</td>\n",
              "      <td>7.085033e-06</td>\n",
              "      <td>0.053851</td>\n",
              "      <td>0.458209</td>\n",
              "      <td>0.000423</td>\n",
              "      <td>0.000467</td>\n",
              "      <td>0.167627</td>\n",
              "      <td>0.651716</td>\n",
              "      <td>0.000159</td>\n",
              "      <td>0.000205</td>\n",
              "      <td>0.211374</td>\n",
              "      <td>0.702187</td>\n",
              "      <td>0.000197</td>\n",
              "      <td>0.000258</td>\n",
              "      <td>0.271309</td>\n",
              "      <td>0.734923</td>\n",
              "      <td>0.000157</td>\n",
              "      <td>...</td>\n",
              "      <td>0.332033</td>\n",
              "      <td>0.275762</td>\n",
              "      <td>0.237176</td>\n",
              "      <td>0.609899</td>\n",
              "      <td>0.553325</td>\n",
              "      <td>0.214116</td>\n",
              "      <td>0.310929</td>\n",
              "      <td>0.245203</td>\n",
              "      <td>0.286970</td>\n",
              "      <td>0.656955</td>\n",
              "      <td>0.559305</td>\n",
              "      <td>0.122120</td>\n",
              "      <td>0.147008</td>\n",
              "      <td>0.250620</td>\n",
              "      <td>0.382879</td>\n",
              "      <td>0.674116</td>\n",
              "      <td>0.221512</td>\n",
              "      <td>0.499461</td>\n",
              "      <td>0.999930</td>\n",
              "      <td>0.505696</td>\n",
              "      <td>0.595852</td>\n",
              "      <td>0.452834</td>\n",
              "      <td>0.717472</td>\n",
              "      <td>0.695442</td>\n",
              "      <td>1.0</td>\n",
              "      <td>0.0</td>\n",
              "      <td>0.056056</td>\n",
              "      <td>0.841303</td>\n",
              "      <td>0.788114</td>\n",
              "      <td>0.319522</td>\n",
              "      <td>0.0</td>\n",
              "      <td>0.0</td>\n",
              "      <td>0.749849</td>\n",
              "      <td>0.00002</td>\n",
              "      <td>0.000000</td>\n",
              "      <td>0.000000</td>\n",
              "      <td>0.000000</td>\n",
              "      <td>0.000000</td>\n",
              "      <td>0.000000</td>\n",
              "      <td>0.000000</td>\n",
              "    </tr>\n",
              "  </tbody>\n",
              "</table>\n",
              "<p>5 rows × 370 columns</p>\n",
              "</div>"
            ],
            "text/plain": [
              "   Unnamed: 0  target  flux_min  ...   tflux_i   tflux_z   tflux_y\n",
              "0           0      92  0.998599  ...  0.020112  0.017101  0.015200\n",
              "1           1      88  0.999543  ...  0.000990  0.000886  0.000806\n",
              "2           2      42  0.999539  ...  0.000000  0.000000  0.000000\n",
              "3           3      90  0.999542  ...  0.000000  0.000000  0.000000\n",
              "4           4      90  0.999541  ...  0.000000  0.000000  0.000000\n",
              "\n",
              "[5 rows x 370 columns]"
            ]
          },
          "metadata": {
            "tags": []
          },
          "execution_count": 110
        }
      ]
    },
    {
      "cell_type": "code",
      "metadata": {
        "id": "A3KfpgHy51EX",
        "colab_type": "code",
        "colab": {}
      },
      "source": [
        "df = df.drop(columns=['Unnamed: 0'])"
      ],
      "execution_count": 0,
      "outputs": []
    },
    {
      "cell_type": "code",
      "metadata": {
        "id": "lLxnM5pmgqDe",
        "colab_type": "code",
        "outputId": "27ca7eb3-7548-491d-f803-281bc2015c0e",
        "colab": {
          "base_uri": "https://localhost:8080/",
          "height": 251
        }
      },
      "source": [
        "df.head()"
      ],
      "execution_count": 0,
      "outputs": [
        {
          "output_type": "execute_result",
          "data": {
            "text/html": [
              "<div>\n",
              "<style scoped>\n",
              "    .dataframe tbody tr th:only-of-type {\n",
              "        vertical-align: middle;\n",
              "    }\n",
              "\n",
              "    .dataframe tbody tr th {\n",
              "        vertical-align: top;\n",
              "    }\n",
              "\n",
              "    .dataframe thead th {\n",
              "        text-align: right;\n",
              "    }\n",
              "</style>\n",
              "<table border=\"1\" class=\"dataframe\">\n",
              "  <thead>\n",
              "    <tr style=\"text-align: right;\">\n",
              "      <th></th>\n",
              "      <th>target</th>\n",
              "      <th>flux_min</th>\n",
              "      <th>flux_max</th>\n",
              "      <th>flux_mean</th>\n",
              "      <th>flux_median</th>\n",
              "      <th>flux_std</th>\n",
              "      <th>flux_skew</th>\n",
              "      <th>flux_err_min</th>\n",
              "      <th>flux_err_max</th>\n",
              "      <th>flux_err_mean</th>\n",
              "      <th>flux_err_median</th>\n",
              "      <th>flux_err_std</th>\n",
              "      <th>flux_err_skew</th>\n",
              "      <th>detected_mean</th>\n",
              "      <th>flux_ratio_sq_sum</th>\n",
              "      <th>flux_ratio_sq_skew</th>\n",
              "      <th>flux_by_flux_ratio_sq_sum</th>\n",
              "      <th>flux_by_flux_ratio_sq_skew</th>\n",
              "      <th>flux_w_mean</th>\n",
              "      <th>flux_diff1</th>\n",
              "      <th>flux_diff2</th>\n",
              "      <th>flux_diff3</th>\n",
              "      <th>0__fft_coefficient__coeff_0__attr_\"abs\"</th>\n",
              "      <th>0__fft_coefficient__coeff_1__attr_\"abs\"</th>\n",
              "      <th>0__kurtosis</th>\n",
              "      <th>0__skewness</th>\n",
              "      <th>1__fft_coefficient__coeff_0__attr_\"abs\"</th>\n",
              "      <th>1__fft_coefficient__coeff_1__attr_\"abs\"</th>\n",
              "      <th>1__kurtosis</th>\n",
              "      <th>1__skewness</th>\n",
              "      <th>2__fft_coefficient__coeff_0__attr_\"abs\"</th>\n",
              "      <th>2__fft_coefficient__coeff_1__attr_\"abs\"</th>\n",
              "      <th>2__kurtosis</th>\n",
              "      <th>2__skewness</th>\n",
              "      <th>3__fft_coefficient__coeff_0__attr_\"abs\"</th>\n",
              "      <th>3__fft_coefficient__coeff_1__attr_\"abs\"</th>\n",
              "      <th>3__kurtosis</th>\n",
              "      <th>3__skewness</th>\n",
              "      <th>4__fft_coefficient__coeff_0__attr_\"abs\"</th>\n",
              "      <th>4__fft_coefficient__coeff_1__attr_\"abs\"</th>\n",
              "      <th>...</th>\n",
              "      <th>__freq_signif_ratio_21___2_</th>\n",
              "      <th>__freq_signif_ratio_21___3_</th>\n",
              "      <th>__freq_signif_ratio_21___4_</th>\n",
              "      <th>__freq_signif_ratio_21___5_</th>\n",
              "      <th>__freq_signif_ratio_31___0_</th>\n",
              "      <th>__freq_signif_ratio_31___1_</th>\n",
              "      <th>__freq_signif_ratio_31___2_</th>\n",
              "      <th>__freq_signif_ratio_31___3_</th>\n",
              "      <th>__freq_signif_ratio_31___4_</th>\n",
              "      <th>__freq_signif_ratio_31___5_</th>\n",
              "      <th>__freq_varrat___0_</th>\n",
              "      <th>__freq_varrat___1_</th>\n",
              "      <th>__freq_varrat___2_</th>\n",
              "      <th>__freq_varrat___3_</th>\n",
              "      <th>__freq_varrat___4_</th>\n",
              "      <th>__freq_varrat___5_</th>\n",
              "      <th>__freq_y_offset___0_</th>\n",
              "      <th>__freq_y_offset___1_</th>\n",
              "      <th>__freq_y_offset___2_</th>\n",
              "      <th>__freq_y_offset___3_</th>\n",
              "      <th>__freq_y_offset___4_</th>\n",
              "      <th>__freq_y_offset___5_</th>\n",
              "      <th>time_score</th>\n",
              "      <th>phase_score</th>\n",
              "      <th>ddf_bool</th>\n",
              "      <th>true_submodel</th>\n",
              "      <th>true_z</th>\n",
              "      <th>true_distmod</th>\n",
              "      <th>true_lensdmu</th>\n",
              "      <th>true_vpec</th>\n",
              "      <th>true_rv</th>\n",
              "      <th>true_av</th>\n",
              "      <th>true_peakmjd</th>\n",
              "      <th>libid_cadence</th>\n",
              "      <th>tflux_u</th>\n",
              "      <th>tflux_g</th>\n",
              "      <th>tflux_r</th>\n",
              "      <th>tflux_i</th>\n",
              "      <th>tflux_z</th>\n",
              "      <th>tflux_y</th>\n",
              "    </tr>\n",
              "  </thead>\n",
              "  <tbody>\n",
              "    <tr>\n",
              "      <th>0</th>\n",
              "      <td>92</td>\n",
              "      <td>0.998599</td>\n",
              "      <td>0.000580</td>\n",
              "      <td>0.253477</td>\n",
              "      <td>0.582881</td>\n",
              "      <td>0.001400</td>\n",
              "      <td>0.398073</td>\n",
              "      <td>0.005095</td>\n",
              "      <td>1.692928e-06</td>\n",
              "      <td>0.000022</td>\n",
              "      <td>0.000540</td>\n",
              "      <td>0.000002</td>\n",
              "      <td>0.231565</td>\n",
              "      <td>0.945714</td>\n",
              "      <td>0.269740</td>\n",
              "      <td>0.102732</td>\n",
              "      <td>0.419864</td>\n",
              "      <td>0.457157</td>\n",
              "      <td>0.279084</td>\n",
              "      <td>0.000486</td>\n",
              "      <td>0.522296</td>\n",
              "      <td>0.539588</td>\n",
              "      <td>0.000092</td>\n",
              "      <td>3.515728e-04</td>\n",
              "      <td>0.023115</td>\n",
              "      <td>0.486666</td>\n",
              "      <td>0.035217</td>\n",
              "      <td>0.006315</td>\n",
              "      <td>0.048923</td>\n",
              "      <td>0.520752</td>\n",
              "      <td>0.002080</td>\n",
              "      <td>0.001155</td>\n",
              "      <td>0.016812</td>\n",
              "      <td>0.522493</td>\n",
              "      <td>0.002151</td>\n",
              "      <td>0.001181</td>\n",
              "      <td>0.011624</td>\n",
              "      <td>0.514756</td>\n",
              "      <td>0.000885</td>\n",
              "      <td>0.001043</td>\n",
              "      <td>...</td>\n",
              "      <td>0.450552</td>\n",
              "      <td>0.631785</td>\n",
              "      <td>0.597880</td>\n",
              "      <td>0.626320</td>\n",
              "      <td>0.418006</td>\n",
              "      <td>0.337524</td>\n",
              "      <td>0.424850</td>\n",
              "      <td>0.434345</td>\n",
              "      <td>0.278001</td>\n",
              "      <td>0.539139</td>\n",
              "      <td>0.127557</td>\n",
              "      <td>0.268992</td>\n",
              "      <td>0.139321</td>\n",
              "      <td>0.110750</td>\n",
              "      <td>0.129510</td>\n",
              "      <td>0.401857</td>\n",
              "      <td>0.273375</td>\n",
              "      <td>0.396428</td>\n",
              "      <td>0.999929</td>\n",
              "      <td>0.496892</td>\n",
              "      <td>0.609820</td>\n",
              "      <td>0.492746</td>\n",
              "      <td>0.437672</td>\n",
              "      <td>0.959545</td>\n",
              "      <td>1.0</td>\n",
              "      <td>0.0</td>\n",
              "      <td>0.000000</td>\n",
              "      <td>0.000000</td>\n",
              "      <td>0.793282</td>\n",
              "      <td>0.481390</td>\n",
              "      <td>0.0</td>\n",
              "      <td>0.0</td>\n",
              "      <td>0.453353</td>\n",
              "      <td>0.00138</td>\n",
              "      <td>0.016690</td>\n",
              "      <td>0.020350</td>\n",
              "      <td>0.017798</td>\n",
              "      <td>0.020112</td>\n",
              "      <td>0.017101</td>\n",
              "      <td>0.015200</td>\n",
              "    </tr>\n",
              "    <tr>\n",
              "      <th>1</th>\n",
              "      <td>88</td>\n",
              "      <td>0.999543</td>\n",
              "      <td>0.000315</td>\n",
              "      <td>0.254123</td>\n",
              "      <td>0.584075</td>\n",
              "      <td>0.000014</td>\n",
              "      <td>0.409715</td>\n",
              "      <td>0.000537</td>\n",
              "      <td>2.344565e-08</td>\n",
              "      <td>0.000002</td>\n",
              "      <td>0.000063</td>\n",
              "      <td>0.000001</td>\n",
              "      <td>0.232165</td>\n",
              "      <td>0.166694</td>\n",
              "      <td>0.000530</td>\n",
              "      <td>0.234246</td>\n",
              "      <td>0.423389</td>\n",
              "      <td>0.402260</td>\n",
              "      <td>0.280379</td>\n",
              "      <td>0.000002</td>\n",
              "      <td>0.522246</td>\n",
              "      <td>0.539480</td>\n",
              "      <td>0.000085</td>\n",
              "      <td>6.464922e-05</td>\n",
              "      <td>0.029284</td>\n",
              "      <td>0.494760</td>\n",
              "      <td>0.000090</td>\n",
              "      <td>0.000433</td>\n",
              "      <td>0.051468</td>\n",
              "      <td>0.487141</td>\n",
              "      <td>0.000012</td>\n",
              "      <td>0.000079</td>\n",
              "      <td>0.020477</td>\n",
              "      <td>0.498674</td>\n",
              "      <td>0.000017</td>\n",
              "      <td>0.000099</td>\n",
              "      <td>0.016752</td>\n",
              "      <td>0.484139</td>\n",
              "      <td>0.000014</td>\n",
              "      <td>0.000077</td>\n",
              "      <td>...</td>\n",
              "      <td>0.439772</td>\n",
              "      <td>0.624041</td>\n",
              "      <td>0.604519</td>\n",
              "      <td>0.530395</td>\n",
              "      <td>0.464654</td>\n",
              "      <td>0.392311</td>\n",
              "      <td>0.484569</td>\n",
              "      <td>0.449170</td>\n",
              "      <td>0.554486</td>\n",
              "      <td>0.529920</td>\n",
              "      <td>0.113348</td>\n",
              "      <td>0.076164</td>\n",
              "      <td>0.086336</td>\n",
              "      <td>0.111848</td>\n",
              "      <td>0.166125</td>\n",
              "      <td>0.369672</td>\n",
              "      <td>0.228406</td>\n",
              "      <td>0.476676</td>\n",
              "      <td>0.999922</td>\n",
              "      <td>0.463559</td>\n",
              "      <td>0.552805</td>\n",
              "      <td>0.438561</td>\n",
              "      <td>0.851534</td>\n",
              "      <td>0.182289</td>\n",
              "      <td>1.0</td>\n",
              "      <td>0.0</td>\n",
              "      <td>0.527737</td>\n",
              "      <td>0.964483</td>\n",
              "      <td>0.793282</td>\n",
              "      <td>0.481390</td>\n",
              "      <td>0.0</td>\n",
              "      <td>0.0</td>\n",
              "      <td>0.453353</td>\n",
              "      <td>0.00068</td>\n",
              "      <td>0.003743</td>\n",
              "      <td>0.000729</td>\n",
              "      <td>0.000664</td>\n",
              "      <td>0.000990</td>\n",
              "      <td>0.000886</td>\n",
              "      <td>0.000806</td>\n",
              "    </tr>\n",
              "    <tr>\n",
              "      <th>2</th>\n",
              "      <td>42</td>\n",
              "      <td>0.999539</td>\n",
              "      <td>0.000328</td>\n",
              "      <td>0.254143</td>\n",
              "      <td>0.584092</td>\n",
              "      <td>0.000019</td>\n",
              "      <td>0.510730</td>\n",
              "      <td>0.000707</td>\n",
              "      <td>9.928179e-07</td>\n",
              "      <td>0.000003</td>\n",
              "      <td>0.000061</td>\n",
              "      <td>0.000002</td>\n",
              "      <td>0.244197</td>\n",
              "      <td>0.064381</td>\n",
              "      <td>0.000368</td>\n",
              "      <td>0.336435</td>\n",
              "      <td>0.423389</td>\n",
              "      <td>0.656362</td>\n",
              "      <td>0.280500</td>\n",
              "      <td>0.000013</td>\n",
              "      <td>0.522639</td>\n",
              "      <td>0.540883</td>\n",
              "      <td>0.000002</td>\n",
              "      <td>9.836503e-07</td>\n",
              "      <td>0.049192</td>\n",
              "      <td>0.500738</td>\n",
              "      <td>0.000012</td>\n",
              "      <td>0.000030</td>\n",
              "      <td>0.084877</td>\n",
              "      <td>0.524475</td>\n",
              "      <td>0.000033</td>\n",
              "      <td>0.000049</td>\n",
              "      <td>0.125095</td>\n",
              "      <td>0.656837</td>\n",
              "      <td>0.000052</td>\n",
              "      <td>0.000075</td>\n",
              "      <td>0.154875</td>\n",
              "      <td>0.672325</td>\n",
              "      <td>0.000060</td>\n",
              "      <td>0.000076</td>\n",
              "      <td>...</td>\n",
              "      <td>0.528993</td>\n",
              "      <td>0.660896</td>\n",
              "      <td>0.700214</td>\n",
              "      <td>0.596515</td>\n",
              "      <td>0.539890</td>\n",
              "      <td>0.407594</td>\n",
              "      <td>0.501768</td>\n",
              "      <td>0.579188</td>\n",
              "      <td>0.617399</td>\n",
              "      <td>0.567847</td>\n",
              "      <td>0.758609</td>\n",
              "      <td>0.657327</td>\n",
              "      <td>0.204572</td>\n",
              "      <td>0.292940</td>\n",
              "      <td>0.318262</td>\n",
              "      <td>0.500862</td>\n",
              "      <td>0.221734</td>\n",
              "      <td>0.477941</td>\n",
              "      <td>0.999924</td>\n",
              "      <td>0.473776</td>\n",
              "      <td>0.567853</td>\n",
              "      <td>0.436264</td>\n",
              "      <td>0.639934</td>\n",
              "      <td>0.584175</td>\n",
              "      <td>1.0</td>\n",
              "      <td>0.5</td>\n",
              "      <td>0.067674</td>\n",
              "      <td>0.851053</td>\n",
              "      <td>0.803618</td>\n",
              "      <td>0.483366</td>\n",
              "      <td>0.0</td>\n",
              "      <td>0.0</td>\n",
              "      <td>0.747074</td>\n",
              "      <td>0.00018</td>\n",
              "      <td>0.000000</td>\n",
              "      <td>0.000000</td>\n",
              "      <td>0.000000</td>\n",
              "      <td>0.000000</td>\n",
              "      <td>0.000000</td>\n",
              "      <td>0.000000</td>\n",
              "    </tr>\n",
              "    <tr>\n",
              "      <th>3</th>\n",
              "      <td>90</td>\n",
              "      <td>0.999542</td>\n",
              "      <td>0.000400</td>\n",
              "      <td>0.254178</td>\n",
              "      <td>0.584101</td>\n",
              "      <td>0.000089</td>\n",
              "      <td>0.568282</td>\n",
              "      <td>0.000316</td>\n",
              "      <td>2.096156e-05</td>\n",
              "      <td>0.000003</td>\n",
              "      <td>0.000017</td>\n",
              "      <td>0.000007</td>\n",
              "      <td>0.807492</td>\n",
              "      <td>0.169068</td>\n",
              "      <td>0.008658</td>\n",
              "      <td>0.543261</td>\n",
              "      <td>0.423442</td>\n",
              "      <td>0.794985</td>\n",
              "      <td>0.281012</td>\n",
              "      <td>0.000060</td>\n",
              "      <td>0.522617</td>\n",
              "      <td>0.540709</td>\n",
              "      <td>0.000058</td>\n",
              "      <td>2.658504e-05</td>\n",
              "      <td>0.104780</td>\n",
              "      <td>0.603580</td>\n",
              "      <td>0.000504</td>\n",
              "      <td>0.000631</td>\n",
              "      <td>0.888741</td>\n",
              "      <td>0.960817</td>\n",
              "      <td>0.000145</td>\n",
              "      <td>0.000202</td>\n",
              "      <td>0.637555</td>\n",
              "      <td>0.873816</td>\n",
              "      <td>0.000247</td>\n",
              "      <td>0.000331</td>\n",
              "      <td>0.309674</td>\n",
              "      <td>0.744794</td>\n",
              "      <td>0.000201</td>\n",
              "      <td>0.000258</td>\n",
              "      <td>...</td>\n",
              "      <td>0.195112</td>\n",
              "      <td>0.332318</td>\n",
              "      <td>0.429168</td>\n",
              "      <td>0.227978</td>\n",
              "      <td>0.335878</td>\n",
              "      <td>0.280169</td>\n",
              "      <td>0.165986</td>\n",
              "      <td>0.242775</td>\n",
              "      <td>0.393860</td>\n",
              "      <td>0.239087</td>\n",
              "      <td>0.432172</td>\n",
              "      <td>0.793641</td>\n",
              "      <td>0.472483</td>\n",
              "      <td>0.290638</td>\n",
              "      <td>0.360891</td>\n",
              "      <td>0.489889</td>\n",
              "      <td>0.210280</td>\n",
              "      <td>0.476894</td>\n",
              "      <td>0.999923</td>\n",
              "      <td>0.471281</td>\n",
              "      <td>0.575672</td>\n",
              "      <td>0.456745</td>\n",
              "      <td>0.645143</td>\n",
              "      <td>0.567762</td>\n",
              "      <td>1.0</td>\n",
              "      <td>0.0</td>\n",
              "      <td>0.087424</td>\n",
              "      <td>0.864580</td>\n",
              "      <td>0.782946</td>\n",
              "      <td>0.594496</td>\n",
              "      <td>0.0</td>\n",
              "      <td>0.0</td>\n",
              "      <td>0.641620</td>\n",
              "      <td>0.00076</td>\n",
              "      <td>0.000000</td>\n",
              "      <td>0.000000</td>\n",
              "      <td>0.000000</td>\n",
              "      <td>0.000000</td>\n",
              "      <td>0.000000</td>\n",
              "      <td>0.000000</td>\n",
              "    </tr>\n",
              "    <tr>\n",
              "      <th>4</th>\n",
              "      <td>90</td>\n",
              "      <td>0.999541</td>\n",
              "      <td>0.000368</td>\n",
              "      <td>0.254169</td>\n",
              "      <td>0.584102</td>\n",
              "      <td>0.000062</td>\n",
              "      <td>0.549964</td>\n",
              "      <td>0.000708</td>\n",
              "      <td>1.038612e-06</td>\n",
              "      <td>0.000005</td>\n",
              "      <td>0.000119</td>\n",
              "      <td>0.000003</td>\n",
              "      <td>0.242378</td>\n",
              "      <td>0.168571</td>\n",
              "      <td>0.003149</td>\n",
              "      <td>0.456001</td>\n",
              "      <td>0.423400</td>\n",
              "      <td>0.707997</td>\n",
              "      <td>0.280751</td>\n",
              "      <td>0.000039</td>\n",
              "      <td>0.522585</td>\n",
              "      <td>0.540754</td>\n",
              "      <td>0.000019</td>\n",
              "      <td>7.085033e-06</td>\n",
              "      <td>0.053851</td>\n",
              "      <td>0.458209</td>\n",
              "      <td>0.000423</td>\n",
              "      <td>0.000467</td>\n",
              "      <td>0.167627</td>\n",
              "      <td>0.651716</td>\n",
              "      <td>0.000159</td>\n",
              "      <td>0.000205</td>\n",
              "      <td>0.211374</td>\n",
              "      <td>0.702187</td>\n",
              "      <td>0.000197</td>\n",
              "      <td>0.000258</td>\n",
              "      <td>0.271309</td>\n",
              "      <td>0.734923</td>\n",
              "      <td>0.000157</td>\n",
              "      <td>0.000199</td>\n",
              "      <td>...</td>\n",
              "      <td>0.332033</td>\n",
              "      <td>0.275762</td>\n",
              "      <td>0.237176</td>\n",
              "      <td>0.609899</td>\n",
              "      <td>0.553325</td>\n",
              "      <td>0.214116</td>\n",
              "      <td>0.310929</td>\n",
              "      <td>0.245203</td>\n",
              "      <td>0.286970</td>\n",
              "      <td>0.656955</td>\n",
              "      <td>0.559305</td>\n",
              "      <td>0.122120</td>\n",
              "      <td>0.147008</td>\n",
              "      <td>0.250620</td>\n",
              "      <td>0.382879</td>\n",
              "      <td>0.674116</td>\n",
              "      <td>0.221512</td>\n",
              "      <td>0.499461</td>\n",
              "      <td>0.999930</td>\n",
              "      <td>0.505696</td>\n",
              "      <td>0.595852</td>\n",
              "      <td>0.452834</td>\n",
              "      <td>0.717472</td>\n",
              "      <td>0.695442</td>\n",
              "      <td>1.0</td>\n",
              "      <td>0.0</td>\n",
              "      <td>0.056056</td>\n",
              "      <td>0.841303</td>\n",
              "      <td>0.788114</td>\n",
              "      <td>0.319522</td>\n",
              "      <td>0.0</td>\n",
              "      <td>0.0</td>\n",
              "      <td>0.749849</td>\n",
              "      <td>0.00002</td>\n",
              "      <td>0.000000</td>\n",
              "      <td>0.000000</td>\n",
              "      <td>0.000000</td>\n",
              "      <td>0.000000</td>\n",
              "      <td>0.000000</td>\n",
              "      <td>0.000000</td>\n",
              "    </tr>\n",
              "  </tbody>\n",
              "</table>\n",
              "<p>5 rows × 369 columns</p>\n",
              "</div>"
            ],
            "text/plain": [
              "   target  flux_min  flux_max  ...   tflux_i   tflux_z   tflux_y\n",
              "0      92  0.998599  0.000580  ...  0.020112  0.017101  0.015200\n",
              "1      88  0.999543  0.000315  ...  0.000990  0.000886  0.000806\n",
              "2      42  0.999539  0.000328  ...  0.000000  0.000000  0.000000\n",
              "3      90  0.999542  0.000400  ...  0.000000  0.000000  0.000000\n",
              "4      90  0.999541  0.000368  ...  0.000000  0.000000  0.000000\n",
              "\n",
              "[5 rows x 369 columns]"
            ]
          },
          "metadata": {
            "tags": []
          },
          "execution_count": 112
        }
      ]
    },
    {
      "cell_type": "code",
      "metadata": {
        "id": "LcoY1qsIZzms",
        "colab_type": "code",
        "outputId": "5f653b9a-a2a5-4958-b142-184c1e5aed7c",
        "colab": {
          "base_uri": "https://localhost:8080/",
          "height": 34
        }
      },
      "source": [
        "np.any(np.isinf(df))"
      ],
      "execution_count": 0,
      "outputs": [
        {
          "output_type": "execute_result",
          "data": {
            "text/plain": [
              "False"
            ]
          },
          "metadata": {
            "tags": []
          },
          "execution_count": 11
        }
      ]
    },
    {
      "cell_type": "code",
      "metadata": {
        "id": "hfDVyPU7PdXb",
        "colab_type": "code",
        "outputId": "813e401d-8854-43eb-b0e7-e2ad5c174af0",
        "colab": {
          "base_uri": "https://localhost:8080/",
          "height": 34
        }
      },
      "source": [
        "targets = df['target']\n",
        "classes = targets.unique()\n",
        "classes"
      ],
      "execution_count": 0,
      "outputs": [
        {
          "output_type": "execute_result",
          "data": {
            "text/plain": [
              "array([92, 88, 42, 90, 65, 16, 67, 95, 62, 15, 52,  6, 64, 53])"
            ]
          },
          "metadata": {
            "tags": []
          },
          "execution_count": 113
        }
      ]
    },
    {
      "cell_type": "code",
      "metadata": {
        "id": "9PP3KyEyAsep",
        "colab_type": "code",
        "outputId": "be2dadba-33b6-43c7-ec89-a8fa7113206a",
        "colab": {
          "base_uri": "https://localhost:8080/",
          "height": 118
        }
      },
      "source": [
        "targets[:5]"
      ],
      "execution_count": 0,
      "outputs": [
        {
          "output_type": "execute_result",
          "data": {
            "text/plain": [
              "0    92\n",
              "1    88\n",
              "2    42\n",
              "3    90\n",
              "4    90\n",
              "Name: target, dtype: int64"
            ]
          },
          "metadata": {
            "tags": []
          },
          "execution_count": 114
        }
      ]
    },
    {
      "cell_type": "code",
      "metadata": {
        "id": "MH5iMXIVXFoi",
        "colab_type": "code",
        "outputId": "28f289ae-3eee-476e-9746-7694c96cbcd2",
        "colab": {
          "base_uri": "https://localhost:8080/",
          "height": 254
        }
      },
      "source": [
        "class_map =[] \n",
        "\n",
        "for i,val in enumerate(classes):\n",
        "    class_map.append([val , i])\n",
        "class_map"
      ],
      "execution_count": 0,
      "outputs": [
        {
          "output_type": "execute_result",
          "data": {
            "text/plain": [
              "[[92, 0],\n",
              " [88, 1],\n",
              " [42, 2],\n",
              " [90, 3],\n",
              " [65, 4],\n",
              " [16, 5],\n",
              " [67, 6],\n",
              " [95, 7],\n",
              " [62, 8],\n",
              " [15, 9],\n",
              " [52, 10],\n",
              " [6, 11],\n",
              " [64, 12],\n",
              " [53, 13]]"
            ]
          },
          "metadata": {
            "tags": []
          },
          "execution_count": 115
        }
      ]
    },
    {
      "cell_type": "code",
      "metadata": {
        "id": "2oznQZGVqDTo",
        "colab_type": "code",
        "outputId": "0c7e7208-7079-4960-d8fc-5942daa85553",
        "colab": {
          "base_uri": "https://localhost:8080/",
          "height": 34
        }
      },
      "source": [
        "[class_map[i][0] for i in range(len(class_map))]"
      ],
      "execution_count": 0,
      "outputs": [
        {
          "output_type": "execute_result",
          "data": {
            "text/plain": [
              "[92, 88, 42, 90, 65, 16, 67, 95, 62, 15, 52, 6, 64, 53]"
            ]
          },
          "metadata": {
            "tags": []
          },
          "execution_count": 116
        }
      ]
    },
    {
      "cell_type": "code",
      "metadata": {
        "id": "QFMRg8wYj6yq",
        "colab_type": "code",
        "outputId": "20d02e5e-c9b4-42d5-e8b4-12a9982d9708",
        "colab": {
          "base_uri": "https://localhost:8080/",
          "height": 34
        }
      },
      "source": [
        "len(class_map)"
      ],
      "execution_count": 0,
      "outputs": [
        {
          "output_type": "execute_result",
          "data": {
            "text/plain": [
              "14"
            ]
          },
          "metadata": {
            "tags": []
          },
          "execution_count": 117
        }
      ]
    },
    {
      "cell_type": "code",
      "metadata": {
        "id": "8Jshn4w9ZGxo",
        "colab_type": "code",
        "colab": {}
      },
      "source": [
        "def one_hot(targets , class_map):\n",
        "    \n",
        "    vecs = []\n",
        "    \n",
        "    for j in targets:\n",
        "        \n",
        "        vec = np.zeros((classes.shape[0],))\n",
        "        \n",
        "        for i in range(len(class_map)):\n",
        "            if class_map[i][0]== j:\n",
        "                vec[class_map[i][1]] =+ 1\n",
        "                vecs.append(vec)\n",
        "    return vecs"
      ],
      "execution_count": 0,
      "outputs": []
    },
    {
      "cell_type": "code",
      "metadata": {
        "id": "utxkjtyc_Cev",
        "colab_type": "code",
        "outputId": "2c4126b1-a793-4157-fad3-6f9bd27496d3",
        "colab": {
          "base_uri": "https://localhost:8080/",
          "height": 101
        }
      },
      "source": [
        "one_hot(targets , class_map=class_map)[:5]"
      ],
      "execution_count": 0,
      "outputs": [
        {
          "output_type": "execute_result",
          "data": {
            "text/plain": [
              "[array([1., 0., 0., 0., 0., 0., 0., 0., 0., 0., 0., 0., 0., 0.]),\n",
              " array([0., 1., 0., 0., 0., 0., 0., 0., 0., 0., 0., 0., 0., 0.]),\n",
              " array([0., 0., 1., 0., 0., 0., 0., 0., 0., 0., 0., 0., 0., 0.]),\n",
              " array([0., 0., 0., 1., 0., 0., 0., 0., 0., 0., 0., 0., 0., 0.]),\n",
              " array([0., 0., 0., 1., 0., 0., 0., 0., 0., 0., 0., 0., 0., 0.])]"
            ]
          },
          "metadata": {
            "tags": []
          },
          "execution_count": 119
        }
      ]
    },
    {
      "cell_type": "code",
      "metadata": {
        "id": "SZ6gC9ekAt7N",
        "colab_type": "code",
        "colab": {}
      },
      "source": [
        "def remove_structure(x):\n",
        "    return np.array(x)"
      ],
      "execution_count": 0,
      "outputs": []
    },
    {
      "cell_type": "code",
      "metadata": {
        "id": "wwiD0Hx82-_F",
        "colab_type": "code",
        "colab": {}
      },
      "source": [
        "# n_train = 3*df.shape[0]//4\n",
        "\n",
        "# X_train = df_.iloc[:n_train].drop([356, 67] ,1)\n",
        "# y_train = one_hot(targets , class_map=class_map)[:n_train]\n",
        "# # y_train = df['vectors'][:n_train]\n",
        "\n",
        "# X_test = df_.iloc[n_train:].drop([356, 67] ,1)\n",
        "# # y_test = df['vectors'][n_train:]\n",
        "# y_test = one_hot(targets , class_map=class_map)[n_train:]\n",
        "\n",
        "\n",
        "# X_train = remove_structure(X_train)\n",
        "# X_test = remove_structure(X_test)\n",
        "# y_train = remove_structure(y_train)\n",
        "# y_test = remove_structure(y_test)\n",
        "\n",
        "# input_dim = X_train.shape[1]\n",
        "# input_dim"
      ],
      "execution_count": 0,
      "outputs": []
    },
    {
      "cell_type": "code",
      "metadata": {
        "id": "27VVFZtsH3Eu",
        "colab_type": "code",
        "outputId": "4fdcb699-b130-4199-c42e-5d214495b06b",
        "colab": {
          "base_uri": "https://localhost:8080/",
          "height": 34
        }
      },
      "source": [
        "df.shape"
      ],
      "execution_count": 0,
      "outputs": [
        {
          "output_type": "execute_result",
          "data": {
            "text/plain": [
              "(7848, 369)"
            ]
          },
          "metadata": {
            "tags": []
          },
          "execution_count": 122
        }
      ]
    },
    {
      "cell_type": "code",
      "metadata": {
        "id": "6JI9LQKfAvlT",
        "colab_type": "code",
        "outputId": "e4dfb330-012e-4eb1-d310-68b8ab91fc48",
        "colab": {
          "base_uri": "https://localhost:8080/",
          "height": 51
        }
      },
      "source": [
        "X = df.drop('target' ,1)\n",
        "print(X.shape)\n",
        "y = one_hot(targets , class_map=class_map)\n",
        "\n",
        "y = pd.DataFrame(y)\n",
        "\n",
        "x_col = X.columns\n",
        "X = pd.DataFrame(X)\n",
        "c = X.columns\n",
        "col = dict(zip(c,x_col))\n",
        "X = X.rename(columns = col)\n",
        "\n",
        "# X = remove_structure(X)\n",
        "# y = remove_structure(y)\n",
        "\n",
        "\n",
        "X_train, X_test, y_train, y_test = train_test_split(X, y, test_size=0.25, random_state=42)\n",
        "input_dim = X_train.shape[1]\n",
        "input_dim"
      ],
      "execution_count": 0,
      "outputs": [
        {
          "output_type": "stream",
          "text": [
            "(7848, 368)\n"
          ],
          "name": "stdout"
        },
        {
          "output_type": "execute_result",
          "data": {
            "text/plain": [
              "368"
            ]
          },
          "metadata": {
            "tags": []
          },
          "execution_count": 123
        }
      ]
    },
    {
      "cell_type": "code",
      "metadata": {
        "id": "I0mqDcUBpn-0",
        "colab_type": "code",
        "outputId": "f8a09138-7a72-42cc-f0ec-58b6738d3b1b",
        "colab": {
          "base_uri": "https://localhost:8080/",
          "height": 251
        }
      },
      "source": [
        "X.head()"
      ],
      "execution_count": 0,
      "outputs": [
        {
          "output_type": "execute_result",
          "data": {
            "text/html": [
              "<div>\n",
              "<style scoped>\n",
              "    .dataframe tbody tr th:only-of-type {\n",
              "        vertical-align: middle;\n",
              "    }\n",
              "\n",
              "    .dataframe tbody tr th {\n",
              "        vertical-align: top;\n",
              "    }\n",
              "\n",
              "    .dataframe thead th {\n",
              "        text-align: right;\n",
              "    }\n",
              "</style>\n",
              "<table border=\"1\" class=\"dataframe\">\n",
              "  <thead>\n",
              "    <tr style=\"text-align: right;\">\n",
              "      <th></th>\n",
              "      <th>flux_min</th>\n",
              "      <th>flux_max</th>\n",
              "      <th>flux_mean</th>\n",
              "      <th>flux_median</th>\n",
              "      <th>flux_std</th>\n",
              "      <th>flux_skew</th>\n",
              "      <th>flux_err_min</th>\n",
              "      <th>flux_err_max</th>\n",
              "      <th>flux_err_mean</th>\n",
              "      <th>flux_err_median</th>\n",
              "      <th>flux_err_std</th>\n",
              "      <th>flux_err_skew</th>\n",
              "      <th>detected_mean</th>\n",
              "      <th>flux_ratio_sq_sum</th>\n",
              "      <th>flux_ratio_sq_skew</th>\n",
              "      <th>flux_by_flux_ratio_sq_sum</th>\n",
              "      <th>flux_by_flux_ratio_sq_skew</th>\n",
              "      <th>flux_w_mean</th>\n",
              "      <th>flux_diff1</th>\n",
              "      <th>flux_diff2</th>\n",
              "      <th>flux_diff3</th>\n",
              "      <th>0__fft_coefficient__coeff_0__attr_\"abs\"</th>\n",
              "      <th>0__fft_coefficient__coeff_1__attr_\"abs\"</th>\n",
              "      <th>0__kurtosis</th>\n",
              "      <th>0__skewness</th>\n",
              "      <th>1__fft_coefficient__coeff_0__attr_\"abs\"</th>\n",
              "      <th>1__fft_coefficient__coeff_1__attr_\"abs\"</th>\n",
              "      <th>1__kurtosis</th>\n",
              "      <th>1__skewness</th>\n",
              "      <th>2__fft_coefficient__coeff_0__attr_\"abs\"</th>\n",
              "      <th>2__fft_coefficient__coeff_1__attr_\"abs\"</th>\n",
              "      <th>2__kurtosis</th>\n",
              "      <th>2__skewness</th>\n",
              "      <th>3__fft_coefficient__coeff_0__attr_\"abs\"</th>\n",
              "      <th>3__fft_coefficient__coeff_1__attr_\"abs\"</th>\n",
              "      <th>3__kurtosis</th>\n",
              "      <th>3__skewness</th>\n",
              "      <th>4__fft_coefficient__coeff_0__attr_\"abs\"</th>\n",
              "      <th>4__fft_coefficient__coeff_1__attr_\"abs\"</th>\n",
              "      <th>4__kurtosis</th>\n",
              "      <th>...</th>\n",
              "      <th>__freq_signif_ratio_21___2_</th>\n",
              "      <th>__freq_signif_ratio_21___3_</th>\n",
              "      <th>__freq_signif_ratio_21___4_</th>\n",
              "      <th>__freq_signif_ratio_21___5_</th>\n",
              "      <th>__freq_signif_ratio_31___0_</th>\n",
              "      <th>__freq_signif_ratio_31___1_</th>\n",
              "      <th>__freq_signif_ratio_31___2_</th>\n",
              "      <th>__freq_signif_ratio_31___3_</th>\n",
              "      <th>__freq_signif_ratio_31___4_</th>\n",
              "      <th>__freq_signif_ratio_31___5_</th>\n",
              "      <th>__freq_varrat___0_</th>\n",
              "      <th>__freq_varrat___1_</th>\n",
              "      <th>__freq_varrat___2_</th>\n",
              "      <th>__freq_varrat___3_</th>\n",
              "      <th>__freq_varrat___4_</th>\n",
              "      <th>__freq_varrat___5_</th>\n",
              "      <th>__freq_y_offset___0_</th>\n",
              "      <th>__freq_y_offset___1_</th>\n",
              "      <th>__freq_y_offset___2_</th>\n",
              "      <th>__freq_y_offset___3_</th>\n",
              "      <th>__freq_y_offset___4_</th>\n",
              "      <th>__freq_y_offset___5_</th>\n",
              "      <th>time_score</th>\n",
              "      <th>phase_score</th>\n",
              "      <th>ddf_bool</th>\n",
              "      <th>true_submodel</th>\n",
              "      <th>true_z</th>\n",
              "      <th>true_distmod</th>\n",
              "      <th>true_lensdmu</th>\n",
              "      <th>true_vpec</th>\n",
              "      <th>true_rv</th>\n",
              "      <th>true_av</th>\n",
              "      <th>true_peakmjd</th>\n",
              "      <th>libid_cadence</th>\n",
              "      <th>tflux_u</th>\n",
              "      <th>tflux_g</th>\n",
              "      <th>tflux_r</th>\n",
              "      <th>tflux_i</th>\n",
              "      <th>tflux_z</th>\n",
              "      <th>tflux_y</th>\n",
              "    </tr>\n",
              "  </thead>\n",
              "  <tbody>\n",
              "    <tr>\n",
              "      <th>0</th>\n",
              "      <td>0.998599</td>\n",
              "      <td>0.000580</td>\n",
              "      <td>0.253477</td>\n",
              "      <td>0.582881</td>\n",
              "      <td>0.001400</td>\n",
              "      <td>0.398073</td>\n",
              "      <td>0.005095</td>\n",
              "      <td>1.692928e-06</td>\n",
              "      <td>0.000022</td>\n",
              "      <td>0.000540</td>\n",
              "      <td>0.000002</td>\n",
              "      <td>0.231565</td>\n",
              "      <td>0.945714</td>\n",
              "      <td>0.269740</td>\n",
              "      <td>0.102732</td>\n",
              "      <td>0.419864</td>\n",
              "      <td>0.457157</td>\n",
              "      <td>0.279084</td>\n",
              "      <td>0.000486</td>\n",
              "      <td>0.522296</td>\n",
              "      <td>0.539588</td>\n",
              "      <td>0.000092</td>\n",
              "      <td>3.515728e-04</td>\n",
              "      <td>0.023115</td>\n",
              "      <td>0.486666</td>\n",
              "      <td>0.035217</td>\n",
              "      <td>0.006315</td>\n",
              "      <td>0.048923</td>\n",
              "      <td>0.520752</td>\n",
              "      <td>0.002080</td>\n",
              "      <td>0.001155</td>\n",
              "      <td>0.016812</td>\n",
              "      <td>0.522493</td>\n",
              "      <td>0.002151</td>\n",
              "      <td>0.001181</td>\n",
              "      <td>0.011624</td>\n",
              "      <td>0.514756</td>\n",
              "      <td>0.000885</td>\n",
              "      <td>0.001043</td>\n",
              "      <td>0.006630</td>\n",
              "      <td>...</td>\n",
              "      <td>0.450552</td>\n",
              "      <td>0.631785</td>\n",
              "      <td>0.597880</td>\n",
              "      <td>0.626320</td>\n",
              "      <td>0.418006</td>\n",
              "      <td>0.337524</td>\n",
              "      <td>0.424850</td>\n",
              "      <td>0.434345</td>\n",
              "      <td>0.278001</td>\n",
              "      <td>0.539139</td>\n",
              "      <td>0.127557</td>\n",
              "      <td>0.268992</td>\n",
              "      <td>0.139321</td>\n",
              "      <td>0.110750</td>\n",
              "      <td>0.129510</td>\n",
              "      <td>0.401857</td>\n",
              "      <td>0.273375</td>\n",
              "      <td>0.396428</td>\n",
              "      <td>0.999929</td>\n",
              "      <td>0.496892</td>\n",
              "      <td>0.609820</td>\n",
              "      <td>0.492746</td>\n",
              "      <td>0.437672</td>\n",
              "      <td>0.959545</td>\n",
              "      <td>1.0</td>\n",
              "      <td>0.0</td>\n",
              "      <td>0.000000</td>\n",
              "      <td>0.000000</td>\n",
              "      <td>0.793282</td>\n",
              "      <td>0.481390</td>\n",
              "      <td>0.0</td>\n",
              "      <td>0.0</td>\n",
              "      <td>0.453353</td>\n",
              "      <td>0.00138</td>\n",
              "      <td>0.016690</td>\n",
              "      <td>0.020350</td>\n",
              "      <td>0.017798</td>\n",
              "      <td>0.020112</td>\n",
              "      <td>0.017101</td>\n",
              "      <td>0.015200</td>\n",
              "    </tr>\n",
              "    <tr>\n",
              "      <th>1</th>\n",
              "      <td>0.999543</td>\n",
              "      <td>0.000315</td>\n",
              "      <td>0.254123</td>\n",
              "      <td>0.584075</td>\n",
              "      <td>0.000014</td>\n",
              "      <td>0.409715</td>\n",
              "      <td>0.000537</td>\n",
              "      <td>2.344565e-08</td>\n",
              "      <td>0.000002</td>\n",
              "      <td>0.000063</td>\n",
              "      <td>0.000001</td>\n",
              "      <td>0.232165</td>\n",
              "      <td>0.166694</td>\n",
              "      <td>0.000530</td>\n",
              "      <td>0.234246</td>\n",
              "      <td>0.423389</td>\n",
              "      <td>0.402260</td>\n",
              "      <td>0.280379</td>\n",
              "      <td>0.000002</td>\n",
              "      <td>0.522246</td>\n",
              "      <td>0.539480</td>\n",
              "      <td>0.000085</td>\n",
              "      <td>6.464922e-05</td>\n",
              "      <td>0.029284</td>\n",
              "      <td>0.494760</td>\n",
              "      <td>0.000090</td>\n",
              "      <td>0.000433</td>\n",
              "      <td>0.051468</td>\n",
              "      <td>0.487141</td>\n",
              "      <td>0.000012</td>\n",
              "      <td>0.000079</td>\n",
              "      <td>0.020477</td>\n",
              "      <td>0.498674</td>\n",
              "      <td>0.000017</td>\n",
              "      <td>0.000099</td>\n",
              "      <td>0.016752</td>\n",
              "      <td>0.484139</td>\n",
              "      <td>0.000014</td>\n",
              "      <td>0.000077</td>\n",
              "      <td>0.012611</td>\n",
              "      <td>...</td>\n",
              "      <td>0.439772</td>\n",
              "      <td>0.624041</td>\n",
              "      <td>0.604519</td>\n",
              "      <td>0.530395</td>\n",
              "      <td>0.464654</td>\n",
              "      <td>0.392311</td>\n",
              "      <td>0.484569</td>\n",
              "      <td>0.449170</td>\n",
              "      <td>0.554486</td>\n",
              "      <td>0.529920</td>\n",
              "      <td>0.113348</td>\n",
              "      <td>0.076164</td>\n",
              "      <td>0.086336</td>\n",
              "      <td>0.111848</td>\n",
              "      <td>0.166125</td>\n",
              "      <td>0.369672</td>\n",
              "      <td>0.228406</td>\n",
              "      <td>0.476676</td>\n",
              "      <td>0.999922</td>\n",
              "      <td>0.463559</td>\n",
              "      <td>0.552805</td>\n",
              "      <td>0.438561</td>\n",
              "      <td>0.851534</td>\n",
              "      <td>0.182289</td>\n",
              "      <td>1.0</td>\n",
              "      <td>0.0</td>\n",
              "      <td>0.527737</td>\n",
              "      <td>0.964483</td>\n",
              "      <td>0.793282</td>\n",
              "      <td>0.481390</td>\n",
              "      <td>0.0</td>\n",
              "      <td>0.0</td>\n",
              "      <td>0.453353</td>\n",
              "      <td>0.00068</td>\n",
              "      <td>0.003743</td>\n",
              "      <td>0.000729</td>\n",
              "      <td>0.000664</td>\n",
              "      <td>0.000990</td>\n",
              "      <td>0.000886</td>\n",
              "      <td>0.000806</td>\n",
              "    </tr>\n",
              "    <tr>\n",
              "      <th>2</th>\n",
              "      <td>0.999539</td>\n",
              "      <td>0.000328</td>\n",
              "      <td>0.254143</td>\n",
              "      <td>0.584092</td>\n",
              "      <td>0.000019</td>\n",
              "      <td>0.510730</td>\n",
              "      <td>0.000707</td>\n",
              "      <td>9.928179e-07</td>\n",
              "      <td>0.000003</td>\n",
              "      <td>0.000061</td>\n",
              "      <td>0.000002</td>\n",
              "      <td>0.244197</td>\n",
              "      <td>0.064381</td>\n",
              "      <td>0.000368</td>\n",
              "      <td>0.336435</td>\n",
              "      <td>0.423389</td>\n",
              "      <td>0.656362</td>\n",
              "      <td>0.280500</td>\n",
              "      <td>0.000013</td>\n",
              "      <td>0.522639</td>\n",
              "      <td>0.540883</td>\n",
              "      <td>0.000002</td>\n",
              "      <td>9.836503e-07</td>\n",
              "      <td>0.049192</td>\n",
              "      <td>0.500738</td>\n",
              "      <td>0.000012</td>\n",
              "      <td>0.000030</td>\n",
              "      <td>0.084877</td>\n",
              "      <td>0.524475</td>\n",
              "      <td>0.000033</td>\n",
              "      <td>0.000049</td>\n",
              "      <td>0.125095</td>\n",
              "      <td>0.656837</td>\n",
              "      <td>0.000052</td>\n",
              "      <td>0.000075</td>\n",
              "      <td>0.154875</td>\n",
              "      <td>0.672325</td>\n",
              "      <td>0.000060</td>\n",
              "      <td>0.000076</td>\n",
              "      <td>0.134063</td>\n",
              "      <td>...</td>\n",
              "      <td>0.528993</td>\n",
              "      <td>0.660896</td>\n",
              "      <td>0.700214</td>\n",
              "      <td>0.596515</td>\n",
              "      <td>0.539890</td>\n",
              "      <td>0.407594</td>\n",
              "      <td>0.501768</td>\n",
              "      <td>0.579188</td>\n",
              "      <td>0.617399</td>\n",
              "      <td>0.567847</td>\n",
              "      <td>0.758609</td>\n",
              "      <td>0.657327</td>\n",
              "      <td>0.204572</td>\n",
              "      <td>0.292940</td>\n",
              "      <td>0.318262</td>\n",
              "      <td>0.500862</td>\n",
              "      <td>0.221734</td>\n",
              "      <td>0.477941</td>\n",
              "      <td>0.999924</td>\n",
              "      <td>0.473776</td>\n",
              "      <td>0.567853</td>\n",
              "      <td>0.436264</td>\n",
              "      <td>0.639934</td>\n",
              "      <td>0.584175</td>\n",
              "      <td>1.0</td>\n",
              "      <td>0.5</td>\n",
              "      <td>0.067674</td>\n",
              "      <td>0.851053</td>\n",
              "      <td>0.803618</td>\n",
              "      <td>0.483366</td>\n",
              "      <td>0.0</td>\n",
              "      <td>0.0</td>\n",
              "      <td>0.747074</td>\n",
              "      <td>0.00018</td>\n",
              "      <td>0.000000</td>\n",
              "      <td>0.000000</td>\n",
              "      <td>0.000000</td>\n",
              "      <td>0.000000</td>\n",
              "      <td>0.000000</td>\n",
              "      <td>0.000000</td>\n",
              "    </tr>\n",
              "    <tr>\n",
              "      <th>3</th>\n",
              "      <td>0.999542</td>\n",
              "      <td>0.000400</td>\n",
              "      <td>0.254178</td>\n",
              "      <td>0.584101</td>\n",
              "      <td>0.000089</td>\n",
              "      <td>0.568282</td>\n",
              "      <td>0.000316</td>\n",
              "      <td>2.096156e-05</td>\n",
              "      <td>0.000003</td>\n",
              "      <td>0.000017</td>\n",
              "      <td>0.000007</td>\n",
              "      <td>0.807492</td>\n",
              "      <td>0.169068</td>\n",
              "      <td>0.008658</td>\n",
              "      <td>0.543261</td>\n",
              "      <td>0.423442</td>\n",
              "      <td>0.794985</td>\n",
              "      <td>0.281012</td>\n",
              "      <td>0.000060</td>\n",
              "      <td>0.522617</td>\n",
              "      <td>0.540709</td>\n",
              "      <td>0.000058</td>\n",
              "      <td>2.658504e-05</td>\n",
              "      <td>0.104780</td>\n",
              "      <td>0.603580</td>\n",
              "      <td>0.000504</td>\n",
              "      <td>0.000631</td>\n",
              "      <td>0.888741</td>\n",
              "      <td>0.960817</td>\n",
              "      <td>0.000145</td>\n",
              "      <td>0.000202</td>\n",
              "      <td>0.637555</td>\n",
              "      <td>0.873816</td>\n",
              "      <td>0.000247</td>\n",
              "      <td>0.000331</td>\n",
              "      <td>0.309674</td>\n",
              "      <td>0.744794</td>\n",
              "      <td>0.000201</td>\n",
              "      <td>0.000258</td>\n",
              "      <td>0.262114</td>\n",
              "      <td>...</td>\n",
              "      <td>0.195112</td>\n",
              "      <td>0.332318</td>\n",
              "      <td>0.429168</td>\n",
              "      <td>0.227978</td>\n",
              "      <td>0.335878</td>\n",
              "      <td>0.280169</td>\n",
              "      <td>0.165986</td>\n",
              "      <td>0.242775</td>\n",
              "      <td>0.393860</td>\n",
              "      <td>0.239087</td>\n",
              "      <td>0.432172</td>\n",
              "      <td>0.793641</td>\n",
              "      <td>0.472483</td>\n",
              "      <td>0.290638</td>\n",
              "      <td>0.360891</td>\n",
              "      <td>0.489889</td>\n",
              "      <td>0.210280</td>\n",
              "      <td>0.476894</td>\n",
              "      <td>0.999923</td>\n",
              "      <td>0.471281</td>\n",
              "      <td>0.575672</td>\n",
              "      <td>0.456745</td>\n",
              "      <td>0.645143</td>\n",
              "      <td>0.567762</td>\n",
              "      <td>1.0</td>\n",
              "      <td>0.0</td>\n",
              "      <td>0.087424</td>\n",
              "      <td>0.864580</td>\n",
              "      <td>0.782946</td>\n",
              "      <td>0.594496</td>\n",
              "      <td>0.0</td>\n",
              "      <td>0.0</td>\n",
              "      <td>0.641620</td>\n",
              "      <td>0.00076</td>\n",
              "      <td>0.000000</td>\n",
              "      <td>0.000000</td>\n",
              "      <td>0.000000</td>\n",
              "      <td>0.000000</td>\n",
              "      <td>0.000000</td>\n",
              "      <td>0.000000</td>\n",
              "    </tr>\n",
              "    <tr>\n",
              "      <th>4</th>\n",
              "      <td>0.999541</td>\n",
              "      <td>0.000368</td>\n",
              "      <td>0.254169</td>\n",
              "      <td>0.584102</td>\n",
              "      <td>0.000062</td>\n",
              "      <td>0.549964</td>\n",
              "      <td>0.000708</td>\n",
              "      <td>1.038612e-06</td>\n",
              "      <td>0.000005</td>\n",
              "      <td>0.000119</td>\n",
              "      <td>0.000003</td>\n",
              "      <td>0.242378</td>\n",
              "      <td>0.168571</td>\n",
              "      <td>0.003149</td>\n",
              "      <td>0.456001</td>\n",
              "      <td>0.423400</td>\n",
              "      <td>0.707997</td>\n",
              "      <td>0.280751</td>\n",
              "      <td>0.000039</td>\n",
              "      <td>0.522585</td>\n",
              "      <td>0.540754</td>\n",
              "      <td>0.000019</td>\n",
              "      <td>7.085033e-06</td>\n",
              "      <td>0.053851</td>\n",
              "      <td>0.458209</td>\n",
              "      <td>0.000423</td>\n",
              "      <td>0.000467</td>\n",
              "      <td>0.167627</td>\n",
              "      <td>0.651716</td>\n",
              "      <td>0.000159</td>\n",
              "      <td>0.000205</td>\n",
              "      <td>0.211374</td>\n",
              "      <td>0.702187</td>\n",
              "      <td>0.000197</td>\n",
              "      <td>0.000258</td>\n",
              "      <td>0.271309</td>\n",
              "      <td>0.734923</td>\n",
              "      <td>0.000157</td>\n",
              "      <td>0.000199</td>\n",
              "      <td>0.306037</td>\n",
              "      <td>...</td>\n",
              "      <td>0.332033</td>\n",
              "      <td>0.275762</td>\n",
              "      <td>0.237176</td>\n",
              "      <td>0.609899</td>\n",
              "      <td>0.553325</td>\n",
              "      <td>0.214116</td>\n",
              "      <td>0.310929</td>\n",
              "      <td>0.245203</td>\n",
              "      <td>0.286970</td>\n",
              "      <td>0.656955</td>\n",
              "      <td>0.559305</td>\n",
              "      <td>0.122120</td>\n",
              "      <td>0.147008</td>\n",
              "      <td>0.250620</td>\n",
              "      <td>0.382879</td>\n",
              "      <td>0.674116</td>\n",
              "      <td>0.221512</td>\n",
              "      <td>0.499461</td>\n",
              "      <td>0.999930</td>\n",
              "      <td>0.505696</td>\n",
              "      <td>0.595852</td>\n",
              "      <td>0.452834</td>\n",
              "      <td>0.717472</td>\n",
              "      <td>0.695442</td>\n",
              "      <td>1.0</td>\n",
              "      <td>0.0</td>\n",
              "      <td>0.056056</td>\n",
              "      <td>0.841303</td>\n",
              "      <td>0.788114</td>\n",
              "      <td>0.319522</td>\n",
              "      <td>0.0</td>\n",
              "      <td>0.0</td>\n",
              "      <td>0.749849</td>\n",
              "      <td>0.00002</td>\n",
              "      <td>0.000000</td>\n",
              "      <td>0.000000</td>\n",
              "      <td>0.000000</td>\n",
              "      <td>0.000000</td>\n",
              "      <td>0.000000</td>\n",
              "      <td>0.000000</td>\n",
              "    </tr>\n",
              "  </tbody>\n",
              "</table>\n",
              "<p>5 rows × 368 columns</p>\n",
              "</div>"
            ],
            "text/plain": [
              "   flux_min  flux_max  flux_mean  ...   tflux_i   tflux_z   tflux_y\n",
              "0  0.998599  0.000580   0.253477  ...  0.020112  0.017101  0.015200\n",
              "1  0.999543  0.000315   0.254123  ...  0.000990  0.000886  0.000806\n",
              "2  0.999539  0.000328   0.254143  ...  0.000000  0.000000  0.000000\n",
              "3  0.999542  0.000400   0.254178  ...  0.000000  0.000000  0.000000\n",
              "4  0.999541  0.000368   0.254169  ...  0.000000  0.000000  0.000000\n",
              "\n",
              "[5 rows x 368 columns]"
            ]
          },
          "metadata": {
            "tags": []
          },
          "execution_count": 124
        }
      ]
    },
    {
      "cell_type": "code",
      "metadata": {
        "id": "uWSuATu_rUxB",
        "colab_type": "code",
        "outputId": "683ef199-4ee9-4f04-c490-777c72fbe999",
        "colab": {
          "base_uri": "https://localhost:8080/",
          "height": 34
        }
      },
      "source": [
        "X_train.shape"
      ],
      "execution_count": 0,
      "outputs": [
        {
          "output_type": "execute_result",
          "data": {
            "text/plain": [
              "(5886, 368)"
            ]
          },
          "metadata": {
            "tags": []
          },
          "execution_count": 125
        }
      ]
    },
    {
      "cell_type": "code",
      "metadata": {
        "id": "_uZ0YJ3HrkR8",
        "colab_type": "code",
        "outputId": "37af3c3c-6112-4f0b-9696-d78a580baad3",
        "colab": {
          "base_uri": "https://localhost:8080/",
          "height": 202
        }
      },
      "source": [
        "y_train.head()"
      ],
      "execution_count": 0,
      "outputs": [
        {
          "output_type": "execute_result",
          "data": {
            "text/html": [
              "<div>\n",
              "<style scoped>\n",
              "    .dataframe tbody tr th:only-of-type {\n",
              "        vertical-align: middle;\n",
              "    }\n",
              "\n",
              "    .dataframe tbody tr th {\n",
              "        vertical-align: top;\n",
              "    }\n",
              "\n",
              "    .dataframe thead th {\n",
              "        text-align: right;\n",
              "    }\n",
              "</style>\n",
              "<table border=\"1\" class=\"dataframe\">\n",
              "  <thead>\n",
              "    <tr style=\"text-align: right;\">\n",
              "      <th></th>\n",
              "      <th>0</th>\n",
              "      <th>1</th>\n",
              "      <th>2</th>\n",
              "      <th>3</th>\n",
              "      <th>4</th>\n",
              "      <th>5</th>\n",
              "      <th>6</th>\n",
              "      <th>7</th>\n",
              "      <th>8</th>\n",
              "      <th>9</th>\n",
              "      <th>10</th>\n",
              "      <th>11</th>\n",
              "      <th>12</th>\n",
              "      <th>13</th>\n",
              "    </tr>\n",
              "  </thead>\n",
              "  <tbody>\n",
              "    <tr>\n",
              "      <th>3142</th>\n",
              "      <td>0.0</td>\n",
              "      <td>0.0</td>\n",
              "      <td>0.0</td>\n",
              "      <td>0.0</td>\n",
              "      <td>0.0</td>\n",
              "      <td>0.0</td>\n",
              "      <td>0.0</td>\n",
              "      <td>1.0</td>\n",
              "      <td>0.0</td>\n",
              "      <td>0.0</td>\n",
              "      <td>0.0</td>\n",
              "      <td>0.0</td>\n",
              "      <td>0.0</td>\n",
              "      <td>0.0</td>\n",
              "    </tr>\n",
              "    <tr>\n",
              "      <th>3438</th>\n",
              "      <td>0.0</td>\n",
              "      <td>0.0</td>\n",
              "      <td>0.0</td>\n",
              "      <td>0.0</td>\n",
              "      <td>0.0</td>\n",
              "      <td>0.0</td>\n",
              "      <td>0.0</td>\n",
              "      <td>0.0</td>\n",
              "      <td>0.0</td>\n",
              "      <td>1.0</td>\n",
              "      <td>0.0</td>\n",
              "      <td>0.0</td>\n",
              "      <td>0.0</td>\n",
              "      <td>0.0</td>\n",
              "    </tr>\n",
              "    <tr>\n",
              "      <th>1101</th>\n",
              "      <td>0.0</td>\n",
              "      <td>0.0</td>\n",
              "      <td>1.0</td>\n",
              "      <td>0.0</td>\n",
              "      <td>0.0</td>\n",
              "      <td>0.0</td>\n",
              "      <td>0.0</td>\n",
              "      <td>0.0</td>\n",
              "      <td>0.0</td>\n",
              "      <td>0.0</td>\n",
              "      <td>0.0</td>\n",
              "      <td>0.0</td>\n",
              "      <td>0.0</td>\n",
              "      <td>0.0</td>\n",
              "    </tr>\n",
              "    <tr>\n",
              "      <th>5671</th>\n",
              "      <td>0.0</td>\n",
              "      <td>0.0</td>\n",
              "      <td>0.0</td>\n",
              "      <td>0.0</td>\n",
              "      <td>1.0</td>\n",
              "      <td>0.0</td>\n",
              "      <td>0.0</td>\n",
              "      <td>0.0</td>\n",
              "      <td>0.0</td>\n",
              "      <td>0.0</td>\n",
              "      <td>0.0</td>\n",
              "      <td>0.0</td>\n",
              "      <td>0.0</td>\n",
              "      <td>0.0</td>\n",
              "    </tr>\n",
              "    <tr>\n",
              "      <th>1694</th>\n",
              "      <td>0.0</td>\n",
              "      <td>0.0</td>\n",
              "      <td>0.0</td>\n",
              "      <td>1.0</td>\n",
              "      <td>0.0</td>\n",
              "      <td>0.0</td>\n",
              "      <td>0.0</td>\n",
              "      <td>0.0</td>\n",
              "      <td>0.0</td>\n",
              "      <td>0.0</td>\n",
              "      <td>0.0</td>\n",
              "      <td>0.0</td>\n",
              "      <td>0.0</td>\n",
              "      <td>0.0</td>\n",
              "    </tr>\n",
              "  </tbody>\n",
              "</table>\n",
              "</div>"
            ],
            "text/plain": [
              "       0    1    2    3    4    5    6    7    8    9    10   11   12   13\n",
              "3142  0.0  0.0  0.0  0.0  0.0  0.0  0.0  1.0  0.0  0.0  0.0  0.0  0.0  0.0\n",
              "3438  0.0  0.0  0.0  0.0  0.0  0.0  0.0  0.0  0.0  1.0  0.0  0.0  0.0  0.0\n",
              "1101  0.0  0.0  1.0  0.0  0.0  0.0  0.0  0.0  0.0  0.0  0.0  0.0  0.0  0.0\n",
              "5671  0.0  0.0  0.0  0.0  1.0  0.0  0.0  0.0  0.0  0.0  0.0  0.0  0.0  0.0\n",
              "1694  0.0  0.0  0.0  1.0  0.0  0.0  0.0  0.0  0.0  0.0  0.0  0.0  0.0  0.0"
            ]
          },
          "metadata": {
            "tags": []
          },
          "execution_count": 126
        }
      ]
    },
    {
      "cell_type": "code",
      "metadata": {
        "id": "Kkz1aR_5loaX",
        "colab_type": "code",
        "colab": {}
      },
      "source": [
        "X_train.to_csv('./data/X_train.csv')\n",
        "y_train.to_csv('./data/y_train.csv')\n",
        "X_test.to_csv('./data/X_test.csv')\n",
        "y_test.to_csv('./data/y_test.csv')"
      ],
      "execution_count": 0,
      "outputs": []
    },
    {
      "cell_type": "code",
      "metadata": {
        "id": "QZUfhKFq3TTf",
        "colab_type": "code",
        "colab": {}
      },
      "source": [
        ""
      ],
      "execution_count": 0,
      "outputs": []
    },
    {
      "cell_type": "code",
      "metadata": {
        "id": "j4XMkXHi3TbE",
        "colab_type": "code",
        "colab": {}
      },
      "source": [
        ""
      ],
      "execution_count": 0,
      "outputs": []
    },
    {
      "cell_type": "code",
      "metadata": {
        "id": "PqgYC7Ec3TZB",
        "colab_type": "code",
        "colab": {}
      },
      "source": [
        ""
      ],
      "execution_count": 0,
      "outputs": []
    },
    {
      "cell_type": "code",
      "metadata": {
        "id": "sNdI2oPn3TWt",
        "colab_type": "code",
        "colab": {}
      },
      "source": [
        "X_train = pd.read_csv('./data/X_train.csv')\n",
        "y_train = pd.read_csv('./data/y_train.csv')\n",
        "X_test = pd.read_csv('./data/X_test.csv')\n",
        "y_test= pd.read_csv('./data/y_test.csv')"
      ],
      "execution_count": 0,
      "outputs": []
    },
    {
      "cell_type": "code",
      "metadata": {
        "id": "rFNNl6i4Pcjx",
        "colab_type": "code",
        "outputId": "3a20d034-81a0-4afb-f5f3-44048bfffa88",
        "colab": {
          "base_uri": "https://localhost:8080/",
          "height": 34
        }
      },
      "source": [
        "y_train.shape"
      ],
      "execution_count": 0,
      "outputs": [
        {
          "output_type": "execute_result",
          "data": {
            "text/plain": [
              "(5886, 15)"
            ]
          },
          "metadata": {
            "tags": []
          },
          "execution_count": 129
        }
      ]
    },
    {
      "cell_type": "code",
      "metadata": {
        "id": "JPoTpjlJ4Rpb",
        "colab_type": "code",
        "colab": {}
      },
      "source": [
        "y_train = y_train.drop(columns =['Unnamed: 0'] )\n",
        "y_test = y_test.drop(columns =['Unnamed: 0'] )"
      ],
      "execution_count": 0,
      "outputs": []
    },
    {
      "cell_type": "code",
      "metadata": {
        "id": "tzxSqQM6ByD2",
        "colab_type": "code",
        "outputId": "60db5d60-d8c9-4786-8881-0fe48833d3d0",
        "colab": {
          "base_uri": "https://localhost:8080/",
          "height": 34
        }
      },
      "source": [
        "y_train.shape"
      ],
      "execution_count": 0,
      "outputs": [
        {
          "output_type": "execute_result",
          "data": {
            "text/plain": [
              "(5886, 14)"
            ]
          },
          "metadata": {
            "tags": []
          },
          "execution_count": 131
        }
      ]
    },
    {
      "cell_type": "code",
      "metadata": {
        "id": "NqccmSFy5jdt",
        "colab_type": "code",
        "outputId": "1ec7d74f-f4e3-4fef-9747-b4735279df39",
        "colab": {
          "base_uri": "https://localhost:8080/",
          "height": 34
        }
      },
      "source": [
        "X_train = X_train.drop(columns =['Unnamed: 0'] )\n",
        "X_test = X_test.drop(columns =['Unnamed: 0'] )\n",
        "\n",
        "X_train.shape"
      ],
      "execution_count": 0,
      "outputs": [
        {
          "output_type": "execute_result",
          "data": {
            "text/plain": [
              "(5886, 368)"
            ]
          },
          "metadata": {
            "tags": []
          },
          "execution_count": 142
        }
      ]
    },
    {
      "cell_type": "code",
      "metadata": {
        "id": "Lh3csHPKBbXi",
        "colab_type": "code",
        "outputId": "c6f13244-e1ec-49ce-c76c-bfa0db87e165",
        "colab": {
          "base_uri": "https://localhost:8080/",
          "height": 34
        }
      },
      "source": [
        "n_class = len(classes)\n",
        "n_class"
      ],
      "execution_count": 0,
      "outputs": [
        {
          "output_type": "execute_result",
          "data": {
            "text/plain": [
              "14"
            ]
          },
          "metadata": {
            "tags": []
          },
          "execution_count": 143
        }
      ]
    },
    {
      "cell_type": "code",
      "metadata": {
        "id": "QlCLpaLp19W2",
        "colab_type": "code",
        "colab": {}
      },
      "source": [
        "af = tf.keras.activations.selu\n",
        "\n",
        "K.backend.clear_session()\n",
        "model = Sequential()\n",
        "\n",
        "model.add(Dense(input_dim, input_dim=input_dim))\n",
        "model.add(BatchNormalization(trainable=True))\n",
        "model.add(Activation(af))\n",
        "\n",
        "model.add(Dense(256))\n",
        "model.add(BatchNormalization(trainable=True))\n",
        "model.add(Activation(af))\n",
        "model.add(Dropout(rate = 0.3))\n",
        "\n",
        "model.add(Dense(128))\n",
        "model.add(BatchNormalization(trainable=True))\n",
        "model.add(Activation(af))\n",
        "\n",
        "model.add(Dense(128))\n",
        "model.add(BatchNormalization(trainable=True))\n",
        "model.add(Activation(af))\n",
        "model.add(Dropout(rate = 0.5))\n",
        "\n",
        "model.add(Dense(64))\n",
        "model.add(BatchNormalization(trainable=True))\n",
        "model.add(Activation(af))\n",
        "\n",
        "model.add(Dense(64))\n",
        "model.add(BatchNormalization(trainable=True))\n",
        "model.add(Activation(af))\n",
        "model.add(Dropout(rate = 0.3))\n",
        "\n",
        "model.add(Dense(32))\n",
        "model.add(BatchNormalization(trainable=True))\n",
        "model.add(Activation(af))\n",
        "\n",
        "model.add(Dense(32))\n",
        "model.add(BatchNormalization(trainable=True))\n",
        "model.add(Activation(af))\n",
        "model.add(Dropout(rate = 0.5))\n",
        "\n",
        "model.add(Dense(n_class, activation='softmax'))"
      ],
      "execution_count": 0,
      "outputs": []
    },
    {
      "cell_type": "code",
      "metadata": {
        "id": "dw6Mj-DeEqi3",
        "colab_type": "code",
        "outputId": "c22ff72c-7e82-486e-defe-8c0d41054ad3",
        "colab": {
          "base_uri": "https://localhost:8080/",
          "height": 1000
        }
      },
      "source": [
        "model.summary()"
      ],
      "execution_count": 0,
      "outputs": [
        {
          "output_type": "stream",
          "text": [
            "_________________________________________________________________\n",
            "Layer (type)                 Output Shape              Param #   \n",
            "=================================================================\n",
            "dense_1 (Dense)              (None, 368)               135792    \n",
            "_________________________________________________________________\n",
            "batch_normalization_1 (Batch (None, 368)               1472      \n",
            "_________________________________________________________________\n",
            "activation_1 (Activation)    (None, 368)               0         \n",
            "_________________________________________________________________\n",
            "dense_2 (Dense)              (None, 256)               94464     \n",
            "_________________________________________________________________\n",
            "batch_normalization_2 (Batch (None, 256)               1024      \n",
            "_________________________________________________________________\n",
            "activation_2 (Activation)    (None, 256)               0         \n",
            "_________________________________________________________________\n",
            "dropout_1 (Dropout)          (None, 256)               0         \n",
            "_________________________________________________________________\n",
            "dense_3 (Dense)              (None, 128)               32896     \n",
            "_________________________________________________________________\n",
            "batch_normalization_3 (Batch (None, 128)               512       \n",
            "_________________________________________________________________\n",
            "activation_3 (Activation)    (None, 128)               0         \n",
            "_________________________________________________________________\n",
            "dense_4 (Dense)              (None, 128)               16512     \n",
            "_________________________________________________________________\n",
            "batch_normalization_4 (Batch (None, 128)               512       \n",
            "_________________________________________________________________\n",
            "activation_4 (Activation)    (None, 128)               0         \n",
            "_________________________________________________________________\n",
            "dropout_2 (Dropout)          (None, 128)               0         \n",
            "_________________________________________________________________\n",
            "dense_5 (Dense)              (None, 64)                8256      \n",
            "_________________________________________________________________\n",
            "batch_normalization_5 (Batch (None, 64)                256       \n",
            "_________________________________________________________________\n",
            "activation_5 (Activation)    (None, 64)                0         \n",
            "_________________________________________________________________\n",
            "dense_6 (Dense)              (None, 64)                4160      \n",
            "_________________________________________________________________\n",
            "batch_normalization_6 (Batch (None, 64)                256       \n",
            "_________________________________________________________________\n",
            "activation_6 (Activation)    (None, 64)                0         \n",
            "_________________________________________________________________\n",
            "dropout_3 (Dropout)          (None, 64)                0         \n",
            "_________________________________________________________________\n",
            "dense_7 (Dense)              (None, 32)                2080      \n",
            "_________________________________________________________________\n",
            "batch_normalization_7 (Batch (None, 32)                128       \n",
            "_________________________________________________________________\n",
            "activation_7 (Activation)    (None, 32)                0         \n",
            "_________________________________________________________________\n",
            "dense_8 (Dense)              (None, 32)                1056      \n",
            "_________________________________________________________________\n",
            "batch_normalization_8 (Batch (None, 32)                128       \n",
            "_________________________________________________________________\n",
            "activation_8 (Activation)    (None, 32)                0         \n",
            "_________________________________________________________________\n",
            "dropout_4 (Dropout)          (None, 32)                0         \n",
            "_________________________________________________________________\n",
            "dense_9 (Dense)              (None, 14)                462       \n",
            "=================================================================\n",
            "Total params: 299,966\n",
            "Trainable params: 297,822\n",
            "Non-trainable params: 2,144\n",
            "_________________________________________________________________\n"
          ],
          "name": "stdout"
        }
      ]
    },
    {
      "cell_type": "code",
      "metadata": {
        "id": "3iZ4LB691gN1",
        "colab_type": "code",
        "colab": {}
      },
      "source": [
        "#sgd = keras.optimizers.SGD(lr=0.001, decay=1e-6, momentum=0.9, nesterov=True)\n",
        "adam = K.optimizers.Adam(lr=0.0001, beta_1=0.9, beta_2=0.999, epsilon=None, decay=1e-3, amsgrad=False)"
      ],
      "execution_count": 0,
      "outputs": []
    },
    {
      "cell_type": "code",
      "metadata": {
        "id": "Z0_HmpzF2RyD",
        "colab_type": "code",
        "colab": {}
      },
      "source": [
        "model.compile(loss = K.losses.categorical_crossentropy , optimizer=adam)"
      ],
      "execution_count": 0,
      "outputs": []
    },
    {
      "cell_type": "code",
      "metadata": {
        "id": "g5itlbHP2nEq",
        "colab_type": "code",
        "outputId": "61eadbef-3bd1-47b1-bc27-48d28668a541",
        "colab": {
          "base_uri": "https://localhost:8080/",
          "height": 34
        }
      },
      "source": [
        "model.fit(X_train,y_train,epochs=100,batch_size=200,verbose=0)"
      ],
      "execution_count": 0,
      "outputs": [
        {
          "output_type": "execute_result",
          "data": {
            "text/plain": [
              "<keras.callbacks.History at 0x7f425ec46e48>"
            ]
          },
          "metadata": {
            "tags": []
          },
          "execution_count": 167
        }
      ]
    },
    {
      "cell_type": "code",
      "metadata": {
        "id": "gVrtj7WrjIgQ",
        "colab_type": "code",
        "outputId": "17955e26-cc08-4fd3-a0ec-8f0c801339f4",
        "colab": {
          "base_uri": "https://localhost:8080/",
          "height": 34
        }
      },
      "source": [
        "model.fit(X_train,y_train,epochs=100,batch_size=300,verbose=0)"
      ],
      "execution_count": 0,
      "outputs": [
        {
          "output_type": "execute_result",
          "data": {
            "text/plain": [
              "<keras.callbacks.History at 0x7f425f59a908>"
            ]
          },
          "metadata": {
            "tags": []
          },
          "execution_count": 168
        }
      ]
    },
    {
      "cell_type": "code",
      "metadata": {
        "id": "Mt_syg4W0qv5",
        "colab_type": "code",
        "outputId": "dab3992f-6085-44b6-fb73-c10c6b5877f4",
        "colab": {
          "base_uri": "https://localhost:8080/",
          "height": 34
        }
      },
      "source": [
        "model.fit(X_train,y_train,epochs=100,batch_size=300,verbose=0)"
      ],
      "execution_count": 0,
      "outputs": [
        {
          "output_type": "execute_result",
          "data": {
            "text/plain": [
              "<keras.callbacks.History at 0x7f42634ab4a8>"
            ]
          },
          "metadata": {
            "tags": []
          },
          "execution_count": 169
        }
      ]
    },
    {
      "cell_type": "code",
      "metadata": {
        "id": "W28QFI4NCijO",
        "colab_type": "code",
        "outputId": "d33031d5-25d8-4697-81bd-5fbe0a394f92",
        "colab": {
          "base_uri": "https://localhost:8080/",
          "height": 51
        }
      },
      "source": [
        "# evaluate the model\n",
        "model.evaluate(X_train, y_train, verbose=1)"
      ],
      "execution_count": 0,
      "outputs": [
        {
          "output_type": "stream",
          "text": [
            "5886/5886 [==============================] - 1s 176us/step\n"
          ],
          "name": "stdout"
        },
        {
          "output_type": "execute_result",
          "data": {
            "text/plain": [
              "0.36020391767846455"
            ]
          },
          "metadata": {
            "tags": []
          },
          "execution_count": 170
        }
      ]
    },
    {
      "cell_type": "code",
      "metadata": {
        "id": "O0XpDUeUDlFd",
        "colab_type": "code",
        "outputId": "08e94072-1938-4e1f-b419-42e81d97b549",
        "colab": {
          "base_uri": "https://localhost:8080/",
          "height": 34
        }
      },
      "source": [
        "model.fit(X_train,y_train,epochs=100,batch_size=300,verbose=0)"
      ],
      "execution_count": 0,
      "outputs": [
        {
          "output_type": "execute_result",
          "data": {
            "text/plain": [
              "<keras.callbacks.History at 0x7f425bd0c320>"
            ]
          },
          "metadata": {
            "tags": []
          },
          "execution_count": 171
        }
      ]
    },
    {
      "cell_type": "code",
      "metadata": {
        "id": "r2W0VyyHD8kN",
        "colab_type": "code",
        "outputId": "70913a1b-8a6a-403d-82d0-2f4489184a7f",
        "colab": {
          "base_uri": "https://localhost:8080/",
          "height": 51
        }
      },
      "source": [
        "# evaluate the model\n",
        "model.evaluate(X_train, y_train, verbose=1)"
      ],
      "execution_count": 0,
      "outputs": [
        {
          "output_type": "stream",
          "text": [
            "5886/5886 [==============================] - 1s 124us/step\n"
          ],
          "name": "stdout"
        },
        {
          "output_type": "execute_result",
          "data": {
            "text/plain": [
              "0.3134987752984626"
            ]
          },
          "metadata": {
            "tags": []
          },
          "execution_count": 172
        }
      ]
    },
    {
      "cell_type": "code",
      "metadata": {
        "id": "_ISXcL2rEQOZ",
        "colab_type": "code",
        "outputId": "20e6d8ce-1bdb-4f4e-86ab-ca1a878d97a9",
        "colab": {
          "base_uri": "https://localhost:8080/",
          "height": 34
        }
      },
      "source": [
        "model.fit(X_train,y_train,epochs=400,batch_size=1000,verbose=0)"
      ],
      "execution_count": 0,
      "outputs": [
        {
          "output_type": "execute_result",
          "data": {
            "text/plain": [
              "<keras.callbacks.History at 0x7f42546cff28>"
            ]
          },
          "metadata": {
            "tags": []
          },
          "execution_count": 289
        }
      ]
    },
    {
      "cell_type": "code",
      "metadata": {
        "id": "c4BnLEzGCv3k",
        "colab_type": "code",
        "outputId": "1e73affc-c648-42ce-ee90-d0004f84532c",
        "colab": {
          "base_uri": "https://localhost:8080/",
          "height": 34
        }
      },
      "source": [
        "path = './NN_models/4'\n",
        "# serialize model to JSON\n",
        "model_json = model.to_json()\n",
        "with open(str(path)+'/model.json', \"w\") as json_file:\n",
        "    json_file.write(model_json)\n",
        "    \n",
        "# serialize weights to HDF5\n",
        "model.save_weights(str(path)+'/model.h5')\n",
        "print(\"Saved model to disk\")"
      ],
      "execution_count": 0,
      "outputs": [
        {
          "output_type": "stream",
          "text": [
            "Saved model to disk\n"
          ],
          "name": "stdout"
        }
      ]
    },
    {
      "cell_type": "code",
      "metadata": {
        "id": "So3N8UQ7C0VL",
        "colab_type": "code",
        "outputId": "5dd68d19-ccae-4baa-92eb-b34924611c49",
        "colab": {
          "base_uri": "https://localhost:8080/",
          "height": 34
        }
      },
      "source": [
        "from keras.models import model_from_json\n",
        "\n",
        "# load json and create model\n",
        "json_file = open('./NN_models/4/model.json', 'r')\n",
        "loaded_model_json = json_file.read()\n",
        "json_file.close()\n",
        "loaded_model = model_from_json(loaded_model_json)\n",
        "# load weights into new model\n",
        "loaded_model.load_weights(\"./NN_models/4/model.h5\")\n",
        "print(\"Loaded model from disk\")\n",
        "\n",
        "# # evaluate loaded model on test data\n",
        "# loaded_model.compile(loss='binary_crossentropy', optimizer='rmsprop', metrics=['accuracy'])\n",
        "# score = loaded_model.evaluate(X, Y, verbose=0)\n",
        "# print(\"%s: %.2f%%\" % (loaded_model.metrics_names[1], score[1]*100))"
      ],
      "execution_count": 0,
      "outputs": [
        {
          "output_type": "stream",
          "text": [
            "Loaded model from disk\n"
          ],
          "name": "stdout"
        }
      ]
    },
    {
      "cell_type": "code",
      "metadata": {
        "id": "MRRl3lHGKZxc",
        "colab_type": "code",
        "outputId": "5c8aef2f-3a2e-47f3-e800-b258ac386cb9",
        "colab": {
          "base_uri": "https://localhost:8080/",
          "height": 695
        }
      },
      "source": [
        "predicts = model.predict(X_test)\n",
        "\n",
        "predicts = np.array(predicts)\n",
        "y_test = np.array(y_test)\n",
        "\n",
        "Y = []\n",
        "pr= []\n",
        "\n",
        "for i in range(len(y_test)):\n",
        "    \n",
        "    pr.append(np.argmax(predicts[i]))\n",
        "    \n",
        "    Y.append(np.argmax((y_test[i])))\n",
        "\n",
        "\n",
        "labels = [class_map[i][0] for i in range(len(class_map))]  \n",
        "    \n",
        "conf_plotter(Y , pr , labels , normalize=1, mode='test' , cmap = plt.cm.YlGn, save=0 , name='test_3.jpg')"
      ],
      "execution_count": 0,
      "outputs": [
        {
          "output_type": "execute_result",
          "data": {
            "text/plain": [
              "<matplotlib.axes._subplots.AxesSubplot at 0x7f425518e080>"
            ]
          },
          "metadata": {
            "tags": []
          },
          "execution_count": 291
        },
        {
          "output_type": "display_data",
          "data": {
            "image/png": "[encoded data removed]",
            "text/plain": [
              "<Figure size 720x720 with 2 Axes>"
            ]
          },
          "metadata": {
            "tags": []
          }
        }
      ]
    },
    {
      "cell_type": "code",
      "metadata": {
        "id": "2lw5xuyqTsuX",
        "colab_type": "code",
        "outputId": "1bb9717c-ac9f-4d21-9cbb-5e79b4a9b618",
        "colab": {
          "base_uri": "https://localhost:8080/",
          "height": 34
        }
      },
      "source": [
        "from sklearn.metrics import confusion_matrix\n",
        "\n",
        "cm = confusion_matrix(Y, pr)\n",
        "np.trace(cm)/len(y_test)"
      ],
      "execution_count": 0,
      "outputs": [
        {
          "output_type": "execute_result",
          "data": {
            "text/plain": [
              "0.81855249745158"
            ]
          },
          "metadata": {
            "tags": []
          },
          "execution_count": 292
        }
      ]
    },
    {
      "cell_type": "code",
      "metadata": {
        "id": "y5IdCppVRRv8",
        "colab_type": "code",
        "outputId": "f853ed0e-13f6-43b1-e54f-d7acf3710233",
        "colab": {
          "base_uri": "https://localhost:8080/",
          "height": 85
        }
      },
      "source": [
        "print(predicts.shape)\n",
        "print(np.array(Y).shape)\n",
        "print(np.array(pr).shape)\n",
        "print(y_test.shape)"
      ],
      "execution_count": 0,
      "outputs": [
        {
          "output_type": "stream",
          "text": [
            "(1962, 14)\n",
            "(1962,)\n",
            "(1962,)\n",
            "(1962, 14)\n"
          ],
          "name": "stdout"
        }
      ]
    },
    {
      "cell_type": "code",
      "metadata": {
        "id": "lQ_4eHSHSylB",
        "colab_type": "code",
        "colab": {}
      },
      "source": [
        "y_test = pd.DataFrame(y_test)\n",
        "predicts = pd.DataFrame(predicts)"
      ],
      "execution_count": 0,
      "outputs": []
    },
    {
      "cell_type": "code",
      "metadata": {
        "id": "Ms1XM4XwQb3j",
        "colab_type": "code",
        "outputId": "56d16f36-16b5-4714-a599-356e67d05b8b",
        "colab": {
          "base_uri": "https://localhost:8080/",
          "height": 34
        }
      },
      "source": [
        "def multi_weighted_logloss(y_true, y_preds):\n",
        "    \"\"\"\n",
        "    @author olivier https://www.kaggle.com/ogrellier\n",
        "    multi logloss for PLAsTiCC challenge\n",
        "    \"\"\"\n",
        "    classes = targets.unique()\n",
        "    class_weight = {6: 1, 15: 2, 16: 1, 42: 1, 52: 1, 53: 1, 62: 1, 64: 2, 65: 1, 67: 1, 88: 1, 90: 1, 92: 1, 95: 1}\n",
        "    \n",
        "    \n",
        "    y_p = y_preds\n",
        "    \n",
        "    y_ohe = pd.get_dummies(y_true)\n",
        "    # Normalize rows and limit y_preds to 1e-15, 1-1e-15\n",
        "    y_p = np.clip(a=y_p, a_min=1e-15, a_max=1-1e-15)\n",
        "    # Transform to log\n",
        "    y_p_log = np.log(y_p)\n",
        "\n",
        "    \n",
        "    y_log_ones = np.sum(y_ohe.values * y_p_log, axis=0)\n",
        "    # Get the number of positives for each class\n",
        "    nb_pos = y_ohe.sum(axis=0).values.astype(float)\n",
        "    # Weight average and divide by the number of positives\n",
        "    class_arr = np.array([class_weight[k] for k in sorted(class_weight.keys())])\n",
        "    y_w = y_log_ones * class_arr / nb_pos\n",
        "    \n",
        "    loss = - np.sum(y_w) / np.sum(class_arr)\n",
        "    return loss\n",
        "\n",
        "multi_weighted_logloss(y_test, predicts)"
      ],
      "execution_count": 0,
      "outputs": [
        {
          "output_type": "execute_result",
          "data": {
            "text/plain": [
              "1.3111265887667425"
            ]
          },
          "metadata": {
            "tags": []
          },
          "execution_count": 295
        }
      ]
    },
    {
      "cell_type": "code",
      "metadata": {
        "id": "ELtxr4col72p",
        "colab_type": "code",
        "outputId": "13eb1bcf-17a7-441d-bafe-5b4fc50f390d",
        "colab": {
          "base_uri": "https://localhost:8080/",
          "height": 695
        }
      },
      "source": [
        "predicts = model.predict(X_train)\n",
        "\n",
        "Y = []\n",
        "pr= []\n",
        "\n",
        "for i in range(len(y_train)):\n",
        "    \n",
        "    pr.append(np.argmax((np.array(predicts)[i])))\n",
        "    Y.append(np.argmax(np.array(y_train)[i]))\n",
        "\n",
        "\n",
        "labels = [class_map[i][0] for i in range(len(class_map))]   \n",
        "    \n",
        "conf_plotter(Y , pr , labels , normalize=1, cmap = plt.cm.OrRd, save=1 , name='train_3.jpg')"
      ],
      "execution_count": 0,
      "outputs": [
        {
          "output_type": "execute_result",
          "data": {
            "text/plain": [
              "<matplotlib.axes._subplots.AxesSubplot at 0x7f42545171d0>"
            ]
          },
          "metadata": {
            "tags": []
          },
          "execution_count": 288
        },
        {
          "output_type": "display_data",
          "data": {
            "image/png": "[encoded data removed]",
            "text/plain": [
              "<Figure size 720x720 with 2 Axes>"
            ]
          },
          "metadata": {
            "tags": []
          }
        }
      ]
    },
    {
      "cell_type": "code",
      "metadata": {
        "id": "LHdmOYc4ZBpP",
        "colab_type": "code",
        "colab": {}
      },
      "source": [
        ""
      ],
      "execution_count": 0,
      "outputs": []
    }
  ]
}