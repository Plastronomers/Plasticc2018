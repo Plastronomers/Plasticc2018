{
  "nbformat": 4,
  "nbformat_minor": 0,
  "metadata": {
    "colab": {
      "name": "Bahar-NN8.ipynb",
      "version": "0.3.2",
      "provenance": [],
      "collapsed_sections": []
    },
    "kernelspec": {
      "name": "python3",
      "display_name": "Python 3"
    },
    "accelerator": "GPU"
  },
  "cells": [
    {
      "cell_type": "code",
      "metadata": {
        "id": "GnNvg83auDfe",
        "colab_type": "code",
        "outputId": "8ce556d0-2260-40f8-fb07-d2ed69f7b0fd",
        "colab": {
          "base_uri": "https://localhost:8080/",
          "height": 34
        }
      },
      "source": [
        "from google.colab import drive\n",
        "drive.mount('/gdrive')"
      ],
      "execution_count": 0,
      "outputs": [
        {
          "output_type": "stream",
          "text": [
            "Drive already mounted at /gdrive; to attempt to forcibly remount, call drive.mount(\"/gdrive\", force_remount=True).\n"
          ],
          "name": "stdout"
        }
      ]
    },
    {
      "cell_type": "code",
      "metadata": {
        "id": "iFDOdJFQuRPM",
        "colab_type": "code",
        "outputId": "5afadff9-8ffb-44b9-b75b-437c5a1432f5",
        "colab": {
          "base_uri": "https://localhost:8080/",
          "height": 34
        }
      },
      "source": [
        "cd /gdrive/My\\ Drive/"
      ],
      "execution_count": 0,
      "outputs": [
        {
          "output_type": "stream",
          "text": [
            "/gdrive/My Drive\n"
          ],
          "name": "stdout"
        }
      ]
    },
    {
      "cell_type": "code",
      "metadata": {
        "id": "vq-uUmu9umsm",
        "colab_type": "code",
        "outputId": "4cf6cabc-c10d-4fc2-ab00-c9141ad5a384",
        "colab": {
          "base_uri": "https://localhost:8080/",
          "height": 34
        }
      },
      "source": [
        "import pandas as pd\n",
        "import numpy as np\n",
        "import pylab as plt\n",
        "import pandas as pd\n",
        "from glob import glob\n",
        "from astropy.io import fits\n",
        "from astropy.table import Table\n",
        "from keras.models import Sequential\n",
        "from keras.layers import Dense, Activation, Dropout, Conv1D, MaxPooling1D, Flatten , BatchNormalization , ReLU , AveragePooling1D\n",
        "from sklearn.metrics import confusion_matrix\n",
        "from sklearn.utils.multiclass import unique_labels\n",
        "from sklearn.model_selection import train_test_split\n",
        "import tensorflow as tf\n",
        "import keras as K"
      ],
      "execution_count": 0,
      "outputs": [
        {
          "output_type": "stream",
          "text": [
            "Using TensorFlow backend.\n"
          ],
          "name": "stderr"
        }
      ]
    },
    {
      "cell_type": "code",
      "metadata": {
        "id": "Wjb5jr-fPWN-",
        "colab_type": "code",
        "colab": {}
      },
      "source": [
        "def conf_plotter(y_true, y_pred, classes,\n",
        "                      normalize=0,\n",
        "                      title=None,\n",
        "                      cmap=plt.cm.pink_r,\n",
        "                      mode = 'train',\n",
        "                      save = 0,\n",
        "                      name = 'conf.jpg'):\n",
        "\n",
        "    if not title:\n",
        "        if mode == 'train':\n",
        "            title = 'Normalized confusion matrix on train dataset'\n",
        "        else:\n",
        "            title = 'Normalized confusion matrix on test dataset'\n",
        "            \n",
        "\n",
        "    from sklearn.metrics import confusion_matrix\n",
        "    \n",
        "    cm = confusion_matrix(y_true, y_pred)\n",
        "\n",
        "    if normalize:\n",
        "        cm = cm.astype('float') / cm.sum(axis=1)[:, np.newaxis]\n",
        "\n",
        "\n",
        "    fig, ax = plt.subplots(figsize=(10,10))\n",
        "    im = ax.imshow(cm, interpolation='nearest', cmap=cmap)\n",
        "    ax.figure.colorbar(im, ax=ax ,fraction=0.046, pad=0.04)\n",
        "    ax.set(xticks=np.arange(cm.shape[1]),\n",
        "           yticks=np.arange(cm.shape[0]),\n",
        "           xticklabels=classes, yticklabels=classes,\n",
        "           title=title,\n",
        "           xlabel='Predicted label',\n",
        "           ylabel='True label')\n",
        "    \n",
        "    for item in ([ax.title, ax.xaxis.label, ax.yaxis.label] ):\n",
        "                    \n",
        "        item.set_fontsize(20)\n",
        "     \n",
        "    for item in (ax.get_xticklabels() + ax.get_yticklabels()):\n",
        "        \n",
        "        item.set_fontsize(12)\n",
        "\n",
        "        \n",
        "                \n",
        "    plt.gca().invert_yaxis()\n",
        "    plt.setp(ax.get_xticklabels(), rotation=45, ha=\"right\",\n",
        "             rotation_mode=\"anchor\")\n",
        "\n",
        "    fmt = '.2f' if normalize else 'd'\n",
        "    thresh = cm.max() / 2.\n",
        "    for i in range(cm.shape[0]):\n",
        "        for j in range(cm.shape[1]):\n",
        "            ax.text(j, i, format(cm[i, j], fmt),\n",
        "                    ha=\"center\", va=\"center\",\n",
        "                    color=\"white\" if cm[i, j] > thresh else \"black\")\n",
        "    fig.tight_layout()\n",
        "    if save == 1:\n",
        "        plt.savefig(name)\n",
        "    return ax"
      ],
      "execution_count": 0,
      "outputs": []
    },
    {
      "cell_type": "code",
      "metadata": {
        "id": "sNdI2oPn3TWt",
        "colab_type": "code",
        "colab": {}
      },
      "source": [
        "X_train = pd.read_csv('./data/X_train.csv')\n",
        "y_train = pd.read_csv('./data/y_train.csv')\n",
        "X_test = pd.read_csv('./data/X_test.csv')\n",
        "y_test= pd.read_csv('./data/y_test.csv')"
      ],
      "execution_count": 0,
      "outputs": []
    },
    {
      "cell_type": "code",
      "metadata": {
        "id": "hECiwTOq17rS",
        "colab_type": "code",
        "outputId": "81108edb-a445-440b-d656-294914e05ecf",
        "colab": {
          "base_uri": "https://localhost:8080/",
          "height": 34
        }
      },
      "source": [
        "X_train.shape , X_test.shape , y_train.shape , y_test.shape"
      ],
      "execution_count": 0,
      "outputs": [
        {
          "output_type": "execute_result",
          "data": {
            "text/plain": [
              "((5886, 369), (1962, 369), (5886, 2), (1962, 2))"
            ]
          },
          "metadata": {
            "tags": []
          },
          "execution_count": 7
        }
      ]
    },
    {
      "cell_type": "code",
      "metadata": {
        "id": "Oeexsi4J2FCm",
        "colab_type": "code",
        "colab": {}
      },
      "source": [
        "y_train = y_train.drop(columns =['Unnamed: 0'] )\n",
        "y_test  = y_test.drop(columns =['Unnamed: 0'] )\n",
        "X_train = X_train.drop(columns =['Unnamed: 0'] )\n",
        "X_test = X_test.drop(columns =['Unnamed: 0'] )"
      ],
      "execution_count": 0,
      "outputs": []
    },
    {
      "cell_type": "code",
      "metadata": {
        "id": "_idfSrJGST1G",
        "colab_type": "code",
        "colab": {}
      },
      "source": [
        "# data = pd.read_csv('./Full_Features_train.csv')"
      ],
      "execution_count": 0,
      "outputs": []
    },
    {
      "cell_type": "code",
      "metadata": {
        "id": "xRkmqk3PSd8R",
        "colab_type": "code",
        "outputId": "1fbaf173-603c-47d3-d165-add47013cf6c",
        "colab": {
          "base_uri": "https://localhost:8080/",
          "height": 180
        }
      },
      "source": [
        "df = pd.DataFrame(data)\n",
        "df.head()\n"
      ],
      "execution_count": 0,
      "outputs": [
        {
          "output_type": "error",
          "ename": "NameError",
          "evalue": "ignored",
          "traceback": [
            "\u001b[0;31m---------------------------------------------------------------------------\u001b[0m",
            "\u001b[0;31mNameError\u001b[0m                                 Traceback (most recent call last)",
            "\u001b[0;32m<ipython-input-5-c4ad22f976ab>\u001b[0m in \u001b[0;36m<module>\u001b[0;34m()\u001b[0m\n\u001b[0;32m----> 1\u001b[0;31m \u001b[0mdf\u001b[0m \u001b[0;34m=\u001b[0m \u001b[0mpd\u001b[0m\u001b[0;34m.\u001b[0m\u001b[0mDataFrame\u001b[0m\u001b[0;34m(\u001b[0m\u001b[0mdata\u001b[0m\u001b[0;34m)\u001b[0m\u001b[0;34m\u001b[0m\u001b[0;34m\u001b[0m\u001b[0m\n\u001b[0m\u001b[1;32m      2\u001b[0m \u001b[0mdf\u001b[0m\u001b[0;34m.\u001b[0m\u001b[0mhead\u001b[0m\u001b[0;34m(\u001b[0m\u001b[0;34m)\u001b[0m\u001b[0;34m\u001b[0m\u001b[0;34m\u001b[0m\u001b[0m\n",
            "\u001b[0;31mNameError\u001b[0m: name 'data' is not defined"
          ]
        }
      ]
    },
    {
      "cell_type": "code",
      "metadata": {
        "id": "Xd6Hm6pEFCb8",
        "colab_type": "code",
        "colab": {}
      },
      "source": [
        "df = df.fillna(df.mean())"
      ],
      "execution_count": 0,
      "outputs": []
    },
    {
      "cell_type": "code",
      "metadata": {
        "id": "sMmP7s8o7JTn",
        "colab_type": "code",
        "outputId": "ca564d52-daf9-4e92-9c46-191547115624",
        "colab": {
          "base_uri": "https://localhost:8080/",
          "height": 34
        }
      },
      "source": [
        "np.any(np.isnan(df))"
      ],
      "execution_count": 0,
      "outputs": [
        {
          "output_type": "execute_result",
          "data": {
            "text/plain": [
              "False"
            ]
          },
          "metadata": {
            "tags": []
          },
          "execution_count": 445
        }
      ]
    },
    {
      "cell_type": "code",
      "metadata": {
        "id": "iy-aBBouH7Yz",
        "colab_type": "code",
        "outputId": "ca871690-e7d4-44d3-8f00-3ede33f3fe2d",
        "colab": {
          "base_uri": "https://localhost:8080/",
          "height": 34
        }
      },
      "source": [
        "np.all(np.isfinite(df))"
      ],
      "execution_count": 0,
      "outputs": [
        {
          "output_type": "execute_result",
          "data": {
            "text/plain": [
              "False"
            ]
          },
          "metadata": {
            "tags": []
          },
          "execution_count": 443
        }
      ]
    },
    {
      "cell_type": "code",
      "metadata": {
        "id": "kurtGoJmTt08",
        "colab_type": "code",
        "colab": {}
      },
      "source": [
        "df = df.replace(np.inf , np.nan).fillna()\n",
        "#df.replace([np.inf, -np.inf], np.nan).fillna(df.mean(),axis=1)"
      ],
      "execution_count": 0,
      "outputs": []
    },
    {
      "cell_type": "code",
      "metadata": {
        "id": "vIAK06TSZGs0",
        "colab_type": "code",
        "colab": {}
      },
      "source": [
        "#df[~df.isin([np.nan, np.inf, -np.inf]).any(1)]"
      ],
      "execution_count": 0,
      "outputs": []
    },
    {
      "cell_type": "code",
      "metadata": {
        "id": "gzAvWw1Ze88V",
        "colab_type": "code",
        "colab": {}
      },
      "source": [
        "X = df.drop(['Unnamed: 0' , 'target'] , axis=1)\n",
        "y = df['target']"
      ],
      "execution_count": 0,
      "outputs": []
    },
    {
      "cell_type": "code",
      "metadata": {
        "id": "zX6jAHyGeiuh",
        "colab_type": "code",
        "colab": {}
      },
      "source": [
        "from sklearn.model_selection import train_test_split\n",
        "    \n",
        "X_train, X_test, y_train, y_test = train_test_split(X, y, test_size=0.2, random_state=42)   "
      ],
      "execution_count": 0,
      "outputs": []
    },
    {
      "cell_type": "code",
      "metadata": {
        "id": "3LT1TifnpRCN",
        "colab_type": "code",
        "outputId": "775acda6-2660-4dd3-940d-46afbcaa7b4d",
        "colab": {
          "base_uri": "https://localhost:8080/",
          "height": 34
        }
      },
      "source": [
        "print(X_train.shape , y_train.shape)"
      ],
      "execution_count": 0,
      "outputs": [
        {
          "output_type": "stream",
          "text": [
            "(6278, 363) (6278,)\n"
          ],
          "name": "stdout"
        }
      ]
    },
    {
      "cell_type": "code",
      "metadata": {
        "id": "plO6GTnXqSCs",
        "colab_type": "code",
        "outputId": "a82f22f5-d468-4cd1-d69f-756b6bcffceb",
        "colab": {
          "base_uri": "https://localhost:8080/",
          "height": 34
        }
      },
      "source": [
        "from sklearn.preprocessing import StandardScaler\n",
        "standardscaler = StandardScaler()\n",
        "\n",
        "X_train = standardscaler.fit_transform(X_train)\n",
        "\n",
        "X_test = standardscaler.fit_transform(X_test)\n",
        "\n",
        "X_train.shape , X_test.shape"
      ],
      "execution_count": 0,
      "outputs": [
        {
          "output_type": "execute_result",
          "data": {
            "text/plain": [
              "((5886, 368), (1962, 368))"
            ]
          },
          "metadata": {
            "tags": []
          },
          "execution_count": 9
        }
      ]
    },
    {
      "cell_type": "code",
      "metadata": {
        "id": "jBaYFDiKymRX",
        "colab_type": "code",
        "colab": {}
      },
      "source": [
        ""
      ],
      "execution_count": 0,
      "outputs": []
    },
    {
      "cell_type": "code",
      "metadata": {
        "id": "pl9-lUMyyP8I",
        "colab_type": "code",
        "outputId": "9a039e66-8ef0-4e6d-f4be-3c95a3f730c7",
        "colab": {
          "base_uri": "https://localhost:8080/",
          "height": 34
        }
      },
      "source": [
        "from sklearn.preprocessing import OneHotEncoder\n",
        "\n",
        "y_train = OneHotEncoder(categories='auto').fit_transform(pd.DataFrame(y_train)).toarray()\n",
        "\n",
        "y_test  = OneHotEncoder(categories='auto').fit_transform(pd.DataFrame(y_test)).toarray()\n",
        "\n",
        "y_train.shape , y_test.shape"
      ],
      "execution_count": 0,
      "outputs": [
        {
          "output_type": "execute_result",
          "data": {
            "text/plain": [
              "((5886, 14), (1962, 14))"
            ]
          },
          "metadata": {
            "tags": []
          },
          "execution_count": 10
        }
      ]
    },
    {
      "cell_type": "code",
      "metadata": {
        "id": "VjpE0Nr8cJyM",
        "colab_type": "code",
        "outputId": "56941f82-3b53-4420-dad4-ea374c0d2d0b",
        "colab": {
          "base_uri": "https://localhost:8080/",
          "height": 34
        }
      },
      "source": [
        "from sklearn.model_selection import KFold\n",
        "kf = KFold(n_splits=5)\n",
        "kf.get_n_splits(X_train)"
      ],
      "execution_count": 0,
      "outputs": [
        {
          "output_type": "execute_result",
          "data": {
            "text/plain": [
              "5"
            ]
          },
          "metadata": {
            "tags": []
          },
          "execution_count": 427
        }
      ]
    },
    {
      "cell_type": "code",
      "metadata": {
        "id": "UTVB1a9agMqJ",
        "colab_type": "code",
        "outputId": "561c1801-b58f-4947-9e41-ed3ee37a2d64",
        "colab": {
          "base_uri": "https://localhost:8080/",
          "height": 101
        }
      },
      "source": [
        "for train_index, test_index in kf.split(X_train):\n",
        "    \n",
        "    print(train_index, test_index)\n",
        "\n",
        "    x_train, x_val = X_train[train_index], X_train[test_index]\n",
        "    y_tr , y_val = y_train[train_index], y_train[test_index]"
      ],
      "execution_count": 0,
      "outputs": [
        {
          "output_type": "stream",
          "text": [
            "[1256 1257 1258 ... 6275 6276 6277] [   0    1    2 ... 1253 1254 1255]\n",
            "[   0    1    2 ... 6275 6276 6277] [1256 1257 1258 ... 2509 2510 2511]\n",
            "[   0    1    2 ... 6275 6276 6277] [2512 2513 2514 ... 3765 3766 3767]\n",
            "[   0    1    2 ... 6275 6276 6277] [3768 3769 3770 ... 5020 5021 5022]\n",
            "[   0    1    2 ... 5020 5021 5022] [5023 5024 5025 ... 6275 6276 6277]\n"
          ],
          "name": "stdout"
        }
      ]
    },
    {
      "cell_type": "code",
      "metadata": {
        "id": "skCaAyP8j-mW",
        "colab_type": "code",
        "outputId": "7f68ceb2-493b-4cc0-a843-99af9c3e0af2",
        "colab": {
          "base_uri": "https://localhost:8080/",
          "height": 34
        }
      },
      "source": [
        "x_train.shape , x_val.shape , y_tr.shape , y_val.shape"
      ],
      "execution_count": 0,
      "outputs": [
        {
          "output_type": "execute_result",
          "data": {
            "text/plain": [
              "((5023, 364), (1255, 364), (5023, 14), (1255, 14))"
            ]
          },
          "metadata": {
            "tags": []
          },
          "execution_count": 81
        }
      ]
    },
    {
      "cell_type": "code",
      "metadata": {
        "id": "bmC0bEQCsRGI",
        "colab_type": "code",
        "outputId": "665b909c-6eed-421e-f94f-19eef2a1c376",
        "colab": {
          "base_uri": "https://localhost:8080/",
          "height": 34
        }
      },
      "source": [
        "len(y_val)"
      ],
      "execution_count": 0,
      "outputs": [
        {
          "output_type": "execute_result",
          "data": {
            "text/plain": [
              "1255"
            ]
          },
          "metadata": {
            "tags": []
          },
          "execution_count": 82
        }
      ]
    },
    {
      "cell_type": "code",
      "metadata": {
        "id": "paVHXtS1qFSz",
        "colab_type": "code",
        "outputId": "b9416be9-4ab4-4766-bf0f-e99d5d755177",
        "colab": {
          "base_uri": "https://localhost:8080/",
          "height": 34
        }
      },
      "source": [
        "x_train.shape"
      ],
      "execution_count": 0,
      "outputs": [
        {
          "output_type": "execute_result",
          "data": {
            "text/plain": [
              "(5023, 364)"
            ]
          },
          "metadata": {
            "tags": []
          },
          "execution_count": 83
        }
      ]
    },
    {
      "cell_type": "code",
      "metadata": {
        "id": "Lh3csHPKBbXi",
        "colab_type": "code",
        "outputId": "1832ccd7-651d-42f8-a029-08311157a05c",
        "colab": {
          "base_uri": "https://localhost:8080/",
          "height": 34
        }
      },
      "source": [
        "input_dim = X_train.shape[1]\n",
        "\n",
        "# n_class = len(df['target'].unique())\n",
        "n_class = 14\n",
        "input_dim"
      ],
      "execution_count": 0,
      "outputs": [
        {
          "output_type": "execute_result",
          "data": {
            "text/plain": [
              "368"
            ]
          },
          "metadata": {
            "tags": []
          },
          "execution_count": 11
        }
      ]
    },
    {
      "cell_type": "code",
      "metadata": {
        "id": "QlCLpaLp19W2",
        "colab_type": "code",
        "colab": {}
      },
      "source": [
        "af = tf.nn.selu\n",
        "\n",
        "K.backend.clear_session()\n",
        "\n",
        "model = Sequential()\n",
        "\n",
        "# model.add(Dense(input_dim, input_dim=input_dim))\n",
        "# model.add(BatchNormalization(trainable=True))\n",
        "# model.add(Activation(af))\n",
        "# model.add(Dropout(rate = 0.5))\n",
        "\n",
        "model.add(Dense(256, input_dim=input_dim))\n",
        "model.add(BatchNormalization(trainable=True))\n",
        "model.add(Activation(af))\n",
        "model.add(Dropout(rate = 0.5))\n",
        "\n",
        "model.add(Dense(128))\n",
        "model.add(BatchNormalization(trainable=True))\n",
        "model.add(Activation(af))\n",
        "model.add(Dropout(rate = 0.5))\n",
        "\n",
        "model.add(Dense(64))\n",
        "model.add(BatchNormalization(trainable=True))\n",
        "model.add(Activation(af))\n",
        "model.add(Dropout(rate = 0.5))\n",
        "\n",
        "\n",
        "model.add(Dense(32))\n",
        "model.add(BatchNormalization(trainable=True))\n",
        "model.add(Activation(af))\n",
        "model.add(Dropout(rate = 0.5))\n",
        "\n",
        "\n",
        "model.add(Dense(16))\n",
        "model.add(BatchNormalization(trainable=True))\n",
        "model.add(Activation(af))\n",
        "\n",
        "\n",
        "model.add(Dense(n_class, activation='softmax'))"
      ],
      "execution_count": 0,
      "outputs": []
    },
    {
      "cell_type": "code",
      "metadata": {
        "id": "j8Nh5VFHYRa3",
        "colab_type": "code",
        "outputId": "0dc26c3f-2778-4e7f-bcf1-f8d6ba1f7eba",
        "colab": {
          "base_uri": "https://localhost:8080/",
          "height": 829
        }
      },
      "source": [
        "model.summary()"
      ],
      "execution_count": 0,
      "outputs": [
        {
          "output_type": "stream",
          "text": [
            "Model: \"sequential_1\"\n",
            "_________________________________________________________________\n",
            "Layer (type)                 Output Shape              Param #   \n",
            "=================================================================\n",
            "dense_1 (Dense)              (None, 256)               94464     \n",
            "_________________________________________________________________\n",
            "batch_normalization_1 (Batch (None, 256)               1024      \n",
            "_________________________________________________________________\n",
            "activation_1 (Activation)    (None, 256)               0         \n",
            "_________________________________________________________________\n",
            "dropout_1 (Dropout)          (None, 256)               0         \n",
            "_________________________________________________________________\n",
            "dense_2 (Dense)              (None, 128)               32896     \n",
            "_________________________________________________________________\n",
            "batch_normalization_2 (Batch (None, 128)               512       \n",
            "_________________________________________________________________\n",
            "activation_2 (Activation)    (None, 128)               0         \n",
            "_________________________________________________________________\n",
            "dropout_2 (Dropout)          (None, 128)               0         \n",
            "_________________________________________________________________\n",
            "dense_3 (Dense)              (None, 64)                8256      \n",
            "_________________________________________________________________\n",
            "batch_normalization_3 (Batch (None, 64)                256       \n",
            "_________________________________________________________________\n",
            "activation_3 (Activation)    (None, 64)                0         \n",
            "_________________________________________________________________\n",
            "dropout_3 (Dropout)          (None, 64)                0         \n",
            "_________________________________________________________________\n",
            "dense_4 (Dense)              (None, 32)                2080      \n",
            "_________________________________________________________________\n",
            "batch_normalization_4 (Batch (None, 32)                128       \n",
            "_________________________________________________________________\n",
            "activation_4 (Activation)    (None, 32)                0         \n",
            "_________________________________________________________________\n",
            "dropout_4 (Dropout)          (None, 32)                0         \n",
            "_________________________________________________________________\n",
            "dense_5 (Dense)              (None, 16)                528       \n",
            "_________________________________________________________________\n",
            "batch_normalization_5 (Batch (None, 16)                64        \n",
            "_________________________________________________________________\n",
            "activation_5 (Activation)    (None, 16)                0         \n",
            "_________________________________________________________________\n",
            "dense_6 (Dense)              (None, 14)                238       \n",
            "=================================================================\n",
            "Total params: 140,446\n",
            "Trainable params: 139,454\n",
            "Non-trainable params: 992\n",
            "_________________________________________________________________\n"
          ],
          "name": "stdout"
        }
      ]
    },
    {
      "cell_type": "code",
      "metadata": {
        "id": "dfAdyuX579YM",
        "colab_type": "code",
        "colab": {}
      },
      "source": [
        "def multi_weighted_logloss(y_true, y_preds):\n",
        "    \"\"\"\n",
        "    @author olivier https://www.kaggle.com/ogrellier\n",
        "    multi logloss for PLAsTiCC challenge\n",
        "    \"\"\"\n",
        "    classes = [6, 15, 16, 42, 52, 53, 62, 64, 65, 67, 88, 90, 92, 95]\n",
        "    class_weight = {6: 1, 15: 2, 16: 1, 42: 1, 52: 1, 53: 1, 62: 1, 64: 2, 65: 1, 67: 1, 88: 1, 90: 1, 92: 1, 95: 1}\n",
        "    \n",
        "    \n",
        "    y_p = y_preds\n",
        "    y_ohe = y_true\n",
        "    \n",
        "    #y_ohe = pd.get_dummies(y_true)\n",
        "    # Normalize rows and limit y_preds to 1e-15, 1-1e-15\n",
        "    y_p = tf.clip_by_value(t=y_p, clip_value_min= 1e-15, clip_value_max=1-1e-15)\n",
        "    # Transform to log\n",
        "    y_p_log = tf.log(y_p)\n",
        "\n",
        "    y_log_ones = tf.reduce_sum(tf.math.multiply(y_ohe , y_p_log), axis=0)\n",
        "\n",
        "    # Get the number of positives for each class\n",
        "    nb_pos = tf.reduce_sum( y_ohe ,axis=0)\n",
        "\n",
        "    # Weight average and divide by the number of positives\n",
        "    class_arr = np.array([class_weight[k] for k in sorted(class_weight.keys())])\n",
        "    class_arr = tf.cast(class_arr, tf.float32)\n",
        "\n",
        "    y_w = y_log_ones * class_arr / nb_pos\n",
        "\n",
        "    \n",
        "    loss = - tf.divide(tf.reduce_sum(y_w) , (tf.reduce_sum(class_arr)+1e-30))\n",
        "\n",
        "    return loss"
      ],
      "execution_count": 0,
      "outputs": []
    },
    {
      "cell_type": "code",
      "metadata": {
        "id": "IdcfDPSbfiGM",
        "colab_type": "code",
        "colab": {}
      },
      "source": [
        "# def score(yTrue,yPred):\n",
        "#     return multi_weighted_logloss(yTrue,yPred)\n",
        "\n",
        "# adam = K.optimizers.Adam(lr=0.01,  epsilon=None, decay=1e-3, amsgrad=False)"
      ],
      "execution_count": 0,
      "outputs": []
    },
    {
      "cell_type": "code",
      "metadata": {
        "id": "Xqfbwopb3gDA",
        "colab_type": "code",
        "colab": {}
      },
      "source": [
        "def mywloss(y_true,y_pred):\n",
        "    \n",
        "     wtable = np.array([1,  2, 1, 1, 1, 1, 1, 2, 1, 1, 1,  1,  1,  1])\n",
        "#     wtable = np.array([0.02000132, 0.12239221, 0.00397377, 0.12994238, 0.03165773,\n",
        "#                         0.03278363, 0.15802372, 0.02424002, 0.06411021, 0.00675541,\n",
        "#                         0.02755149, 0.04900987, 0.3063779 , 0.02318034])\n",
        "    \n",
        "    yc=tf.clip_by_value(y_pred,1e-15,1-1e-15)\n",
        "    loss=-(tf.reduce_mean(tf.reduce_mean(y_true*tf.log(yc),axis=0)/wtable))\n",
        "    return loss\n"
      ],
      "execution_count": 0,
      "outputs": []
    },
    {
      "cell_type": "code",
      "metadata": {
        "id": "M4PXPOLh3ir6",
        "colab_type": "code",
        "colab": {}
      },
      "source": [
        "adam = K.optimizers.Adam(lr=0.00001, decay=1e-3, amsgrad=False)\n",
        "\n",
        "model.compile(loss = K.losses.categorical_crossentropy , optimizer=adam , metrics=['accuracy'])"
      ],
      "execution_count": 0,
      "outputs": []
    },
    {
      "cell_type": "code",
      "metadata": {
        "id": "Z0_HmpzF2RyD",
        "colab_type": "code",
        "colab": {}
      },
      "source": [
        "# model.compile(loss = K.losses.categorical_crossentropy, optimizer=adam ,metrics=['accuracy'])"
      ],
      "execution_count": 0,
      "outputs": []
    },
    {
      "cell_type": "code",
      "metadata": {
        "id": "g5itlbHP2nEq",
        "colab_type": "code",
        "outputId": "dca0cbda-910a-4fa2-8f71-c5e0a485be44",
        "colab": {
          "base_uri": "https://localhost:8080/",
          "height": 389
        }
      },
      "source": [
        "model.fit(X_train,y_train, validation_split =0.2  , epochs=10,batch_size=256,verbose=1)"
      ],
      "execution_count": 0,
      "outputs": [
        {
          "output_type": "stream",
          "text": [
            "Train on 4708 samples, validate on 1178 samples\n",
            "Epoch 1/10\n",
            "4708/4708 [==============================] - 0s 72us/step - loss: 1.0970 - acc: 0.6655 - val_loss: 0.8335 - val_acc: 0.7258\n",
            "Epoch 2/10\n",
            "4708/4708 [==============================] - 0s 72us/step - loss: 1.0574 - acc: 0.6854 - val_loss: 0.8155 - val_acc: 0.7334\n",
            "Epoch 3/10\n",
            "4708/4708 [==============================] - 0s 71us/step - loss: 1.0359 - acc: 0.6880 - val_loss: 0.7891 - val_acc: 0.7462\n",
            "Epoch 4/10\n",
            "4708/4708 [==============================] - 0s 75us/step - loss: 1.0053 - acc: 0.6952 - val_loss: 0.7766 - val_acc: 0.7504\n",
            "Epoch 5/10\n",
            "4708/4708 [==============================] - 0s 83us/step - loss: 0.9735 - acc: 0.7075 - val_loss: 0.7521 - val_acc: 0.7555\n",
            "Epoch 6/10\n",
            "4708/4708 [==============================] - 0s 72us/step - loss: 0.9573 - acc: 0.7075 - val_loss: 0.7388 - val_acc: 0.7657\n",
            "Epoch 7/10\n",
            "4708/4708 [==============================] - 0s 71us/step - loss: 0.9299 - acc: 0.7194 - val_loss: 0.7199 - val_acc: 0.7759\n",
            "Epoch 8/10\n",
            "4708/4708 [==============================] - 0s 80us/step - loss: 0.9079 - acc: 0.7196 - val_loss: 0.7043 - val_acc: 0.7733\n",
            "Epoch 9/10\n",
            "4708/4708 [==============================] - 0s 85us/step - loss: 0.8944 - acc: 0.7305 - val_loss: 0.6843 - val_acc: 0.7861\n",
            "Epoch 10/10\n",
            "4708/4708 [==============================] - 0s 73us/step - loss: 0.8709 - acc: 0.7368 - val_loss: 0.6690 - val_acc: 0.7954\n"
          ],
          "name": "stdout"
        },
        {
          "output_type": "execute_result",
          "data": {
            "text/plain": [
              "<keras.callbacks.History at 0x7fa626fb64a8>"
            ]
          },
          "metadata": {
            "tags": []
          },
          "execution_count": 96
        }
      ]
    },
    {
      "cell_type": "code",
      "metadata": {
        "id": "gVrtj7WrjIgQ",
        "colab_type": "code",
        "outputId": "ce69d6a4-46ad-4d78-efc7-0302442a22b0",
        "colab": {
          "base_uri": "https://localhost:8080/",
          "height": 389
        }
      },
      "source": [
        "model.fit(X_train,y_train, validation_split =0.2  , epochs=10,batch_size=200,verbose=1)"
      ],
      "execution_count": 0,
      "outputs": [
        {
          "output_type": "stream",
          "text": [
            "Train on 4708 samples, validate on 1178 samples\n",
            "Epoch 1/10\n",
            "4708/4708 [==============================] - 0s 101us/step - loss: 0.8547 - acc: 0.7396 - val_loss: 0.6530 - val_acc: 0.7929\n",
            "Epoch 2/10\n",
            "4708/4708 [==============================] - 0s 99us/step - loss: 0.8403 - acc: 0.7398 - val_loss: 0.6394 - val_acc: 0.7988\n",
            "Epoch 3/10\n",
            "4708/4708 [==============================] - 0s 93us/step - loss: 0.8227 - acc: 0.7453 - val_loss: 0.6215 - val_acc: 0.7954\n",
            "Epoch 4/10\n",
            "4708/4708 [==============================] - 0s 103us/step - loss: 0.8096 - acc: 0.7562 - val_loss: 0.6145 - val_acc: 0.8014\n",
            "Epoch 5/10\n",
            "4708/4708 [==============================] - 0s 95us/step - loss: 0.7793 - acc: 0.7608 - val_loss: 0.6012 - val_acc: 0.8039\n",
            "Epoch 6/10\n",
            "4708/4708 [==============================] - 0s 101us/step - loss: 0.7685 - acc: 0.7649 - val_loss: 0.5854 - val_acc: 0.8073\n",
            "Epoch 7/10\n",
            "4708/4708 [==============================] - 0s 96us/step - loss: 0.7570 - acc: 0.7638 - val_loss: 0.5745 - val_acc: 0.8081\n",
            "Epoch 8/10\n",
            "4708/4708 [==============================] - 0s 91us/step - loss: 0.7401 - acc: 0.7721 - val_loss: 0.5604 - val_acc: 0.8141\n",
            "Epoch 9/10\n",
            "4708/4708 [==============================] - 0s 97us/step - loss: 0.7250 - acc: 0.7729 - val_loss: 0.5553 - val_acc: 0.8158\n",
            "Epoch 10/10\n",
            "4708/4708 [==============================] - 0s 96us/step - loss: 0.7244 - acc: 0.7742 - val_loss: 0.5520 - val_acc: 0.8166\n"
          ],
          "name": "stdout"
        },
        {
          "output_type": "execute_result",
          "data": {
            "text/plain": [
              "<keras.callbacks.History at 0x7fa620f4ec88>"
            ]
          },
          "metadata": {
            "tags": []
          },
          "execution_count": 97
        }
      ]
    },
    {
      "cell_type": "code",
      "metadata": {
        "id": "Mt_syg4W0qv5",
        "colab_type": "code",
        "outputId": "1704b3a8-1605-416f-92f4-11e446c8d478",
        "colab": {
          "base_uri": "https://localhost:8080/",
          "height": 17
        }
      },
      "source": [
        "model.fit(X_train,y_train, validation_split =0.2 , epochs=20 ,batch_size=256,verbose=1)"
      ],
      "execution_count": 0,
      "outputs": [
        {
          "output_type": "stream",
          "text": [
            "Train on 4708 samples, validate on 1178 samples\n",
            "Epoch 1/20\n",
            "4608/4708 [============================>.] - ETA: 0s - loss: 0.4656 - acc: 0.8503"
          ],
          "name": "stdout"
        }
      ]
    },
    {
      "cell_type": "code",
      "metadata": {
        "id": "W28QFI4NCijO",
        "colab_type": "code",
        "outputId": "8ac8b2c4-7570-4f01-a810-5e63e50d7da2",
        "colab": {
          "base_uri": "https://localhost:8080/",
          "height": 51
        }
      },
      "source": [
        "# evaluate the model\n",
        "model.evaluate(X_test, y_test)"
      ],
      "execution_count": 0,
      "outputs": [
        {
          "output_type": "stream",
          "text": [
            "1962/1962 [==============================] - 0s 93us/step\n"
          ],
          "name": "stdout"
        },
        {
          "output_type": "execute_result",
          "data": {
            "text/plain": [
              "[0.4719531853872216, 0.8338430172684967]"
            ]
          },
          "metadata": {
            "tags": []
          },
          "execution_count": 109
        }
      ]
    },
    {
      "cell_type": "code",
      "metadata": {
        "id": "O0XpDUeUDlFd",
        "colab_type": "code",
        "outputId": "a1565665-9be9-4102-90c6-9112dfeea1be",
        "colab": {
          "base_uri": "https://localhost:8080/",
          "height": 34
        }
      },
      "source": [
        "model.fit(X_train,y_train,epochs=100,batch_size=300,verbose=0)"
      ],
      "execution_count": 0,
      "outputs": [
        {
          "output_type": "execute_result",
          "data": {
            "text/plain": [
              "<keras.callbacks.History at 0x7f6d254ed4a8>"
            ]
          },
          "metadata": {
            "tags": []
          },
          "execution_count": 97
        }
      ]
    },
    {
      "cell_type": "code",
      "metadata": {
        "id": "r2W0VyyHD8kN",
        "colab_type": "code",
        "outputId": "3144fb6a-b480-4a88-e749-684871a3bfc6",
        "colab": {
          "base_uri": "https://localhost:8080/",
          "height": 51
        }
      },
      "source": [
        "# evaluate the model\n",
        "model.evaluate(X_test, y_test, verbose=1)"
      ],
      "execution_count": 0,
      "outputs": [
        {
          "output_type": "stream",
          "text": [
            "1570/1570 [==============================] - 0s 92us/step\n"
          ],
          "name": "stdout"
        },
        {
          "output_type": "execute_result",
          "data": {
            "text/plain": [
              "[0.4915343209057097, 0.8426751592356688]"
            ]
          },
          "metadata": {
            "tags": []
          },
          "execution_count": 91
        }
      ]
    },
    {
      "cell_type": "code",
      "metadata": {
        "id": "YDRNS44VmI8L",
        "colab_type": "code",
        "outputId": "5f0dac1a-9f1f-48d9-d1f8-388a53c42edf",
        "colab": {
          "base_uri": "https://localhost:8080/",
          "height": 51
        }
      },
      "source": [
        "model.evaluate(X_train, y_train, verbose=1)"
      ],
      "execution_count": 0,
      "outputs": [
        {
          "output_type": "stream",
          "text": [
            "6278/6278 [==============================] - 1s 89us/step\n"
          ],
          "name": "stdout"
        },
        {
          "output_type": "execute_result",
          "data": {
            "text/plain": [
              "[0.419675517432076, 0.8631729850270787]"
            ]
          },
          "metadata": {
            "tags": []
          },
          "execution_count": 92
        }
      ]
    },
    {
      "cell_type": "code",
      "metadata": {
        "id": "_ISXcL2rEQOZ",
        "colab_type": "code",
        "outputId": "2d3fa175-8b1f-412c-bc5c-98e4b5c1ff0c",
        "colab": {
          "base_uri": "https://localhost:8080/",
          "height": 163
        }
      },
      "source": [
        "loaded_model.fit(X_train,y_train,epochs=10,batch_size=300,verbose=0)"
      ],
      "execution_count": 0,
      "outputs": [
        {
          "output_type": "error",
          "ename": "NameError",
          "evalue": "ignored",
          "traceback": [
            "\u001b[0;31m---------------------------------------------------------------------------\u001b[0m",
            "\u001b[0;31mNameError\u001b[0m                                 Traceback (most recent call last)",
            "\u001b[0;32m<ipython-input-1-bce5a66b4948>\u001b[0m in \u001b[0;36m<module>\u001b[0;34m()\u001b[0m\n\u001b[0;32m----> 1\u001b[0;31m \u001b[0mloaded_model\u001b[0m\u001b[0;34m.\u001b[0m\u001b[0mfit\u001b[0m\u001b[0;34m(\u001b[0m\u001b[0mX_train\u001b[0m\u001b[0;34m,\u001b[0m\u001b[0my_train\u001b[0m\u001b[0;34m,\u001b[0m\u001b[0mepochs\u001b[0m\u001b[0;34m=\u001b[0m\u001b[0;36m10\u001b[0m\u001b[0;34m,\u001b[0m\u001b[0mbatch_size\u001b[0m\u001b[0;34m=\u001b[0m\u001b[0;36m300\u001b[0m\u001b[0;34m,\u001b[0m\u001b[0mverbose\u001b[0m\u001b[0;34m=\u001b[0m\u001b[0;36m0\u001b[0m\u001b[0;34m)\u001b[0m\u001b[0;34m\u001b[0m\u001b[0;34m\u001b[0m\u001b[0m\n\u001b[0m",
            "\u001b[0;31mNameError\u001b[0m: name 'loaded_model' is not defined"
          ]
        }
      ]
    },
    {
      "cell_type": "code",
      "metadata": {
        "id": "c4BnLEzGCv3k",
        "colab_type": "code",
        "outputId": "9915b5ad-840e-446b-9d96-56dce8dadfe5",
        "colab": {
          "base_uri": "https://localhost:8080/",
          "height": 34
        }
      },
      "source": [
        "path = './NN_models/6'\n",
        "# serialize model to JSON\n",
        "model_json = model.to_json()\n",
        "with open(str(path)+'/NN6_model.json', \"w\") as json_file:\n",
        "    json_file.write(model_json)\n",
        "    \n",
        "# serialize weights to HDF5\n",
        "model.save_weights(str(path)+'/NN6_model.h5')\n",
        "print(\"Saved model to disk\")"
      ],
      "execution_count": 0,
      "outputs": [
        {
          "output_type": "stream",
          "text": [
            "Saved model to disk\n"
          ],
          "name": "stdout"
        }
      ]
    },
    {
      "cell_type": "code",
      "metadata": {
        "id": "So3N8UQ7C0VL",
        "colab_type": "code",
        "outputId": "dfdec6cc-6c8e-469f-c43d-f3f545ef60eb",
        "colab": {
          "base_uri": "https://localhost:8080/",
          "height": 105
        }
      },
      "source": [
        "from keras.models import model_from_json\n",
        "\n",
        "# load json and create model\n",
        "json_file = open('./NN_models/5/model.json', 'r')\n",
        "loaded_model_json = json_file.read()\n",
        "json_file.close()\n",
        "loaded_model = model_from_json(loaded_model_json)\n",
        "# load weights into new model\n",
        "loaded_model.load_weights(\"./NN_models/5/model.h5\")\n",
        "print(\"Loaded model from disk\")\n",
        "\n",
        "# # evaluate loaded model on test data\n",
        "# loaded_model.compile(loss='binary_crossentropy', optimizer='rmsprop', metrics=['accuracy'])\n",
        "# score = loaded_model.evaluate(X, Y, verbose=0)\n",
        "# print(\"%s: %.2f%%\" % (loaded_model.metrics_names[1], score[1]*100))"
      ],
      "execution_count": 0,
      "outputs": [
        {
          "output_type": "stream",
          "text": [
            "W0818 09:56:13.573389 140153045301120 deprecation.py:323] From /usr/local/lib/python3.6/dist-packages/keras/backend/tensorflow_backend.py:3217: add_dispatch_support.<locals>.wrapper (from tensorflow.python.ops.array_ops) is deprecated and will be removed in a future version.\n",
            "Instructions for updating:\n",
            "Use tf.where in 2.0, which has the same broadcast rule as np.where\n"
          ],
          "name": "stderr"
        },
        {
          "output_type": "stream",
          "text": [
            "Loaded model from disk\n"
          ],
          "name": "stdout"
        }
      ]
    },
    {
      "cell_type": "code",
      "metadata": {
        "id": "_BBKxAGJgjVC",
        "colab_type": "code",
        "outputId": "8b575335-697e-4b40-a041-6190a0ec841f",
        "colab": {
          "base_uri": "https://localhost:8080/",
          "height": 34
        }
      },
      "source": [
        "predicts = model.predict(X_test)\n",
        "\n",
        "y_preds = pd.DataFrame(predicts)\n",
        "y_true = pd.DataFrame(y_test)\n",
        "\n",
        "\n",
        "def multi_weighted_logloss(y_true, y_preds):\n",
        "    \"\"\"\n",
        "    @author olivier https://www.kaggle.com/ogrellier\n",
        "    multi logloss for PLAsTiCC challenge\n",
        "    \"\"\"\n",
        "    classes = [6, 15, 16, 42, 52, 53, 62, 64, 65, 67, 88, 90, 92, 95]\n",
        "    class_weight = {6: 1, 15: 2, 16: 1, 42: 1, 52: 1, 53: 1, 62: 1, 64: 2, 65: 1, 67: 1, 88: 1, 90: 1, 92: 1, 95: 1}\n",
        "    \n",
        "    \n",
        "    y_p = y_preds\n",
        "    y_ohe = y_true\n",
        "    \n",
        "    #y_ohe = pd.get_dummies(y_true)\n",
        "    # Normalize rows and limit y_preds to 1e-15, 1-1e-15\n",
        "    y_p = np.clip(a=y_p, a_min=1e-15, a_max=1-1e-15)\n",
        "    # Transform to log\n",
        "    y_p_log = np.log(y_p)\n",
        "\n",
        "    \n",
        "    y_log_ones = np.sum(y_ohe.values * y_p_log, axis=0)\n",
        "    # Get the number of positives for each class\n",
        "    nb_pos = y_ohe.sum(axis=0).values.astype(float)\n",
        "    # Weight average and divide by the number of positives\n",
        "    class_arr = np.array([class_weight[k] for k in sorted(class_weight.keys())])\n",
        "    y_w = y_log_ones * class_arr / nb_pos\n",
        "    \n",
        "    loss = - np.sum(y_w) / np.sum(class_arr)\n",
        "    return loss\n",
        "\n",
        "\n",
        "\n",
        "multi_weighted_logloss(y_true, y_preds)"
      ],
      "execution_count": 0,
      "outputs": [
        {
          "output_type": "execute_result",
          "data": {
            "text/plain": [
              "0.7663681004538777"
            ]
          },
          "metadata": {
            "tags": []
          },
          "execution_count": 110
        }
      ]
    },
    {
      "cell_type": "code",
      "metadata": {
        "id": "MRRl3lHGKZxc",
        "colab_type": "code",
        "outputId": "38fe420d-db12-4e68-a0e7-39f58aa05a2b",
        "colab": {
          "base_uri": "https://localhost:8080/",
          "height": 695
        }
      },
      "source": [
        "pred = np.array(predicts)\n",
        "y_t = np.array(y_test)\n",
        "\n",
        "Y = []\n",
        "pr= []\n",
        "\n",
        "for i in range(len(y_test)):\n",
        "    \n",
        "    pr.append(np.argmax(pred[i]))\n",
        "    \n",
        "    Y.append(np.argmax((y_t[i])))\n",
        "\n",
        "classes = [6, 15, 16, 42, 52, 53, 62, 64, 65, 67, 88, 90, 92, 95]\n",
        "\n",
        "labels = [classes[i] for i in range(len(classes))]\n",
        "conf_plotter(Y , pr , labels , normalize=1, mode='test' , cmap = plt.cm.BuGn, save=1 , name='NN.jpg')"
      ],
      "execution_count": 0,
      "outputs": [
        {
          "output_type": "execute_result",
          "data": {
            "text/plain": [
              "<matplotlib.axes._subplots.AxesSubplot at 0x7fa620cb4358>"
            ]
          },
          "metadata": {
            "tags": []
          },
          "execution_count": 111
        },
        {
          "output_type": "display_data",
          "data": {
            "image/png": "[encoded data removed]",
            "text/plain": [
              "<Figure size 720x720 with 2 Axes>"
            ]
          },
          "metadata": {
            "tags": []
          }
        }
      ]
    },
    {
      "cell_type": "code",
      "metadata": {
        "id": "2lw5xuyqTsuX",
        "colab_type": "code",
        "outputId": "87772936-c626-400b-f75c-d73810641ccd",
        "colab": {
          "base_uri": "https://localhost:8080/",
          "height": 34
        }
      },
      "source": [
        "from sklearn.metrics import confusion_matrix\n",
        "\n",
        "cm = confusion_matrix(Y, pr)\n",
        "np.trace(cm)/len(y_test)"
      ],
      "execution_count": 0,
      "outputs": [
        {
          "output_type": "execute_result",
          "data": {
            "text/plain": [
              "0.9127388535031847"
            ]
          },
          "metadata": {
            "tags": []
          },
          "execution_count": 403
        }
      ]
    },
    {
      "cell_type": "code",
      "metadata": {
        "id": "ELtxr4col72p",
        "colab_type": "code",
        "outputId": "dfd0838b-9f2b-46bf-e53b-9e36218c5965",
        "colab": {
          "base_uri": "https://localhost:8080/",
          "height": 695
        }
      },
      "source": [
        "predicts = model.predict(X_train)\n",
        "\n",
        "Y = []\n",
        "pr= []\n",
        "\n",
        "for i in range(len(y_train)):\n",
        "    \n",
        "    pr.append(np.argmax((np.array(predicts)[i])))\n",
        "    Y.append(np.argmax(np.array(y_train)[i]))\n",
        "\n",
        "\n",
        "    \n",
        "conf_plotter(Y , pr , labels , normalize=1, cmap = plt.cm.OrRd, save=1 , name='train_3.jpg')"
      ],
      "execution_count": 0,
      "outputs": [
        {
          "output_type": "execute_result",
          "data": {
            "text/plain": [
              "<matplotlib.axes._subplots.AxesSubplot at 0x7fa627147da0>"
            ]
          },
          "metadata": {
            "tags": []
          },
          "execution_count": 70
        },
        {
          "output_type": "display_data",
          "data": {
            "image/png": "[encoded data removed]",
            "text/plain": [
              "<Figure size 720x720 with 2 Axes>"
            ]
          },
          "metadata": {
            "tags": []
          }
        }
      ]
    },
    {
      "cell_type": "code",
      "metadata": {
        "id": "LHdmOYc4ZBpP",
        "colab_type": "code",
        "colab": {}
      },
      "source": [
        ""
      ],
      "execution_count": 0,
      "outputs": []
    }
  ]
}