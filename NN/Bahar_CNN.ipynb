{
  "nbformat": 4,
  "nbformat_minor": 0,
  "metadata": {
    "colab": {
      "name": "Bahar-CNN.ipynb",
      "version": "0.3.2",
      "provenance": [],
      "collapsed_sections": []
    },
    "kernelspec": {
      "name": "python3",
      "display_name": "Python 3"
    },
    "accelerator": "GPU"
  },
  "cells": [
    {
      "cell_type": "code",
      "metadata": {
        "id": "GnNvg83auDfe",
        "colab_type": "code",
        "outputId": "43c6da15-6d41-4ef3-932f-f17e933eb1c5",
        "colab": {
          "base_uri": "https://localhost:8080/",
          "height": 121
        }
      },
      "source": [
        "from google.colab import drive\n",
        "drive.mount('/gdrive')"
      ],
      "execution_count": 0,
      "outputs": [
        {
          "output_type": "stream",
          "text": [
            "Go to this URL in a browser: https://accounts.google.com/o/oauth2/auth?client_id=947318989803-6bn6qk8qdgf4n4g3pfee6491hc0brc4i.apps.googleusercontent.com&redirect_uri=urn%3Aietf%3Awg%3Aoauth%3A2.0%3Aoob&scope=email%20https%3A%2F%2Fwww.googleapis.com%2Fauth%2Fdocs.test%20https%3A%2F%2Fwww.googleapis.com%2Fauth%2Fdrive%20https%3A%2F%2Fwww.googleapis.com%2Fauth%2Fdrive.photos.readonly%20https%3A%2F%2Fwww.googleapis.com%2Fauth%2Fpeopleapi.readonly&response_type=code\n",
            "\n",
            "Enter your authorization code:\n",
            "··········\n",
            "Mounted at /gdrive\n"
          ],
          "name": "stdout"
        }
      ]
    },
    {
      "cell_type": "code",
      "metadata": {
        "id": "iFDOdJFQuRPM",
        "colab_type": "code",
        "outputId": "1284b613-018b-4419-a25b-7ea3a0237169",
        "colab": {
          "base_uri": "https://localhost:8080/",
          "height": 34
        }
      },
      "source": [
        "cd /gdrive/My\\ Drive/"
      ],
      "execution_count": 0,
      "outputs": [
        {
          "output_type": "stream",
          "text": [
            "/gdrive/My Drive\n"
          ],
          "name": "stdout"
        }
      ]
    },
    {
      "cell_type": "code",
      "metadata": {
        "id": "vq-uUmu9umsm",
        "colab_type": "code",
        "outputId": "bb8682f1-6525-4391-e86b-27cb5288249c",
        "colab": {
          "base_uri": "https://localhost:8080/",
          "height": 34
        }
      },
      "source": [
        "import pandas as pd\n",
        "import numpy as np\n",
        "import pylab as plt\n",
        "import pandas as pd\n",
        "from keras.models import Sequential\n",
        "from keras.layers import Dense, Activation, Dropout, Conv1D, MaxPooling1D, Flatten , BatchNormalization , ReLU\n",
        "from sklearn.metrics import confusion_matrix\n",
        "from sklearn.model_selection import train_test_split\n",
        "import tensorflow as tf\n",
        "import keras as K"
      ],
      "execution_count": 0,
      "outputs": [
        {
          "output_type": "stream",
          "text": [
            "Using TensorFlow backend.\n"
          ],
          "name": "stderr"
        }
      ]
    },
    {
      "cell_type": "code",
      "metadata": {
        "id": "Wjb5jr-fPWN-",
        "colab_type": "code",
        "colab": {}
      },
      "source": [
        "def conf_plotter(y_true, y_pred, classes,\n",
        "                      normalize=0,\n",
        "                      title=None,\n",
        "                      cmap=plt.cm.pink_r,\n",
        "                      mode = 'train',\n",
        "                      save = 0,\n",
        "                      name = 'conf.jpg'):\n",
        "\n",
        "    if not title:\n",
        "        if mode == 'train':\n",
        "            title = 'Normalized confusion matrix on train dataset'\n",
        "        else:\n",
        "            title = 'Normalized confusion matrix on test dataset'\n",
        "            \n",
        "\n",
        "    from sklearn.metrics import confusion_matrix\n",
        "    \n",
        "    cm = confusion_matrix(y_true, y_pred)\n",
        "\n",
        "    if normalize:\n",
        "        cm = cm.astype('float') / cm.sum(axis=1)[:, np.newaxis]\n",
        "\n",
        "\n",
        "    fig, ax = plt.subplots(figsize=(10,10))\n",
        "    im = ax.imshow(cm, interpolation='nearest', cmap=cmap)\n",
        "    ax.figure.colorbar(im, ax=ax ,fraction=0.046, pad=0.04)\n",
        "    ax.set(xticks=np.arange(cm.shape[1]),\n",
        "           yticks=np.arange(cm.shape[0]),\n",
        "           xticklabels=classes, yticklabels=classes,\n",
        "           title=title,\n",
        "           xlabel='Predicted label',\n",
        "           ylabel='True label')\n",
        "    \n",
        "    for item in ([ax.title, ax.xaxis.label, ax.yaxis.label] ):\n",
        "                    \n",
        "        item.set_fontsize(20)\n",
        "     \n",
        "    for item in (ax.get_xticklabels() + ax.get_yticklabels()):\n",
        "        \n",
        "        item.set_fontsize(12)\n",
        "\n",
        "        \n",
        "                \n",
        "    plt.gca().invert_yaxis()\n",
        "    plt.setp(ax.get_xticklabels(), rotation=45, ha=\"right\",\n",
        "             rotation_mode=\"anchor\")\n",
        "\n",
        "    fmt = '.2f' if normalize else 'd'\n",
        "    thresh = cm.max() / 2.\n",
        "    for i in range(cm.shape[0]):\n",
        "        for j in range(cm.shape[1]):\n",
        "            ax.text(j, i, format(cm[i, j], fmt),\n",
        "                    ha=\"center\", va=\"center\",\n",
        "                    color=\"white\" if cm[i, j] > thresh else \"black\")\n",
        "    fig.tight_layout()\n",
        "    if save == 1:\n",
        "        plt.savefig(name)\n",
        "    return ax"
      ],
      "execution_count": 0,
      "outputs": []
    },
    {
      "cell_type": "code",
      "metadata": {
        "id": "Nng7bItBrDHM",
        "colab_type": "code",
        "colab": {}
      },
      "source": [
        "data = pd.read_csv('./data/Features_train4.csv')"
      ],
      "execution_count": 0,
      "outputs": []
    },
    {
      "cell_type": "code",
      "metadata": {
        "id": "9PP3KyEyAsep",
        "colab_type": "code",
        "colab": {}
      },
      "source": [
        "X = df.drop('target' ,1)\n",
        "X = X.drop('Unnamed: 0',1)\n",
        "\n",
        "\n",
        "y = df['target']\n",
        "\n",
        "\n",
        "X_train, X_test, y_train, y_test = train_test_split(X, y, test_size=0.25, random_state=42)"
      ],
      "execution_count": 0,
      "outputs": []
    },
    {
      "cell_type": "code",
      "metadata": {
        "id": "uWSuATu_rUxB",
        "colab_type": "code",
        "outputId": "cd9f32a9-992a-451f-d421-c7a9e937c5d5",
        "colab": {
          "base_uri": "https://localhost:8080/",
          "height": 251
        }
      },
      "source": [
        "X_train.head()"
      ],
      "execution_count": 0,
      "outputs": [
        {
          "output_type": "execute_result",
          "data": {
            "text/html": [
              "<div>\n",
              "<style scoped>\n",
              "    .dataframe tbody tr th:only-of-type {\n",
              "        vertical-align: middle;\n",
              "    }\n",
              "\n",
              "    .dataframe tbody tr th {\n",
              "        vertical-align: top;\n",
              "    }\n",
              "\n",
              "    .dataframe thead th {\n",
              "        text-align: right;\n",
              "    }\n",
              "</style>\n",
              "<table border=\"1\" class=\"dataframe\">\n",
              "  <thead>\n",
              "    <tr style=\"text-align: right;\">\n",
              "      <th></th>\n",
              "      <th>flux_min</th>\n",
              "      <th>flux_max</th>\n",
              "      <th>flux_mean</th>\n",
              "      <th>flux_median</th>\n",
              "      <th>flux_std</th>\n",
              "      <th>flux_skew</th>\n",
              "      <th>flux_err_min</th>\n",
              "      <th>flux_err_max</th>\n",
              "      <th>flux_err_mean</th>\n",
              "      <th>flux_err_median</th>\n",
              "      <th>flux_err_std</th>\n",
              "      <th>flux_err_skew</th>\n",
              "      <th>detected_mean</th>\n",
              "      <th>flux_ratio_sq_sum</th>\n",
              "      <th>flux_ratio_sq_skew</th>\n",
              "      <th>flux_by_flux_ratio_sq_sum</th>\n",
              "      <th>flux_by_flux_ratio_sq_skew</th>\n",
              "      <th>flux_w_mean</th>\n",
              "      <th>flux_diff1</th>\n",
              "      <th>flux_diff2</th>\n",
              "      <th>flux_diff3</th>\n",
              "      <th>0__fft_coefficient__coeff_0__attr_\"abs\"</th>\n",
              "      <th>0__fft_coefficient__coeff_1__attr_\"abs\"</th>\n",
              "      <th>0__kurtosis</th>\n",
              "      <th>0__skewness</th>\n",
              "      <th>1__fft_coefficient__coeff_0__attr_\"abs\"</th>\n",
              "      <th>1__fft_coefficient__coeff_1__attr_\"abs\"</th>\n",
              "      <th>1__kurtosis</th>\n",
              "      <th>1__skewness</th>\n",
              "      <th>2__fft_coefficient__coeff_0__attr_\"abs\"</th>\n",
              "      <th>2__fft_coefficient__coeff_1__attr_\"abs\"</th>\n",
              "      <th>2__kurtosis</th>\n",
              "      <th>2__skewness</th>\n",
              "      <th>3__fft_coefficient__coeff_0__attr_\"abs\"</th>\n",
              "      <th>3__fft_coefficient__coeff_1__attr_\"abs\"</th>\n",
              "      <th>3__kurtosis</th>\n",
              "      <th>3__skewness</th>\n",
              "      <th>4__fft_coefficient__coeff_0__attr_\"abs\"</th>\n",
              "      <th>4__fft_coefficient__coeff_1__attr_\"abs\"</th>\n",
              "      <th>4__kurtosis</th>\n",
              "      <th>...</th>\n",
              "      <th>__freq_signif_ratio_21___2_</th>\n",
              "      <th>__freq_signif_ratio_21___3_</th>\n",
              "      <th>__freq_signif_ratio_21___4_</th>\n",
              "      <th>__freq_signif_ratio_21___5_</th>\n",
              "      <th>__freq_signif_ratio_31___0_</th>\n",
              "      <th>__freq_signif_ratio_31___1_</th>\n",
              "      <th>__freq_signif_ratio_31___2_</th>\n",
              "      <th>__freq_signif_ratio_31___3_</th>\n",
              "      <th>__freq_signif_ratio_31___4_</th>\n",
              "      <th>__freq_signif_ratio_31___5_</th>\n",
              "      <th>__freq_varrat___0_</th>\n",
              "      <th>__freq_varrat___1_</th>\n",
              "      <th>__freq_varrat___2_</th>\n",
              "      <th>__freq_varrat___3_</th>\n",
              "      <th>__freq_varrat___4_</th>\n",
              "      <th>__freq_varrat___5_</th>\n",
              "      <th>__freq_y_offset___0_</th>\n",
              "      <th>__freq_y_offset___1_</th>\n",
              "      <th>__freq_y_offset___2_</th>\n",
              "      <th>__freq_y_offset___3_</th>\n",
              "      <th>__freq_y_offset___4_</th>\n",
              "      <th>__freq_y_offset___5_</th>\n",
              "      <th>time_score</th>\n",
              "      <th>phase_score</th>\n",
              "      <th>ddf_bool</th>\n",
              "      <th>true_submodel</th>\n",
              "      <th>true_z</th>\n",
              "      <th>true_distmod</th>\n",
              "      <th>true_lensdmu</th>\n",
              "      <th>true_vpec</th>\n",
              "      <th>true_rv</th>\n",
              "      <th>true_av</th>\n",
              "      <th>true_peakmjd</th>\n",
              "      <th>libid_cadence</th>\n",
              "      <th>tflux_u</th>\n",
              "      <th>tflux_g</th>\n",
              "      <th>tflux_r</th>\n",
              "      <th>tflux_i</th>\n",
              "      <th>tflux_z</th>\n",
              "      <th>tflux_y</th>\n",
              "    </tr>\n",
              "  </thead>\n",
              "  <tbody>\n",
              "    <tr>\n",
              "      <th>3142</th>\n",
              "      <td>0.999518</td>\n",
              "      <td>0.000513</td>\n",
              "      <td>0.254382</td>\n",
              "      <td>0.584163</td>\n",
              "      <td>0.000348</td>\n",
              "      <td>0.500566</td>\n",
              "      <td>0.002111</td>\n",
              "      <td>1.953305e-05</td>\n",
              "      <td>0.000094</td>\n",
              "      <td>0.001765</td>\n",
              "      <td>0.000028</td>\n",
              "      <td>0.219335</td>\n",
              "      <td>0.230000</td>\n",
              "      <td>0.002637</td>\n",
              "      <td>0.607150</td>\n",
              "      <td>0.423427</td>\n",
              "      <td>0.794889</td>\n",
              "      <td>0.281841</td>\n",
              "      <td>0.000145</td>\n",
              "      <td>0.522498</td>\n",
              "      <td>0.540702</td>\n",
              "      <td>0.000010</td>\n",
              "      <td>0.000000</td>\n",
              "      <td>0.072829</td>\n",
              "      <td>0.544026</td>\n",
              "      <td>0.000067</td>\n",
              "      <td>0.000102</td>\n",
              "      <td>0.238292</td>\n",
              "      <td>0.705124</td>\n",
              "      <td>0.000225</td>\n",
              "      <td>0.000281</td>\n",
              "      <td>0.353401</td>\n",
              "      <td>0.777249</td>\n",
              "      <td>0.000159</td>\n",
              "      <td>0.000191</td>\n",
              "      <td>0.069519</td>\n",
              "      <td>0.604292</td>\n",
              "      <td>0.000614</td>\n",
              "      <td>0.000637</td>\n",
              "      <td>0.095569</td>\n",
              "      <td>...</td>\n",
              "      <td>0.423011</td>\n",
              "      <td>0.713125</td>\n",
              "      <td>0.671420</td>\n",
              "      <td>0.659257</td>\n",
              "      <td>0.526549</td>\n",
              "      <td>0.446278</td>\n",
              "      <td>0.539195</td>\n",
              "      <td>0.687463</td>\n",
              "      <td>0.709204</td>\n",
              "      <td>0.664974</td>\n",
              "      <td>0.876364</td>\n",
              "      <td>0.599403</td>\n",
              "      <td>0.449503</td>\n",
              "      <td>0.081471</td>\n",
              "      <td>0.248672</td>\n",
              "      <td>0.243160</td>\n",
              "      <td>0.224296</td>\n",
              "      <td>0.485048</td>\n",
              "      <td>0.999926</td>\n",
              "      <td>0.466091</td>\n",
              "      <td>0.564670</td>\n",
              "      <td>0.438104</td>\n",
              "      <td>0.803850</td>\n",
              "      <td>0.300852</td>\n",
              "      <td>0.0</td>\n",
              "      <td>0.0</td>\n",
              "      <td>0.341272</td>\n",
              "      <td>0.939813</td>\n",
              "      <td>0.832041</td>\n",
              "      <td>0.496225</td>\n",
              "      <td>1.0</td>\n",
              "      <td>0.064807</td>\n",
              "      <td>0.475067</td>\n",
              "      <td>0.267735</td>\n",
              "      <td>0.000000</td>\n",
              "      <td>0.000000</td>\n",
              "      <td>0.000000</td>\n",
              "      <td>0.000000</td>\n",
              "      <td>0.000000</td>\n",
              "      <td>0.000000</td>\n",
              "    </tr>\n",
              "    <tr>\n",
              "      <th>3438</th>\n",
              "      <td>0.999522</td>\n",
              "      <td>0.000401</td>\n",
              "      <td>0.254260</td>\n",
              "      <td>0.584133</td>\n",
              "      <td>0.000182</td>\n",
              "      <td>0.474777</td>\n",
              "      <td>0.002766</td>\n",
              "      <td>1.708378e-05</td>\n",
              "      <td>0.000100</td>\n",
              "      <td>0.002183</td>\n",
              "      <td>0.000024</td>\n",
              "      <td>0.208700</td>\n",
              "      <td>0.125802</td>\n",
              "      <td>0.001244</td>\n",
              "      <td>0.340620</td>\n",
              "      <td>0.423396</td>\n",
              "      <td>0.655382</td>\n",
              "      <td>0.281020</td>\n",
              "      <td>0.000068</td>\n",
              "      <td>0.522494</td>\n",
              "      <td>0.540735</td>\n",
              "      <td>0.000390</td>\n",
              "      <td>0.000163</td>\n",
              "      <td>0.040904</td>\n",
              "      <td>0.552777</td>\n",
              "      <td>0.000298</td>\n",
              "      <td>0.000396</td>\n",
              "      <td>0.197187</td>\n",
              "      <td>0.681010</td>\n",
              "      <td>0.000162</td>\n",
              "      <td>0.000233</td>\n",
              "      <td>0.067372</td>\n",
              "      <td>0.619056</td>\n",
              "      <td>0.000124</td>\n",
              "      <td>0.000170</td>\n",
              "      <td>0.105535</td>\n",
              "      <td>0.650877</td>\n",
              "      <td>0.000128</td>\n",
              "      <td>0.000231</td>\n",
              "      <td>0.073348</td>\n",
              "      <td>...</td>\n",
              "      <td>0.482407</td>\n",
              "      <td>0.720479</td>\n",
              "      <td>0.694003</td>\n",
              "      <td>0.651872</td>\n",
              "      <td>0.560532</td>\n",
              "      <td>0.541420</td>\n",
              "      <td>0.646418</td>\n",
              "      <td>0.722628</td>\n",
              "      <td>0.737486</td>\n",
              "      <td>0.660249</td>\n",
              "      <td>0.697940</td>\n",
              "      <td>0.523714</td>\n",
              "      <td>0.444721</td>\n",
              "      <td>0.454799</td>\n",
              "      <td>0.812657</td>\n",
              "      <td>0.700912</td>\n",
              "      <td>0.261547</td>\n",
              "      <td>0.526316</td>\n",
              "      <td>0.999926</td>\n",
              "      <td>0.472914</td>\n",
              "      <td>0.557677</td>\n",
              "      <td>0.438204</td>\n",
              "      <td>0.700257</td>\n",
              "      <td>0.339619</td>\n",
              "      <td>0.0</td>\n",
              "      <td>0.0</td>\n",
              "      <td>0.118792</td>\n",
              "      <td>0.880956</td>\n",
              "      <td>0.731266</td>\n",
              "      <td>0.364159</td>\n",
              "      <td>1.0</td>\n",
              "      <td>0.175966</td>\n",
              "      <td>0.665921</td>\n",
              "      <td>0.851698</td>\n",
              "      <td>0.000000</td>\n",
              "      <td>0.000000</td>\n",
              "      <td>0.000000</td>\n",
              "      <td>0.000000</td>\n",
              "      <td>0.000000</td>\n",
              "      <td>0.000000</td>\n",
              "    </tr>\n",
              "    <tr>\n",
              "      <th>1101</th>\n",
              "      <td>0.999540</td>\n",
              "      <td>0.000321</td>\n",
              "      <td>0.254140</td>\n",
              "      <td>0.584093</td>\n",
              "      <td>0.000011</td>\n",
              "      <td>0.471625</td>\n",
              "      <td>0.000631</td>\n",
              "      <td>1.004257e-06</td>\n",
              "      <td>0.000005</td>\n",
              "      <td>0.000114</td>\n",
              "      <td>0.000003</td>\n",
              "      <td>0.242679</td>\n",
              "      <td>0.017143</td>\n",
              "      <td>0.000086</td>\n",
              "      <td>0.286056</td>\n",
              "      <td>0.423389</td>\n",
              "      <td>0.632546</td>\n",
              "      <td>0.280440</td>\n",
              "      <td>0.000007</td>\n",
              "      <td>0.522619</td>\n",
              "      <td>0.541205</td>\n",
              "      <td>0.000002</td>\n",
              "      <td>0.000002</td>\n",
              "      <td>0.062065</td>\n",
              "      <td>0.492872</td>\n",
              "      <td>0.000024</td>\n",
              "      <td>0.000011</td>\n",
              "      <td>0.106828</td>\n",
              "      <td>0.538449</td>\n",
              "      <td>0.000004</td>\n",
              "      <td>0.000006</td>\n",
              "      <td>0.041643</td>\n",
              "      <td>0.466159</td>\n",
              "      <td>0.000019</td>\n",
              "      <td>0.000023</td>\n",
              "      <td>0.033918</td>\n",
              "      <td>0.520340</td>\n",
              "      <td>0.000072</td>\n",
              "      <td>0.000083</td>\n",
              "      <td>0.026261</td>\n",
              "      <td>...</td>\n",
              "      <td>0.464337</td>\n",
              "      <td>0.701253</td>\n",
              "      <td>0.443112</td>\n",
              "      <td>0.607159</td>\n",
              "      <td>0.484540</td>\n",
              "      <td>0.448724</td>\n",
              "      <td>0.438772</td>\n",
              "      <td>0.567787</td>\n",
              "      <td>0.473089</td>\n",
              "      <td>0.630286</td>\n",
              "      <td>0.662972</td>\n",
              "      <td>0.678980</td>\n",
              "      <td>0.572090</td>\n",
              "      <td>0.454655</td>\n",
              "      <td>0.144208</td>\n",
              "      <td>0.377865</td>\n",
              "      <td>0.224303</td>\n",
              "      <td>0.476947</td>\n",
              "      <td>0.999922</td>\n",
              "      <td>0.462460</td>\n",
              "      <td>0.550681</td>\n",
              "      <td>0.437032</td>\n",
              "      <td>0.455794</td>\n",
              "      <td>0.261640</td>\n",
              "      <td>1.0</td>\n",
              "      <td>0.0</td>\n",
              "      <td>0.126343</td>\n",
              "      <td>0.884270</td>\n",
              "      <td>0.811370</td>\n",
              "      <td>0.411034</td>\n",
              "      <td>0.0</td>\n",
              "      <td>0.000000</td>\n",
              "      <td>0.699887</td>\n",
              "      <td>0.000800</td>\n",
              "      <td>0.000000</td>\n",
              "      <td>0.000000</td>\n",
              "      <td>0.000000</td>\n",
              "      <td>0.000000</td>\n",
              "      <td>0.000000</td>\n",
              "      <td>0.000000</td>\n",
              "    </tr>\n",
              "    <tr>\n",
              "      <th>5671</th>\n",
              "      <td>0.999516</td>\n",
              "      <td>0.000364</td>\n",
              "      <td>0.254150</td>\n",
              "      <td>0.584095</td>\n",
              "      <td>0.000063</td>\n",
              "      <td>0.484985</td>\n",
              "      <td>0.003920</td>\n",
              "      <td>1.760178e-05</td>\n",
              "      <td>0.000130</td>\n",
              "      <td>0.002780</td>\n",
              "      <td>0.000032</td>\n",
              "      <td>0.182780</td>\n",
              "      <td>0.009185</td>\n",
              "      <td>0.000019</td>\n",
              "      <td>0.544657</td>\n",
              "      <td>0.423389</td>\n",
              "      <td>0.806399</td>\n",
              "      <td>0.280657</td>\n",
              "      <td>0.000045</td>\n",
              "      <td>0.522796</td>\n",
              "      <td>0.540914</td>\n",
              "      <td>0.000007</td>\n",
              "      <td>0.000004</td>\n",
              "      <td>0.048249</td>\n",
              "      <td>0.453378</td>\n",
              "      <td>0.000021</td>\n",
              "      <td>0.000022</td>\n",
              "      <td>0.074412</td>\n",
              "      <td>0.482592</td>\n",
              "      <td>0.000003</td>\n",
              "      <td>0.000023</td>\n",
              "      <td>0.061257</td>\n",
              "      <td>0.563261</td>\n",
              "      <td>0.000009</td>\n",
              "      <td>0.000026</td>\n",
              "      <td>0.018081</td>\n",
              "      <td>0.507944</td>\n",
              "      <td>0.000056</td>\n",
              "      <td>0.000082</td>\n",
              "      <td>0.305252</td>\n",
              "      <td>...</td>\n",
              "      <td>0.519952</td>\n",
              "      <td>0.725559</td>\n",
              "      <td>0.621668</td>\n",
              "      <td>0.657569</td>\n",
              "      <td>0.592650</td>\n",
              "      <td>0.445010</td>\n",
              "      <td>0.668307</td>\n",
              "      <td>0.721880</td>\n",
              "      <td>0.646322</td>\n",
              "      <td>0.663628</td>\n",
              "      <td>0.837491</td>\n",
              "      <td>0.325858</td>\n",
              "      <td>0.195972</td>\n",
              "      <td>0.682186</td>\n",
              "      <td>0.860254</td>\n",
              "      <td>0.807625</td>\n",
              "      <td>0.219890</td>\n",
              "      <td>0.477281</td>\n",
              "      <td>0.999922</td>\n",
              "      <td>0.461495</td>\n",
              "      <td>0.554596</td>\n",
              "      <td>0.437203</td>\n",
              "      <td>0.292762</td>\n",
              "      <td>0.266709</td>\n",
              "      <td>0.0</td>\n",
              "      <td>0.0</td>\n",
              "      <td>0.000000</td>\n",
              "      <td>0.000000</td>\n",
              "      <td>0.793282</td>\n",
              "      <td>0.481390</td>\n",
              "      <td>0.0</td>\n",
              "      <td>0.000000</td>\n",
              "      <td>0.453353</td>\n",
              "      <td>0.654703</td>\n",
              "      <td>0.000351</td>\n",
              "      <td>0.000627</td>\n",
              "      <td>0.001603</td>\n",
              "      <td>0.007041</td>\n",
              "      <td>0.011018</td>\n",
              "      <td>0.012651</td>\n",
              "    </tr>\n",
              "    <tr>\n",
              "      <th>1694</th>\n",
              "      <td>0.999544</td>\n",
              "      <td>0.000322</td>\n",
              "      <td>0.254137</td>\n",
              "      <td>0.584093</td>\n",
              "      <td>0.000006</td>\n",
              "      <td>0.477098</td>\n",
              "      <td>0.000683</td>\n",
              "      <td>9.646799e-07</td>\n",
              "      <td>0.000002</td>\n",
              "      <td>0.000051</td>\n",
              "      <td>0.000002</td>\n",
              "      <td>0.244594</td>\n",
              "      <td>0.003429</td>\n",
              "      <td>0.000051</td>\n",
              "      <td>0.324852</td>\n",
              "      <td>0.423389</td>\n",
              "      <td>0.741880</td>\n",
              "      <td>0.280426</td>\n",
              "      <td>0.000006</td>\n",
              "      <td>0.522702</td>\n",
              "      <td>0.541496</td>\n",
              "      <td>0.000013</td>\n",
              "      <td>0.000005</td>\n",
              "      <td>0.048111</td>\n",
              "      <td>0.514181</td>\n",
              "      <td>0.000001</td>\n",
              "      <td>0.000016</td>\n",
              "      <td>0.081140</td>\n",
              "      <td>0.506750</td>\n",
              "      <td>0.000011</td>\n",
              "      <td>0.000008</td>\n",
              "      <td>0.050086</td>\n",
              "      <td>0.542176</td>\n",
              "      <td>0.000016</td>\n",
              "      <td>0.000026</td>\n",
              "      <td>0.111138</td>\n",
              "      <td>0.569721</td>\n",
              "      <td>0.000017</td>\n",
              "      <td>0.000027</td>\n",
              "      <td>0.083792</td>\n",
              "      <td>...</td>\n",
              "      <td>0.522701</td>\n",
              "      <td>0.656962</td>\n",
              "      <td>0.757961</td>\n",
              "      <td>0.697686</td>\n",
              "      <td>0.488083</td>\n",
              "      <td>0.412280</td>\n",
              "      <td>0.562490</td>\n",
              "      <td>0.707553</td>\n",
              "      <td>0.640107</td>\n",
              "      <td>0.691658</td>\n",
              "      <td>0.702864</td>\n",
              "      <td>0.581293</td>\n",
              "      <td>0.422081</td>\n",
              "      <td>0.383480</td>\n",
              "      <td>0.459741</td>\n",
              "      <td>0.556834</td>\n",
              "      <td>0.222931</td>\n",
              "      <td>0.476836</td>\n",
              "      <td>0.999922</td>\n",
              "      <td>0.462562</td>\n",
              "      <td>0.552520</td>\n",
              "      <td>0.438996</td>\n",
              "      <td>0.515543</td>\n",
              "      <td>0.369605</td>\n",
              "      <td>1.0</td>\n",
              "      <td>0.0</td>\n",
              "      <td>0.210863</td>\n",
              "      <td>0.912675</td>\n",
              "      <td>0.850129</td>\n",
              "      <td>0.632725</td>\n",
              "      <td>0.0</td>\n",
              "      <td>0.000000</td>\n",
              "      <td>0.517319</td>\n",
              "      <td>0.001340</td>\n",
              "      <td>0.000000</td>\n",
              "      <td>0.000000</td>\n",
              "      <td>0.000000</td>\n",
              "      <td>0.000000</td>\n",
              "      <td>0.000000</td>\n",
              "      <td>0.000000</td>\n",
              "    </tr>\n",
              "  </tbody>\n",
              "</table>\n",
              "<p>5 rows × 368 columns</p>\n",
              "</div>"
            ],
            "text/plain": [
              "      flux_min  flux_max  flux_mean  ...   tflux_i   tflux_z   tflux_y\n",
              "3142  0.999518  0.000513   0.254382  ...  0.000000  0.000000  0.000000\n",
              "3438  0.999522  0.000401   0.254260  ...  0.000000  0.000000  0.000000\n",
              "1101  0.999540  0.000321   0.254140  ...  0.000000  0.000000  0.000000\n",
              "5671  0.999516  0.000364   0.254150  ...  0.007041  0.011018  0.012651\n",
              "1694  0.999544  0.000322   0.254137  ...  0.000000  0.000000  0.000000\n",
              "\n",
              "[5 rows x 368 columns]"
            ]
          },
          "metadata": {
            "tags": []
          },
          "execution_count": 18
        }
      ]
    },
    {
      "cell_type": "code",
      "metadata": {
        "id": "_uZ0YJ3HrkR8",
        "colab_type": "code",
        "outputId": "020b39a5-2b47-4acc-8b51-c3cfd3487130",
        "colab": {
          "base_uri": "https://localhost:8080/",
          "height": 202
        }
      },
      "source": [
        "y_train = pd.DataFrame(y_train)\n",
        "y_train.head()"
      ],
      "execution_count": 0,
      "outputs": [
        {
          "output_type": "execute_result",
          "data": {
            "text/html": [
              "<div>\n",
              "<style scoped>\n",
              "    .dataframe tbody tr th:only-of-type {\n",
              "        vertical-align: middle;\n",
              "    }\n",
              "\n",
              "    .dataframe tbody tr th {\n",
              "        vertical-align: top;\n",
              "    }\n",
              "\n",
              "    .dataframe thead th {\n",
              "        text-align: right;\n",
              "    }\n",
              "</style>\n",
              "<table border=\"1\" class=\"dataframe\">\n",
              "  <thead>\n",
              "    <tr style=\"text-align: right;\">\n",
              "      <th></th>\n",
              "      <th>target</th>\n",
              "    </tr>\n",
              "  </thead>\n",
              "  <tbody>\n",
              "    <tr>\n",
              "      <th>3142</th>\n",
              "      <td>95</td>\n",
              "    </tr>\n",
              "    <tr>\n",
              "      <th>3438</th>\n",
              "      <td>15</td>\n",
              "    </tr>\n",
              "    <tr>\n",
              "      <th>1101</th>\n",
              "      <td>42</td>\n",
              "    </tr>\n",
              "    <tr>\n",
              "      <th>5671</th>\n",
              "      <td>65</td>\n",
              "    </tr>\n",
              "    <tr>\n",
              "      <th>1694</th>\n",
              "      <td>90</td>\n",
              "    </tr>\n",
              "  </tbody>\n",
              "</table>\n",
              "</div>"
            ],
            "text/plain": [
              "      target\n",
              "3142      95\n",
              "3438      15\n",
              "1101      42\n",
              "5671      65\n",
              "1694      90"
            ]
          },
          "metadata": {
            "tags": []
          },
          "execution_count": 191
        }
      ]
    },
    {
      "cell_type": "code",
      "metadata": {
        "id": "C_bxiFiAIN6K",
        "colab_type": "code",
        "colab": {}
      },
      "source": [
        "y_test = pd.DataFrame(y_test)"
      ],
      "execution_count": 0,
      "outputs": []
    },
    {
      "cell_type": "code",
      "metadata": {
        "id": "Kkz1aR_5loaX",
        "colab_type": "code",
        "colab": {}
      },
      "source": [
        "X_train.to_csv('./data/X_train.csv')\n",
        "y_train.to_csv('./data/y_train.csv')\n",
        "X_test.to_csv('./data/X_test.csv')\n",
        "y_test.to_csv('./data/y_test.csv')"
      ],
      "execution_count": 0,
      "outputs": []
    },
    {
      "cell_type": "code",
      "metadata": {
        "id": "sNdI2oPn3TWt",
        "colab_type": "code",
        "colab": {}
      },
      "source": [
        "X_train = pd.read_csv('./data/X_train.csv')\n",
        "y_train = pd.read_csv('./data/y_train.csv')\n",
        "X_test = pd.read_csv('./data/X_test.csv')\n",
        "y_test= pd.read_csv('./data/y_test.csv')"
      ],
      "execution_count": 0,
      "outputs": []
    },
    {
      "cell_type": "code",
      "metadata": {
        "id": "skCaAyP8j-mW",
        "colab_type": "code",
        "outputId": "834cfd8b-04e3-4c66-d17f-dcddac45e9b4",
        "colab": {
          "base_uri": "https://localhost:8080/",
          "height": 34
        }
      },
      "source": [
        "X_train.shape , X_test.shape , y_train.shape , y_test.shape"
      ],
      "execution_count": 0,
      "outputs": [
        {
          "output_type": "execute_result",
          "data": {
            "text/plain": [
              "((5886, 369), (1962, 369), (5886, 2), (1962, 2))"
            ]
          },
          "metadata": {
            "tags": []
          },
          "execution_count": 6
        }
      ]
    },
    {
      "cell_type": "code",
      "metadata": {
        "id": "2aLt8iS6G_uN",
        "colab_type": "code",
        "colab": {}
      },
      "source": [
        "y_train = y_train.drop(columns =['Unnamed: 0'] )\n",
        "y_test  = y_test.drop(columns =['Unnamed: 0'] )\n",
        "X_train = X_train.drop(columns =['Unnamed: 0'] )\n",
        "X_test = X_test.drop(columns =['Unnamed: 0'] )"
      ],
      "execution_count": 0,
      "outputs": []
    },
    {
      "cell_type": "code",
      "metadata": {
        "id": "bmC0bEQCsRGI",
        "colab_type": "code",
        "outputId": "b3bfd139-a496-40d6-9089-814bc27081a4",
        "colab": {
          "base_uri": "https://localhost:8080/",
          "height": 202
        }
      },
      "source": [
        "y_train.head()"
      ],
      "execution_count": 0,
      "outputs": [
        {
          "output_type": "execute_result",
          "data": {
            "text/html": [
              "<div>\n",
              "<style scoped>\n",
              "    .dataframe tbody tr th:only-of-type {\n",
              "        vertical-align: middle;\n",
              "    }\n",
              "\n",
              "    .dataframe tbody tr th {\n",
              "        vertical-align: top;\n",
              "    }\n",
              "\n",
              "    .dataframe thead th {\n",
              "        text-align: right;\n",
              "    }\n",
              "</style>\n",
              "<table border=\"1\" class=\"dataframe\">\n",
              "  <thead>\n",
              "    <tr style=\"text-align: right;\">\n",
              "      <th></th>\n",
              "      <th>target</th>\n",
              "    </tr>\n",
              "  </thead>\n",
              "  <tbody>\n",
              "    <tr>\n",
              "      <th>0</th>\n",
              "      <td>95</td>\n",
              "    </tr>\n",
              "    <tr>\n",
              "      <th>1</th>\n",
              "      <td>15</td>\n",
              "    </tr>\n",
              "    <tr>\n",
              "      <th>2</th>\n",
              "      <td>42</td>\n",
              "    </tr>\n",
              "    <tr>\n",
              "      <th>3</th>\n",
              "      <td>65</td>\n",
              "    </tr>\n",
              "    <tr>\n",
              "      <th>4</th>\n",
              "      <td>90</td>\n",
              "    </tr>\n",
              "  </tbody>\n",
              "</table>\n",
              "</div>"
            ],
            "text/plain": [
              "   target\n",
              "0      95\n",
              "1      15\n",
              "2      42\n",
              "3      65\n",
              "4      90"
            ]
          },
          "metadata": {
            "tags": []
          },
          "execution_count": 8
        }
      ]
    },
    {
      "cell_type": "code",
      "metadata": {
        "id": "1Z4e73RhsXnV",
        "colab_type": "code",
        "outputId": "5b2e5409-47c6-4891-aef2-ace4980acb07",
        "colab": {
          "base_uri": "https://localhost:8080/",
          "height": 34
        }
      },
      "source": [
        "from sklearn.preprocessing import OneHotEncoder\n",
        "\n",
        "y_train = OneHotEncoder(categories='auto').fit_transform(y_train[['target']]).toarray()\n",
        "\n",
        "y_test  = OneHotEncoder(categories='auto').fit_transform(y_test[['target']]).toarray()\n",
        "\n",
        "y_train.shape , y_test.shape"
      ],
      "execution_count": 0,
      "outputs": [
        {
          "output_type": "execute_result",
          "data": {
            "text/plain": [
              "((5886, 14), (1962, 14))"
            ]
          },
          "metadata": {
            "tags": []
          },
          "execution_count": 9
        }
      ]
    },
    {
      "cell_type": "code",
      "metadata": {
        "id": "Lh3csHPKBbXi",
        "colab_type": "code",
        "outputId": "6bf5a8c9-2db8-44d3-b52a-782d31630ee3",
        "colab": {
          "base_uri": "https://localhost:8080/",
          "height": 34
        }
      },
      "source": [
        "input_dim = X_train.shape[1]\n",
        "\n",
        "n_class = y_train[1].shape[0]\n",
        "print(n_class , input_dim)"
      ],
      "execution_count": 0,
      "outputs": [
        {
          "output_type": "stream",
          "text": [
            "14 368\n"
          ],
          "name": "stdout"
        }
      ]
    },
    {
      "cell_type": "code",
      "metadata": {
        "id": "HTMjYzQdG_4V",
        "colab_type": "code",
        "outputId": "666f159a-4709-4d8e-867a-5ef27b433efa",
        "colab": {
          "base_uri": "https://localhost:8080/",
          "height": 34
        }
      },
      "source": [
        "X_train = np.expand_dims(X_train,-1)\n",
        "X_test = np.expand_dims(X_test,-1)\n",
        "\n",
        "print(X_train.shape,y_train.shape,X_test.shape,y_test.shape)"
      ],
      "execution_count": 0,
      "outputs": [
        {
          "output_type": "stream",
          "text": [
            "(5886, 368, 1) (5886, 14) (1962, 368, 1) (1962, 14)\n"
          ],
          "name": "stdout"
        }
      ]
    },
    {
      "cell_type": "code",
      "metadata": {
        "id": "QlCLpaLp19W2",
        "colab_type": "code",
        "colab": {}
      },
      "source": [
        "af = tf.keras.activations.selu\n",
        "\n",
        "\n",
        "K.backend.clear_session()\n",
        "\n",
        "model = Sequential()\n",
        "model.add(Conv1D(input_dim, 8, strides=1))\n",
        "model.add(BatchNormalization(trainable=True))\n",
        "model.add(Activation(af))\n",
        "#model.add(MaxPooling1D(pool_size=3))\n",
        "\n",
        "model.add(Conv1D(256, 5, strides=1))\n",
        "model.add(BatchNormalization(trainable=True))\n",
        "model.add(Activation(af))\n",
        "#model.add(MaxPooling1D(pool_size=3))\n",
        "\n",
        "\n",
        "model.add(Conv1D(128, 3, strides=1))\n",
        "model.add(BatchNormalization(trainable=True))\n",
        "model.add(Activation(af))\n",
        "\n",
        "model.add(MaxPooling1D()) \n",
        "\n",
        "model.add(Flatten())\n",
        "\n",
        "\n",
        "model.add(Dense(128))\n",
        "model.add(BatchNormalization(trainable=True))\n",
        "model.add(Activation(af))\n",
        "model.add(Dropout(rate = 0.5))\n",
        "\n",
        "\n",
        "model.add(Dense(64))\n",
        "model.add(BatchNormalization(trainable=True))\n",
        "model.add(Activation(af))\n",
        "model.add(Dropout(rate = 0.5))\n",
        "\n",
        "model.add(Dense(32))\n",
        "model.add(BatchNormalization(trainable=True))\n",
        "model.add(Activation(af))\n",
        "\n",
        "model.add(Dropout(0.5))\n",
        "model.add(Dense(n_class, activation='softmax'))"
      ],
      "execution_count": 0,
      "outputs": []
    },
    {
      "cell_type": "code",
      "metadata": {
        "id": "AdSSMJ8VJMCv",
        "colab_type": "code",
        "colab": {}
      },
      "source": [
        "model.build(input_shape= (None, 368, 1))"
      ],
      "execution_count": 0,
      "outputs": []
    },
    {
      "cell_type": "code",
      "metadata": {
        "id": "dw6Mj-DeEqi3",
        "colab_type": "code",
        "outputId": "5b6ccf5c-124a-4ffb-9e31-f9ed1c404ecc",
        "colab": {
          "base_uri": "https://localhost:8080/",
          "height": 965
        }
      },
      "source": [
        "model.summary()"
      ],
      "execution_count": 0,
      "outputs": [
        {
          "output_type": "stream",
          "text": [
            "Model: \"sequential_1\"\n",
            "_________________________________________________________________\n",
            "Layer (type)                 Output Shape              Param #   \n",
            "=================================================================\n",
            "conv1d_1 (Conv1D)            (None, 361, 368)          3312      \n",
            "_________________________________________________________________\n",
            "batch_normalization_1 (Batch (None, 361, 368)          1472      \n",
            "_________________________________________________________________\n",
            "activation_1 (Activation)    (None, 361, 368)          0         \n",
            "_________________________________________________________________\n",
            "conv1d_2 (Conv1D)            (None, 357, 256)          471296    \n",
            "_________________________________________________________________\n",
            "batch_normalization_2 (Batch (None, 357, 256)          1024      \n",
            "_________________________________________________________________\n",
            "activation_2 (Activation)    (None, 357, 256)          0         \n",
            "_________________________________________________________________\n",
            "conv1d_3 (Conv1D)            (None, 355, 128)          98432     \n",
            "_________________________________________________________________\n",
            "batch_normalization_3 (Batch (None, 355, 128)          512       \n",
            "_________________________________________________________________\n",
            "activation_3 (Activation)    (None, 355, 128)          0         \n",
            "_________________________________________________________________\n",
            "max_pooling1d_1 (MaxPooling1 (None, 177, 128)          0         \n",
            "_________________________________________________________________\n",
            "flatten_1 (Flatten)          (None, 22656)             0         \n",
            "_________________________________________________________________\n",
            "dense_1 (Dense)              (None, 128)               2900096   \n",
            "_________________________________________________________________\n",
            "batch_normalization_4 (Batch (None, 128)               512       \n",
            "_________________________________________________________________\n",
            "activation_4 (Activation)    (None, 128)               0         \n",
            "_________________________________________________________________\n",
            "dropout_1 (Dropout)          (None, 128)               0         \n",
            "_________________________________________________________________\n",
            "dense_2 (Dense)              (None, 64)                8256      \n",
            "_________________________________________________________________\n",
            "batch_normalization_5 (Batch (None, 64)                256       \n",
            "_________________________________________________________________\n",
            "activation_5 (Activation)    (None, 64)                0         \n",
            "_________________________________________________________________\n",
            "dropout_2 (Dropout)          (None, 64)                0         \n",
            "_________________________________________________________________\n",
            "dense_3 (Dense)              (None, 32)                2080      \n",
            "_________________________________________________________________\n",
            "batch_normalization_6 (Batch (None, 32)                128       \n",
            "_________________________________________________________________\n",
            "activation_6 (Activation)    (None, 32)                0         \n",
            "_________________________________________________________________\n",
            "dropout_3 (Dropout)          (None, 32)                0         \n",
            "_________________________________________________________________\n",
            "dense_4 (Dense)              (None, 14)                462       \n",
            "=================================================================\n",
            "Total params: 3,487,838\n",
            "Trainable params: 3,485,886\n",
            "Non-trainable params: 1,952\n",
            "_________________________________________________________________\n"
          ],
          "name": "stdout"
        }
      ]
    },
    {
      "cell_type": "code",
      "metadata": {
        "id": "3iZ4LB691gN1",
        "colab_type": "code",
        "colab": {}
      },
      "source": [
        "#sgd = keras.optimizers.SGD(lr=0.001, decay=1e-6, momentum=0.9, nesterov=True)\n",
        "adam = K.optimizers.Adam(lr=0.01, decay=1e-3, amsgrad=False)"
      ],
      "execution_count": 0,
      "outputs": []
    },
    {
      "cell_type": "code",
      "metadata": {
        "id": "qiN1OMD7rDQI",
        "colab_type": "code",
        "colab": {}
      },
      "source": [
        "def wloglos(ytrue , ypred):\n",
        "    return tf.losses.log_loss( ytrue , ypred ,weights=([[1,  2, 1, 1, 1, 1, 1, 2, 1, 1, 1,  1,  1,  1]]))"
      ],
      "execution_count": 0,
      "outputs": []
    },
    {
      "cell_type": "code",
      "metadata": {
        "id": "Z0_HmpzF2RyD",
        "colab_type": "code",
        "colab": {}
      },
      "source": [
        "model.compile(loss = wloglos , optimizer=adam , metrics=['accuracy'])"
      ],
      "execution_count": 0,
      "outputs": []
    },
    {
      "cell_type": "code",
      "metadata": {
        "id": "g5itlbHP2nEq",
        "colab_type": "code",
        "outputId": "580263a8-d3c6-407c-cbdc-498adce51287",
        "colab": {
          "base_uri": "https://localhost:8080/",
          "height": 728
        }
      },
      "source": [
        "model.fit(X_train,y_train,validation_split=0.2 , epochs=20,batch_size=200,verbose=1)"
      ],
      "execution_count": 0,
      "outputs": [
        {
          "output_type": "stream",
          "text": [
            "Train on 4708 samples, validate on 1178 samples\n",
            "Epoch 1/20\n",
            "4708/4708 [==============================] - 9s 2ms/step - loss: 0.1142 - acc: 0.7120 - val_loss: 0.6903 - val_acc: 0.5857\n",
            "Epoch 2/20\n",
            "4708/4708 [==============================] - 7s 1ms/step - loss: 0.0907 - acc: 0.7657 - val_loss: 0.5176 - val_acc: 0.6129\n",
            "Epoch 3/20\n",
            "4708/4708 [==============================] - 7s 1ms/step - loss: 0.0783 - acc: 0.8040 - val_loss: 0.4367 - val_acc: 0.6299\n",
            "Epoch 4/20\n",
            "4708/4708 [==============================] - 7s 1ms/step - loss: 0.0763 - acc: 0.8056 - val_loss: 0.3603 - val_acc: 0.6553\n",
            "Epoch 5/20\n",
            "4708/4708 [==============================] - 7s 1ms/step - loss: 0.0698 - acc: 0.8239 - val_loss: 0.3946 - val_acc: 0.6486\n",
            "Epoch 6/20\n",
            "4708/4708 [==============================] - 7s 1ms/step - loss: 0.0668 - acc: 0.8326 - val_loss: 0.3290 - val_acc: 0.6630\n",
            "Epoch 7/20\n",
            "4708/4708 [==============================] - 7s 1ms/step - loss: 0.0649 - acc: 0.8364 - val_loss: 0.1628 - val_acc: 0.7496\n",
            "Epoch 8/20\n",
            "4708/4708 [==============================] - 7s 1ms/step - loss: 0.0641 - acc: 0.8381 - val_loss: 0.1770 - val_acc: 0.7326\n",
            "Epoch 9/20\n",
            "4708/4708 [==============================] - 7s 1ms/step - loss: 0.0605 - acc: 0.8494 - val_loss: 0.1221 - val_acc: 0.7691\n",
            "Epoch 10/20\n",
            "4708/4708 [==============================] - 7s 1ms/step - loss: 0.0598 - acc: 0.8483 - val_loss: 0.1676 - val_acc: 0.7564\n",
            "Epoch 11/20\n",
            "4708/4708 [==============================] - 7s 1ms/step - loss: 0.0575 - acc: 0.8509 - val_loss: 0.1157 - val_acc: 0.7852\n",
            "Epoch 12/20\n",
            "4708/4708 [==============================] - 7s 1ms/step - loss: 0.0558 - acc: 0.8590 - val_loss: 0.0826 - val_acc: 0.8048\n",
            "Epoch 13/20\n",
            "4708/4708 [==============================] - 7s 1ms/step - loss: 0.0532 - acc: 0.8609 - val_loss: 0.1062 - val_acc: 0.8065\n",
            "Epoch 14/20\n",
            "4708/4708 [==============================] - 7s 1ms/step - loss: 0.0528 - acc: 0.8664 - val_loss: 0.0996 - val_acc: 0.7767\n",
            "Epoch 15/20\n",
            "4708/4708 [==============================] - 7s 1ms/step - loss: 0.0519 - acc: 0.8630 - val_loss: 0.1405 - val_acc: 0.7835\n",
            "Epoch 16/20\n",
            "4708/4708 [==============================] - 7s 1ms/step - loss: 0.0484 - acc: 0.8745 - val_loss: 0.1100 - val_acc: 0.8107\n",
            "Epoch 17/20\n",
            "4708/4708 [==============================] - 7s 1ms/step - loss: 0.0493 - acc: 0.8728 - val_loss: 0.0920 - val_acc: 0.8192\n",
            "Epoch 18/20\n",
            "4708/4708 [==============================] - 7s 1ms/step - loss: 0.0470 - acc: 0.8806 - val_loss: 0.0809 - val_acc: 0.7963\n",
            "Epoch 19/20\n",
            "4708/4708 [==============================] - 7s 1ms/step - loss: 0.0465 - acc: 0.8802 - val_loss: 0.0827 - val_acc: 0.8065\n",
            "Epoch 20/20\n",
            "4708/4708 [==============================] - 7s 1ms/step - loss: 0.0446 - acc: 0.8912 - val_loss: 0.0830 - val_acc: 0.8141\n"
          ],
          "name": "stdout"
        },
        {
          "output_type": "execute_result",
          "data": {
            "text/plain": [
              "<keras.callbacks.History at 0x7fce8b3be1d0>"
            ]
          },
          "metadata": {
            "tags": []
          },
          "execution_count": 63
        }
      ]
    },
    {
      "cell_type": "code",
      "metadata": {
        "id": "gVrtj7WrjIgQ",
        "colab_type": "code",
        "outputId": "d7678e85-f4b2-4602-bdbb-7e2a78200fbe",
        "colab": {
          "base_uri": "https://localhost:8080/",
          "height": 728
        }
      },
      "source": [
        "model.fit(X_train,y_train,validation_split=0.2 , epochs=20,batch_size=200,verbose=1)"
      ],
      "execution_count": 0,
      "outputs": [
        {
          "output_type": "stream",
          "text": [
            "Train on 4708 samples, validate on 1178 samples\n",
            "Epoch 1/20\n",
            "4708/4708 [==============================] - 7s 2ms/step - loss: 0.0444 - acc: 0.8885 - val_loss: 0.1054 - val_acc: 0.8065\n",
            "Epoch 2/20\n",
            "4708/4708 [==============================] - 7s 1ms/step - loss: 0.0436 - acc: 0.8902 - val_loss: 0.0914 - val_acc: 0.8107\n",
            "Epoch 3/20\n",
            "4708/4708 [==============================] - 7s 1ms/step - loss: 0.0412 - acc: 0.8944 - val_loss: 0.0795 - val_acc: 0.8362\n",
            "Epoch 4/20\n",
            "4708/4708 [==============================] - 7s 1ms/step - loss: 0.0405 - acc: 0.8970 - val_loss: 0.0760 - val_acc: 0.8217\n",
            "Epoch 5/20\n",
            "4708/4708 [==============================] - 7s 1ms/step - loss: 0.0407 - acc: 0.8951 - val_loss: 0.0812 - val_acc: 0.8251\n",
            "Epoch 6/20\n",
            "4708/4708 [==============================] - 7s 1ms/step - loss: 0.0390 - acc: 0.9055 - val_loss: 0.0751 - val_acc: 0.8413\n",
            "Epoch 7/20\n",
            "4708/4708 [==============================] - 7s 1ms/step - loss: 0.0381 - acc: 0.9038 - val_loss: 0.1079 - val_acc: 0.8311\n",
            "Epoch 8/20\n",
            "4708/4708 [==============================] - 7s 1ms/step - loss: 0.0372 - acc: 0.9061 - val_loss: 0.0907 - val_acc: 0.8048\n",
            "Epoch 9/20\n",
            "4708/4708 [==============================] - 7s 1ms/step - loss: 0.0366 - acc: 0.9074 - val_loss: 0.0752 - val_acc: 0.8319\n",
            "Epoch 10/20\n",
            "4708/4708 [==============================] - 7s 1ms/step - loss: 0.0377 - acc: 0.9027 - val_loss: 0.0959 - val_acc: 0.8319\n",
            "Epoch 11/20\n",
            "4708/4708 [==============================] - 7s 1ms/step - loss: 0.0347 - acc: 0.9127 - val_loss: 0.0951 - val_acc: 0.8081\n",
            "Epoch 12/20\n",
            "4708/4708 [==============================] - 7s 1ms/step - loss: 0.0345 - acc: 0.9129 - val_loss: 0.1137 - val_acc: 0.7436\n",
            "Epoch 13/20\n",
            "4708/4708 [==============================] - 7s 1ms/step - loss: 0.0302 - acc: 0.9246 - val_loss: 0.0792 - val_acc: 0.8362\n",
            "Epoch 14/20\n",
            "4708/4708 [==============================] - 7s 1ms/step - loss: 0.0300 - acc: 0.9288 - val_loss: 0.0805 - val_acc: 0.8149\n",
            "Epoch 15/20\n",
            "4708/4708 [==============================] - 7s 1ms/step - loss: 0.0308 - acc: 0.9252 - val_loss: 0.0951 - val_acc: 0.7980\n",
            "Epoch 16/20\n",
            "4708/4708 [==============================] - 7s 1ms/step - loss: 0.0294 - acc: 0.9240 - val_loss: 0.1149 - val_acc: 0.7317\n",
            "Epoch 17/20\n",
            "4708/4708 [==============================] - 7s 1ms/step - loss: 0.0300 - acc: 0.9265 - val_loss: 0.1051 - val_acc: 0.7818\n",
            "Epoch 18/20\n",
            "4708/4708 [==============================] - 7s 1ms/step - loss: 0.0292 - acc: 0.9265 - val_loss: 0.0980 - val_acc: 0.8319\n",
            "Epoch 19/20\n",
            "4708/4708 [==============================] - 7s 1ms/step - loss: 0.0270 - acc: 0.9310 - val_loss: 0.0875 - val_acc: 0.8370\n",
            "Epoch 20/20\n",
            "4708/4708 [==============================] - 7s 1ms/step - loss: 0.0267 - acc: 0.9352 - val_loss: 0.0917 - val_acc: 0.8243\n"
          ],
          "name": "stdout"
        },
        {
          "output_type": "execute_result",
          "data": {
            "text/plain": [
              "<keras.callbacks.History at 0x7fce8a055198>"
            ]
          },
          "metadata": {
            "tags": []
          },
          "execution_count": 68
        }
      ]
    },
    {
      "cell_type": "code",
      "metadata": {
        "id": "Mt_syg4W0qv5",
        "colab_type": "code",
        "outputId": "63d63e3b-96c6-4c7d-a18a-d9aca6bb5d2a",
        "colab": {
          "base_uri": "https://localhost:8080/",
          "height": 34
        }
      },
      "source": [
        "model.fit(X_train,y_train,epochs=100,batch_size=300,verbose=0)"
      ],
      "execution_count": 0,
      "outputs": [
        {
          "output_type": "execute_result",
          "data": {
            "text/plain": [
              "<keras.callbacks.History at 0x7f969ef85eb8>"
            ]
          },
          "metadata": {
            "tags": []
          },
          "execution_count": 102
        },
        {
          "output_type": "execute_result",
          "data": {
            "text/plain": [
              "<keras.callbacks.History at 0x7f969ef85eb8>"
            ]
          },
          "metadata": {
            "tags": []
          },
          "execution_count": 102
        }
      ]
    },
    {
      "cell_type": "code",
      "metadata": {
        "id": "W28QFI4NCijO",
        "colab_type": "code",
        "outputId": "387c08e2-8327-4d7d-966d-d378cc69ecdf",
        "colab": {
          "base_uri": "https://localhost:8080/",
          "height": 51
        }
      },
      "source": [
        "# evaluate the model\n",
        "model.evaluate(X_test, y_test)"
      ],
      "execution_count": 0,
      "outputs": [
        {
          "output_type": "stream",
          "text": [
            "1962/1962 [==============================] - 1s 695us/step\n"
          ],
          "name": "stdout"
        },
        {
          "output_type": "execute_result",
          "data": {
            "text/plain": [
              "[0.08202236840666616, 0.8185524973908209]"
            ]
          },
          "metadata": {
            "tags": []
          },
          "execution_count": 64
        }
      ]
    },
    {
      "cell_type": "code",
      "metadata": {
        "id": "O0XpDUeUDlFd",
        "colab_type": "code",
        "outputId": "ba982b07-1ba9-4fcc-ac8c-6959dd643c9e",
        "colab": {
          "base_uri": "https://localhost:8080/",
          "height": 34
        }
      },
      "source": [
        "model.fit(X_train,y_train,epochs=100,batch_size=300,verbose=0)"
      ],
      "execution_count": 0,
      "outputs": [
        {
          "output_type": "execute_result",
          "data": {
            "text/plain": [
              "<keras.callbacks.History at 0x7f969e90d2b0>"
            ]
          },
          "metadata": {
            "tags": []
          },
          "execution_count": 105
        }
      ]
    },
    {
      "cell_type": "code",
      "metadata": {
        "id": "r2W0VyyHD8kN",
        "colab_type": "code",
        "outputId": "bb712234-1fa8-4ef4-9d68-b4df9134db8a",
        "colab": {
          "base_uri": "https://localhost:8080/",
          "height": 51
        }
      },
      "source": [
        "# evaluate the model\n",
        "model.evaluate(X_test, y_test, verbose=1)"
      ],
      "execution_count": 0,
      "outputs": [
        {
          "output_type": "stream",
          "text": [
            "1962/1962 [==============================] - 0s 122us/step\n"
          ],
          "name": "stdout"
        },
        {
          "output_type": "execute_result",
          "data": {
            "text/plain": [
              "1.0535353086774868"
            ]
          },
          "metadata": {
            "tags": []
          },
          "execution_count": 106
        }
      ]
    },
    {
      "cell_type": "code",
      "metadata": {
        "id": "_ISXcL2rEQOZ",
        "colab_type": "code",
        "outputId": "94387c0f-911c-423c-b725-ab9095e86491",
        "colab": {
          "base_uri": "https://localhost:8080/",
          "height": 34
        }
      },
      "source": [
        "model.fit(X_train,y_train,epochs=3000,batch_size=300,verbose=0)"
      ],
      "execution_count": 0,
      "outputs": [
        {
          "output_type": "execute_result",
          "data": {
            "text/plain": [
              "<keras.callbacks.History at 0x7f969bf99320>"
            ]
          },
          "metadata": {
            "tags": []
          },
          "execution_count": 109
        }
      ]
    },
    {
      "cell_type": "code",
      "metadata": {
        "id": "c4BnLEzGCv3k",
        "colab_type": "code",
        "outputId": "0219f4a4-4fec-4389-e108-e6cb7a341aac",
        "colab": {
          "base_uri": "https://localhost:8080/",
          "height": 34
        }
      },
      "source": [
        "path = './NN_models/6'\n",
        "# serialize model to JSON\n",
        "model_json = model.to_json()\n",
        "with open(str(path)+'/model.json', \"w\") as json_file:\n",
        "    json_file.write(model_json)\n",
        "    \n",
        "# serialize weights to HDF5\n",
        "model.save_weights(str(path)+'/model.h5')\n",
        "print(\"Saved model to disk\")"
      ],
      "execution_count": 0,
      "outputs": [
        {
          "output_type": "stream",
          "text": [
            "Saved model to disk\n"
          ],
          "name": "stdout"
        }
      ]
    },
    {
      "cell_type": "code",
      "metadata": {
        "id": "So3N8UQ7C0VL",
        "colab_type": "code",
        "outputId": "dfdec6cc-6c8e-469f-c43d-f3f545ef60eb",
        "colab": {
          "base_uri": "https://localhost:8080/",
          "height": 105
        }
      },
      "source": [
        "from keras.models import model_from_json\n",
        "\n",
        "# load json and create model\n",
        "json_file = open('./NN_models/5/model.json', 'r')\n",
        "loaded_model_json = json_file.read()\n",
        "json_file.close()\n",
        "loaded_model = model_from_json(loaded_model_json)\n",
        "# load weights into new model\n",
        "loaded_model.load_weights(\"./NN_models/5/model.h5\")\n",
        "print(\"Loaded model from disk\")\n",
        "\n",
        "# # evaluate loaded model on test data\n",
        "# loaded_model.compile(loss='binary_crossentropy', optimizer='rmsprop', metrics=['accuracy'])\n",
        "# score = loaded_model.evaluate(X, Y, verbose=0)\n",
        "# print(\"%s: %.2f%%\" % (loaded_model.metrics_names[1], score[1]*100))"
      ],
      "execution_count": 0,
      "outputs": [
        {
          "output_type": "stream",
          "text": [
            "W0818 09:56:13.573389 140153045301120 deprecation.py:323] From /usr/local/lib/python3.6/dist-packages/keras/backend/tensorflow_backend.py:3217: add_dispatch_support.<locals>.wrapper (from tensorflow.python.ops.array_ops) is deprecated and will be removed in a future version.\n",
            "Instructions for updating:\n",
            "Use tf.where in 2.0, which has the same broadcast rule as np.where\n"
          ],
          "name": "stderr"
        },
        {
          "output_type": "stream",
          "text": [
            "Loaded model from disk\n"
          ],
          "name": "stdout"
        }
      ]
    },
    {
      "cell_type": "code",
      "metadata": {
        "id": "dx07NBqujVnq",
        "colab_type": "code",
        "outputId": "6e43d42f-381c-4bab-c87b-328176cee268",
        "colab": {
          "base_uri": "https://localhost:8080/",
          "height": 34
        }
      },
      "source": [
        "predicts = model.predict(X_test)\n",
        "\n",
        "y_preds = pd.DataFrame(predicts)\n",
        "y_true = pd.DataFrame(y_test)\n",
        "\n",
        "\n",
        "def multi_weighted_logloss(y_true, y_preds):\n",
        "    \"\"\"\n",
        "    @author olivier https://www.kaggle.com/ogrellier\n",
        "    multi logloss for PLAsTiCC challenge\n",
        "    \"\"\"\n",
        "    classes = [6, 15, 16, 42, 52, 53, 62, 64, 65, 67, 88, 90, 92, 95]\n",
        "    class_weight = {6: 1, 15: 2, 16: 1, 42: 1, 52: 1, 53: 1, 62: 1, 64: 2, 65: 1, 67: 1, 88: 1, 90: 1, 92: 1, 95: 1}\n",
        "    \n",
        "    \n",
        "    y_p = y_preds\n",
        "    \n",
        "    y_ohe = pd.get_dummies(y_true)\n",
        "    # Normalize rows and limit y_preds to 1e-15, 1-1e-15\n",
        "    y_p = np.clip(a=y_p, a_min=1e-15, a_max=1-1e-15)\n",
        "    # Transform to log\n",
        "    y_p_log = np.log(y_p)\n",
        "\n",
        "    \n",
        "    y_log_ones = np.sum(y_ohe.values * y_p_log, axis=0)\n",
        "    # Get the number of positives for each class\n",
        "    nb_pos = y_ohe.sum(axis=0).values.astype(float)\n",
        "    # Weight average and divide by the number of positives\n",
        "    class_arr = np.array([class_weight[k] for k in sorted(class_weight.keys())])\n",
        "    y_w = y_log_ones * class_arr / nb_pos\n",
        "    \n",
        "    loss = - np.sum(y_w) / np.sum(class_arr)\n",
        "    return loss\n",
        "\n",
        "\n",
        "\n",
        "multi_weighted_logloss(y_true, y_preds)"
      ],
      "execution_count": 0,
      "outputs": [
        {
          "output_type": "execute_result",
          "data": {
            "text/plain": [
              "0.8359763106877193"
            ]
          },
          "metadata": {
            "tags": []
          },
          "execution_count": 65
        }
      ]
    },
    {
      "cell_type": "code",
      "metadata": {
        "id": "KwIqP9kXnW0b",
        "colab_type": "code",
        "outputId": "b57c573c-9d04-406e-80b9-61dc16805c86",
        "colab": {
          "base_uri": "https://localhost:8080/",
          "height": 339
        }
      },
      "source": [
        "def mywloss(ytrue,ypred):\n",
        "    \n",
        "    wtable = [1,  2, 1, 1, 1, 1, 1, 2, 1, 1, 1,  1,  1,  1]\n",
        "    yc=tf.clip_by_value(ypred,1e-15,1-1e-15)\n",
        "    loss=-(tf.reduce_mean(tf.reduce_mean(ytrue*tf.log(yc),axis=0)/wtable))\n",
        "    return loss\n",
        "\n",
        "mywloss(y_true, y_preds)"
      ],
      "execution_count": 0,
      "outputs": [
        {
          "output_type": "error",
          "ename": "TypeError",
          "evalue": "ignored",
          "traceback": [
            "\u001b[0;31m---------------------------------------------------------------------------\u001b[0m",
            "\u001b[0;31mTypeError\u001b[0m                                 Traceback (most recent call last)",
            "\u001b[0;32m<ipython-input-40-bf765becdfe8>\u001b[0m in \u001b[0;36m<module>\u001b[0;34m()\u001b[0m\n\u001b[1;32m      6\u001b[0m     \u001b[0;32mreturn\u001b[0m \u001b[0mloss\u001b[0m\u001b[0;34m\u001b[0m\u001b[0;34m\u001b[0m\u001b[0m\n\u001b[1;32m      7\u001b[0m \u001b[0;34m\u001b[0m\u001b[0m\n\u001b[0;32m----> 8\u001b[0;31m \u001b[0mmywloss\u001b[0m\u001b[0;34m(\u001b[0m\u001b[0my_true\u001b[0m\u001b[0;34m,\u001b[0m \u001b[0my_preds\u001b[0m\u001b[0;34m)\u001b[0m\u001b[0;34m\u001b[0m\u001b[0;34m\u001b[0m\u001b[0m\n\u001b[0m",
            "\u001b[0;32m<ipython-input-40-bf765becdfe8>\u001b[0m in \u001b[0;36mmywloss\u001b[0;34m(ytrue, ypred)\u001b[0m\n\u001b[1;32m      3\u001b[0m     \u001b[0mwtable\u001b[0m \u001b[0;34m=\u001b[0m \u001b[0;34m[\u001b[0m\u001b[0;36m1\u001b[0m\u001b[0;34m,\u001b[0m  \u001b[0;36m2\u001b[0m\u001b[0;34m,\u001b[0m \u001b[0;36m1\u001b[0m\u001b[0;34m,\u001b[0m \u001b[0;36m1\u001b[0m\u001b[0;34m,\u001b[0m \u001b[0;36m1\u001b[0m\u001b[0;34m,\u001b[0m \u001b[0;36m1\u001b[0m\u001b[0;34m,\u001b[0m \u001b[0;36m1\u001b[0m\u001b[0;34m,\u001b[0m \u001b[0;36m2\u001b[0m\u001b[0;34m,\u001b[0m \u001b[0;36m1\u001b[0m\u001b[0;34m,\u001b[0m \u001b[0;36m1\u001b[0m\u001b[0;34m,\u001b[0m \u001b[0;36m1\u001b[0m\u001b[0;34m,\u001b[0m  \u001b[0;36m1\u001b[0m\u001b[0;34m,\u001b[0m  \u001b[0;36m1\u001b[0m\u001b[0;34m,\u001b[0m  \u001b[0;36m1\u001b[0m\u001b[0;34m]\u001b[0m\u001b[0;34m\u001b[0m\u001b[0;34m\u001b[0m\u001b[0m\n\u001b[1;32m      4\u001b[0m     \u001b[0myc\u001b[0m\u001b[0;34m=\u001b[0m\u001b[0mtf\u001b[0m\u001b[0;34m.\u001b[0m\u001b[0mclip_by_value\u001b[0m\u001b[0;34m(\u001b[0m\u001b[0mypred\u001b[0m\u001b[0;34m,\u001b[0m\u001b[0;36m1e-15\u001b[0m\u001b[0;34m,\u001b[0m\u001b[0;36m1\u001b[0m\u001b[0;34m-\u001b[0m\u001b[0;36m1e-15\u001b[0m\u001b[0;34m)\u001b[0m\u001b[0;34m\u001b[0m\u001b[0;34m\u001b[0m\u001b[0m\n\u001b[0;32m----> 5\u001b[0;31m     \u001b[0mloss\u001b[0m\u001b[0;34m=\u001b[0m\u001b[0;34m-\u001b[0m\u001b[0;34m(\u001b[0m\u001b[0mtf\u001b[0m\u001b[0;34m.\u001b[0m\u001b[0mreduce_mean\u001b[0m\u001b[0;34m(\u001b[0m\u001b[0mtf\u001b[0m\u001b[0;34m.\u001b[0m\u001b[0mreduce_mean\u001b[0m\u001b[0;34m(\u001b[0m\u001b[0mytrue\u001b[0m\u001b[0;34m*\u001b[0m\u001b[0mtf\u001b[0m\u001b[0;34m.\u001b[0m\u001b[0mlog\u001b[0m\u001b[0;34m(\u001b[0m\u001b[0myc\u001b[0m\u001b[0;34m)\u001b[0m\u001b[0;34m,\u001b[0m\u001b[0maxis\u001b[0m\u001b[0;34m=\u001b[0m\u001b[0;36m0\u001b[0m\u001b[0;34m)\u001b[0m\u001b[0;34m/\u001b[0m\u001b[0mwtable\u001b[0m\u001b[0;34m)\u001b[0m\u001b[0;34m)\u001b[0m\u001b[0;34m\u001b[0m\u001b[0;34m\u001b[0m\u001b[0m\n\u001b[0m\u001b[1;32m      6\u001b[0m     \u001b[0;32mreturn\u001b[0m \u001b[0mloss\u001b[0m\u001b[0;34m\u001b[0m\u001b[0;34m\u001b[0m\u001b[0m\n\u001b[1;32m      7\u001b[0m \u001b[0;34m\u001b[0m\u001b[0m\n",
            "\u001b[0;32m/usr/local/lib/python3.6/dist-packages/pandas/core/ops.py\u001b[0m in \u001b[0;36mf\u001b[0;34m(self, other, axis, level, fill_value)\u001b[0m\n\u001b[1;32m   2016\u001b[0m     \u001b[0;32mdef\u001b[0m \u001b[0mf\u001b[0m\u001b[0;34m(\u001b[0m\u001b[0mself\u001b[0m\u001b[0;34m,\u001b[0m \u001b[0mother\u001b[0m\u001b[0;34m,\u001b[0m \u001b[0maxis\u001b[0m\u001b[0;34m=\u001b[0m\u001b[0mdefault_axis\u001b[0m\u001b[0;34m,\u001b[0m \u001b[0mlevel\u001b[0m\u001b[0;34m=\u001b[0m\u001b[0;32mNone\u001b[0m\u001b[0;34m,\u001b[0m \u001b[0mfill_value\u001b[0m\u001b[0;34m=\u001b[0m\u001b[0;32mNone\u001b[0m\u001b[0;34m)\u001b[0m\u001b[0;34m:\u001b[0m\u001b[0;34m\u001b[0m\u001b[0;34m\u001b[0m\u001b[0m\n\u001b[1;32m   2017\u001b[0m \u001b[0;34m\u001b[0m\u001b[0m\n\u001b[0;32m-> 2018\u001b[0;31m         \u001b[0mother\u001b[0m \u001b[0;34m=\u001b[0m \u001b[0m_align_method_FRAME\u001b[0m\u001b[0;34m(\u001b[0m\u001b[0mself\u001b[0m\u001b[0;34m,\u001b[0m \u001b[0mother\u001b[0m\u001b[0;34m,\u001b[0m \u001b[0maxis\u001b[0m\u001b[0;34m)\u001b[0m\u001b[0;34m\u001b[0m\u001b[0;34m\u001b[0m\u001b[0m\n\u001b[0m\u001b[1;32m   2019\u001b[0m \u001b[0;34m\u001b[0m\u001b[0m\n\u001b[1;32m   2020\u001b[0m         \u001b[0;32mif\u001b[0m \u001b[0misinstance\u001b[0m\u001b[0;34m(\u001b[0m\u001b[0mother\u001b[0m\u001b[0;34m,\u001b[0m \u001b[0mABCDataFrame\u001b[0m\u001b[0;34m)\u001b[0m\u001b[0;34m:\u001b[0m\u001b[0;34m\u001b[0m\u001b[0;34m\u001b[0m\u001b[0m\n",
            "\u001b[0;32m/usr/local/lib/python3.6/dist-packages/pandas/core/ops.py\u001b[0m in \u001b[0;36m_align_method_FRAME\u001b[0;34m(left, right, axis)\u001b[0m\n\u001b[1;32m   1983\u001b[0m           not isinstance(right, (ABCSeries, ABCDataFrame))):\n\u001b[1;32m   1984\u001b[0m         \u001b[0;31m# GH17901\u001b[0m\u001b[0;34m\u001b[0m\u001b[0;34m\u001b[0m\u001b[0;34m\u001b[0m\u001b[0m\n\u001b[0;32m-> 1985\u001b[0;31m         \u001b[0mright\u001b[0m \u001b[0;34m=\u001b[0m \u001b[0mto_series\u001b[0m\u001b[0;34m(\u001b[0m\u001b[0mright\u001b[0m\u001b[0;34m)\u001b[0m\u001b[0;34m\u001b[0m\u001b[0;34m\u001b[0m\u001b[0m\n\u001b[0m\u001b[1;32m   1986\u001b[0m \u001b[0;34m\u001b[0m\u001b[0m\n\u001b[1;32m   1987\u001b[0m     \u001b[0;32mreturn\u001b[0m \u001b[0mright\u001b[0m\u001b[0;34m\u001b[0m\u001b[0;34m\u001b[0m\u001b[0m\n",
            "\u001b[0;32m/usr/local/lib/python3.6/dist-packages/pandas/core/ops.py\u001b[0m in \u001b[0;36mto_series\u001b[0;34m(right)\u001b[0m\n\u001b[1;32m   1943\u001b[0m             \u001b[0mright\u001b[0m \u001b[0;34m=\u001b[0m \u001b[0mleft\u001b[0m\u001b[0;34m.\u001b[0m\u001b[0m_constructor_sliced\u001b[0m\u001b[0;34m(\u001b[0m\u001b[0mright\u001b[0m\u001b[0;34m,\u001b[0m \u001b[0mindex\u001b[0m\u001b[0;34m=\u001b[0m\u001b[0mleft\u001b[0m\u001b[0;34m.\u001b[0m\u001b[0mindex\u001b[0m\u001b[0;34m)\u001b[0m\u001b[0;34m\u001b[0m\u001b[0;34m\u001b[0m\u001b[0m\n\u001b[1;32m   1944\u001b[0m         \u001b[0;32melse\u001b[0m\u001b[0;34m:\u001b[0m\u001b[0;34m\u001b[0m\u001b[0;34m\u001b[0m\u001b[0m\n\u001b[0;32m-> 1945\u001b[0;31m             \u001b[0;32mif\u001b[0m \u001b[0mlen\u001b[0m\u001b[0;34m(\u001b[0m\u001b[0mleft\u001b[0m\u001b[0;34m.\u001b[0m\u001b[0mcolumns\u001b[0m\u001b[0;34m)\u001b[0m \u001b[0;34m!=\u001b[0m \u001b[0mlen\u001b[0m\u001b[0;34m(\u001b[0m\u001b[0mright\u001b[0m\u001b[0;34m)\u001b[0m\u001b[0;34m:\u001b[0m\u001b[0;34m\u001b[0m\u001b[0;34m\u001b[0m\u001b[0m\n\u001b[0m\u001b[1;32m   1946\u001b[0m                 raise ValueError(msg.format(req_len=len(left.columns),\n\u001b[1;32m   1947\u001b[0m                                             given_len=len(right)))\n",
            "\u001b[0;31mTypeError\u001b[0m: object of type 'Tensor' has no len()"
          ]
        }
      ]
    },
    {
      "cell_type": "code",
      "metadata": {
        "id": "MRRl3lHGKZxc",
        "colab_type": "code",
        "outputId": "089242c9-591b-474c-e91e-1af05cfda9ac",
        "colab": {
          "base_uri": "https://localhost:8080/",
          "height": 695
        }
      },
      "source": [
        "pred = np.array(predicts)\n",
        "y_t = np.array(y_test)\n",
        "\n",
        "Y = []\n",
        "pr= []\n",
        "\n",
        "for i in range(len(y_test)):\n",
        "    \n",
        "    pr.append(np.argmax(pred[i]))\n",
        "    \n",
        "    Y.append(np.argmax((y_t[i])))\n",
        "\n",
        "classes = [6, 15, 16, 42, 52, 53, 62, 64, 65, 67, 88, 90, 92, 95]\n",
        "\n",
        "labels = [classes[i] for i in range(len(classes))]\n",
        "conf_plotter(Y , pr , labels , normalize=1, mode='test' , cmap = plt.cm.YlGn, save=0 , name='test_3.jpg')\n"
      ],
      "execution_count": 0,
      "outputs": [
        {
          "output_type": "execute_result",
          "data": {
            "text/plain": [
              "<matplotlib.axes._subplots.AxesSubplot at 0x7fce8b2f05c0>"
            ]
          },
          "metadata": {
            "tags": []
          },
          "execution_count": 66
        },
        {
          "output_type": "display_data",
          "data": {
            "image/png": "[encoded data removed]",
            "text/plain": [
              "<Figure size 720x720 with 2 Axes>"
            ]
          },
          "metadata": {
            "tags": []
          }
        }
      ]
    },
    {
      "cell_type": "code",
      "metadata": {
        "id": "2lw5xuyqTsuX",
        "colab_type": "code",
        "outputId": "26bb3423-3158-431a-964a-c533a686f758",
        "colab": {
          "base_uri": "https://localhost:8080/",
          "height": 34
        }
      },
      "source": [
        "from sklearn.metrics import confusion_matrix\n",
        "\n",
        "cm = confusion_matrix(Y, pr)\n",
        "np.trace(cm)/len(y_test)"
      ],
      "execution_count": 0,
      "outputs": [
        {
          "output_type": "execute_result",
          "data": {
            "text/plain": [
              "0.81855249745158"
            ]
          },
          "metadata": {
            "tags": []
          },
          "execution_count": 67
        }
      ]
    },
    {
      "cell_type": "code",
      "metadata": {
        "id": "ELtxr4col72p",
        "colab_type": "code",
        "outputId": "58af1216-369c-481e-b9f1-5f24b7673aa0",
        "colab": {
          "base_uri": "https://localhost:8080/",
          "height": 695
        }
      },
      "source": [
        "predicts = loaded_model.predict(X_train)\n",
        "\n",
        "Y = []\n",
        "pr= []\n",
        "\n",
        "for i in range(len(y_train)):\n",
        "    \n",
        "    pr.append(np.argmax((np.array(predicts)[i])))\n",
        "    Y.append(np.argmax(np.array(y_train)[i]))\n",
        "\n",
        "\n",
        "    \n",
        "conf_plotter(Y , pr , labels , normalize=1, cmap = plt.cm.OrRd, save=1 , name='train_3.jpg')"
      ],
      "execution_count": 0,
      "outputs": [
        {
          "output_type": "execute_result",
          "data": {
            "text/plain": [
              "<matplotlib.axes._subplots.AxesSubplot at 0x7f7746f2a0b8>"
            ]
          },
          "metadata": {
            "tags": []
          },
          "execution_count": 27
        },
        {
          "output_type": "display_data",
          "data": {
            "image/png": "[encoded data removed]",
            "text/plain": [
              "<Figure size 720x720 with 2 Axes>"
            ]
          },
          "metadata": {
            "tags": []
          }
        }
      ]
    },
    {
      "cell_type": "code",
      "metadata": {
        "id": "LHdmOYc4ZBpP",
        "colab_type": "code",
        "colab": {}
      },
      "source": [
        ""
      ],
      "execution_count": 0,
      "outputs": []
    }
  ]
}