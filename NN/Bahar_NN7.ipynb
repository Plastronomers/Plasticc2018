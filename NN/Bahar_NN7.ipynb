{
  "nbformat": 4,
  "nbformat_minor": 0,
  "metadata": {
    "colab": {
      "name": "Bahar-NN7.ipynb",
      "version": "0.3.2",
      "provenance": [],
      "collapsed_sections": []
    },
    "kernelspec": {
      "name": "python3",
      "display_name": "Python 3"
    },
    "accelerator": "GPU"
  },
  "cells": [
    {
      "cell_type": "code",
      "metadata": {
        "id": "GnNvg83auDfe",
        "colab_type": "code",
        "outputId": "4f0b58cb-caa2-4694-b248-9892bc7a344c",
        "colab": {
          "base_uri": "https://localhost:8080/",
          "height": 34
        }
      },
      "source": [
        "from google.colab import drive\n",
        "drive.mount('/gdrive')"
      ],
      "execution_count": 0,
      "outputs": [
        {
          "output_type": "stream",
          "text": [
            "Drive already mounted at /gdrive; to attempt to forcibly remount, call drive.mount(\"/gdrive\", force_remount=True).\n"
          ],
          "name": "stdout"
        }
      ]
    },
    {
      "cell_type": "code",
      "metadata": {
        "id": "iFDOdJFQuRPM",
        "colab_type": "code",
        "outputId": "6d7e2438-7de3-4154-bb3c-f1f13783d83b",
        "colab": {
          "base_uri": "https://localhost:8080/",
          "height": 34
        }
      },
      "source": [
        "cd /gdrive/My\\ Drive/"
      ],
      "execution_count": 0,
      "outputs": [
        {
          "output_type": "stream",
          "text": [
            "/gdrive/My Drive\n"
          ],
          "name": "stdout"
        }
      ]
    },
    {
      "cell_type": "code",
      "metadata": {
        "id": "vq-uUmu9umsm",
        "colab_type": "code",
        "colab": {}
      },
      "source": [
        "import pandas as pd\n",
        "import numpy as np\n",
        "import pylab as plt\n",
        "import pandas as pd\n",
        "from glob import glob\n",
        "from astropy.io import fits\n",
        "from astropy.table import Table\n",
        "from keras.models import Sequential\n",
        "from keras.layers import Dense, Activation, Dropout, Conv1D, MaxPooling1D, Flatten , BatchNormalization , ReLU\n",
        "from sklearn.metrics import confusion_matrix\n",
        "from sklearn.utils.multiclass import unique_labels\n",
        "from sklearn.model_selection import train_test_split\n",
        "import tensorflow as tf\n",
        "import keras as K"
      ],
      "execution_count": 0,
      "outputs": []
    },
    {
      "cell_type": "code",
      "metadata": {
        "id": "Wjb5jr-fPWN-",
        "colab_type": "code",
        "colab": {}
      },
      "source": [
        "def conf_plotter(y_true, y_pred, classes,\n",
        "                      normalize=0,\n",
        "                      title=None,\n",
        "                      cmap=plt.cm.pink_r,\n",
        "                      mode = 'train',\n",
        "                      save = 0,\n",
        "                      name = 'conf.jpg'):\n",
        "\n",
        "    if not title:\n",
        "        if mode == 'train':\n",
        "            title = 'Normalized confusion matrix on train dataset'\n",
        "        else:\n",
        "            title = 'Normalized confusion matrix on test dataset'\n",
        "            \n",
        "\n",
        "    from sklearn.metrics import confusion_matrix\n",
        "    \n",
        "    cm = confusion_matrix(y_true, y_pred)\n",
        "\n",
        "    if normalize:\n",
        "        cm = cm.astype('float') / cm.sum(axis=1)[:, np.newaxis]\n",
        "\n",
        "\n",
        "    fig, ax = plt.subplots(figsize=(10,10))\n",
        "    im = ax.imshow(cm, interpolation='nearest', cmap=cmap)\n",
        "    ax.figure.colorbar(im, ax=ax ,fraction=0.046, pad=0.04)\n",
        "    ax.set(xticks=np.arange(cm.shape[1]),\n",
        "           yticks=np.arange(cm.shape[0]),\n",
        "           xticklabels=classes, yticklabels=classes,\n",
        "           title=title,\n",
        "           xlabel='Predicted label',\n",
        "           ylabel='True label')\n",
        "    \n",
        "    for item in ([ax.title, ax.xaxis.label, ax.yaxis.label] ):\n",
        "                    \n",
        "        item.set_fontsize(20)\n",
        "     \n",
        "    for item in (ax.get_xticklabels() + ax.get_yticklabels()):\n",
        "        \n",
        "        item.set_fontsize(12)\n",
        "\n",
        "        \n",
        "                \n",
        "    plt.gca().invert_yaxis()\n",
        "    plt.setp(ax.get_xticklabels(), rotation=45, ha=\"right\",\n",
        "             rotation_mode=\"anchor\")\n",
        "\n",
        "    fmt = '.2f' if normalize else 'd'\n",
        "    thresh = cm.max() / 2.\n",
        "    for i in range(cm.shape[0]):\n",
        "        for j in range(cm.shape[1]):\n",
        "            ax.text(j, i, format(cm[i, j], fmt),\n",
        "                    ha=\"center\", va=\"center\",\n",
        "                    color=\"white\" if cm[i, j] > thresh else \"black\")\n",
        "    fig.tight_layout()\n",
        "    if save == 1:\n",
        "        plt.savefig(name)\n",
        "    return ax"
      ],
      "execution_count": 0,
      "outputs": []
    },
    {
      "cell_type": "code",
      "metadata": {
        "id": "sNdI2oPn3TWt",
        "colab_type": "code",
        "colab": {}
      },
      "source": [
        "X_train = pd.read_csv('./data/X_train.csv')\n",
        "y_train = pd.read_csv('./data/y_train.csv')\n",
        "X_test = pd.read_csv('./data/X_test.csv')\n",
        "y_test= pd.read_csv('./data/y_test.csv')"
      ],
      "execution_count": 0,
      "outputs": []
    },
    {
      "cell_type": "code",
      "metadata": {
        "id": "xZAXRdbkI_y-",
        "colab_type": "code",
        "colab": {}
      },
      "source": [
        "X_train, x_val = train_test_split(X_train, test_size=0.2, random_state = 5)"
      ],
      "execution_count": 0,
      "outputs": []
    },
    {
      "cell_type": "code",
      "metadata": {
        "id": "skCaAyP8j-mW",
        "colab_type": "code",
        "outputId": "b11637c3-d375-441e-913a-04414f09df6f",
        "colab": {
          "base_uri": "https://localhost:8080/",
          "height": 34
        }
      },
      "source": [
        "X_train.shape , X_test.shape , y_train.shape , y_test.shape"
      ],
      "execution_count": 0,
      "outputs": [
        {
          "output_type": "execute_result",
          "data": {
            "text/plain": [
              "((4708, 369), (1962, 369), (5886, 2), (1962, 2))"
            ]
          },
          "metadata": {
            "tags": []
          },
          "execution_count": 36
        }
      ]
    },
    {
      "cell_type": "code",
      "metadata": {
        "id": "2aLt8iS6G_uN",
        "colab_type": "code",
        "colab": {}
      },
      "source": [
        "y_train = y_train.drop(columns =['Unnamed: 0'] )\n",
        "y_test  = y_test.drop(columns =['Unnamed: 0'] )\n",
        "X_train = X_train.drop(columns =['Unnamed: 0'] )\n",
        "X_test = X_test.drop(columns =['Unnamed: 0'] )"
      ],
      "execution_count": 0,
      "outputs": []
    },
    {
      "cell_type": "code",
      "metadata": {
        "id": "bmC0bEQCsRGI",
        "colab_type": "code",
        "outputId": "4409ccf2-0554-4e8f-ef4c-b1b167f0a92e",
        "colab": {
          "base_uri": "https://localhost:8080/",
          "height": 475
        }
      },
      "source": [
        "y_train.head()"
      ],
      "execution_count": 0,
      "outputs": [
        {
          "output_type": "error",
          "ename": "ImportError",
          "evalue": "ignored",
          "traceback": [
            "\u001b[0;31m---------------------------------------------------------------------------\u001b[0m",
            "\u001b[0;31mImportError\u001b[0m                               Traceback (most recent call last)",
            "\u001b[0;32m/usr/local/lib/python3.6/dist-packages/IPython/core/formatters.py\u001b[0m in \u001b[0;36m__call__\u001b[0;34m(self, obj)\u001b[0m\n\u001b[1;32m    336\u001b[0m             \u001b[0mmethod\u001b[0m \u001b[0;34m=\u001b[0m \u001b[0mget_real_method\u001b[0m\u001b[0;34m(\u001b[0m\u001b[0mobj\u001b[0m\u001b[0;34m,\u001b[0m \u001b[0mself\u001b[0m\u001b[0;34m.\u001b[0m\u001b[0mprint_method\u001b[0m\u001b[0;34m)\u001b[0m\u001b[0;34m\u001b[0m\u001b[0;34m\u001b[0m\u001b[0m\n\u001b[1;32m    337\u001b[0m             \u001b[0;32mif\u001b[0m \u001b[0mmethod\u001b[0m \u001b[0;32mis\u001b[0m \u001b[0;32mnot\u001b[0m \u001b[0;32mNone\u001b[0m\u001b[0;34m:\u001b[0m\u001b[0;34m\u001b[0m\u001b[0;34m\u001b[0m\u001b[0m\n\u001b[0;32m--> 338\u001b[0;31m                 \u001b[0;32mreturn\u001b[0m \u001b[0mmethod\u001b[0m\u001b[0;34m(\u001b[0m\u001b[0;34m)\u001b[0m\u001b[0;34m\u001b[0m\u001b[0;34m\u001b[0m\u001b[0m\n\u001b[0m\u001b[1;32m    339\u001b[0m             \u001b[0;32mreturn\u001b[0m \u001b[0;32mNone\u001b[0m\u001b[0;34m\u001b[0m\u001b[0;34m\u001b[0m\u001b[0m\n\u001b[1;32m    340\u001b[0m         \u001b[0;32melse\u001b[0m\u001b[0;34m:\u001b[0m\u001b[0;34m\u001b[0m\u001b[0;34m\u001b[0m\u001b[0m\n",
            "\u001b[0;32m/usr/local/lib/python3.6/dist-packages/pandas/core/frame.py\u001b[0m in \u001b[0;36m_repr_html_\u001b[0;34m(self)\u001b[0m\n\u001b[1;32m    672\u001b[0m         \u001b[0;31m# qtconsole doesn't report its line width, and also\u001b[0m\u001b[0;34m\u001b[0m\u001b[0;34m\u001b[0m\u001b[0;34m\u001b[0m\u001b[0m\n\u001b[1;32m    673\u001b[0m         \u001b[0;31m# behaves badly when outputting an HTML table\u001b[0m\u001b[0;34m\u001b[0m\u001b[0;34m\u001b[0m\u001b[0;34m\u001b[0m\u001b[0m\n\u001b[0;32m--> 674\u001b[0;31m         \u001b[0;31m# that doesn't fit the window, so disable it.\u001b[0m\u001b[0;34m\u001b[0m\u001b[0;34m\u001b[0m\u001b[0;34m\u001b[0m\u001b[0m\n\u001b[0m\u001b[1;32m    675\u001b[0m         \u001b[0;31m# XXX: In IPython 3.x and above, the Qt console will not attempt to\u001b[0m\u001b[0;34m\u001b[0m\u001b[0;34m\u001b[0m\u001b[0;34m\u001b[0m\u001b[0m\n\u001b[1;32m    676\u001b[0m         \u001b[0;31m# display HTML, so this check can be removed when support for\u001b[0m\u001b[0;34m\u001b[0m\u001b[0;34m\u001b[0m\u001b[0;34m\u001b[0m\u001b[0m\n",
            "\u001b[0;32m/usr/local/lib/python3.6/dist-packages/pandas/core/frame.py\u001b[0m in \u001b[0;36mto_html\u001b[0;34m(self, buf, columns, col_space, header, index, na_rep, formatters, float_format, sparsify, index_names, justify, max_rows, max_cols, show_dimensions, decimal, bold_rows, classes, escape, notebook, border, table_id, render_links)\u001b[0m\n\u001b[1;32m   2263\u001b[0m             \u001b[0msize_qualifier\u001b[0m \u001b[0;34m=\u001b[0m \u001b[0;34m''\u001b[0m\u001b[0;34m\u001b[0m\u001b[0;34m\u001b[0m\u001b[0m\n\u001b[1;32m   2264\u001b[0m             \u001b[0;32mif\u001b[0m \u001b[0mmemory_usage\u001b[0m \u001b[0;34m==\u001b[0m \u001b[0;34m'deep'\u001b[0m\u001b[0;34m:\u001b[0m\u001b[0;34m\u001b[0m\u001b[0;34m\u001b[0m\u001b[0m\n\u001b[0;32m-> 2265\u001b[0;31m                 \u001b[0mdeep\u001b[0m \u001b[0;34m=\u001b[0m \u001b[0;32mTrue\u001b[0m\u001b[0;34m\u001b[0m\u001b[0;34m\u001b[0m\u001b[0m\n\u001b[0m\u001b[1;32m   2266\u001b[0m             \u001b[0;32melse\u001b[0m\u001b[0;34m:\u001b[0m\u001b[0;34m\u001b[0m\u001b[0;34m\u001b[0m\u001b[0m\n\u001b[1;32m   2267\u001b[0m                 \u001b[0;31m# size_qualifier is just a best effort; not guaranteed to catch\u001b[0m\u001b[0;34m\u001b[0m\u001b[0;34m\u001b[0m\u001b[0;34m\u001b[0m\u001b[0m\n",
            "\u001b[0;32m/usr/local/lib/python3.6/dist-packages/pandas/io/formats/format.py\u001b[0m in \u001b[0;36mto_html\u001b[0;34m(self, classes, notebook, border)\u001b[0m\n\u001b[1;32m    725\u001b[0m         \u001b[0mvalues_to_format\u001b[0m \u001b[0;34m=\u001b[0m \u001b[0mframe\u001b[0m\u001b[0;34m.\u001b[0m\u001b[0miloc\u001b[0m\u001b[0;34m[\u001b[0m\u001b[0;34m:\u001b[0m\u001b[0;34m,\u001b[0m \u001b[0mi\u001b[0m\u001b[0;34m]\u001b[0m\u001b[0;34m.\u001b[0m\u001b[0m_formatting_values\u001b[0m\u001b[0;34m(\u001b[0m\u001b[0;34m)\u001b[0m\u001b[0;34m\u001b[0m\u001b[0;34m\u001b[0m\u001b[0m\n\u001b[1;32m    726\u001b[0m         return format_array(values_to_format, formatter,\n\u001b[0;32m--> 727\u001b[0;31m                             \u001b[0mfloat_format\u001b[0m\u001b[0;34m=\u001b[0m\u001b[0mself\u001b[0m\u001b[0;34m.\u001b[0m\u001b[0mfloat_format\u001b[0m\u001b[0;34m,\u001b[0m \u001b[0mna_rep\u001b[0m\u001b[0;34m=\u001b[0m\u001b[0mself\u001b[0m\u001b[0;34m.\u001b[0m\u001b[0mna_rep\u001b[0m\u001b[0;34m,\u001b[0m\u001b[0;34m\u001b[0m\u001b[0;34m\u001b[0m\u001b[0m\n\u001b[0m\u001b[1;32m    728\u001b[0m                             space=self.col_space, decimal=self.decimal)\n\u001b[1;32m    729\u001b[0m \u001b[0;34m\u001b[0m\u001b[0m\n",
            "\u001b[0;31mImportError\u001b[0m: cannot import name 'NotebookFormatter'"
          ]
        },
        {
          "output_type": "execute_result",
          "data": {
            "text/plain": [
              "   target\n",
              "0      95\n",
              "1      15\n",
              "2      42\n",
              "3      65\n",
              "4      90"
            ]
          },
          "metadata": {
            "tags": []
          },
          "execution_count": 38
        }
      ]
    },
    {
      "cell_type": "code",
      "metadata": {
        "id": "vNkls_cdrSDW",
        "colab_type": "code",
        "outputId": "d6f00d41-21a2-467a-86ba-118172d7119b",
        "colab": {
          "base_uri": "https://localhost:8080/",
          "height": 34
        }
      },
      "source": [
        "from sklearn.preprocessing import StandardScaler\n",
        "standardscaler = StandardScaler()\n",
        "\n",
        "X_train = standardscaler.fit_transform(X_train)\n",
        "\n",
        "X_test = standardscaler.fit_transform(X_test)\n",
        "\n",
        "X_train.shape , X_test.shape"
      ],
      "execution_count": 0,
      "outputs": [
        {
          "output_type": "execute_result",
          "data": {
            "text/plain": [
              "((4708, 368), (1962, 368))"
            ]
          },
          "metadata": {
            "tags": []
          },
          "execution_count": 39
        }
      ]
    },
    {
      "cell_type": "code",
      "metadata": {
        "id": "1Z4e73RhsXnV",
        "colab_type": "code",
        "outputId": "d3283b41-b79a-4e55-c3ec-203571e1a0fb",
        "colab": {
          "base_uri": "https://localhost:8080/",
          "height": 34
        }
      },
      "source": [
        "from sklearn.preprocessing import OneHotEncoder\n",
        "\n",
        "y_train = OneHotEncoder(categories='auto').fit_transform(y_train[['target']]).toarray()\n",
        "\n",
        "y_test  = OneHotEncoder(categories='auto').fit_transform(y_test[['target']]).toarray()\n",
        "\n",
        "y_train.shape , y_test.shape"
      ],
      "execution_count": 0,
      "outputs": [
        {
          "output_type": "execute_result",
          "data": {
            "text/plain": [
              "((5886, 14), (1962, 14))"
            ]
          },
          "metadata": {
            "tags": []
          },
          "execution_count": 40
        }
      ]
    },
    {
      "cell_type": "code",
      "metadata": {
        "id": "Lh3csHPKBbXi",
        "colab_type": "code",
        "outputId": "df73097c-313a-4efe-99a1-30e777c77a00",
        "colab": {
          "base_uri": "https://localhost:8080/",
          "height": 34
        }
      },
      "source": [
        "input_dim = X_train.shape[1]\n",
        "\n",
        "# n_class = len(df['target'].unique())\n",
        "n_class = 14\n",
        "input_dim"
      ],
      "execution_count": 0,
      "outputs": [
        {
          "output_type": "execute_result",
          "data": {
            "text/plain": [
              "368"
            ]
          },
          "metadata": {
            "tags": []
          },
          "execution_count": 41
        }
      ]
    },
    {
      "cell_type": "code",
      "metadata": {
        "id": "QlCLpaLp19W2",
        "colab_type": "code",
        "colab": {}
      },
      "source": [
        "af = None\n",
        "\n",
        "K.backend.clear_session()\n",
        "\n",
        "model = Sequential()\n",
        "\n",
        "model.add(Dense(input_dim, input_dim=input_dim))\n",
        "model.add(BatchNormalization(trainable=True))\n",
        "model.add(Activation(af))\n",
        "model.add(Dropout(rate = 0.5))\n",
        "\n",
        "model.add(Dense(256))\n",
        "model.add(BatchNormalization(trainable=True))\n",
        "model.add(Activation(af))\n",
        "model.add(Dropout(rate = 0.5))\n",
        "\n",
        "\n",
        "model.add(Dense(128))\n",
        "model.add(BatchNormalization(trainable=True))\n",
        "model.add(Activation(af))\n",
        "model.add(Dropout(rate = 0.5))\n",
        "\n",
        "model.add(Dense(64))\n",
        "model.add(BatchNormalization(trainable=True))\n",
        "model.add(Activation(af))\n",
        "model.add(Dropout(rate = 0.5))\n",
        "\n",
        "model.add(Dense(32))\n",
        "model.add(BatchNormalization(trainable=True))\n",
        "model.add(Activation(af))\n",
        "\n",
        "\n",
        "model.add(Dense(n_class, activation='softmax'))"
      ],
      "execution_count": 0,
      "outputs": []
    },
    {
      "cell_type": "code",
      "metadata": {
        "id": "j8Nh5VFHYRa3",
        "colab_type": "code",
        "outputId": "d89cb60a-d988-4901-978c-ba43fe6a2872",
        "colab": {
          "base_uri": "https://localhost:8080/",
          "height": 812
        }
      },
      "source": [
        "summ =model.summary()"
      ],
      "execution_count": 0,
      "outputs": [
        {
          "output_type": "stream",
          "text": [
            "_________________________________________________________________\n",
            "Layer (type)                 Output Shape              Param #   \n",
            "=================================================================\n",
            "dense_1 (Dense)              (None, 368)               135792    \n",
            "_________________________________________________________________\n",
            "batch_normalization_1 (Batch (None, 368)               1472      \n",
            "_________________________________________________________________\n",
            "activation_1 (Activation)    (None, 368)               0         \n",
            "_________________________________________________________________\n",
            "dropout_1 (Dropout)          (None, 368)               0         \n",
            "_________________________________________________________________\n",
            "dense_2 (Dense)              (None, 256)               94464     \n",
            "_________________________________________________________________\n",
            "batch_normalization_2 (Batch (None, 256)               1024      \n",
            "_________________________________________________________________\n",
            "activation_2 (Activation)    (None, 256)               0         \n",
            "_________________________________________________________________\n",
            "dropout_2 (Dropout)          (None, 256)               0         \n",
            "_________________________________________________________________\n",
            "dense_3 (Dense)              (None, 128)               32896     \n",
            "_________________________________________________________________\n",
            "batch_normalization_3 (Batch (None, 128)               512       \n",
            "_________________________________________________________________\n",
            "activation_3 (Activation)    (None, 128)               0         \n",
            "_________________________________________________________________\n",
            "dropout_3 (Dropout)          (None, 128)               0         \n",
            "_________________________________________________________________\n",
            "dense_4 (Dense)              (None, 64)                8256      \n",
            "_________________________________________________________________\n",
            "batch_normalization_4 (Batch (None, 64)                256       \n",
            "_________________________________________________________________\n",
            "activation_4 (Activation)    (None, 64)                0         \n",
            "_________________________________________________________________\n",
            "dropout_4 (Dropout)          (None, 64)                0         \n",
            "_________________________________________________________________\n",
            "dense_5 (Dense)              (None, 32)                2080      \n",
            "_________________________________________________________________\n",
            "batch_normalization_5 (Batch (None, 32)                128       \n",
            "_________________________________________________________________\n",
            "activation_5 (Activation)    (None, 32)                0         \n",
            "_________________________________________________________________\n",
            "dense_6 (Dense)              (None, 14)                462       \n",
            "=================================================================\n",
            "Total params: 277,342\n",
            "Trainable params: 275,646\n",
            "Non-trainable params: 1,696\n",
            "_________________________________________________________________\n"
          ],
          "name": "stdout"
        }
      ]
    },
    {
      "cell_type": "code",
      "metadata": {
        "id": "cWoImMSi_WYO",
        "colab_type": "code",
        "colab": {}
      },
      "source": [
        "# x_in = tf.placeholder(tf.float32,[None,input_dim])    \n",
        "# learning_rate = tf.placeholder(tf.float32)\n",
        "# drop_out = tf.placeholder(tf.float32)\n",
        "# y_true = tf.placeholder(tf.float32,[None , n_class])"
      ],
      "execution_count": 0,
      "outputs": []
    },
    {
      "cell_type": "code",
      "metadata": {
        "id": "AdSSMJ8VJMCv",
        "colab_type": "code",
        "colab": {}
      },
      "source": [
        "\n",
        "# x = tf.layers.dense(x_in , input_dim)\n",
        "# print(x)\n",
        "# x = tf.layers.batch_normalization(x)\n",
        "# print(x)\n",
        "# x = tf.nn.selu(x)\n",
        "# print(x)\n",
        "# x = tf.nn.dropout( x, rate=drop_out)\n",
        "# print(x)\n",
        "\n",
        "\n",
        "# x = tf.layers.dense(x, 256)\n",
        "# print(x)\n",
        "# x = tf.layers.batch_normalization(x)\n",
        "# print(x)\n",
        "# x = tf.nn.selu(x)\n",
        "# print(x)\n",
        "# x = tf.nn.dropout( x, rate=drop_out)\n",
        "# print(x)\n",
        "\n",
        "\n",
        "# x = tf.layers.dense(x, 128)\n",
        "# print(x)\n",
        "# x = tf.layers.batch_normalization(x)\n",
        "# print(x)\n",
        "# x = tf.nn.selu(x)\n",
        "# print(x)\n",
        "# x = tf.nn.dropout( x, rate=drop_out)\n",
        "# print(x)\n",
        "\n",
        "# x = tf.layers.dense(x, 64)\n",
        "# print(x)\n",
        "# x = tf.layers.batch_normalization(x)\n",
        "# print(x)\n",
        "# x = tf.nn.selu(x)\n",
        "# print(x)\n",
        "# x = tf.nn.dropout( x, rate=drop_out)\n",
        "# print(x)\n",
        "\n",
        "# x = tf.layers.dense(x, 32)\n",
        "# print(x)\n",
        "# x = tf.layers.batch_normalization(x)\n",
        "# print(x)\n",
        "# x = tf.nn.selu(x)\n",
        "# print(x)\n",
        "# x = tf.nn.dropout( x, rate=drop_out)\n",
        "# print(x)\n",
        "\n",
        "\n",
        "# x_out = tf.layers.dense(x, n_class, activation=tf.nn.softmax)\n",
        "# print(x_out)\n",
        "\n",
        "# print(\"\\033[91m ============================ END ============================= \\033[0m\")\n"
      ],
      "execution_count": 0,
      "outputs": []
    },
    {
      "cell_type": "code",
      "metadata": {
        "id": "dfAdyuX579YM",
        "colab_type": "code",
        "colab": {}
      },
      "source": [
        "def multi_weighted_logloss(y_true, y_preds):\n",
        "    \"\"\"\n",
        "    @author olivier https://www.kaggle.com/ogrellier\n",
        "    multi logloss for PLAsTiCC challenge\n",
        "    \"\"\"\n",
        "    classes = [6, 15, 16, 42, 52, 53, 62, 64, 65, 67, 88, 90, 92, 95]\n",
        "    class_weight = {6: 1, 15: 2, 16: 1, 42: 1, 52: 1, 53: 1, 62: 1, 64: 2, 65: 1, 67: 1, 88: 1, 90: 1, 92: 1, 95: 1}\n",
        "    \n",
        "    \n",
        "    y_p = y_preds\n",
        "    y_ohe = y_true\n",
        "    \n",
        "    #y_ohe = pd.get_dummies(y_true)\n",
        "    # Normalize rows and limit y_preds to 1e-15, 1-1e-15\n",
        "    y_p = tf.clip_by_value(t=y_p, clip_value_min= 1e-15, clip_value_max=1-1e-15)\n",
        "    # Transform to log\n",
        "    y_p_log = tf.log(y_p)\n",
        "\n",
        "    y_log_ones = tf.reduce_sum(tf.math.multiply(y_ohe , y_p_log), axis=0)\n",
        "\n",
        "    # Get the number of positives for each class\n",
        "    nb_pos = tf.reduce_sum( y_ohe ,axis=0)\n",
        "\n",
        "    # Weight average and divide by the number of positives\n",
        "    class_arr = np.array([class_weight[k] for k in sorted(class_weight.keys())])\n",
        "    class_arr = tf.cast(class_arr, tf.float32)\n",
        "\n",
        "    y_w = y_log_ones * class_arr / nb_pos\n",
        "\n",
        "    \n",
        "    loss = - tf.divide(tf.reduce_sum(y_w) , (tf.reduce_sum(class_arr)+1e-30))\n",
        "\n",
        "    return loss"
      ],
      "execution_count": 0,
      "outputs": []
    },
    {
      "cell_type": "code",
      "metadata": {
        "id": "IdcfDPSbfiGM",
        "colab_type": "code",
        "colab": {}
      },
      "source": [
        "def customLoss(yTrue,yPred):\n",
        "    return multi_weighted_logloss(yTrue,yPred)\n",
        "\n",
        "adam = K.optimizers.Adam(lr=0.0001, beta_1=0.9, beta_2=0.999, epsilon=None, decay=1e-3, amsgrad=False)"
      ],
      "execution_count": 0,
      "outputs": []
    },
    {
      "cell_type": "code",
      "metadata": {
        "id": "Z0_HmpzF2RyD",
        "colab_type": "code",
        "outputId": "f4cb5661-cbb7-4321-b987-9047cf2e96cb",
        "colab": {
          "base_uri": "https://localhost:8080/",
          "height": 71
        }
      },
      "source": [
        "model.compile(loss = tf.losses.log_loss , optimizer=adam , )"
      ],
      "execution_count": 0,
      "outputs": [
        {
          "output_type": "stream",
          "text": [
            "W0819 18:17:34.932313 140470256220032 deprecation_wrapper.py:119] From /usr/local/lib/python3.6/dist-packages/keras/optimizers.py:790: The name tf.train.Optimizer is deprecated. Please use tf.compat.v1.train.Optimizer instead.\n",
            "\n"
          ],
          "name": "stderr"
        }
      ]
    },
    {
      "cell_type": "code",
      "metadata": {
        "id": "_OlK7udVjGnx",
        "colab_type": "code",
        "colab": {}
      },
      "source": [
        "# sess = tf.Session()\n",
        "# K.backend.set_session(sess)\n",
        "# sess.as_default()\n",
        "# sess.graph.as_default()"
      ],
      "execution_count": 0,
      "outputs": []
    },
    {
      "cell_type": "code",
      "metadata": {
        "id": "g5itlbHP2nEq",
        "colab_type": "code",
        "outputId": "b1175dca-67c5-49da-ec38-02e1883f6656",
        "colab": {
          "base_uri": "https://localhost:8080/",
          "height": 443
        }
      },
      "source": [
        "model.fit(X_train,y_train, validation_split =1 ,validation_data= (x_val , y_val) , epochs=10,batch_size=200,verbose=1)"
      ],
      "execution_count": 0,
      "outputs": [
        {
          "output_type": "stream",
          "text": [
            "W0819 18:17:37.752743 140470256220032 deprecation.py:323] From /usr/local/lib/python3.6/dist-packages/tensorflow/python/ops/math_grad.py:1250: add_dispatch_support.<locals>.wrapper (from tensorflow.python.ops.array_ops) is deprecated and will be removed in a future version.\n",
            "Instructions for updating:\n",
            "Use tf.where in 2.0, which has the same broadcast rule as np.where\n"
          ],
          "name": "stderr"
        },
        {
          "output_type": "stream",
          "text": [
            "Epoch 1/10\n",
            "5886/5886 [==============================] - 6s 981us/step - loss: nan\n",
            "Epoch 2/10\n",
            "5886/5886 [==============================] - 1s 89us/step - loss: nan\n",
            "Epoch 3/10\n",
            "5886/5886 [==============================] - 1s 87us/step - loss: nan\n",
            "Epoch 4/10\n",
            "5886/5886 [==============================] - 0s 84us/step - loss: nan\n",
            "Epoch 5/10\n",
            "5886/5886 [==============================] - 1s 92us/step - loss: nan\n",
            "Epoch 6/10\n",
            "5886/5886 [==============================] - 1s 88us/step - loss: nan\n",
            "Epoch 7/10\n",
            "5886/5886 [==============================] - 1s 90us/step - loss: nan\n",
            "Epoch 8/10\n",
            "5886/5886 [==============================] - 1s 85us/step - loss: nan\n",
            "Epoch 9/10\n",
            "5886/5886 [==============================] - 1s 87us/step - loss: nan\n",
            "Epoch 10/10\n",
            "5886/5886 [==============================] - 1s 86us/step - loss: nan\n"
          ],
          "name": "stdout"
        },
        {
          "output_type": "execute_result",
          "data": {
            "text/plain": [
              "<keras.callbacks.History at 0x7fc172aaab70>"
            ]
          },
          "metadata": {
            "tags": []
          },
          "execution_count": 25
        }
      ]
    },
    {
      "cell_type": "code",
      "metadata": {
        "id": "gVrtj7WrjIgQ",
        "colab_type": "code",
        "outputId": "e6b7ea33-a721-4abc-a305-30bfa91f049b",
        "colab": {
          "base_uri": "https://localhost:8080/",
          "height": 34
        }
      },
      "source": [
        "model.fit(X_train,y_train,epochs=100,batch_size=300,verbose=0)"
      ],
      "execution_count": 0,
      "outputs": [
        {
          "output_type": "execute_result",
          "data": {
            "text/plain": [
              "<keras.callbacks.History at 0x7f6d2554cc50>"
            ]
          },
          "metadata": {
            "tags": []
          },
          "execution_count": 94
        }
      ]
    },
    {
      "cell_type": "code",
      "metadata": {
        "id": "Mt_syg4W0qv5",
        "colab_type": "code",
        "outputId": "685d01e2-dc60-4784-9103-a472b69c747d",
        "colab": {
          "base_uri": "https://localhost:8080/",
          "height": 34
        }
      },
      "source": [
        "model.fit(X_train,y_train,epochs=100,batch_size=300,verbose=0)"
      ],
      "execution_count": 0,
      "outputs": [
        {
          "output_type": "execute_result",
          "data": {
            "text/plain": [
              "<keras.callbacks.History at 0x7f6d255604a8>"
            ]
          },
          "metadata": {
            "tags": []
          },
          "execution_count": 95
        }
      ]
    },
    {
      "cell_type": "code",
      "metadata": {
        "id": "W28QFI4NCijO",
        "colab_type": "code",
        "outputId": "28e81ac6-70f4-4422-d6f0-965d6694e646",
        "colab": {
          "base_uri": "https://localhost:8080/",
          "height": 51
        }
      },
      "source": [
        "# evaluate the model\n",
        "model.evaluate(X_test, y_test)"
      ],
      "execution_count": 0,
      "outputs": [
        {
          "output_type": "stream",
          "text": [
            "1962/1962 [==============================] - 0s 223us/step\n"
          ],
          "name": "stdout"
        },
        {
          "output_type": "execute_result",
          "data": {
            "text/plain": [
              "0.07014495053847875"
            ]
          },
          "metadata": {
            "tags": []
          },
          "execution_count": 96
        }
      ]
    },
    {
      "cell_type": "code",
      "metadata": {
        "id": "O0XpDUeUDlFd",
        "colab_type": "code",
        "outputId": "a1565665-9be9-4102-90c6-9112dfeea1be",
        "colab": {
          "base_uri": "https://localhost:8080/",
          "height": 34
        }
      },
      "source": [
        "model.fit(X_train,y_train,epochs=100,batch_size=300,verbose=0)"
      ],
      "execution_count": 0,
      "outputs": [
        {
          "output_type": "execute_result",
          "data": {
            "text/plain": [
              "<keras.callbacks.History at 0x7f6d254ed4a8>"
            ]
          },
          "metadata": {
            "tags": []
          },
          "execution_count": 97
        }
      ]
    },
    {
      "cell_type": "code",
      "metadata": {
        "id": "r2W0VyyHD8kN",
        "colab_type": "code",
        "outputId": "7d1ee98d-195a-43e8-e04f-87638eac01ad",
        "colab": {
          "base_uri": "https://localhost:8080/",
          "height": 51
        }
      },
      "source": [
        "# evaluate the model\n",
        "model.evaluate(X_test, y_test, verbose=1)"
      ],
      "execution_count": 0,
      "outputs": [
        {
          "output_type": "stream",
          "text": [
            "1962/1962 [==============================] - 0s 122us/step\n"
          ],
          "name": "stdout"
        },
        {
          "output_type": "execute_result",
          "data": {
            "text/plain": [
              "0.05537313951234448"
            ]
          },
          "metadata": {
            "tags": []
          },
          "execution_count": 117
        }
      ]
    },
    {
      "cell_type": "code",
      "metadata": {
        "id": "YDRNS44VmI8L",
        "colab_type": "code",
        "outputId": "2e6466af-a8d2-4aa8-c9d9-1f26628e0834",
        "colab": {
          "base_uri": "https://localhost:8080/",
          "height": 51
        }
      },
      "source": [
        "model.evaluate(X_train, y_train, verbose=1)"
      ],
      "execution_count": 0,
      "outputs": [
        {
          "output_type": "stream",
          "text": [
            "5886/5886 [==============================] - 1s 106us/step\n"
          ],
          "name": "stdout"
        },
        {
          "output_type": "execute_result",
          "data": {
            "text/plain": [
              "0.04059130342115847"
            ]
          },
          "metadata": {
            "tags": []
          },
          "execution_count": 116
        }
      ]
    },
    {
      "cell_type": "code",
      "metadata": {
        "id": "_ISXcL2rEQOZ",
        "colab_type": "code",
        "outputId": "2d3fa175-8b1f-412c-bc5c-98e4b5c1ff0c",
        "colab": {
          "base_uri": "https://localhost:8080/",
          "height": 163
        }
      },
      "source": [
        "loaded_model.fit(X_train,y_train,epochs=10,batch_size=300,verbose=0)"
      ],
      "execution_count": 0,
      "outputs": [
        {
          "output_type": "error",
          "ename": "NameError",
          "evalue": "ignored",
          "traceback": [
            "\u001b[0;31m---------------------------------------------------------------------------\u001b[0m",
            "\u001b[0;31mNameError\u001b[0m                                 Traceback (most recent call last)",
            "\u001b[0;32m<ipython-input-1-bce5a66b4948>\u001b[0m in \u001b[0;36m<module>\u001b[0;34m()\u001b[0m\n\u001b[0;32m----> 1\u001b[0;31m \u001b[0mloaded_model\u001b[0m\u001b[0;34m.\u001b[0m\u001b[0mfit\u001b[0m\u001b[0;34m(\u001b[0m\u001b[0mX_train\u001b[0m\u001b[0;34m,\u001b[0m\u001b[0my_train\u001b[0m\u001b[0;34m,\u001b[0m\u001b[0mepochs\u001b[0m\u001b[0;34m=\u001b[0m\u001b[0;36m10\u001b[0m\u001b[0;34m,\u001b[0m\u001b[0mbatch_size\u001b[0m\u001b[0;34m=\u001b[0m\u001b[0;36m300\u001b[0m\u001b[0;34m,\u001b[0m\u001b[0mverbose\u001b[0m\u001b[0;34m=\u001b[0m\u001b[0;36m0\u001b[0m\u001b[0;34m)\u001b[0m\u001b[0;34m\u001b[0m\u001b[0;34m\u001b[0m\u001b[0m\n\u001b[0m",
            "\u001b[0;31mNameError\u001b[0m: name 'loaded_model' is not defined"
          ]
        }
      ]
    },
    {
      "cell_type": "code",
      "metadata": {
        "id": "c4BnLEzGCv3k",
        "colab_type": "code",
        "outputId": "9915b5ad-840e-446b-9d96-56dce8dadfe5",
        "colab": {
          "base_uri": "https://localhost:8080/",
          "height": 34
        }
      },
      "source": [
        "path = './NN_models/6'\n",
        "# serialize model to JSON\n",
        "model_json = model.to_json()\n",
        "with open(str(path)+'/NN6_model.json', \"w\") as json_file:\n",
        "    json_file.write(model_json)\n",
        "    \n",
        "# serialize weights to HDF5\n",
        "model.save_weights(str(path)+'/NN6_model.h5')\n",
        "print(\"Saved model to disk\")"
      ],
      "execution_count": 0,
      "outputs": [
        {
          "output_type": "stream",
          "text": [
            "Saved model to disk\n"
          ],
          "name": "stdout"
        }
      ]
    },
    {
      "cell_type": "code",
      "metadata": {
        "id": "So3N8UQ7C0VL",
        "colab_type": "code",
        "outputId": "dfdec6cc-6c8e-469f-c43d-f3f545ef60eb",
        "colab": {
          "base_uri": "https://localhost:8080/",
          "height": 105
        }
      },
      "source": [
        "from keras.models import model_from_json\n",
        "\n",
        "# load json and create model\n",
        "json_file = open('./NN_models/5/model.json', 'r')\n",
        "loaded_model_json = json_file.read()\n",
        "json_file.close()\n",
        "loaded_model = model_from_json(loaded_model_json)\n",
        "# load weights into new model\n",
        "loaded_model.load_weights(\"./NN_models/5/model.h5\")\n",
        "print(\"Loaded model from disk\")\n",
        "\n",
        "# # evaluate loaded model on test data\n",
        "# loaded_model.compile(loss='binary_crossentropy', optimizer='rmsprop', metrics=['accuracy'])\n",
        "# score = loaded_model.evaluate(X, Y, verbose=0)\n",
        "# print(\"%s: %.2f%%\" % (loaded_model.metrics_names[1], score[1]*100))"
      ],
      "execution_count": 0,
      "outputs": [
        {
          "output_type": "stream",
          "text": [
            "W0818 09:56:13.573389 140153045301120 deprecation.py:323] From /usr/local/lib/python3.6/dist-packages/keras/backend/tensorflow_backend.py:3217: add_dispatch_support.<locals>.wrapper (from tensorflow.python.ops.array_ops) is deprecated and will be removed in a future version.\n",
            "Instructions for updating:\n",
            "Use tf.where in 2.0, which has the same broadcast rule as np.where\n"
          ],
          "name": "stderr"
        },
        {
          "output_type": "stream",
          "text": [
            "Loaded model from disk\n"
          ],
          "name": "stdout"
        }
      ]
    },
    {
      "cell_type": "code",
      "metadata": {
        "id": "_BBKxAGJgjVC",
        "colab_type": "code",
        "outputId": "e2d6cd87-a950-496a-e91d-31f192ba9a0c",
        "colab": {
          "base_uri": "https://localhost:8080/",
          "height": 34
        }
      },
      "source": [
        "predicts = model.predict(X_test)\n",
        "\n",
        "y_preds = pd.DataFrame(predicts)\n",
        "y_true = pd.DataFrame(y_test)\n",
        "\n",
        "\n",
        "def multi_weighted_logloss(y_true, y_preds):\n",
        "    \"\"\"\n",
        "    @author olivier https://www.kaggle.com/ogrellier\n",
        "    multi logloss for PLAsTiCC challenge\n",
        "    \"\"\"\n",
        "    classes = [6, 15, 16, 42, 52, 53, 62, 64, 65, 67, 88, 90, 92, 95]\n",
        "    class_weight = {6: 1, 15: 2, 16: 1, 42: 1, 52: 1, 53: 1, 62: 1, 64: 2, 65: 1, 67: 1, 88: 1, 90: 1, 92: 1, 95: 1}\n",
        "    \n",
        "    \n",
        "    y_p = y_preds\n",
        "    y_ohe = y_true\n",
        "    \n",
        "    #y_ohe = pd.get_dummies(y_true)\n",
        "    # Normalize rows and limit y_preds to 1e-15, 1-1e-15\n",
        "    y_p = np.clip(a=y_p, a_min=1e-15, a_max=1-1e-15)\n",
        "    # Transform to log\n",
        "    y_p_log = np.log(y_p)\n",
        "\n",
        "    \n",
        "    y_log_ones = np.sum(y_ohe.values * y_p_log, axis=0)\n",
        "    # Get the number of positives for each class\n",
        "    nb_pos = y_ohe.sum(axis=0).values.astype(float)\n",
        "    # Weight average and divide by the number of positives\n",
        "    class_arr = np.array([class_weight[k] for k in sorted(class_weight.keys())])\n",
        "    y_w = y_log_ones * class_arr / nb_pos\n",
        "    \n",
        "    loss = - np.sum(y_w) / np.sum(class_arr)\n",
        "    return loss\n",
        "\n",
        "\n",
        "\n",
        "multi_weighted_logloss(y_true, y_preds)"
      ],
      "execution_count": 0,
      "outputs": [
        {
          "output_type": "execute_result",
          "data": {
            "text/plain": [
              "0.7028440846225158"
            ]
          },
          "metadata": {
            "tags": []
          },
          "execution_count": 122
        }
      ]
    },
    {
      "cell_type": "code",
      "metadata": {
        "id": "MRRl3lHGKZxc",
        "colab_type": "code",
        "outputId": "0d0a046e-9e40-4a3e-b5ef-70018fa378c4",
        "colab": {
          "base_uri": "https://localhost:8080/",
          "height": 695
        }
      },
      "source": [
        "pred = np.array(predicts)\n",
        "y_t = np.array(y_test)\n",
        "\n",
        "Y = []\n",
        "pr= []\n",
        "\n",
        "for i in range(len(y_test)):\n",
        "    \n",
        "    pr.append(np.argmax(pred[i]))\n",
        "    \n",
        "    Y.append(np.argmax((y_t[i])))\n",
        "\n",
        "classes = [6, 15, 16, 42, 52, 53, 62, 64, 65, 67, 88, 90, 92, 95]\n",
        "\n",
        "labels = [classes[i] for i in range(len(classes))]\n",
        "conf_plotter(Y , pr , labels , normalize=1, mode='test' , cmap = plt.cm.BuGn, save=1 , name='NN.jpg')"
      ],
      "execution_count": 0,
      "outputs": [
        {
          "output_type": "execute_result",
          "data": {
            "text/plain": [
              "<matplotlib.axes._subplots.AxesSubplot at 0x7f6d22aec160>"
            ]
          },
          "metadata": {
            "tags": []
          },
          "execution_count": 123
        },
        {
          "output_type": "display_data",
          "data": {
            "image/png": "[encoded data removed]",
            "text/plain": [
              "<Figure size 720x720 with 2 Axes>"
            ]
          },
          "metadata": {
            "tags": []
          }
        }
      ]
    },
    {
      "cell_type": "code",
      "metadata": {
        "id": "2lw5xuyqTsuX",
        "colab_type": "code",
        "outputId": "60652152-df72-404a-c008-fb37a893c9e4",
        "colab": {
          "base_uri": "https://localhost:8080/",
          "height": 34
        }
      },
      "source": [
        "from sklearn.metrics import confusion_matrix\n",
        "\n",
        "cm = confusion_matrix(Y, pr)\n",
        "np.trace(cm)/len(y_test)"
      ],
      "execution_count": 0,
      "outputs": [
        {
          "output_type": "execute_result",
          "data": {
            "text/plain": [
              "0.8496432212028542"
            ]
          },
          "metadata": {
            "tags": []
          },
          "execution_count": 124
        }
      ]
    },
    {
      "cell_type": "code",
      "metadata": {
        "id": "ELtxr4col72p",
        "colab_type": "code",
        "outputId": "93889880-3b4c-4fce-df84-216e3e36e389",
        "colab": {
          "base_uri": "https://localhost:8080/",
          "height": 695
        }
      },
      "source": [
        "predicts = model.predict(X_train)\n",
        "\n",
        "Y = []\n",
        "pr= []\n",
        "\n",
        "for i in range(len(y_train)):\n",
        "    \n",
        "    pr.append(np.argmax((np.array(predicts)[i])))\n",
        "    Y.append(np.argmax(np.array(y_train)[i]))\n",
        "\n",
        "\n",
        "    \n",
        "conf_plotter(Y , pr , labels , normalize=1, cmap = plt.cm.OrRd, save=1 , name='train_3.jpg')"
      ],
      "execution_count": 0,
      "outputs": [
        {
          "output_type": "execute_result",
          "data": {
            "text/plain": [
              "<matplotlib.axes._subplots.AxesSubplot at 0x7f6d22ca9588>"
            ]
          },
          "metadata": {
            "tags": []
          },
          "execution_count": 125
        },
        {
          "output_type": "display_data",
          "data": {
            "image/png": "[encoded data removed]",
            "text/plain": [
              "<Figure size 720x720 with 2 Axes>"
            ]
          },
          "metadata": {
            "tags": []
          }
        }
      ]
    },
    {
      "cell_type": "code",
      "metadata": {
        "id": "LHdmOYc4ZBpP",
        "colab_type": "code",
        "colab": {}
      },
      "source": [
        ""
      ],
      "execution_count": 0,
      "outputs": []
    }
  ]
}